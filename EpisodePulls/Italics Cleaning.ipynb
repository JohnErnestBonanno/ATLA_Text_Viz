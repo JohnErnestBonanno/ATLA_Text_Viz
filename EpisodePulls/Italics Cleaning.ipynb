{
 "cells": [
  {
   "cell_type": "code",
   "execution_count": 1,
   "metadata": {},
   "outputs": [],
   "source": [
    "from bs4 import BeautifulSoup\n",
    "import requests\n",
    "import pandas as pd\n",
    "import re\n",
    "\n",
    "#optional setting \n",
    "pd.set_option('display.max_rows', 150)"
   ]
  },
  {
   "cell_type": "code",
   "execution_count": 2,
   "metadata": {},
   "outputs": [],
   "source": [
    "#test with 103\n",
    "\n",
    "#test w/ 101\n",
    "#test w/ 102\n",
    "#cleaning up so still keep some italtics with out extracting them needlessly\n",
    "\n",
    "url_base = 'http://atla.avatarspirit.net/transcripts.php?num='\n",
    "season_episode_num = str(102) # in a function make this x\n",
    "response = requests.get(url_base + season_episode_num)\n",
    "\n",
    "soup = BeautifulSoup(response.content, 'lxml')\n",
    "content = soup.find(class_='content')\n",
    "raw_script = content.find(class_='content')"
   ]
  },
  {
   "cell_type": "code",
   "execution_count": 3,
   "metadata": {},
   "outputs": [],
   "source": [
    "raw_script\n",
    "\n",
    "for linebreak in raw_script.find_all('a'):\n",
    "        linebreak.extract()\n",
    "        \n",
    "for linebreak in raw_script.find_all('br'):\n",
    "    linebreak.extract()\n",
    "\n",
    "raw_script = str(raw_script)\n",
    "\n",
    "script = raw_script.split('[End Credits]')[0]\n",
    "script_clean = script.split(\"Act I</b></u>\")[1]"
   ]
  },
  {
   "cell_type": "code",
   "execution_count": 4,
   "metadata": {},
   "outputs": [
    {
     "name": "stdout",
     "output_type": "stream",
     "text": [
      "115\n",
      "115\n"
     ]
    }
   ],
   "source": [
    "start_index_list = [i for i, char_search in enumerate(script_clean) if char_search == '(']\n",
    "end_index_list = [i for i, char_search in enumerate(script_clean) if char_search == ')']\n",
    "print(len(start_index_list))\n",
    "print(len(end_index_list))"
   ]
  },
  {
   "cell_type": "code",
   "execution_count": 5,
   "metadata": {},
   "outputs": [
    {
     "name": "stdout",
     "output_type": "stream",
     "text": [
      "True\n"
     ]
    }
   ],
   "source": [
    "start_index_list = [i for i, char_search in enumerate(script_clean) if char_search == '(']\n",
    "end_index_list = [i for i, char_search in enumerate(script_clean) if char_search == ')']\n",
    "\n",
    "print(len(start_index_list) == len(end_index_list))\n",
    "\n",
    "if((len(start_index_list) == len(end_index_list))==False):\n",
    "    max_list = max(len(start_index_list),len(end_index_list))\n",
    "    #identify problem child\n",
    "    i = 0\n",
    "    while i < max_list:\n",
    "        while (start_index_list[i]<end_index_list[i]):\n",
    "            #print(i)\n",
    "            i = i+1\n",
    "        break\n",
    "    problem = end_index_list[i]\n",
    "\n",
    "    if len(script_clean) > problem:\n",
    "        script_clean = script_clean[0:problem:]+script_clean[problem+1::]\n",
    "\n",
    "    "
   ]
  },
  {
   "cell_type": "code",
   "execution_count": 6,
   "metadata": {},
   "outputs": [],
   "source": [
    "counter = script_clean.count('(')\n",
    "i = 0\n",
    "while i < counter:\n",
    "    start_index = script_clean.index('(')\n",
    "    end_index = script_clean.index(')')\n",
    "    script_clean = script_clean[:start_index]+script_clean[end_index+1:]\n",
    "    i=i+1"
   ]
  },
  {
   "cell_type": "code",
   "execution_count": 7,
   "metadata": {},
   "outputs": [],
   "source": [
    "script_clean = script_clean.replace('<i>','')\n",
    "script_clean = script_clean.replace('</i>','')"
   ]
  },
  {
   "cell_type": "code",
   "execution_count": 8,
   "metadata": {},
   "outputs": [
    {
     "name": "stdout",
     "output_type": "stream",
     "text": [
      "<b>Children</b>: Yay! Aang's back!<b>Sokka</b> : I knew it! You signaled the Fire Navy with that flare! You're leading them straight to us, aren't you?<b>Katara</b>: Aang didn't do anything. It was an accident.<b>Aang</b>: Yeh, we were on the ship and there was this booby trap and well...  ...we “boobied” right into it.<b>Gran Gran</b> : Katara, you shouldn't have gone on that ship. Now we could all be in danger!<b>Aang</b>: Don't blame Katara! I brought her there.  It's my fault.<b>Sokka</b>: Aha! The traitor confesses! Warriors, away from the enemy!  The foreigner is banned from our village!<b>Katara</b> : Sokka, you're making a mistake.<b>Sokka</b>: No! I'm keeping my promise to Dad. I'm protecting you from threats like him!<b>Katara</b> : Aang is not our enemy! Don't you see? Aang's brought us something we haven't had in a long time. Fun.<b>Sokka:</b> Fun? We can't fight firebenders with fun!<b>Aang</b> : You should try it sometime.<b>Sokka</b>: Get out of our village. Now!<b>Katara</b>: Grandmother, please, don't let Sokka do this.<b>Gran Gran</b>: Katara, you knew going on that ship was forbidden. Sokka is right. I think it best if the airbender leaves.<b>Katara</b>: Then I'm banished too!<b>Katara</b>: C'mon, Aang, let's go!<b>Sokka</b> : Where do you think you're going?<b>Katara</b>: To find a waterbender! Aang is taking me to the North Pole!<b>Aang</b> : I am? Great!<b>Sokka</b>: Katara!  Would you really choose him over your tribe? Your own family?<b>Aang</b>: Katara, I don't want to come between you and your family.<b>Katara</b>: So, you're leaving the South Pole? This is goodbye?<b>Aang</b>: Thanks for penguin sledding with me.<b>Katara</b>: Where will you go?<b>Aang</b> : Guess I'll go back home and look for the airbenders.  Wow, I haven't cleaned my room in a hundred years. Not looking forward to that. <b>Aang</b>: It was nice meeting everyone.<b>Sokka</b>: Let's see your bison fly now, air boy.<b>Aang</b>: Come on, Appa, you can do it! Yip! Yip!<b>Sokka</b>: Yeh, I thought so.<b>Little Girl</b> : Aang! Don't go! We'll miss you!<b>Aang </b>: I'll miss you too.<b>Aang</b>: Come on, boy.<b>Gran Gran</b>: Katara, you'll feel better after you –<b>Katara</b> : You happy now? There goes my one chance of becoming a waterbender!<b>Sokka</b>: All right! Ready our defenses! The Fire Nation could be on our shores any moment now!<b>Little Boy</b>: But, I gotta –<b>Sokka</b> : And no potty breaks!<b>Aang</b>: Yeh, I liked her too.<b>Aang</b>: The village!  Appa, wait here!<b>Sokka</b> : Oh man!<b>Sokka</b>: Ohhh, man!<b>Katara</b>: Sokka, get out of the way!<b>Zuko</b>: Where are you hiding him? <b>Zuko</b>: He'd be about this age? Master of all elements?<b>Zuko</b>: I know you're hiding him! <b>Little Boy</b>: Show no fear!<b>Aang</b>: Hey Katara. Hey Sokka.<b>Sokka</b> : Hi...Aang. Thanks for comin'.<b>Aang</b>: Looking for me?<b>Zuko</b> : You're the airbender? You're the Avatar?<b>Katara</b>: Aang?<b>Sokka</b>: No way.<b>Zuko</b>: I've spent years preparing for this encounter. Training. Meditating. You're just a child!<b>Aang</b>: Well, you're just a teenager.<b>Aang</b>: If I go with you, will you promise to leave everyone alone?<b>Katara</b>: No, Aang! Don't do this!<b>Aang</b>: Don't worry, Katara, it'll be okay.  Take care of Appa for me until I get back.<b>Zuko</b>: Head a course to the Fire Nation. I'm going home.<u><b>Act II</b></u><b>Katara</b>: We have to go after that ship, Sokka. Aang saved our tribe; now we have to save him.<b>Sokka</b>: Katara, I—<b>Katara</b>: Why can't you realize that he's on our side? If we don't help him, no one will. I know you don't like Aang, but we owe him and I—<b>Sokka</b>: Katara! Are you gonna talk all day or are you comin' with me?<b>Katara</b> : Sokka!<b>Sokka</b>: Get in. We're going to save your boyfriend.<b>Katara</b>: He's not my—<b>Sokka</b>: Whatever.<b>Gran Gran</b> : What do you two think you're doing? <b>Gran Gran</b>: You'll need these. You have a long journey ahead of you. It's been so long since I've had hope. But you brought it back to life, my little waterbender.  And you, my brave warrior, be nice to your sister.<b>Sokka</b>: Yeah... okay, Gran.<b>Gran Gran</b>: Aang is the Avatar. He's the world's only chance. You both found him for a reason. Now your destinies are intertwined with his.<b>Katara</b> : There's no way we're gonna catch a war ship with a canoe. <b>Katara</b>: Appa!<b>Sokka</b>: You just love taking me out of my comfort zone, don't ya?<b>Zuko</b>: This staff will make an excellent gift for my father. I suppose you wouldn't know of fathers, being raised by monks. Take the Avatar to the prison hold. And  take this to my quarters.<b>Iroh</b>: Hey, you mind taking this to his quarters for me?<b>Aang</b>: So... I guess you never fought an airbender before. I bet I can take you both with my hands tied behind my back.<b>Guard 1</b>: Silence!<b>Guard 2</b>: The Avatar has escaped!<b>Sokka</b> : Go. Fly. Soar.<b>Katara</b>: Please, Appa, we need your help. Aang needs your help.<b>Sokka</b>: Up. Ascend. Elevate.<b>Katara</b>: Sokka doesn't believe you can fly, but I do, Appa.  Come on. Don't you wanna save Aang?<b>Sokka</b>: What was it that kid said? Yee-ha? Hup hup? Wahoo? Uh... yip yip?<b>Katara</b> : You did it, Sokka!<b>Sokka</b>: He's flying! He's flying! Katara, he's—!  I mean, big deal, he's flying.<b>Aang</b> : You haven't seen my staff around, have you? <b>Aang</b>: Thanks anyway!<b>Aang</b> : Sorry...<b>Aang</b>: My staff!<b>Zuko</b>: Looks like I underestimated you.<b>Zuko</b>: What is that?<b>Aang</b>: Appa!<b>Katara</b> : Aang! No!<b>Katara</b> : Aang! Aang! AANG!<b>Katara</b> : Did you see what he just did?<b>Sokka</b>: Now that was some waterbending!<b>Katara </b>: Aang! Are you okay?<b>Aang</b> : Hey Katara. Hey Sokka. Thanks for coming.<b>Sokka</b>: Well, I couldn't let you have all the glory.<b>Aang</b>: I dropped my staff.<b>Sokka</b>: Got it!<b>Sokka</b>: Ha! That's from the Water Tribe!<b>Sokka</b>: Katara!<b>Katara</b>: Hurry up, Sokka!<b>Sokka</b> : I'm just a guy with a boomerang; I didn't ask for all this flying and magic.<b>Sokka</b>: Yip yip! Yip yip!<b>Iroh</b> : Huh?<b>Zuko</b>: Shoot them down!<b>Iroh</b>: Good news for the Fire Lord. The nation's greatest threat is just a little kid.<b>Zuko</b>: That kid, Uncle, just did this.  I won't underestimate him again. Dig this ship out and follow them!  As soon as you're done with that.<b>Katara</b>: How did you do that? With the water? It was the most amazing thing I've ever seen.<b>Aang</b> : I don't know. I just sort of... did it.<b>Katara</b>: Why didn't you tell us you were the Avatar?<b>Aang</b>: Because... I never wanted to be.<b>Katara</b>: But Aang, the world's been waiting for the Avatar to return and finally put an end to this war.<b>Aang</b> : And how am I going to do that?<b>Katara</b>: According to legend, you need to first master water, then earth, then fire, right?<b>Aang</b>: That's what the monks told me.<b>Katara</b>: Well, if we go to the North Pole you can master waterbending.<b>Aang</b> : We can learn it together!<b>Katara</b>: And Sokka, I'm sure you'll get to knock some firebender heads on the way.<b>Sokka</b> : I'd like that. I'd really like that.<b>Katara</b>: Then we're in this together.<b>Aang</b> : All right, but before I learn waterbending, we have some serious business to attend to  here, here, and here.<b>Katara</b>: What's there?<b>Aang</b>: Here  we'll ride the hopping llamas. Then waaaay over here  we'll surf on the backs of giant koi fish. Then back over here we'll ride the hog-monkeys. They don't like people riding them, but that's what makes it fun!\n"
     ]
    }
   ],
   "source": [
    "print(script_clean)"
   ]
  },
  {
   "cell_type": "code",
   "execution_count": null,
   "metadata": {},
   "outputs": [],
   "source": []
  },
  {
   "cell_type": "code",
   "execution_count": null,
   "metadata": {},
   "outputs": [],
   "source": []
  },
  {
   "cell_type": "code",
   "execution_count": null,
   "metadata": {},
   "outputs": [],
   "source": []
  },
  {
   "cell_type": "code",
   "execution_count": null,
   "metadata": {},
   "outputs": [],
   "source": [
    "counter = script_clean.count('(')\n",
    "counter2 = script_clean.count(')')\n",
    "print(counter)\n",
    "print(counter2)"
   ]
  },
  {
   "cell_type": "code",
   "execution_count": null,
   "metadata": {},
   "outputs": [],
   "source": [
    "start_index_list = [i for i, char_search in enumerate(script_clean) if char_search == '(']\n",
    "end_index_list = [i for i, char_search in enumerate(script_clean) if char_search == ')']"
   ]
  },
  {
   "cell_type": "code",
   "execution_count": null,
   "metadata": {},
   "outputs": [],
   "source": [
    "print(len(start_index_list))\n",
    "print(len(end_index_list))"
   ]
  },
  {
   "cell_type": "code",
   "execution_count": null,
   "metadata": {},
   "outputs": [],
   "source": [
    "max_list = max(len(start_index_list),len(end_index_list))"
   ]
  },
  {
   "cell_type": "code",
   "execution_count": null,
   "metadata": {},
   "outputs": [],
   "source": [
    "max_list"
   ]
  },
  {
   "cell_type": "code",
   "execution_count": null,
   "metadata": {},
   "outputs": [],
   "source": [
    "#identify problem child\n",
    "i = 0\n",
    "while i < max_list:\n",
    "    while (start_index_list[i]<end_index_list[i]):\n",
    "        #print(i)\n",
    "        i = i+1\n",
    "    break\n",
    "problem = end_index_list[i]\n",
    "#print(script_clean[end_index_list[i]])"
   ]
  },
  {
   "cell_type": "code",
   "execution_count": null,
   "metadata": {},
   "outputs": [],
   "source": [
    "problem"
   ]
  },
  {
   "cell_type": "code",
   "execution_count": null,
   "metadata": {},
   "outputs": [],
   "source": [
    "if len(script_clean) > problem:\n",
    "    script_clean = script_clean[0:problem:]+script_clean[problem+1::]"
   ]
  },
  {
   "cell_type": "code",
   "execution_count": null,
   "metadata": {},
   "outputs": [],
   "source": [
    "script_clean"
   ]
  },
  {
   "cell_type": "code",
   "execution_count": null,
   "metadata": {},
   "outputs": [],
   "source": [
    "counter = script_clean.count('(')\n",
    "counter2 = script_clean.count(')')\n",
    "print(counter)\n",
    "print(counter2)"
   ]
  },
  {
   "cell_type": "code",
   "execution_count": null,
   "metadata": {},
   "outputs": [],
   "source": [
    "i = 0\n",
    "while i < counter:\n",
    "    start_index = script_clean.index('(')\n",
    "    end_index = script_clean.index(')')\n",
    "    script_clean = script_clean[:start_index]+script_clean[end_index+1:]\n",
    "    i=i+1"
   ]
  },
  {
   "cell_type": "code",
   "execution_count": null,
   "metadata": {},
   "outputs": [],
   "source": [
    "script_clean"
   ]
  },
  {
   "cell_type": "code",
   "execution_count": null,
   "metadata": {},
   "outputs": [],
   "source": [
    "#problem is that number of '(' and number of ')' are not the same\n",
    "#need to figure out when ) doesn't have a partner and delete it\n",
    "\n",
    "len(script_clean)\n",
    "\n",
    "def find(s,'('):\n",
    "    return[i for i, ltr in enumerate(s) if ltr = '(']\n",
    "\n",
    "#for i in range(len(script_clean)):\n",
    " #   print(script_clean.index('('))\n"
   ]
  },
  {
   "cell_type": "code",
   "execution_count": null,
   "metadata": {},
   "outputs": [],
   "source": [
    "#problem is that there are instances where start_index < end index... I think that is what is happening\n",
    "\n",
    "\n",
    "i = 0\n",
    "while i < counter:\n",
    "#while i < 10:\n",
    "    start_index = script_clean.index('(')\n",
    "    end_index = script_clean.index(')')\n",
    "    if (start_index<end_index):\n",
    "        script_clean = script_clean[:start_index]+script_clean[end_index+1:]\n",
    "        print(i)\n",
    "        print(start_index<end_index)\n",
    "    else:\n",
    "        script_clean = script_clean.replace(')',\"\")\n",
    "        print(i)\n",
    "    i = i + 1"
   ]
  },
  {
   "cell_type": "code",
   "execution_count": null,
   "metadata": {},
   "outputs": [],
   "source": [
    "script_clean"
   ]
  },
  {
   "cell_type": "code",
   "execution_count": null,
   "metadata": {},
   "outputs": [],
   "source": [
    "script_clean[3000:4000]"
   ]
  },
  {
   "cell_type": "code",
   "execution_count": null,
   "metadata": {},
   "outputs": [],
   "source": [
    "script_clean"
   ]
  },
  {
   "cell_type": "code",
   "execution_count": null,
   "metadata": {},
   "outputs": [],
   "source": [
    "start_index = script_clean.index('(')\n",
    "end_index = script_clean.index(')')\n",
    "print(start_index)\n",
    "print(end_index)"
   ]
  },
  {
   "cell_type": "code",
   "execution_count": null,
   "metadata": {},
   "outputs": [],
   "source": [
    "script_clean = script_clean[:start_index]+script_clean[end_index+1:]"
   ]
  },
  {
   "cell_type": "code",
   "execution_count": null,
   "metadata": {},
   "outputs": [],
   "source": [
    "script_clean"
   ]
  },
  {
   "cell_type": "code",
   "execution_count": null,
   "metadata": {},
   "outputs": [],
   "source": [
    "start_index = script_clean.index('(')\n",
    "end_index = script_clean.index(')')\n",
    "print(start_index)\n",
    "print(end_index)"
   ]
  },
  {
   "cell_type": "code",
   "execution_count": null,
   "metadata": {},
   "outputs": [],
   "source": [
    "script_clean = script_clean[:start_index]+script_clean[end_index+1:]"
   ]
  },
  {
   "cell_type": "code",
   "execution_count": null,
   "metadata": {},
   "outputs": [],
   "source": [
    "script_clean"
   ]
  },
  {
   "cell_type": "code",
   "execution_count": null,
   "metadata": {},
   "outputs": [],
   "source": []
  }
 ],
 "metadata": {
  "kernelspec": {
   "display_name": "Python 3",
   "language": "python",
   "name": "python3"
  },
  "language_info": {
   "codemirror_mode": {
    "name": "ipython",
    "version": 3
   },
   "file_extension": ".py",
   "mimetype": "text/x-python",
   "name": "python",
   "nbconvert_exporter": "python",
   "pygments_lexer": "ipython3",
   "version": "3.7.4"
  }
 },
 "nbformat": 4,
 "nbformat_minor": 2
}
