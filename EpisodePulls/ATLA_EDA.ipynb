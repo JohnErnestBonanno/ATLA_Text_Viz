{
 "cells": [
  {
   "cell_type": "code",
   "execution_count": 1,
   "metadata": {},
   "outputs": [],
   "source": [
    "import pandas as pd"
   ]
  },
  {
   "cell_type": "code",
   "execution_count": 5,
   "metadata": {},
   "outputs": [],
   "source": [
    "df = pd.read_csv('ATLA_full_script.csv',index_col = 0)"
   ]
  },
  {
   "cell_type": "code",
   "execution_count": 6,
   "metadata": {},
   "outputs": [
    {
     "data": {
      "text/html": [
       "<div>\n",
       "<style scoped>\n",
       "    .dataframe tbody tr th:only-of-type {\n",
       "        vertical-align: middle;\n",
       "    }\n",
       "\n",
       "    .dataframe tbody tr th {\n",
       "        vertical-align: top;\n",
       "    }\n",
       "\n",
       "    .dataframe thead th {\n",
       "        text-align: right;\n",
       "    }\n",
       "</style>\n",
       "<table border=\"1\" class=\"dataframe\">\n",
       "  <thead>\n",
       "    <tr style=\"text-align: right;\">\n",
       "      <th></th>\n",
       "      <th>character_list</th>\n",
       "      <th>dialogue_list</th>\n",
       "      <th>episode_code</th>\n",
       "      <th>word_count</th>\n",
       "    </tr>\n",
       "  </thead>\n",
       "  <tbody>\n",
       "    <tr>\n",
       "      <td>0</td>\n",
       "      <td>Sokka</td>\n",
       "      <td>It's not getting away from me this time. Watc...</td>\n",
       "      <td>101</td>\n",
       "      <td>19.0</td>\n",
       "    </tr>\n",
       "    <tr>\n",
       "      <td>1</td>\n",
       "      <td>Katara</td>\n",
       "      <td>Sokka, look!</td>\n",
       "      <td>101</td>\n",
       "      <td>2.0</td>\n",
       "    </tr>\n",
       "    <tr>\n",
       "      <td>2</td>\n",
       "      <td>Sokka</td>\n",
       "      <td>Shhh. Katara, you're gonna scare it away. Mm...</td>\n",
       "      <td>101</td>\n",
       "      <td>14.0</td>\n",
       "    </tr>\n",
       "    <tr>\n",
       "      <td>3</td>\n",
       "      <td>Katara</td>\n",
       "      <td>Hey!  But Sokka! I caught one!</td>\n",
       "      <td>101</td>\n",
       "      <td>6.0</td>\n",
       "    </tr>\n",
       "    <tr>\n",
       "      <td>4</td>\n",
       "      <td>Sokka</td>\n",
       "      <td>Ugh! Why is it that every time you play with ...</td>\n",
       "      <td>101</td>\n",
       "      <td>15.0</td>\n",
       "    </tr>\n",
       "  </tbody>\n",
       "</table>\n",
       "</div>"
      ],
      "text/plain": [
       "  character_list                                      dialogue_list  \\\n",
       "0          Sokka   It's not getting away from me this time. Watc...   \n",
       "1         Katara                                       Sokka, look!   \n",
       "2          Sokka    Shhh. Katara, you're gonna scare it away. Mm...   \n",
       "3         Katara                     Hey!  But Sokka! I caught one!   \n",
       "4          Sokka   Ugh! Why is it that every time you play with ...   \n",
       "\n",
       "   episode_code  word_count  \n",
       "0           101        19.0  \n",
       "1           101         2.0  \n",
       "2           101        14.0  \n",
       "3           101         6.0  \n",
       "4           101        15.0  "
      ]
     },
     "execution_count": 6,
     "metadata": {},
     "output_type": "execute_result"
    }
   ],
   "source": [
    "df.head()"
   ]
  },
  {
   "cell_type": "code",
   "execution_count": 11,
   "metadata": {},
   "outputs": [
    {
     "name": "stdout",
     "output_type": "stream",
     "text": [
      "  Prince Zuko, the Avatar is the only one who can stop the Fire Nation from winning this war.  If you have an --  --of loyalty left, you'll tell me what you've found.\n"
     ]
    }
   ],
   "source": [
    "print(df.dialogue_list.iloc[301])"
   ]
  }
 ],
 "metadata": {
  "kernelspec": {
   "display_name": "Python 3",
   "language": "python",
   "name": "python3"
  },
  "language_info": {
   "codemirror_mode": {
    "name": "ipython",
    "version": 3
   },
   "file_extension": ".py",
   "mimetype": "text/x-python",
   "name": "python",
   "nbconvert_exporter": "python",
   "pygments_lexer": "ipython3",
   "version": "3.7.4"
  }
 },
 "nbformat": 4,
 "nbformat_minor": 2
}
