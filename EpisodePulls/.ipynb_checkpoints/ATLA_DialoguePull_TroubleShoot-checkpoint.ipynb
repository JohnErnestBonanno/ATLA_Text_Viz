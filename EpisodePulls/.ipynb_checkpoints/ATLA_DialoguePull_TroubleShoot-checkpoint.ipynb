{
 "cells": [
  {
   "cell_type": "code",
   "execution_count": 1,
   "metadata": {},
   "outputs": [],
   "source": [
    "from bs4 import BeautifulSoup\n",
    "import requests\n",
    "import pandas as pd\n",
    "import re\n",
    "\n",
    "#optional setting \n",
    "pd.set_option('display.max_rows', 150)"
   ]
  },
  {
   "cell_type": "code",
   "execution_count": null,
   "metadata": {},
   "outputs": [],
   "source": [
    "season_episode_list =[]\n",
    "\n",
    "for season in range(1,4):\n",
    "    if season != 3:\n",
    "        for episode in range(1,21):\n",
    "            ep_num = str(episode)\n",
    "            if len(ep_num) <= 1:\n",
    "                ep_num = str(0)+ep_num\n",
    "            else: \n",
    "                ep_num\n",
    "            se_ep = str(season) + ep_num\n",
    "            season_episode_list.append(se_ep)\n",
    "    else:\n",
    "        for episode in range(1,22):\n",
    "            ep_num = str(episode)\n",
    "            if len(ep_num) <= 1:\n",
    "                ep_num = str(0)+ep_num\n",
    "            else: \n",
    "                ep_num\n",
    "            se_ep = str(season) + ep_num\n",
    "            season_episode_list.append(se_ep)"
   ]
  },
  {
   "cell_type": "code",
   "execution_count": null,
   "metadata": {},
   "outputs": [],
   "source": [
    "#season_episode_list"
   ]
  },
  {
   "cell_type": "code",
   "execution_count": null,
   "metadata": {},
   "outputs": [],
   "source": [
    "def getTitle(x):\n",
    "    url_base = 'http://atla.avatarspirit.net/transcripts.php?num='\n",
    "    season_episode_num = str(x) # in a function make this x\n",
    "    response = requests.get(url_base + season_episode_num)\n",
    "    \n",
    "    #\n",
    "    soup = BeautifulSoup(response.content, 'lxml')\n",
    "    content = soup.find(class_='content')\n",
    "    title = content.find(class_='welcome')\n",
    "    title = title.get_text()\n",
    "    title = title.split(\"-\")[-1].strip()\n",
    "    #print(title)\n",
    "    return(title)"
   ]
  },
  {
   "cell_type": "code",
   "execution_count": null,
   "metadata": {},
   "outputs": [],
   "source": [
    "df = pd.DataFrame(columns = ['SeasonEpisodeCode','Title'])"
   ]
  },
  {
   "cell_type": "code",
   "execution_count": null,
   "metadata": {},
   "outputs": [],
   "source": [
    "#populate a df with SeasonEpisodeCodes & Titles\n",
    "title_list = []\n",
    "for x in season_episode_list:\n",
    "    title_list.append(getTitle(x))"
   ]
  },
  {
   "cell_type": "code",
   "execution_count": null,
   "metadata": {},
   "outputs": [],
   "source": [
    "#creation of df frame\n",
    "df['SeasonEpisodeCode'] = season_episode_list\n",
    "df['Title'] = title_list\n",
    "\n",
    "df['Season'] = df['SeasonEpisodeCode']\n",
    "df['EpisodeNum'] = df['SeasonEpisodeCode']\n",
    "\n",
    "#obtain season#\n",
    "def seasonNum(x):\n",
    "    return(int(str(x)[0]))\n",
    "#apply SeasonNum to df\n",
    "df['Season'] = df['Season'].apply(seasonNum)\n",
    "\n",
    "#obtain episode #\n",
    "def episodeNum(x):\n",
    "    return(int(str(x)[-2:]))\n",
    "#apply EpisodeNum to df\n",
    "df['EpisodeNum'] = df['EpisodeNum'].apply(episodeNum)"
   ]
  },
  {
   "cell_type": "code",
   "execution_count": null,
   "metadata": {},
   "outputs": [],
   "source": [
    "df"
   ]
  },
  {
   "cell_type": "code",
   "execution_count": 2,
   "metadata": {},
   "outputs": [],
   "source": [
    "#get episode text for cleaning\n",
    "def RawScriptPull(x):\n",
    "    url_base = 'http://atla.avatarspirit.net/transcripts.php?num='\n",
    "    season_episode_num = str(x) # in a function make this x\n",
    "    response = requests.get(url_base + season_episode_num)\n",
    "    \n",
    "    soup = BeautifulSoup(response.content, 'lxml')\n",
    "    content = soup.find(class_='content')\n",
    "    raw_script = content.find(class_='content')\n",
    "    \n",
    "    #extracts all text in italics - which are stage directions\n",
    "    for linebreak in raw_script.find_all('i'):\n",
    "        linebreak.extract()\n",
    "    \n",
    "    #extracts all for hyperlinks - which we don't need\n",
    "    for linebreak in raw_script.find_all('a'):\n",
    "        linebreak.extract()\n",
    "    \n",
    "    #extracts all the breaks\n",
    "    for linebreak in raw_script.find_all('br'):\n",
    "        linebreak.extract()\n",
    "    #leaves us only the bolds... which we can seperate items on\n",
    "    return(str(raw_script))\n",
    "    \n",
    "    #file = open(str(x) + \".txt\",\"w\")\n",
    "    #file.write(str(script))"
   ]
  },
  {
   "cell_type": "code",
   "execution_count": 5,
   "metadata": {},
   "outputs": [
    {
     "data": {
      "text/plain": [
       "'<b>Zuko:</b>  The only reason you should be interrupting me is if you have news about the Avatar. <b'"
      ]
     },
     "execution_count": 5,
     "metadata": {},
     "output_type": "execute_result"
    }
   ],
   "source": [
    "file_clean = re.sub(r'\\([^()]*\\)', '', RawScriptPull(104)) #references RawScriptPull so it can get cleaned \n",
    "script = file_clean.split('[End Credits]')[0]\n",
    "if \"Act I</b></u>\" in script:\n",
    "    script_clean104 = script.split(\"Act I</b></u>\")[1]\n",
    "elif \"Act I</u></b>\" in script:\n",
    "    script_clean104 = script.split(\"Act I</u></b>\")[1]\n",
    "script_clean104[:100]"
   ]
  },
  {
   "cell_type": "code",
   "execution_count": 7,
   "metadata": {},
   "outputs": [
    {
     "data": {
      "text/plain": [
       "\"<b>Sokka</b>: It's not getting away from me this time. Watch and learn, Katara. This is how you catc\""
      ]
     },
     "execution_count": 7,
     "metadata": {},
     "output_type": "execute_result"
    }
   ],
   "source": [
    "file_clean = re.sub(r'\\([^()]*\\)', '', RawScriptPull(101)) #references RawScriptPull so it can get cleaned \n",
    "script = file_clean.split('[End Credits]')[0]\n",
    "if \"Act I</b></u>\" in script:\n",
    "    script_clean101 = script.split(\"Act I</b></u>\")[1]\n",
    "elif \"Act I</u></b>\" in script:\n",
    "    script_clean101 = script.split(\"Act I</u></b>\")[1]\n",
    "script_clean101[:100]"
   ]
  },
  {
   "cell_type": "code",
   "execution_count": null,
   "metadata": {},
   "outputs": [],
   "source": [
    "<b>Zuko:</b>\n",
    "<b>Sokka</b>:"
   ]
  },
  {
   "cell_type": "code",
   "execution_count": null,
   "metadata": {},
   "outputs": [],
   "source": [
    "#what if split on the following:\n",
    "\":</b>\" #104 convention\n",
    "\"</b>:\" #101 convention"
   ]
  },
  {
   "cell_type": "code",
   "execution_count": 10,
   "metadata": {},
   "outputs": [
    {
     "name": "stdout",
     "output_type": "stream",
     "text": [
      "True\n",
      "False\n"
     ]
    }
   ],
   "source": [
    "print(\":</b>\" in script_clean104)\n",
    "print(\"</b>:\" in script_clean104)"
   ]
  },
  {
   "cell_type": "code",
   "execution_count": 12,
   "metadata": {},
   "outputs": [
    {
     "name": "stdout",
     "output_type": "stream",
     "text": [
      "False\n",
      "True\n"
     ]
    }
   ],
   "source": [
    "print(\":</b>\" in script_clean101)\n",
    "print(\"</b>:\" in script_clean101)"
   ]
  },
  {
   "cell_type": "code",
   "execution_count": null,
   "metadata": {},
   "outputs": [],
   "source": [
    "type(test)"
   ]
  },
  {
   "cell_type": "code",
   "execution_count": null,
   "metadata": {},
   "outputs": [],
   "source": [
    "\"Act I</u></b>\" in test"
   ]
  },
  {
   "cell_type": "code",
   "execution_count": null,
   "metadata": {},
   "outputs": [],
   "source": [
    "\"Act I</b></u>\" in test"
   ]
  },
  {
   "cell_type": "code",
   "execution_count": null,
   "metadata": {},
   "outputs": [],
   "source": []
  },
  {
   "cell_type": "code",
   "execution_count": null,
   "metadata": {},
   "outputs": [],
   "source": [
    "#creating a function to clean the script\n",
    "#then puts it into a data frame\n",
    "#and counts the number of words each character says\n",
    "\n",
    "def scriptClean(x):\n",
    "    episode_code = locals()\n",
    "    \n",
    "    file_clean = re.sub(r'\\([^()]*\\)', '', RawScriptPull(x)) #references RawScriptPull so it can get cleaned \n",
    "    \n",
    "    #removes data after the Ending Credits which is extra\n",
    "    script = file_clean.split('[End Credits]')[0]\n",
    "\n",
    "    #removes the data before Act I, which is also extra\n",
    "    if \"Act I</b></u>\" in script:\n",
    "        script_clean = script.split(\"Act I</b></u>\")[1]\n",
    "    elif \"Act I</u></b>\" in script:\n",
    "        script_clean = script.split(\"Act I</u></b>\")[1]\n",
    "    \n",
    "    #splits the data on bold text (which happens to be characters)\n",
    "    bold_split = script_clean.split('<b>')\n",
    "    \n",
    "    #creates a list of lists with both character + relevant dialogue\n",
    "    master_list = []\n",
    "    for x in range(len(bold_split)):\n",
    "        output = bold_split[x].split(':')\n",
    "        master_list.append(output)\n",
    "    \n",
    "    #collects all the characters who speak\n",
    "    character_list = []\n",
    "\n",
    "    for x in range(len(master_list)):\n",
    "        holder = master_list[x]\n",
    "        if len(holder)>1:\n",
    "            test = holder[0].strip()\n",
    "            character_list.append(test.strip('</b>')) # remove the bold hyperlink to cleanup the data\n",
    "    #collects what all the characters say\n",
    "    dialogue_list = []\n",
    "\n",
    "    for x in range(len(master_list)):\n",
    "        holder = master_list[x]\n",
    "        if len(holder)>1:\n",
    "            dialogue_list.append(holder[1].strip()) \n",
    "    \n",
    "    \n",
    "    #create a list of episode numbers to add to df (feels inefficient and should be a better way to do this)\n",
    "    episode_list = []\n",
    "    \n",
    "    for x in range(len(character_list)):\n",
    "        episode_list.append(int(episode_code['x']))\n",
    "    \n",
    "    dfScript = pd.DataFrame()\n",
    "    \n",
    "    dfScript['episode_code'] = episode_list\n",
    "    \n",
    "    dfScript['character_list'] = character_list\n",
    "    dfScript['dialogue_list'] = dialogue_list\n",
    "    \n",
    "    count = dfScript['dialogue_list'].str.split().str.len()\n",
    "    count = list(count)\n",
    "    dfScript['word_count']=count\n",
    "\n",
    "    return(dfScript)"
   ]
  },
  {
   "cell_type": "code",
   "execution_count": null,
   "metadata": {},
   "outputs": [],
   "source": [
    "file_clean = re.sub(r'\\([^()]*\\)', '', RawScriptPull(104)) #references RawScriptPull so it can get cleaned \n",
    "script = file_clean.split('[End Credits]')[0]\n",
    "if \"Act I</b></u>\" in script:\n",
    "    script_clean = script.split(\"Act I</b></u>\")[1]\n",
    "elif \"Act I</u></b>\" in script:\n",
    "    script_clean = script.split(\"Act I</u></b>\")[1]\n",
    "script_clean"
   ]
  },
  {
   "cell_type": "code",
   "execution_count": null,
   "metadata": {},
   "outputs": [],
   "source": [
    "#Episode 4\n",
    "print(\"<b>\" in script_clean)\n",
    "print(\":<b>\" in script_clean)"
   ]
  },
  {
   "cell_type": "code",
   "execution_count": null,
   "metadata": {},
   "outputs": [],
   "source": [
    "bold_split = script_clean.split('<b>')"
   ]
  },
  {
   "cell_type": "code",
   "execution_count": null,
   "metadata": {},
   "outputs": [],
   "source": [
    "bold_split"
   ]
  },
  {
   "cell_type": "code",
   "execution_count": null,
   "metadata": {},
   "outputs": [],
   "source": [
    "file_clean = re.sub(r'\\([^()]*\\)', '', RawScriptPull(101)) #references RawScriptPull so it can get cleaned \n",
    "\n",
    "#removes data after the Ending Credits which is extra\n",
    "script = file_clean.split('[End Credits]')[0]\n",
    "\n",
    "#removes the data before Act I, which is also extra\n",
    "if \"Act I</b></u>\" in script:\n",
    "    script_clean = script.split(\"Act I</b></u>\")[1]\n",
    "elif \"Act I</u></b>\" in script:\n",
    "    script_clean = script.split(\"Act I</u></b>\")[1]\n",
    "\n",
    "script_clean\n",
    "#bold_split = script_clean.split('<b>')\n",
    "#bold_split"
   ]
  },
  {
   "cell_type": "code",
   "execution_count": null,
   "metadata": {},
   "outputs": [],
   "source": [
    "#Episode 1\n",
    "print(\"<b>\" in script_clean)\n",
    "print(\":<b>\" in script_clean)"
   ]
  },
  {
   "cell_type": "code",
   "execution_count": null,
   "metadata": {},
   "outputs": [],
   "source": [
    "\"Act I</u></b>\" in test"
   ]
  },
  {
   "cell_type": "code",
   "execution_count": null,
   "metadata": {},
   "outputs": [],
   "source": [
    "scriptClean(104)"
   ]
  },
  {
   "cell_type": "code",
   "execution_count": null,
   "metadata": {},
   "outputs": [],
   "source": [
    "def dfConsolidateScript(x):\n",
    "\n",
    "    dfScript = scriptClean(x)\n",
    "    \n",
    "    i = 1\n",
    "\n",
    "    dfScriptFinal = pd.DataFrame()\n",
    "    dfScriptFinal = dfScriptFinal.append(dfScript.iloc[0]) #return another function\n",
    "\n",
    "    while i < len(dfScript.index):\n",
    "        if dfScript['character_list'][i] == dfScript['character_list'][i-1]: \n",
    "\n",
    "            #consolidates the word count into a single value when the same characters speaks twice in a row\n",
    "            word_count_consolidate = (dfScript['word_count'][i]+dfScript['word_count'][i-1])\n",
    "            dfScriptFinal['word_count'].at[i-1] = word_count_consolidate \n",
    "\n",
    "            #consolidates the dialogue when the same character speaks twice in a row\n",
    "            dialogue_consolidate = (dfScript['dialogue_list'][i]+ \" \" + dfScript['dialogue_list'][i-1])\n",
    "            dfScriptFinal['dialogue_list'].at[i-1] = dialogue_consolidate \n",
    "\n",
    "            i = i + 1\n",
    "        else:\n",
    "            dfScriptFinal = dfScriptFinal.append(dfScript.iloc[i])\n",
    "            i = i + 1\n",
    "    dfScriptFinal['episode_code'] = dfScriptFinal['episode_code'].astype(int)\n",
    "    return(dfScriptFinal)"
   ]
  },
  {
   "cell_type": "code",
   "execution_count": null,
   "metadata": {},
   "outputs": [],
   "source": [
    "dfConsolidateScript(104)"
   ]
  },
  {
   "cell_type": "code",
   "execution_count": null,
   "metadata": {},
   "outputs": [],
   "source": [
    "test = season_episode_list[:20]"
   ]
  },
  {
   "cell_type": "code",
   "execution_count": null,
   "metadata": {},
   "outputs": [],
   "source": [
    "range(len(test))"
   ]
  },
  {
   "cell_type": "code",
   "execution_count": null,
   "metadata": {},
   "outputs": [],
   "source": [
    "for i in range(len(test)):\n",
    "    print(test[i])"
   ]
  },
  {
   "cell_type": "code",
   "execution_count": null,
   "metadata": {},
   "outputs": [],
   "source": [
    "#create master data frame that aggregates all episodes & dialogue together\n",
    "#pulls from episode list created in the beginning\n",
    "\n",
    "df_list_holder = []\n",
    "\n",
    "for i in range(len(test)):\n",
    "    print(test[i])\n",
    "    df_list_holder.append(dfConsolidateScript(i))\n",
    "\n",
    "df_master = pd.concat(df_list_holder)\n",
    "df_master.reset_index(drop = True, inplace = True)"
   ]
  },
  {
   "cell_type": "code",
   "execution_count": null,
   "metadata": {},
   "outputs": [],
   "source": []
  }
 ],
 "metadata": {
  "kernelspec": {
   "display_name": "Python 3",
   "language": "python",
   "name": "python3"
  },
  "language_info": {
   "codemirror_mode": {
    "name": "ipython",
    "version": 3
   },
   "file_extension": ".py",
   "mimetype": "text/x-python",
   "name": "python",
   "nbconvert_exporter": "python",
   "pygments_lexer": "ipython3",
   "version": "3.7.4"
  }
 },
 "nbformat": 4,
 "nbformat_minor": 2
}
