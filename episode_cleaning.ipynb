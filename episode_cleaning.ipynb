{
 "cells": [
  {
   "cell_type": "code",
   "execution_count": 1,
   "metadata": {},
   "outputs": [],
   "source": [
    "file = open(\"se1_ep01_dividers.txt\",\"r\")"
   ]
  },
  {
   "cell_type": "code",
   "execution_count": 2,
   "metadata": {
    "collapsed": true
   },
   "outputs": [],
   "source": [
    "file = file.read()"
   ]
  },
  {
   "cell_type": "code",
   "execution_count": 3,
   "metadata": {},
   "outputs": [
    {
     "name": "stdout",
     "output_type": "stream",
     "text": [
      "The Boy in the Iceberg\n",
      "Written By:\n",
      " \n",
      "Michael Dante DiMartino\n",
      ", \n",
      "Bryan Konietzko\n",
      "Directed By:\n",
      " \n",
      "Dave Filoni\n",
      "Storyboard By:\n",
      " \n",
      "Giancarlo Volpe\n",
      ", \n",
      "Dave Filoni\n",
      ", \n",
      "Justin Ridge\n",
      "Animation By:\n",
      " JM Animation Co, Ltd\n",
      "Transcribers:\n",
      " Acastus, Pandora\n",
      "[Introduction sequence - The introduction to this first episode is longer than the standard sequence that introduces the rest of the Avatar episodes. It contains more background than the standard sequence. The animation contains some additions to accommodate the longer narrative. The trip through the map to the Fire Nation amphibious assault is longer, the shot of the Avatar silhouetted by the sun is longer, and the third paragraph below is accompanied by a pan right shot over a still frame that shows a burning landscape ravaged by war. Also, the narration around the departure of her father is voiced over shots of the Water Tribe ships departing, and of a younger Katara and Sokka watching them leave. Lastly, the stone pinnacle on which Aang stands in future episodes is empty.]\n",
      "Katara\n",
      " (\n",
      "voice over\n",
      "): Water... Earth... Fire... Air...\n",
      "My grandmother used to tell me stories about the old days, a time of peace when the Avatar kept balance between the Water Tribes, Earth Kingdom, Fire Nation, and Air Nomads. But that all changed when the Fire Nation attacked.\n",
      "Only the Avatar mastered all four elements. Only he could stop the ruthless firebenders. But when the world needed him most, he vanished.\n",
      "A hundred years have passed and the Fire Nation is nearing victory in the war. Two years ago, my father and the men of my tribe journeyed to the Earth Kingdom to help fight against the Fire Nation, leaving me and my brother to look after our tribe.\n",
      "Some people believe that the Avatar was never reborn into the Air Nomads and that the cycle is broken, but I haven't lost hope. I still believe that somehow the Avatar will return to save the world.\n",
      "Act I\n",
      "(The show opens with an overhead shot of iceberg laden waters. The screen pans left and rotates showing footprints in the snow, then fades to soaring pan shot from the air of the icy waters. As if the shot were taken from the outside of an airplane, the camera banks left as it moves forward. It comes to rest and slowly zooms in on a two person canoe out among the icebergs. Cut to a closer shot of the canoe. A teenage boy, Sokka, shaven headed except for a pony tail, stands in the canoe. He looks down at the water, spear at the ready. The other occupant is a young girl. Both wear blue overcoats. The canoe drifts slowly as the boy concentrates on fishing. Cut to a close, overhead shot of the canoe. Beside the boat a fish swims close to the surface in front of the boy.)\n",
      "Sokka\n",
      ": It's not getting away from me this time. Watch and learn, Katara. This is how you catch a fish.\n",
      "(Katara leans over the edge of the canoe to see a fish. Hesitantly, she removes her left glove. She takes a deep breather and with a look of trepidation begins to motion with her exposed hand. Suddenly, a globe of water containing the fish bursts out of the water.)\n",
      "Katara\n",
      ": Sokka, look!\n",
      "Sokka\n",
      ": (\n",
      "whispers\n",
      ") Shhh. Katara, you're gonna scare it away. Mmmm... I can already smell it cookin'!\n",
      "Katara\n",
      " (\n",
      "trying to retain control of the globe of water\n",
      "): But Sokka! I caught one!\n",
      "(She struggles with the blob of water and it floats closer to Sokka, who raises his spear to strike a fish. When he cocks his arm back he burst the bubble of water. The fish falls back into the sea and Sokka gets drenched.)\n",
      "Katara\n",
      ": Hey!\n",
      "Sokka\n",
      " (\n",
      "very exasperated\n",
      "): Ugh! Why is it that every time you play with magic water I get soaked?\n",
      "Katara\n",
      ": It's not magic. It's waterbending, and it's-\n",
      "Sokka\n",
      ": Yeah, yeah, an ancient art unique to our culture, blah blah blah. Look, I'm just saying that if I had weird powers, I'd keep my weirdness to myself.\n",
      "Katara\n",
      ": You're calling me weird? I'm not the one who makes muscles at myself every time I see my reflection in the water.\n",
      "(Cut to Sokka, who is making a muscle and looking at his reflection in the water. He turns to Katara and gives her a look. Suddenly the boat is bumped, they look up to see they have entered an ice packed area. The begin to work frantically to maneuver the canoe between the icebergs.)\n",
      "Katara\n",
      " and \n",
      "Sokka\n",
      ": Ahhh!\n",
      "Katara\n",
      ": Watch out! Go left! Go left!\n",
      "(Cut to an overhead shot of the canoe as it threads its way through the ice pack. Icebergs are colliding all around them. Each time they manage to avoid getting crushed between the colliding icebergs, but their safety margins decreases rapidly each time. Finally the canoe is crushed when three icebergs collide at once. Sokka and Katara jump out in time onto one of the icebergs. Cut to a wide shot of the ice field. They are now at the mercy of the currents. Then cut back to the kids.)\n",
      "Katara\n",
      ": You call that left?\n",
      "Sokka\n",
      ": You don't like my steering. Well, maybe you should have waterbended us out of the ice.\n",
      "(Cut to a wide shot of the kids on their little iceberg. Behind them a huge towering iceberg rears up into the sky.)\n",
      "Katara\n",
      ": So it's my fault?\n",
      "Sokka\n",
      ": I knew I should have left you home. Leave it to a girl to screw things up.\n",
      "(Cut to a close of up Katara, her anger boiling over. She points at her brother.)\n",
      "Katara\n",
      ": You are the most sexist, immature, nut brained...\n",
      "(As she gets more excited, the iceberg on which they are sitting begins to heave. Switch to a wider shot, where the huge iceberg behind her cracks.)\n",
      "Katara\n",
      ": Ugh, I'm embarrassed to be related to you! Ever since Mom died I've been doing all the work around camp while you've been off playing soldier!\n",
      "Sokka\n",
      " (\n",
      "noticing the cracking iceberg\n",
      "): Uh... Katara?\n",
      "Katara\n",
      ": I even wash all the clothes! Have you ever smelled your dirty socks? Let me tell you, NOT PLEASANT!\n",
      "Sokka\n",
      ": Katara! Settle down!\n",
      "Katara\n",
      ": No, that's it. I'm done helping you. From now on, you're on your own!\n",
      "(By the end she is screaming. As she finishes, the iceberg behind her splits open entirely. It disintegrates and the major pieces fall into the water, pushing their iceberg away. They hold on desperately until the iceberg settles.)\n",
      "Sokka\n",
      ": Okay, you've gone from weird to freakish, Katara.\n",
      "Katara\n",
      ": You mean I did that?\n",
      "Sokka\n",
      ": Yup. Congratulations.\n",
      "(They both are leaning over the edge of the iceberg raft. Suddenly, the water just in front of them begins to glow an incandescent blue. They move backwards on their raft as another, lighter colored iceberg breaks the surface. It is unclear whether this is part of the one Katara broke up or not. As the new iceberg settles, Katara walks to edge of their iceberg raft to get a better look. Deep in the ice, the figure of a boy in a meditation pose is seen. He has white arrows on his fists and on his bald head. Suddenly, his eyes glow and his arrow markings glow white.)\n",
      "Katara\n",
      ": He's alive! We have to help.\n",
      "(She grabs Sokka's hockey stick type spear, pulls down her hood and turns to go to the boy.) \n",
      "Sokka\n",
      ": Katara! Get back here! We don't know what that thing is!\n",
      "(Katara ignores him and skips across a few little icebergs to arrive at the one in which the boy is trapped. Sokka follows. She begins to use the hockey stick to whack the ice. After a few big whacks, she cracks open the ice. It looks like air is released, as if the iceberg had a hollow chamber within it, but it is not entirely clear. The iceberg then cracks from top to bottom and explodes open. A huge shaft of white blue light shoots straight into the heavens. Cut to a quick shot of the iceberg from underwater where it glows brightly, then to shot an above ground shot from somewhere nearby where the shaft of light and the aurora australis is clearly seen in the background. The foreground is occupied by a herd of tiger seals, who rear themselves up and roar at the phenomenon.\n",
      "Cut to a view of an iron hulled battleship with a spiked prow cutting through the sea also nearby. It is apparently steam powered as it has a single smokestack. The foredeck is much longer than the afterdeck. The bridge appears to be several decks above the main deck. Cut to a shot of the back of a young man on the foredeck dressed in red, also shaven-headed except for a pony-tail, staring intently at the shaft of light in front of the ship. Then cut to a shot of his face, still illuminated by the shaft of light. The left side of his face is badly scarred around his left eye. This is Prince Zuko. The light from the light shaft dissipates.)\n",
      "Zuko\n",
      ": Finally. \n",
      "(He turns to address someone o.c.)\n",
      " Uncle, do you realize what this means?\n",
      "(Cut to an old man seated cross legged at a low table, drinking tea and playing a game involving domino like objects.)\n",
      "Iroh\n",
      ": I won't get to finish my game?\n",
      "Zuko\n",
      ": It means my search - it's about to come to an end.\n",
      "(Iroh groans.)\n",
      "Zuko\n",
      ": That light came from an incredibly powerful source. It has to be him!\n",
      "Iroh\n",
      ": Or it's just the celestial lights. We've been down this road before, Prince Zuko. I don't want you to get too excited over nothing. Please, sit. Why don't you enjoy a cup of calming jasmine tea?\n",
      "Zuko\n",
      " (\n",
      "exploding in anger\n",
      "): I don't need any calming tea! I need to capture the Avatar. Helmsman, head a course for the light!\n",
      "(Cut back to a wide shot of the exploded iceberg, which quickly shifts to Sokka still shielding his sister from the blast that just dissipated. They look up to see residual blue light still swirling around the top of what is left of the iceberg. Suddenly, the boy appears, his eyes and arrow markings still aglow.)\n",
      "Sokka\n",
      " (\n",
      "raising his spear at the boy\n",
      "): Stop!\n",
      "(The boy stands up as the glow and residual energy fades. He seems to pass out and slides down the side of the ruined iceberg to Sokka and Katara, who lunges forward and catches him as he falls. Sokka pokes Aang in the head with the blunt end of his weapon.)\n",
      "Katara\n",
      ": Stop it!\n",
      "(She gives Sokka the Heisman and turns to the boy. She gently turns him over so that he is lying on his back. He begins to wake up. He slowly opens his eyes and the camera switches to the boy's p.o.v. to show his view of Katara. A breeze gently blows her braids and we hear him intake a breath.)\n",
      "Aang\n",
      " (\n",
      "whispering in a weak voice\n",
      "): I need to ask you something.\n",
      "Katara\n",
      ": What?\n",
      "Aang\n",
      " (\n",
      "still whispering\n",
      "): Please... come closer.\n",
      "Katara\n",
      ": What is it?\n",
      "Aang\n",
      " (\n",
      "in a normal, even excited voice\n",
      "): Will you go penguin sledding with me?\n",
      "Katara\n",
      ": Uh... sure. I guess.\n",
      "(Aang airbends himself to his feet as he starts to rub the back of his head.)\n",
      "Sokka\n",
      ": Ahh!\n",
      "Aang\n",
      ": What's going on here?\n",
      "Sokka\n",
      ": You tell us! How'd you get in the ice? (\n",
      "Poking Aang with his spear\n",
      ") And why aren't you frozen?\n",
      "Aang\n",
      " (\n",
      "batting the spear anway, absently\n",
      "): I'm not sure.\n",
      "(Aang gasps as a low, animal like noise is heard from o.c. and begins to frantically climb back up the ruined iceberg. He jumps over the lip of what is in fact now a crater and lands on a huge furry animal.) \n",
      "Aang\n",
      ": Appa! Are you all right? Wake up, buddy.\n",
      "(He leans down and opens one of the beasts eyes. He closes it again. Aang hops down and tries to lift the animal's huge head, but without effect. Katara and Sokka come around the corner and their mouths drop in shock as the see the monster, whose mouth opens and licks the boy trying to wake him up.)\n",
      "Aang\n",
      ": Haha! You're okay!\n",
      "(He hugs Appa, then cut to a wide shot of the destroyed iceberg. Appa occupies most of the crater left by the explosion. He is a huge flying bison with six legs and horns like a steer. He gets up and shakes himself off a bit.)\n",
      "Sokka\n",
      ": What is that thing?\n",
      "Aang\n",
      ": This is Appa, my flying bison.\n",
      "Sokka\n",
      ": Right. And this is Katara, my flying sister.\n",
      "(Aang is about to reply, but doesn't as Appa begins to sneeze. Aang ducks in time as Appa proceeds to sneeze all over Sokka.)\n",
      "Sokka\n",
      ": Ewww! Aahh!!!\n",
      "(Sokka, covered in snot, tries to get rid of it by rolling around on the ice and snow.)\n",
      "Aang\n",
      ": Don't worry. It'll wash out.\n",
      "Sokka\n",
      ": Ugh!\n",
      "Aang\n",
      ": So, do you guys live around here?\n",
      "Sokka\n",
      ": Don't answer that! Did you see that crazy bolt of light? He was probably trying to signal the Fire Navy.\n",
      "Katara\n",
      ": Oh, yeah, I'm sure he's a spy for the Fire Navy. You can tell by that evil look in his eye.\n",
      "(Cut to a shot of Aang's innocent face, his smile accompanied by a funny sound effect.)\n",
      "Katara\n",
      ": The paranoid one is my brother, Sokka. You never told us your name.\n",
      "Aang\n",
      ": I'm A... aaaahhhh... ahhhhhh.... aaah aaah aaah AAAAAAACHOOOO!\n",
      "(As Aang sneezes he zooms of the ground far into the air. He responds to her question after he lands to the whistling sound of a bomb dropping.) \n",
      "Aang\n",
      ": I'm Aang. \n",
      "(He sniffles and rubs his nose.)\n",
      "Sokka\n",
      ": (\n",
      "incredulous\n",
      ") You just sneezed... and flew ten feet in the air.\n",
      "Aang\n",
      ": Really? It felt higher that that.\n",
      "Katara\n",
      " (\n",
      "gasping\n",
      "): You're an airbender!\n",
      "Aang\n",
      ": Sure am.\n",
      "Sokka\n",
      ": Giant light beams... flying bison... airbenders... I think I've got Midnight Sun Madness. I'm going home to where stuff makes sense.\n",
      "(Sokka turns to walk off, but is stopped at the iceberg's edge. The camera zooms way out to show how desolate the area is. Just sea and ice.)\n",
      "Aang\n",
      ": Well, if you guys are stuck Appa and I can give you a lift.\n",
      "(Aang airbends himself onto Appa's head, then to the top of his back where rests an enormous saddle. Reigns are attached to both of Appa's great horns.)\n",
      "Katara\n",
      ": We'd love a ride! Thanks! \n",
      "(She gets on Appa.)\n",
      "Sokka\n",
      ": Oh, no... I am not getting on that fluffy snot monster.\n",
      "Katara\n",
      ": Are you hoping some other kind of monster will come along and give you a ride home? You know... before you freeze to death?\n",
      "(Sokka starts to say something and gives up before he does. He sighs. Cut to Katara and Sokka in the back part of the saddle. Katara looks excited. Sokka looks grumpy, arms folded across his chest.)\n",
      "Aang\n",
      ": Okay. First time flyers, hold on tight! Appa, yip yip!\n",
      "(Aang shakes the reigns and Appa makes a low rumble. Cut to a rear shot of Appa. He flaps his huge beaver tail and then launches into the air. He spreads his legs wide, but then comes right back down into the water with a huge splash. He begins to swim them forward.)\n",
      "Aang\n",
      " (\n",
      "shaking the reigns again\n",
      "): Come on, Appa. Yip yip.\n",
      "Sokka\n",
      ": Wow. That was truly amazing.\n",
      "Aang\n",
      ": Appa's just tired. A little rest and he'll be soaring through the sky. You'll see.\n",
      "(He makes a “soaring through the sky” motion with his hand, his eyes finally resting on Katara. He leaves them there, a smile on his face as he looks at her.)\n",
      "Katara\n",
      ": Why are you smiling at me like that?\n",
      "Aang\n",
      ": Oh... I was smiling?\n",
      "Sokka\n",
      " (\n",
      "disgusted\n",
      "): Uuuuugh.\n",
      "(Cut to a shot of Appa swimming through the water, flopping his tale. Fade back to Prince Zuko's Fire Navy ship. Zuko, on the spotting deck off the bridge looking forward, is approached by Iroh. It is now night.)\n",
      "Iroh\n",
      ": I'm going to bed now.\n",
      " (He makes an exaggerated yawn)\n",
      " Yep. A man needs his rest. Prince Zuko, you need some sleep. Even if you're right and the Avatar is alive, you won't find him. Your father, grandfather, and great-grandfather all tried and failed.\n",
      "Zuko\n",
      ": Because their honor didn't hinge on the Avatar's capture. Mine does. This coward's hundred years in hiding are over.\n",
      "(Fade back to a long shot of Appa swimming, his friends on his back. Cut to a closer, overhead shot. Aang lies back on top of Appa's head. Katara, in the saddle on Appa's back with her brother, crawls forward and looks down from the saddle at Aang.)\n",
      "Katara\n",
      ": Hey.\n",
      "Aang\n",
      ": Hey. Whatcha thinkin' about?\n",
      "Katara\n",
      ": I guess I was wondering – your being an airbender and all – if you had any idea what happened to the Avatar.\n",
      "Aang\n",
      " (\n",
      "looking disconcerted\n",
      "): Uhh... no. I didn't know him... I mean, I knew people that knew him, but I didn't. Sorry.\n",
      "Katara\n",
      ": Okay. Just curious. Goodnight.\n",
      "Aang\n",
      ": Sleep tight.\n",
      "(Katara turns away and the camera zooms up to Aang, who also looks away, an expression of fear on his face. Cut to a long shot of Appa swimming again before a cut to commercial break.)\n",
      "Act II\n",
      "(The show returns to Aang in a dream. The colors are grays, crèmes and pale browns. He wakes up on top of Appa and the view rotates with Aang in Appa's saddle, then cut to Aang struggling against Appa's reigns with heavy rain coming down.)\n",
      "Aang\n",
      ": Aaahhh!\n",
      "(Cut to an underwater shot, where Aang and Appa suddenly penetrate the surface and enter the watery depths. They come up briefly for air, Appa groans, but they are once again driven under the storm tossed waves. As they drift downward, Aang drops Appa's reigns and begins to lose consciousness. Suddenly, Aang's eyes and markings glow white. He puts his hands together and he freezes himself and Appa in a huge ball of ice.)\n",
      "Katara\n",
      " (\n",
      "voice over\n",
      "): Aang! Aang, wake up! \n",
      "(He wakes up, gasping)\n",
      " It's okay. We're in the village now. Come on, get ready. Everyone's waiting to meet you.\n",
      "(Aang gets up and puts on his shirt and hood. Katara looks at his airbender tattoos. She grabs Aang by the hand and drags him outside. He carries a staff with him.)\n",
      "Aang\n",
      ": Whaaaa!\n",
      "(Cut to a wide overhead shot as Katara pulls him out. A small crowd has gathered to greet him. It is composed of women of various ages and children.)\n",
      "Katara\n",
      ": Aang, this is the entire village. Entire village, Aang.\n",
      "(Aang bows to them in a friendly manner, but the people pull back from him anyway.)\n",
      "Aang\n",
      ": Uh... why are they all looking at me like that? Did Appa sneeze on me?\n",
      "(An old woman enters the frame as Aang inspects his clothes for bison snot.)\n",
      "Gran Gran\n",
      ": Well, no one has seen an airbender in a hundred years. We thought they were extinct until my granddaughter and grandson found you.\n",
      "Aang\n",
      ": 'Extinct'?\n",
      "Katara\n",
      ": Aang, this is my grandmother.\n",
      "Gran Gran\n",
      ": Call me Gran Gran.\n",
      "Sokka\n",
      " (\n",
      "grabbing Aang's staff\n",
      "): What is this, a weapon? You can't stab anything with this.\n",
      "Aang\n",
      ": It's not for stabbing. \n",
      "(He creates a jet of air that sucks the staff back into his hand.)\n",
      " It's for airbending.\n",
      "(Aang opens the staff into a glider with red wings.)\n",
      "Little Girl\n",
      ": Magic trick! Do it again!\n",
      "Aang\n",
      ": Not magic, airbending. It lets me control the air currents around my glider and fly.\n",
      "Sokka\n",
      ": You know, last time I checked, humans can't fly.\n",
      "Aang\n",
      ": Check again!\n",
      "(Aang launches himself into the air with his glider. He soars through the air, doing loops as the villagers on the ground point to him in wonder.)\n",
      "Villagers\n",
      ": Whoa... it's flying... it's amazing!\n",
      "(Aang looks down at Katara who smiles at him. He is so enthralled with her attention that slams right into Sokka's guard tower. He pulls his head out of the tower and falls to the ground with his glider.)\n",
      "Aang\n",
      " (\n",
      "as he crashes\n",
      "): Oof!\n",
      "Sokka\n",
      " (\n",
      "gasping\n",
      "): My watchtower!\n",
      "Katara\n",
      ": That was amazing.\n",
      "(She helps Aang back to his feet. He twirls his glider shut as Sokka examines the damaged tower behind him. After Aang closes the glider a huge bank of snow buries Sokka.)\n",
      "Sokka\n",
      ": Great. You're an airbender, Katara's a waterbender, together you can just waste time all day long.\n",
      "Aang\n",
      ": You're a waterbender!\n",
      "Katara\n",
      ": Well... sort of. Not yet.\n",
      "Gran Gran\n",
      ": All right. No more playing. Come on, Katara, you have chores.\n",
      "(Gran Gran leads Katara away.)\n",
      "Katara\n",
      ": I told you! He's the real thing, Gran Gran! I finally found a bender to teach me.\n",
      "Gran Gran\n",
      ": Katara, try not to put all your hopes in this boy.\n",
      "Katara\n",
      ": But he's special. I can tell. I sense he's filled with much wisdom.\n",
      "(She looks over to her right. Cut to Aang with his tongue frozen to his staff, children gathered around him.)\n",
      "Aang\n",
      ": (\n",
      "slurring\n",
      ") Sthee? Now my tongue ith thuck to my sthaff.\n",
      "(A child next to him grabs the staff and yanks, but Aang's tongue stays stuck.)\n",
      "Children\n",
      " (\n",
      "clapping\n",
      "): Tee hee!\n",
      "(Fade to an afternoon or sunset shot of Zuko's ship cutting through the waves, then cut to Zuko facing two Fire Navy seamen. Iroh sits nearby.)\n",
      "Iroh\n",
      ": Again.\n",
      "(Zuko blasts fire from his hands at the guards, but misses. Then the guards attack Zuko with blasts of fire from their fists, but Zuko dodges. He back flips over the guards to land behind them.)\n",
      "Zuko\n",
      ": Ha! Heeya!\n",
      "(Iroh sighs and gets up.)\n",
      "Iroh\n",
      ": No! Power in firebending comes from the breath. Not the muscles. The breath becomes energy in the body. The energy extends past your limbs and becomes fire. \n",
      "(Iroh demonstrates, releasing a controlling plume of flame that bursts in front of Zuko, but does not hit him)\n",
      " Get it right this time.\n",
      "Zuko\n",
      ": Enough. I've been drilling this sequence all day. Teach me the next set. I'm more than ready.\n",
      "Iroh\n",
      ": No, you are impatient. You have yet to master your basics. \n",
      "(More forcefully)\n",
      " Drill it again!\n",
      "Zuko\n",
      ": Grrrr... huh! \n",
      "(He blasts one of the guards backwards with a gout of fire.)\n",
      " The sages tell us that the Avatar is the last airbender. He must be over a hundred years old by now. He's had a century to master the four elements. I'll need more than basic firebending to defeat him. You WILL teach me the advanced set!\n",
      "Iroh\n",
      ": Very well. But first I must finish my roast duck. \n",
      "(Begins eating)\n",
      " Num num... num...\n",
      "(Cut to a shot of the afternoon sky. The screen pans down to reveal Sokka, clearly addressing an audience as he paces back and forth.)\n",
      "Sokka\n",
      ": Now men, it's important that you show no fear when you face a firebender. In the Water Tribe, we fight to the last man standing. For without courage, how can we call ourselves men?\n",
      "(Cut to the audience. It is a group of six children, most of whom are toddlers.)\n",
      "Little Boy\n",
      " (\n",
      "raising his hand\n",
      "): I gotta pee!\n",
      "Sokka\n",
      ": Listen! Until your fathers return from the war, they're counting on you to be the men of this tribe. And that means no potty breaks.\n",
      "Little Boy\n",
      ": But I really gotta go.\n",
      "Sokka\n",
      " (\n",
      "sighing\n",
      "): Okay... who else has to go?\n",
      "(All six raise their hands. Sokka slaps his forehead in disgust as all six exit to the right. Katara enters from the left.)\n",
      "Katara\n",
      ": Have you seen Aang? Gran Gran said he disappeared over an hour ago.\n",
      "(Cut to Aang emerging from a small igloo type bathroom stall. He adjusts his pants and smiles at the trip of boys coming to use the toilet.)\n",
      "Aang\n",
      " (\n",
      "gesturing over his shoulder at the toilet\n",
      "): Wow! Everything freezes in there!\n",
      "Children\n",
      ": Hahaha!\n",
      "Sokka\n",
      ": Ugh! Katara, get him out of here. This lesson is for warriors only.\n",
      "Kid\n",
      " (\n",
      "voice over\n",
      "): Wheeee!\n",
      "(Cut to a rear shot of Appa, Aang on his back. They have propped up his tail using a makeshift sawhorse. A kid has used Appa's back and tail as a slide to land in a pile of snow. The children, and soon Katara, all start laughing.) \n",
      "Sokka\n",
      ": Stop! Stop it right now! \n",
      "(To Aang) \n",
      "What's wrong with you? We don't have time for fun and games with a war going on.\n",
      "Aang\n",
      ": What war? \n",
      "(He hops down off of Appa) \n",
      "What are you talking about?\n",
      "Sokka\n",
      ": You're kidding, right?\n",
      "(Aang's gaze shifts slightly off of Sokka to look at something beyond him o.c.)\n",
      "Aang\n",
      ": PENGUIN!\n",
      "(To accentuate Aang's exclamation the screen around him vibrates slightly in a visual effect. Cut to a shot of a penguin in distance, visible between Sokka and Katara. The camera closes on the penguin almost instantly. The penguin, aware that it has been spotted, makes an excited noise and turns to waddle away. Aang uses his airbending skill to run at unbelievable speed toward the horizon where the penguin had just been.)\n",
      "Sokka\n",
      ": He's kidding, right?\n",
      "Act III\n",
      "(Fade to a beach loaded with penguins who waddle around squawking. Katara enters, looking for Aang.)\n",
      "Katara\n",
      ": Aang?\n",
      "(Cut to Aang chasing some penguins, but unable to catch them as the waddle away.)\n",
      "Aang\n",
      ": Haha! Hey, come on little guy. Wanna go sledding?\n",
      "(Aang lunges, but falls flat on his face. He gets back up as Katara approaches.)\n",
      "Aang\n",
      ": Oof! Heh heh, I have a way with animals. \n",
      "(He puts his arms out and waddles in imitation of the four flippered penguins)\n",
      " Yarp! Yarp yarp! Yarp! Yarp yarp! Yarp!\n",
      "Katara\n",
      ": (\n",
      "giggles\n",
      ") Hahaha... Aang, I'll help you catch a penguin if you teach me waterbending.\n",
      "Aang\n",
      ": You got a deal! Just one little problem. I'm an airbender, not a waterbender. Isn't there someone in your tribe who can teach you?\n",
      "Katara\n",
      " (\n",
      "looking away in sadness\n",
      "): No. You're looking at the only waterbender on the whole South Pole.\n",
      "Aang\n",
      ": This isn't right. A waterbender needs to master water. What about the North Pole? There's another Water Tribe up there, right? Maybe they have waterbenders who could teach you.\n",
      "Katara\n",
      ": Maybe. But we haven't had contact with our sister tribe in a long time. It's not exactly 'turn right at the second glacier.' It's on the other side of the world.\n",
      "Aang\n",
      ": But you forget: I have a flying bison. Appa and I can personally fly you to the North Pole. Katara, we're gonna find you a master!\n",
      "Katara\n",
      " (\n",
      "happily\n",
      "): That's... (\n",
      "then uncertain)\n",
      " I mean, I don't know. I've never left home before.\n",
      "Aang\n",
      ": Well, you think about it. But in the meantime, can you teach me to catch one of these penguins?\n",
      "Katara\n",
      " (\n",
      "mock teacherly tone\n",
      "): Okay, listen closely my young pupil. Catching penguins is an ancient and sacred art. Observe.\n",
      "(She produces a little fish from her coat and tosses it at Aang. He is instantly surrounded by a horde of hungry penguins.\n",
      "Fade to a shot of an ice bank. It appears to be late afternoon. Suddenly, Katara and Aang rocket off the ice bank, each sitting atop a penguin. The land on the bank below and continue down at high speed on the penguin's belly. Aang and his penguin take a jump off a small ramp, eventually landing in front of Katara. She takes the jump and lands near him. They laugh and whoop happily.)\n",
      "Katara\n",
      ": I haven't done this since I was a kid!\n",
      "Aang\n",
      ": You still are a kid!\n",
      "(They continue to rocket across the frozen landscape, eventually entering system of ice tunnels. The tunnels are have periodic gaps where sunlight pours through. They emerge from the tunnels and get off their mounts, which stand up and dizzily wander away making little chirping noises. They walk forward, looking at something in front of them.)\n",
      "Aang\n",
      ": Whoa... what is that?\n",
      "(Cut to a huge ship locked in the ice in front of them. It is a derelict Fire Navy ship, silhouetted by the sun behind it.)\n",
      "Katara\n",
      " (\n",
      "deathly serious\n",
      "): A Fire Navy ship, and a very bad memory for my people.\n",
      "(Aang begins to walk to the ship.)\n",
      "Katara\n",
      ": Aang, stop! We're not allowed to go near it. The ship could be booby trapped.\n",
      "Aang\n",
      ": If you wanna be a bender, you have to let go of fear.\n",
      "(She looks uncertain, then follows him to the ship. They climb up and enter the ship through a gaping hole in one of the forward compartments below the water line. They walk around the dark corridors inside past many a darkened room.)\n",
      "Katara\n",
      ": This ship has haunted my tribe since Gran Gran was a little girl. It was part of the Fire Nation's first attacks.\n",
      "Aang\n",
      ": Okay, back up. I have friends all over the world, even in the Fire Nation. I've never seen any war.\n",
      "Katara\n",
      ": Aang, how long were you in that iceberg?\n",
      "Aang\n",
      ": I don't know... a few days, maybe?\n",
      "Katara\n",
      ": I think it was more like a hundred years!\n",
      "Aang\n",
      ": What? That's impossible. Do I look like a hundred-twelve year old man to you?\n",
      "Katara\n",
      ": Think about it. The war is a century old. You don't know about it because, somehow, you were in there that whole time. It's the only explanation.\n",
      "(Aang puts his hand to his head and walks backward. Stunned by this realization, he sinks to the floor.)\n",
      "Aang\n",
      ": A hundred years! I can't believe it.\n",
      "Katara\n",
      " (\n",
      "kneeling next to him\n",
      "): I'm sorry, Aang. Maybe somehow there's a bright side to all this.\n",
      "Aang\n",
      ": I did get to meet you.\n",
      "Katara\n",
      " (\n",
      "smiles\n",
      "): Come on. Let's get out of here.\n",
      "(She helps him back to his feet and they start walking once again. Fade to an exterior shot of the Fire Navy ship. Cut back to an interior shot of the ship as Aang enters a darkened room on the ship, Katara behind in the hallway.)\n",
      "Katara\n",
      ": Aang? Let's head back. This place is creepy.\n",
      "Aang\n",
      ": Huh?\n",
      "(Cut to a shot of Aang's foot dragging a trip wire on the floor. Behind them the door is blocked by a grate that drops from the ceiling. They grab it just after it falls shut. They are trapped.)\n",
      "Aang\n",
      ": What's that you said about booby traps?\n",
      "(Around them, machinery in the room starts to operate. Gauges show steam pressure and wheels begin to turn. Steam begins to pour out of some of the equipment. Cut to an exterior shot of the ship. Suddenly, a bright flare explodes out of the Fire Navy ship and into the sky, leaving a trail of smoke behind it. Cut back to Aang and Katara looking out the window of the ship's bridge.)\n",
      "Aang\n",
      ": Uh oh.\n",
      "(Cut back to the flare as it rises. When it reaches its zenith it explodes with a small shower of sparks. Cut back to Aang and Katara with a wide shot on the bridge. There is a hole in the ceiling that Aang is looking at.)\n",
      "Aang\n",
      ": Hold on tight!\n",
      "(He grabs Katara, who cries out in surprise, and launches them both through the hole in the ceiling. He lands with her in his arms on top of the bridge.\n",
      "Cut to a long shot of the falling flare as seen through the lens of a telescope. The telescope follows the flare down for a few moments, before shifting downwards to show Aang hopping down the ship and the ice which encases it to the ground below, Katara still in his arms.)\n",
      "Zuko\n",
      " (\n",
      "voice over\n",
      "): The last airbender. \n",
      "(Cut to a profile view of Zuko looking through his telescope)\n",
      " Quite agile for his old age. Wake my uncle! Tell him I found the Avatar...\n",
      "(Zuko looks back into his telescope to see Aang and Katara running across the ice away from the ship. He then scans left quickly, then pulls it back right to focus on Katara's village.)\n",
      "Zuko\n",
      ": ...as well as his hiding place.\n",
      "(Cut to a close up of Zuko's left eye, the scarred one, which arches in determination.)\n",
      "[End Credits]\n",
      "Back to overview\n",
      "Back to top\n"
     ]
    }
   ],
   "source": [
    "print(file)"
   ]
  },
  {
   "cell_type": "code",
   "execution_count": 4,
   "metadata": {},
   "outputs": [
    {
     "data": {
      "text/plain": [
       "str"
      ]
     },
     "execution_count": 4,
     "metadata": {},
     "output_type": "execute_result"
    }
   ],
   "source": [
    "type(file)"
   ]
  },
  {
   "cell_type": "code",
   "execution_count": 5,
   "metadata": {
    "collapsed": true
   },
   "outputs": [],
   "source": [
    "import re"
   ]
  },
  {
   "cell_type": "code",
   "execution_count": 6,
   "metadata": {},
   "outputs": [
    {
     "data": {
      "text/plain": [
       "29357"
      ]
     },
     "execution_count": 6,
     "metadata": {},
     "output_type": "execute_result"
    }
   ],
   "source": [
    "len(file)"
   ]
  },
  {
   "cell_type": "code",
   "execution_count": 7,
   "metadata": {
    "collapsed": true
   },
   "outputs": [],
   "source": [
    "#Seems to work, but gets rid of stuff I want to keep like question marks \n",
    "#re.sub(\"[\\(\\[].*[\\)\\]]\", \"\",file)\n",
    "\n",
    "#https://stackoverflow.com/questions/640001/how-can-i-remove-text-within-parentheses-with-a-regex\n",
    "#stack overflow explanatio\n",
    "\n",
    "file_clean = re.sub(r'\\([^()]*\\)', '', file)"
   ]
  },
  {
   "cell_type": "code",
   "execution_count": 8,
   "metadata": {},
   "outputs": [
    {
     "name": "stdout",
     "output_type": "stream",
     "text": [
      "The Boy in the Iceberg\n",
      "Written By:\n",
      " \n",
      "Michael Dante DiMartino\n",
      ", \n",
      "Bryan Konietzko\n",
      "Directed By:\n",
      " \n",
      "Dave Filoni\n",
      "Storyboard By:\n",
      " \n",
      "Giancarlo Volpe\n",
      ", \n",
      "Dave Filoni\n",
      ", \n",
      "Justin Ridge\n",
      "Animation By:\n",
      " JM Animation Co, Ltd\n",
      "Transcribers:\n",
      " Acastus, Pandora\n",
      "[Introduction sequence - The introduction to this first episode is longer than the standard sequence that introduces the rest of the Avatar episodes. It contains more background than the standard sequence. The animation contains some additions to accommodate the longer narrative. The trip through the map to the Fire Nation amphibious assault is longer, the shot of the Avatar silhouetted by the sun is longer, and the third paragraph below is accompanied by a pan right shot over a still frame that shows a burning landscape ravaged by war. Also, the narration around the departure of her father is voiced over shots of the Water Tribe ships departing, and of a younger Katara and Sokka watching them leave. Lastly, the stone pinnacle on which Aang stands in future episodes is empty.]\n",
      "Katara\n",
      " : Water... Earth... Fire... Air...\n",
      "My grandmother used to tell me stories about the old days, a time of peace when the Avatar kept balance between the Water Tribes, Earth Kingdom, Fire Nation, and Air Nomads. But that all changed when the Fire Nation attacked.\n",
      "Only the Avatar mastered all four elements. Only he could stop the ruthless firebenders. But when the world needed him most, he vanished.\n",
      "A hundred years have passed and the Fire Nation is nearing victory in the war. Two years ago, my father and the men of my tribe journeyed to the Earth Kingdom to help fight against the Fire Nation, leaving me and my brother to look after our tribe.\n",
      "Some people believe that the Avatar was never reborn into the Air Nomads and that the cycle is broken, but I haven't lost hope. I still believe that somehow the Avatar will return to save the world.\n",
      "Act I\n",
      "\n",
      "Sokka\n",
      ": It's not getting away from me this time. Watch and learn, Katara. This is how you catch a fish.\n",
      "\n",
      "Katara\n",
      ": Sokka, look!\n",
      "Sokka\n",
      ":  Shhh. Katara, you're gonna scare it away. Mmmm... I can already smell it cookin'!\n",
      "Katara\n",
      " : But Sokka! I caught one!\n",
      "\n",
      "Katara\n",
      ": Hey!\n",
      "Sokka\n",
      " : Ugh! Why is it that every time you play with magic water I get soaked?\n",
      "Katara\n",
      ": It's not magic. It's waterbending, and it's-\n",
      "Sokka\n",
      ": Yeah, yeah, an ancient art unique to our culture, blah blah blah. Look, I'm just saying that if I had weird powers, I'd keep my weirdness to myself.\n",
      "Katara\n",
      ": You're calling me weird? I'm not the one who makes muscles at myself every time I see my reflection in the water.\n",
      "\n",
      "Katara\n",
      " and \n",
      "Sokka\n",
      ": Ahhh!\n",
      "Katara\n",
      ": Watch out! Go left! Go left!\n",
      "\n",
      "Katara\n",
      ": You call that left?\n",
      "Sokka\n",
      ": You don't like my steering. Well, maybe you should have waterbended us out of the ice.\n",
      "\n",
      "Katara\n",
      ": So it's my fault?\n",
      "Sokka\n",
      ": I knew I should have left you home. Leave it to a girl to screw things up.\n",
      "\n",
      "Katara\n",
      ": You are the most sexist, immature, nut brained...\n",
      "\n",
      "Katara\n",
      ": Ugh, I'm embarrassed to be related to you! Ever since Mom died I've been doing all the work around camp while you've been off playing soldier!\n",
      "Sokka\n",
      " : Uh... Katara?\n",
      "Katara\n",
      ": I even wash all the clothes! Have you ever smelled your dirty socks? Let me tell you, NOT PLEASANT!\n",
      "Sokka\n",
      ": Katara! Settle down!\n",
      "Katara\n",
      ": No, that's it. I'm done helping you. From now on, you're on your own!\n",
      "\n",
      "Sokka\n",
      ": Okay, you've gone from weird to freakish, Katara.\n",
      "Katara\n",
      ": You mean I did that?\n",
      "Sokka\n",
      ": Yup. Congratulations.\n",
      "\n",
      "Katara\n",
      ": He's alive! We have to help.\n",
      " \n",
      "Sokka\n",
      ": Katara! Get back here! We don't know what that thing is!\n",
      "\n",
      "Zuko\n",
      ": Finally. \n",
      "\n",
      " Uncle, do you realize what this means?\n",
      "\n",
      "Iroh\n",
      ": I won't get to finish my game?\n",
      "Zuko\n",
      ": It means my search - it's about to come to an end.\n",
      "\n",
      "Zuko\n",
      ": That light came from an incredibly powerful source. It has to be him!\n",
      "Iroh\n",
      ": Or it's just the celestial lights. We've been down this road before, Prince Zuko. I don't want you to get too excited over nothing. Please, sit. Why don't you enjoy a cup of calming jasmine tea?\n",
      "Zuko\n",
      " : I don't need any calming tea! I need to capture the Avatar. Helmsman, head a course for the light!\n",
      "\n",
      "Sokka\n",
      " : Stop!\n",
      "\n",
      "Katara\n",
      ": Stop it!\n",
      "\n",
      "Aang\n",
      " : I need to ask you something.\n",
      "Katara\n",
      ": What?\n",
      "Aang\n",
      " : Please... come closer.\n",
      "Katara\n",
      ": What is it?\n",
      "Aang\n",
      " : Will you go penguin sledding with me?\n",
      "Katara\n",
      ": Uh... sure. I guess.\n",
      "\n",
      "Sokka\n",
      ": Ahh!\n",
      "Aang\n",
      ": What's going on here?\n",
      "Sokka\n",
      ": You tell us! How'd you get in the ice?  And why aren't you frozen?\n",
      "Aang\n",
      " : I'm not sure.\n",
      " \n",
      "Aang\n",
      ": Appa! Are you all right? Wake up, buddy.\n",
      "\n",
      "Aang\n",
      ": Haha! You're okay!\n",
      "\n",
      "Sokka\n",
      ": What is that thing?\n",
      "Aang\n",
      ": This is Appa, my flying bison.\n",
      "Sokka\n",
      ": Right. And this is Katara, my flying sister.\n",
      "\n",
      "Sokka\n",
      ": Ewww! Aahh!!!\n",
      "\n",
      "Aang\n",
      ": Don't worry. It'll wash out.\n",
      "Sokka\n",
      ": Ugh!\n",
      "Aang\n",
      ": So, do you guys live around here?\n",
      "Sokka\n",
      ": Don't answer that! Did you see that crazy bolt of light? He was probably trying to signal the Fire Navy.\n",
      "Katara\n",
      ": Oh, yeah, I'm sure he's a spy for the Fire Navy. You can tell by that evil look in his eye.\n",
      "\n",
      "Katara\n",
      ": The paranoid one is my brother, Sokka. You never told us your name.\n",
      "Aang\n",
      ": I'm A... aaaahhhh... ahhhhhh.... aaah aaah aaah AAAAAAACHOOOO!\n",
      " \n",
      "Aang\n",
      ": I'm Aang. \n",
      "\n",
      "Sokka\n",
      ":  You just sneezed... and flew ten feet in the air.\n",
      "Aang\n",
      ": Really? It felt higher that that.\n",
      "Katara\n",
      " : You're an airbender!\n",
      "Aang\n",
      ": Sure am.\n",
      "Sokka\n",
      ": Giant light beams... flying bison... airbenders... I think I've got Midnight Sun Madness. I'm going home to where stuff makes sense.\n",
      "\n",
      "Aang\n",
      ": Well, if you guys are stuck Appa and I can give you a lift.\n",
      "\n",
      "Katara\n",
      ": We'd love a ride! Thanks! \n",
      "\n",
      "Sokka\n",
      ": Oh, no... I am not getting on that fluffy snot monster.\n",
      "Katara\n",
      ": Are you hoping some other kind of monster will come along and give you a ride home? You know... before you freeze to death?\n",
      "\n",
      "Aang\n",
      ": Okay. First time flyers, hold on tight! Appa, yip yip!\n",
      "\n",
      "Aang\n",
      " : Come on, Appa. Yip yip.\n",
      "Sokka\n",
      ": Wow. That was truly amazing.\n",
      "Aang\n",
      ": Appa's just tired. A little rest and he'll be soaring through the sky. You'll see.\n",
      "\n",
      "Katara\n",
      ": Why are you smiling at me like that?\n",
      "Aang\n",
      ": Oh... I was smiling?\n",
      "Sokka\n",
      " : Uuuuugh.\n",
      "\n",
      "Iroh\n",
      ": I'm going to bed now.\n",
      " \n",
      " Yep. A man needs his rest. Prince Zuko, you need some sleep. Even if you're right and the Avatar is alive, you won't find him. Your father, grandfather, and great-grandfather all tried and failed.\n",
      "Zuko\n",
      ": Because their honor didn't hinge on the Avatar's capture. Mine does. This coward's hundred years in hiding are over.\n",
      "\n",
      "Katara\n",
      ": Hey.\n",
      "Aang\n",
      ": Hey. Whatcha thinkin' about?\n",
      "Katara\n",
      ": I guess I was wondering – your being an airbender and all – if you had any idea what happened to the Avatar.\n",
      "Aang\n",
      " : Uhh... no. I didn't know him... I mean, I knew people that knew him, but I didn't. Sorry.\n",
      "Katara\n",
      ": Okay. Just curious. Goodnight.\n",
      "Aang\n",
      ": Sleep tight.\n",
      "\n",
      "Act II\n",
      "\n",
      "Aang\n",
      ": Aaahhh!\n",
      "\n",
      "Katara\n",
      " : Aang! Aang, wake up! \n",
      "\n",
      " It's okay. We're in the village now. Come on, get ready. Everyone's waiting to meet you.\n",
      "\n",
      "Aang\n",
      ": Whaaaa!\n",
      "\n",
      "Katara\n",
      ": Aang, this is the entire village. Entire village, Aang.\n",
      "\n",
      "Aang\n",
      ": Uh... why are they all looking at me like that? Did Appa sneeze on me?\n",
      "\n",
      "Gran Gran\n",
      ": Well, no one has seen an airbender in a hundred years. We thought they were extinct until my granddaughter and grandson found you.\n",
      "Aang\n",
      ": 'Extinct'?\n",
      "Katara\n",
      ": Aang, this is my grandmother.\n",
      "Gran Gran\n",
      ": Call me Gran Gran.\n",
      "Sokka\n",
      " : What is this, a weapon? You can't stab anything with this.\n",
      "Aang\n",
      ": It's not for stabbing. \n",
      "\n",
      " It's for airbending.\n",
      "\n",
      "Little Girl\n",
      ": Magic trick! Do it again!\n",
      "Aang\n",
      ": Not magic, airbending. It lets me control the air currents around my glider and fly.\n",
      "Sokka\n",
      ": You know, last time I checked, humans can't fly.\n",
      "Aang\n",
      ": Check again!\n",
      "\n",
      "Villagers\n",
      ": Whoa... it's flying... it's amazing!\n",
      "\n",
      "Aang\n",
      " : Oof!\n",
      "Sokka\n",
      " : My watchtower!\n",
      "Katara\n",
      ": That was amazing.\n",
      "\n",
      "Sokka\n",
      ": Great. You're an airbender, Katara's a waterbender, together you can just waste time all day long.\n",
      "Aang\n",
      ": You're a waterbender!\n",
      "Katara\n",
      ": Well... sort of. Not yet.\n",
      "Gran Gran\n",
      ": All right. No more playing. Come on, Katara, you have chores.\n",
      "\n",
      "Katara\n",
      ": I told you! He's the real thing, Gran Gran! I finally found a bender to teach me.\n",
      "Gran Gran\n",
      ": Katara, try not to put all your hopes in this boy.\n",
      "Katara\n",
      ": But he's special. I can tell. I sense he's filled with much wisdom.\n",
      "\n",
      "Aang\n",
      ":  Sthee? Now my tongue ith thuck to my sthaff.\n",
      "\n",
      "Children\n",
      " : Tee hee!\n",
      "\n",
      "Iroh\n",
      ": Again.\n",
      "\n",
      "Zuko\n",
      ": Ha! Heeya!\n",
      "\n",
      "Iroh\n",
      ": No! Power in firebending comes from the breath. Not the muscles. The breath becomes energy in the body. The energy extends past your limbs and becomes fire. \n",
      "\n",
      " Get it right this time.\n",
      "Zuko\n",
      ": Enough. I've been drilling this sequence all day. Teach me the next set. I'm more than ready.\n",
      "Iroh\n",
      ": No, you are impatient. You have yet to master your basics. \n",
      "\n",
      " Drill it again!\n",
      "Zuko\n",
      ": Grrrr... huh! \n",
      "\n",
      " The sages tell us that the Avatar is the last airbender. He must be over a hundred years old by now. He's had a century to master the four elements. I'll need more than basic firebending to defeat him. You WILL teach me the advanced set!\n",
      "Iroh\n",
      ": Very well. But first I must finish my roast duck. \n",
      "\n",
      " Num num... num...\n",
      "\n",
      "Sokka\n",
      ": Now men, it's important that you show no fear when you face a firebender. In the Water Tribe, we fight to the last man standing. For without courage, how can we call ourselves men?\n",
      "\n",
      "Little Boy\n",
      " : I gotta pee!\n",
      "Sokka\n",
      ": Listen! Until your fathers return from the war, they're counting on you to be the men of this tribe. And that means no potty breaks.\n",
      "Little Boy\n",
      ": But I really gotta go.\n",
      "Sokka\n",
      " : Okay... who else has to go?\n",
      "\n",
      "Katara\n",
      ": Have you seen Aang? Gran Gran said he disappeared over an hour ago.\n",
      "\n",
      "Aang\n",
      " : Wow! Everything freezes in there!\n",
      "Children\n",
      ": Hahaha!\n",
      "Sokka\n",
      ": Ugh! Katara, get him out of here. This lesson is for warriors only.\n",
      "Kid\n",
      " : Wheeee!\n",
      " \n",
      "Sokka\n",
      ": Stop! Stop it right now! \n",
      " \n",
      "What's wrong with you? We don't have time for fun and games with a war going on.\n",
      "Aang\n",
      ": What war? \n",
      " \n",
      "What are you talking about?\n",
      "Sokka\n",
      ": You're kidding, right?\n",
      "\n",
      "Aang\n",
      ": PENGUIN!\n",
      "\n",
      "Sokka\n",
      ": He's kidding, right?\n",
      "Act III\n",
      "\n",
      "Katara\n",
      ": Aang?\n",
      "\n",
      "Aang\n",
      ": Haha! Hey, come on little guy. Wanna go sledding?\n",
      "\n",
      "Aang\n",
      ": Oof! Heh heh, I have a way with animals. \n",
      "\n",
      " Yarp! Yarp yarp! Yarp! Yarp yarp! Yarp!\n",
      "Katara\n",
      ":  Hahaha... Aang, I'll help you catch a penguin if you teach me waterbending.\n",
      "Aang\n",
      ": You got a deal! Just one little problem. I'm an airbender, not a waterbender. Isn't there someone in your tribe who can teach you?\n",
      "Katara\n",
      " : No. You're looking at the only waterbender on the whole South Pole.\n",
      "Aang\n",
      ": This isn't right. A waterbender needs to master water. What about the North Pole? There's another Water Tribe up there, right? Maybe they have waterbenders who could teach you.\n",
      "Katara\n",
      ": Maybe. But we haven't had contact with our sister tribe in a long time. It's not exactly 'turn right at the second glacier.' It's on the other side of the world.\n",
      "Aang\n",
      ": But you forget: I have a flying bison. Appa and I can personally fly you to the North Pole. Katara, we're gonna find you a master!\n",
      "Katara\n",
      " : That's... \n",
      " I mean, I don't know. I've never left home before.\n",
      "Aang\n",
      ": Well, you think about it. But in the meantime, can you teach me to catch one of these penguins?\n",
      "Katara\n",
      " : Okay, listen closely my young pupil. Catching penguins is an ancient and sacred art. Observe.\n",
      "\n",
      "Katara\n",
      ": I haven't done this since I was a kid!\n",
      "Aang\n",
      ": You still are a kid!\n",
      "\n",
      "Aang\n",
      ": Whoa... what is that?\n",
      "\n",
      "Katara\n",
      " : A Fire Navy ship, and a very bad memory for my people.\n",
      "\n",
      "Katara\n",
      ": Aang, stop! We're not allowed to go near it. The ship could be booby trapped.\n",
      "Aang\n",
      ": If you wanna be a bender, you have to let go of fear.\n",
      "\n",
      "Katara\n",
      ": This ship has haunted my tribe since Gran Gran was a little girl. It was part of the Fire Nation's first attacks.\n",
      "Aang\n",
      ": Okay, back up. I have friends all over the world, even in the Fire Nation. I've never seen any war.\n",
      "Katara\n",
      ": Aang, how long were you in that iceberg?\n",
      "Aang\n",
      ": I don't know... a few days, maybe?\n",
      "Katara\n",
      ": I think it was more like a hundred years!\n",
      "Aang\n",
      ": What? That's impossible. Do I look like a hundred-twelve year old man to you?\n",
      "Katara\n",
      ": Think about it. The war is a century old. You don't know about it because, somehow, you were in there that whole time. It's the only explanation.\n",
      "\n",
      "Aang\n",
      ": A hundred years! I can't believe it.\n",
      "Katara\n",
      " : I'm sorry, Aang. Maybe somehow there's a bright side to all this.\n",
      "Aang\n",
      ": I did get to meet you.\n",
      "Katara\n",
      " : Come on. Let's get out of here.\n",
      "\n",
      "Katara\n",
      ": Aang? Let's head back. This place is creepy.\n",
      "Aang\n",
      ": Huh?\n",
      "\n",
      "Aang\n",
      ": What's that you said about booby traps?\n",
      "\n",
      "Aang\n",
      ": Uh oh.\n",
      "\n",
      "Aang\n",
      ": Hold on tight!\n",
      "\n",
      "Zuko\n",
      " : The last airbender. \n",
      "\n",
      " Quite agile for his old age. Wake my uncle! Tell him I found the Avatar...\n",
      "\n",
      "Zuko\n",
      ": ...as well as his hiding place.\n",
      "\n",
      "[End Credits]\n",
      "Back to overview\n",
      "Back to top\n"
     ]
    }
   ],
   "source": [
    "print(file_clean)"
   ]
  },
  {
   "cell_type": "code",
   "execution_count": null,
   "metadata": {
    "collapsed": true
   },
   "outputs": [],
   "source": [
    "#works but splits intwo a few more than I want\n",
    "#challenge is you have Act I, Act II, and Act III\n",
    "\n",
    "#split = file_clean.split(\"Act I\")\n",
    "#how do I find exactly act I?\n",
    "\n",
    "#potentially, could start with act III, then act II, then Act 1? By starting backwards, I do this in a bit of a poor goofy way..."
   ]
  },
  {
   "cell_type": "code",
   "execution_count": 9,
   "metadata": {
    "collapsed": true
   },
   "outputs": [],
   "source": [
    "ActIII_Split = file_clean.split(\"Act III\")"
   ]
  },
  {
   "cell_type": "code",
   "execution_count": 10,
   "metadata": {
    "collapsed": true
   },
   "outputs": [],
   "source": [
    "ActIII = ActIII_Split[1]"
   ]
  },
  {
   "cell_type": "code",
   "execution_count": 11,
   "metadata": {},
   "outputs": [
    {
     "name": "stdout",
     "output_type": "stream",
     "text": [
      "\n",
      "\n",
      "Katara\n",
      ": Aang?\n",
      "\n",
      "Aang\n",
      ": Haha! Hey, come on little guy. Wanna go sledding?\n",
      "\n",
      "Aang\n",
      ": Oof! Heh heh, I have a way with animals. \n",
      "\n",
      " Yarp! Yarp yarp! Yarp! Yarp yarp! Yarp!\n",
      "Katara\n",
      ":  Hahaha... Aang, I'll help you catch a penguin if you teach me waterbending.\n",
      "Aang\n",
      ": You got a deal! Just one little problem. I'm an airbender, not a waterbender. Isn't there someone in your tribe who can teach you?\n",
      "Katara\n",
      " : No. You're looking at the only waterbender on the whole South Pole.\n",
      "Aang\n",
      ": This isn't right. A waterbender needs to master water. What about the North Pole? There's another Water Tribe up there, right? Maybe they have waterbenders who could teach you.\n",
      "Katara\n",
      ": Maybe. But we haven't had contact with our sister tribe in a long time. It's not exactly 'turn right at the second glacier.' It's on the other side of the world.\n",
      "Aang\n",
      ": But you forget: I have a flying bison. Appa and I can personally fly you to the North Pole. Katara, we're gonna find you a master!\n",
      "Katara\n",
      " : That's... \n",
      " I mean, I don't know. I've never left home before.\n",
      "Aang\n",
      ": Well, you think about it. But in the meantime, can you teach me to catch one of these penguins?\n",
      "Katara\n",
      " : Okay, listen closely my young pupil. Catching penguins is an ancient and sacred art. Observe.\n",
      "\n",
      "Katara\n",
      ": I haven't done this since I was a kid!\n",
      "Aang\n",
      ": You still are a kid!\n",
      "\n",
      "Aang\n",
      ": Whoa... what is that?\n",
      "\n",
      "Katara\n",
      " : A Fire Navy ship, and a very bad memory for my people.\n",
      "\n",
      "Katara\n",
      ": Aang, stop! We're not allowed to go near it. The ship could be booby trapped.\n",
      "Aang\n",
      ": If you wanna be a bender, you have to let go of fear.\n",
      "\n",
      "Katara\n",
      ": This ship has haunted my tribe since Gran Gran was a little girl. It was part of the Fire Nation's first attacks.\n",
      "Aang\n",
      ": Okay, back up. I have friends all over the world, even in the Fire Nation. I've never seen any war.\n",
      "Katara\n",
      ": Aang, how long were you in that iceberg?\n",
      "Aang\n",
      ": I don't know... a few days, maybe?\n",
      "Katara\n",
      ": I think it was more like a hundred years!\n",
      "Aang\n",
      ": What? That's impossible. Do I look like a hundred-twelve year old man to you?\n",
      "Katara\n",
      ": Think about it. The war is a century old. You don't know about it because, somehow, you were in there that whole time. It's the only explanation.\n",
      "\n",
      "Aang\n",
      ": A hundred years! I can't believe it.\n",
      "Katara\n",
      " : I'm sorry, Aang. Maybe somehow there's a bright side to all this.\n",
      "Aang\n",
      ": I did get to meet you.\n",
      "Katara\n",
      " : Come on. Let's get out of here.\n",
      "\n",
      "Katara\n",
      ": Aang? Let's head back. This place is creepy.\n",
      "Aang\n",
      ": Huh?\n",
      "\n",
      "Aang\n",
      ": What's that you said about booby traps?\n",
      "\n",
      "Aang\n",
      ": Uh oh.\n",
      "\n",
      "Aang\n",
      ": Hold on tight!\n",
      "\n",
      "Zuko\n",
      " : The last airbender. \n",
      "\n",
      " Quite agile for his old age. Wake my uncle! Tell him I found the Avatar...\n",
      "\n",
      "Zuko\n",
      ": ...as well as his hiding place.\n",
      "\n",
      "[End Credits]\n",
      "Back to overview\n",
      "Back to top\n"
     ]
    }
   ],
   "source": [
    "print(ActIII)"
   ]
  },
  {
   "cell_type": "code",
   "execution_count": 12,
   "metadata": {},
   "outputs": [
    {
     "data": {
      "text/plain": [
       "str"
      ]
     },
     "execution_count": 12,
     "metadata": {},
     "output_type": "execute_result"
    }
   ],
   "source": [
    "type(ActIII)"
   ]
  },
  {
   "cell_type": "code",
   "execution_count": 13,
   "metadata": {
    "collapsed": true
   },
   "outputs": [],
   "source": [
    "test = ActIII.split('\\n')"
   ]
  },
  {
   "cell_type": "code",
   "execution_count": 14,
   "metadata": {},
   "outputs": [
    {
     "name": "stdout",
     "output_type": "stream",
     "text": [
      "['', '', 'Katara', ': Aang?', '', 'Aang', ': Haha! Hey, come on little guy. Wanna go sledding?', '', 'Aang', ': Oof! Heh heh, I have a way with animals. ', '', ' Yarp! Yarp yarp! Yarp! Yarp yarp! Yarp!', 'Katara', \":  Hahaha... Aang, I'll help you catch a penguin if you teach me waterbending.\", 'Aang', \": You got a deal! Just one little problem. I'm an airbender, not a waterbender. Isn't there someone in your tribe who can teach you?\", 'Katara', \" : No. You're looking at the only waterbender on the whole South Pole.\", 'Aang', \": This isn't right. A waterbender needs to master water. What about the North Pole? There's another Water Tribe up there, right? Maybe they have waterbenders who could teach you.\", 'Katara', \": Maybe. But we haven't had contact with our sister tribe in a long time. It's not exactly 'turn right at the second glacier.' It's on the other side of the world.\", 'Aang', \": But you forget: I have a flying bison. Appa and I can personally fly you to the North Pole. Katara, we're gonna find you a master!\", 'Katara', \" : That's... \", \" I mean, I don't know. I've never left home before.\", 'Aang', ': Well, you think about it. But in the meantime, can you teach me to catch one of these penguins?', 'Katara', ' : Okay, listen closely my young pupil. Catching penguins is an ancient and sacred art. Observe.', '', 'Katara', \": I haven't done this since I was a kid!\", 'Aang', ': You still are a kid!', '', 'Aang', ': Whoa... what is that?', '', 'Katara', ' : A Fire Navy ship, and a very bad memory for my people.', '', 'Katara', \": Aang, stop! We're not allowed to go near it. The ship could be booby trapped.\", 'Aang', ': If you wanna be a bender, you have to let go of fear.', '', 'Katara', \": This ship has haunted my tribe since Gran Gran was a little girl. It was part of the Fire Nation's first attacks.\", 'Aang', \": Okay, back up. I have friends all over the world, even in the Fire Nation. I've never seen any war.\", 'Katara', ': Aang, how long were you in that iceberg?', 'Aang', \": I don't know... a few days, maybe?\", 'Katara', ': I think it was more like a hundred years!', 'Aang', \": What? That's impossible. Do I look like a hundred-twelve year old man to you?\", 'Katara', \": Think about it. The war is a century old. You don't know about it because, somehow, you were in there that whole time. It's the only explanation.\", '', 'Aang', \": A hundred years! I can't believe it.\", 'Katara', \" : I'm sorry, Aang. Maybe somehow there's a bright side to all this.\", 'Aang', ': I did get to meet you.', 'Katara', \" : Come on. Let's get out of here.\", '', 'Katara', \": Aang? Let's head back. This place is creepy.\", 'Aang', ': Huh?', '', 'Aang', \": What's that you said about booby traps?\", '', 'Aang', ': Uh oh.', '', 'Aang', ': Hold on tight!', '', 'Zuko', ' : The last airbender. ', '', ' Quite agile for his old age. Wake my uncle! Tell him I found the Avatar...', '', 'Zuko', ': ...as well as his hiding place.', '', '[End Credits]', 'Back to overview', 'Back to top']\n"
     ]
    }
   ],
   "source": [
    "print(test)"
   ]
  },
  {
   "cell_type": "code",
   "execution_count": 15,
   "metadata": {},
   "outputs": [
    {
     "name": "stdout",
     "output_type": "stream",
     "text": [
      "\n",
      "\n",
      "Katara\n",
      ": Aang?\n",
      "\n",
      "Aang\n",
      ": Haha! Hey, come on little guy. Wanna go sledding?\n",
      "\n",
      "Aang\n",
      ": Oof! Heh heh, I have a way with animals. \n",
      "\n",
      " Yarp! Yarp yarp! Yarp! Yarp yarp! Yarp!\n",
      "Katara\n",
      ":  Hahaha... Aang, I'll help you catch a penguin if you teach me waterbending.\n",
      "Aang\n",
      ": You got a deal! Just one little problem. I'm an airbender, not a waterbender. Isn't there someone in your tribe who can teach you?\n",
      "Katara\n",
      " : No. You're looking at the only waterbender on the whole South Pole.\n",
      "Aang\n",
      ": This isn't right. A waterbender needs to master water. What about the North Pole? There's another Water Tribe up there, right? Maybe they have waterbenders who could teach you.\n"
     ]
    }
   ],
   "source": [
    "for x in range(0,20):\n",
    "    print(test[x])"
   ]
  },
  {
   "cell_type": "code",
   "execution_count": 16,
   "metadata": {
    "collapsed": true
   },
   "outputs": [],
   "source": [
    "#filters the list to remove all the balnk items (which is what I want to do)\n",
    "new_test = list(filter(None, test))"
   ]
  },
  {
   "cell_type": "code",
   "execution_count": 17,
   "metadata": {},
   "outputs": [
    {
     "name": "stdout",
     "output_type": "stream",
     "text": [
      "['Katara', ': Aang?', 'Aang', ': Haha! Hey, come on little guy. Wanna go sledding?', 'Aang', ': Oof! Heh heh, I have a way with animals. ', ' Yarp! Yarp yarp! Yarp! Yarp yarp! Yarp!', 'Katara', \":  Hahaha... Aang, I'll help you catch a penguin if you teach me waterbending.\", 'Aang', \": You got a deal! Just one little problem. I'm an airbender, not a waterbender. Isn't there someone in your tribe who can teach you?\", 'Katara', \" : No. You're looking at the only waterbender on the whole South Pole.\", 'Aang', \": This isn't right. A waterbender needs to master water. What about the North Pole? There's another Water Tribe up there, right? Maybe they have waterbenders who could teach you.\", 'Katara', \": Maybe. But we haven't had contact with our sister tribe in a long time. It's not exactly 'turn right at the second glacier.' It's on the other side of the world.\", 'Aang', \": But you forget: I have a flying bison. Appa and I can personally fly you to the North Pole. Katara, we're gonna find you a master!\", 'Katara', \" : That's... \", \" I mean, I don't know. I've never left home before.\", 'Aang', ': Well, you think about it. But in the meantime, can you teach me to catch one of these penguins?', 'Katara', ' : Okay, listen closely my young pupil. Catching penguins is an ancient and sacred art. Observe.', 'Katara', \": I haven't done this since I was a kid!\", 'Aang', ': You still are a kid!', 'Aang', ': Whoa... what is that?', 'Katara', ' : A Fire Navy ship, and a very bad memory for my people.', 'Katara', \": Aang, stop! We're not allowed to go near it. The ship could be booby trapped.\", 'Aang', ': If you wanna be a bender, you have to let go of fear.', 'Katara', \": This ship has haunted my tribe since Gran Gran was a little girl. It was part of the Fire Nation's first attacks.\", 'Aang', \": Okay, back up. I have friends all over the world, even in the Fire Nation. I've never seen any war.\", 'Katara', ': Aang, how long were you in that iceberg?', 'Aang', \": I don't know... a few days, maybe?\", 'Katara', ': I think it was more like a hundred years!', 'Aang', \": What? That's impossible. Do I look like a hundred-twelve year old man to you?\", 'Katara', \": Think about it. The war is a century old. You don't know about it because, somehow, you were in there that whole time. It's the only explanation.\", 'Aang', \": A hundred years! I can't believe it.\", 'Katara', \" : I'm sorry, Aang. Maybe somehow there's a bright side to all this.\", 'Aang', ': I did get to meet you.', 'Katara', \" : Come on. Let's get out of here.\", 'Katara', \": Aang? Let's head back. This place is creepy.\", 'Aang', ': Huh?', 'Aang', \": What's that you said about booby traps?\", 'Aang', ': Uh oh.', 'Aang', ': Hold on tight!', 'Zuko', ' : The last airbender. ', ' Quite agile for his old age. Wake my uncle! Tell him I found the Avatar...', 'Zuko', ': ...as well as his hiding place.', '[End Credits]', 'Back to overview', 'Back to top']\n"
     ]
    }
   ],
   "source": [
    "print(new_test)"
   ]
  },
  {
   "cell_type": "code",
   "execution_count": 18,
   "metadata": {},
   "outputs": [
    {
     "name": "stdout",
     "output_type": "stream",
     "text": [
      "Katara\n",
      ": Aang?\n",
      "Aang\n",
      ": Haha! Hey, come on little guy. Wanna go sledding?\n",
      "Aang\n",
      ": Oof! Heh heh, I have a way with animals. \n",
      " Yarp! Yarp yarp! Yarp! Yarp yarp! Yarp!\n",
      "Katara\n",
      ":  Hahaha... Aang, I'll help you catch a penguin if you teach me waterbending.\n",
      "Aang\n",
      ": You got a deal! Just one little problem. I'm an airbender, not a waterbender. Isn't there someone in your tribe who can teach you?\n",
      "Katara\n",
      " : No. You're looking at the only waterbender on the whole South Pole.\n",
      "Aang\n",
      ": This isn't right. A waterbender needs to master water. What about the North Pole? There's another Water Tribe up there, right? Maybe they have waterbenders who could teach you.\n",
      "Katara\n",
      ": Maybe. But we haven't had contact with our sister tribe in a long time. It's not exactly 'turn right at the second glacier.' It's on the other side of the world.\n",
      "Aang\n",
      ": But you forget: I have a flying bison. Appa and I can personally fly you to the North Pole. Katara, we're gonna find you a master!\n",
      "Katara\n"
     ]
    }
   ],
   "source": [
    "for x in range(0,20):\n",
    "    print(new_test[x])"
   ]
  },
  {
   "cell_type": "code",
   "execution_count": 19,
   "metadata": {},
   "outputs": [
    {
     "data": {
      "text/plain": [
       "list"
      ]
     },
     "execution_count": 19,
     "metadata": {},
     "output_type": "execute_result"
    }
   ],
   "source": [
    "type(new_test)"
   ]
  },
  {
   "cell_type": "code",
   "execution_count": 20,
   "metadata": {
    "collapsed": true
   },
   "outputs": [],
   "source": [
    "new_test2 = str(new_test)"
   ]
  },
  {
   "cell_type": "code",
   "execution_count": 21,
   "metadata": {},
   "outputs": [
    {
     "name": "stdout",
     "output_type": "stream",
     "text": [
      "['Katara', ': Aang?', 'Aang', ': Haha! Hey, come on little guy. Wanna go sledding?', 'Aang', ': Oof! Heh heh, I have a way with animals. ', ' Yarp! Yarp yarp! Yarp! Yarp yarp! Yarp!', 'Katara', \":  Hahaha... Aang, I'll help you catch a penguin if you teach me waterbending.\", 'Aang', \": You got a deal! Just one little problem. I'm an airbender, not a waterbender. Isn't there someone in your tribe who can teach you?\", 'Katara', \" : No. You're looking at the only waterbender on the whole South Pole.\", 'Aang', \": This isn't right. A waterbender needs to master water. What about the North Pole? There's another Water Tribe up there, right? Maybe they have waterbenders who could teach you.\", 'Katara', \": Maybe. But we haven't had contact with our sister tribe in a long time. It's not exactly 'turn right at the second glacier.' It's on the other side of the world.\", 'Aang', \": But you forget: I have a flying bison. Appa and I can personally fly you to the North Pole. Katara, we're gonna find you a master!\", 'Katara', \" : That's... \", \" I mean, I don't know. I've never left home before.\", 'Aang', ': Well, you think about it. But in the meantime, can you teach me to catch one of these penguins?', 'Katara', ' : Okay, listen closely my young pupil. Catching penguins is an ancient and sacred art. Observe.', 'Katara', \": I haven't done this since I was a kid!\", 'Aang', ': You still are a kid!', 'Aang', ': Whoa... what is that?', 'Katara', ' : A Fire Navy ship, and a very bad memory for my people.', 'Katara', \": Aang, stop! We're not allowed to go near it. The ship could be booby trapped.\", 'Aang', ': If you wanna be a bender, you have to let go of fear.', 'Katara', \": This ship has haunted my tribe since Gran Gran was a little girl. It was part of the Fire Nation's first attacks.\", 'Aang', \": Okay, back up. I have friends all over the world, even in the Fire Nation. I've never seen any war.\", 'Katara', ': Aang, how long were you in that iceberg?', 'Aang', \": I don't know... a few days, maybe?\", 'Katara', ': I think it was more like a hundred years!', 'Aang', \": What? That's impossible. Do I look like a hundred-twelve year old man to you?\", 'Katara', \": Think about it. The war is a century old. You don't know about it because, somehow, you were in there that whole time. It's the only explanation.\", 'Aang', \": A hundred years! I can't believe it.\", 'Katara', \" : I'm sorry, Aang. Maybe somehow there's a bright side to all this.\", 'Aang', ': I did get to meet you.', 'Katara', \" : Come on. Let's get out of here.\", 'Katara', \": Aang? Let's head back. This place is creepy.\", 'Aang', ': Huh?', 'Aang', \": What's that you said about booby traps?\", 'Aang', ': Uh oh.', 'Aang', ': Hold on tight!', 'Zuko', ' : The last airbender. ', ' Quite agile for his old age. Wake my uncle! Tell him I found the Avatar...', 'Zuko', ': ...as well as his hiding place.', '[End Credits]', 'Back to overview', 'Back to top']\n"
     ]
    }
   ],
   "source": [
    "print(new_test2)"
   ]
  },
  {
   "cell_type": "code",
   "execution_count": 25,
   "metadata": {},
   "outputs": [
    {
     "data": {
      "text/plain": [
       "str"
      ]
     },
     "execution_count": 25,
     "metadata": {},
     "output_type": "execute_result"
    }
   ],
   "source": [
    "type(new_test2)"
   ]
  },
  {
   "cell_type": "code",
   "execution_count": null,
   "metadata": {
    "collapsed": true
   },
   "outputs": [],
   "source": [
    "#clean blank spaces"
   ]
  },
  {
   "cell_type": "code",
   "execution_count": 32,
   "metadata": {
    "collapsed": true
   },
   "outputs": [],
   "source": [
    "remove_spaces = \"\".join(new_test2.strip())"
   ]
  },
  {
   "cell_type": "code",
   "execution_count": 33,
   "metadata": {},
   "outputs": [
    {
     "data": {
      "text/plain": [
       "'[\\'Katara\\', \\': Aang?\\', \\'Aang\\', \\': Haha! Hey, come on little guy. Wanna go sledding?\\', \\'Aang\\', \\': Oof! Heh heh, I have a way with animals. \\', \\' Yarp! Yarp yarp! Yarp! Yarp yarp! Yarp!\\', \\'Katara\\', \":  Hahaha... Aang, I\\'ll help you catch a penguin if you teach me waterbending.\", \\'Aang\\', \": You got a deal! Just one little problem. I\\'m an airbender, not a waterbender. Isn\\'t there someone in your tribe who can teach you?\", \\'Katara\\', \" : No. You\\'re looking at the only waterbender on the whole South Pole.\", \\'Aang\\', \": This isn\\'t right. A waterbender needs to master water. What about the North Pole? There\\'s another Water Tribe up there, right? Maybe they have waterbenders who could teach you.\", \\'Katara\\', \": Maybe. But we haven\\'t had contact with our sister tribe in a long time. It\\'s not exactly \\'turn right at the second glacier.\\' It\\'s on the other side of the world.\", \\'Aang\\', \": But you forget: I have a flying bison. Appa and I can personally fly you to the North Pole. Katara, we\\'re gonna find you a master!\", \\'Katara\\', \" : That\\'s... \", \" I mean, I don\\'t know. I\\'ve never left home before.\", \\'Aang\\', \\': Well, you think about it. But in the meantime, can you teach me to catch one of these penguins?\\', \\'Katara\\', \\' : Okay, listen closely my young pupil. Catching penguins is an ancient and sacred art. Observe.\\', \\'Katara\\', \": I haven\\'t done this since I was a kid!\", \\'Aang\\', \\': You still are a kid!\\', \\'Aang\\', \\': Whoa... what is that?\\', \\'Katara\\', \\' : A Fire Navy ship, and a very bad memory for my people.\\', \\'Katara\\', \": Aang, stop! We\\'re not allowed to go near it. The ship could be booby trapped.\", \\'Aang\\', \\': If you wanna be a bender, you have to let go of fear.\\', \\'Katara\\', \": This ship has haunted my tribe since Gran Gran was a little girl. It was part of the Fire Nation\\'s first attacks.\", \\'Aang\\', \": Okay, back up. I have friends all over the world, even in the Fire Nation. I\\'ve never seen any war.\", \\'Katara\\', \\': Aang, how long were you in that iceberg?\\', \\'Aang\\', \": I don\\'t know... a few days, maybe?\", \\'Katara\\', \\': I think it was more like a hundred years!\\', \\'Aang\\', \": What? That\\'s impossible. Do I look like a hundred-twelve year old man to you?\", \\'Katara\\', \": Think about it. The war is a century old. You don\\'t know about it because, somehow, you were in there that whole time. It\\'s the only explanation.\", \\'Aang\\', \": A hundred years! I can\\'t believe it.\", \\'Katara\\', \" : I\\'m sorry, Aang. Maybe somehow there\\'s a bright side to all this.\", \\'Aang\\', \\': I did get to meet you.\\', \\'Katara\\', \" : Come on. Let\\'s get out of here.\", \\'Katara\\', \": Aang? Let\\'s head back. This place is creepy.\", \\'Aang\\', \\': Huh?\\', \\'Aang\\', \": What\\'s that you said about booby traps?\", \\'Aang\\', \\': Uh oh.\\', \\'Aang\\', \\': Hold on tight!\\', \\'Zuko\\', \\' : The last airbender. \\', \\' Quite agile for his old age. Wake my uncle! Tell him I found the Avatar...\\', \\'Zuko\\', \\': ...as well as his hiding place.\\', \\'[End Credits]\\', \\'Back to overview\\', \\'Back to top\\']'"
      ]
     },
     "execution_count": 33,
     "metadata": {},
     "output_type": "execute_result"
    }
   ],
   "source": [
    "remove_spaces"
   ]
  },
  {
   "cell_type": "code",
   "execution_count": 34,
   "metadata": {
    "collapsed": true
   },
   "outputs": [],
   "source": [
    "final = remove_spaces.split(\":\")"
   ]
  },
  {
   "cell_type": "code",
   "execution_count": 35,
   "metadata": {},
   "outputs": [
    {
     "data": {
      "text/plain": [
       "[\"['Katara', '\",\n",
       " \" Aang?', 'Aang', '\",\n",
       " \" Haha! Hey, come on little guy. Wanna go sledding?', 'Aang', '\",\n",
       " ' Oof! Heh heh, I have a way with animals. \\', \\' Yarp! Yarp yarp! Yarp! Yarp yarp! Yarp!\\', \\'Katara\\', \"',\n",
       " '  Hahaha... Aang, I\\'ll help you catch a penguin if you teach me waterbending.\", \\'Aang\\', \"',\n",
       " ' You got a deal! Just one little problem. I\\'m an airbender, not a waterbender. Isn\\'t there someone in your tribe who can teach you?\", \\'Katara\\', \" ',\n",
       " ' No. You\\'re looking at the only waterbender on the whole South Pole.\", \\'Aang\\', \"',\n",
       " ' This isn\\'t right. A waterbender needs to master water. What about the North Pole? There\\'s another Water Tribe up there, right? Maybe they have waterbenders who could teach you.\", \\'Katara\\', \"',\n",
       " ' Maybe. But we haven\\'t had contact with our sister tribe in a long time. It\\'s not exactly \\'turn right at the second glacier.\\' It\\'s on the other side of the world.\", \\'Aang\\', \"',\n",
       " ' But you forget',\n",
       " ' I have a flying bison. Appa and I can personally fly you to the North Pole. Katara, we\\'re gonna find you a master!\", \\'Katara\\', \" ',\n",
       " ' That\\'s... \", \" I mean, I don\\'t know. I\\'ve never left home before.\", \\'Aang\\', \\'',\n",
       " \" Well, you think about it. But in the meantime, can you teach me to catch one of these penguins?', 'Katara', ' \",\n",
       " ' Okay, listen closely my young pupil. Catching penguins is an ancient and sacred art. Observe.\\', \\'Katara\\', \"',\n",
       " ' I haven\\'t done this since I was a kid!\", \\'Aang\\', \\'',\n",
       " \" You still are a kid!', 'Aang', '\",\n",
       " \" Whoa... what is that?', 'Katara', ' \",\n",
       " ' A Fire Navy ship, and a very bad memory for my people.\\', \\'Katara\\', \"',\n",
       " ' Aang, stop! We\\'re not allowed to go near it. The ship could be booby trapped.\", \\'Aang\\', \\'',\n",
       " ' If you wanna be a bender, you have to let go of fear.\\', \\'Katara\\', \"',\n",
       " ' This ship has haunted my tribe since Gran Gran was a little girl. It was part of the Fire Nation\\'s first attacks.\", \\'Aang\\', \"',\n",
       " ' Okay, back up. I have friends all over the world, even in the Fire Nation. I\\'ve never seen any war.\", \\'Katara\\', \\'',\n",
       " ' Aang, how long were you in that iceberg?\\', \\'Aang\\', \"',\n",
       " ' I don\\'t know... a few days, maybe?\", \\'Katara\\', \\'',\n",
       " ' I think it was more like a hundred years!\\', \\'Aang\\', \"',\n",
       " ' What? That\\'s impossible. Do I look like a hundred-twelve year old man to you?\", \\'Katara\\', \"',\n",
       " ' Think about it. The war is a century old. You don\\'t know about it because, somehow, you were in there that whole time. It\\'s the only explanation.\", \\'Aang\\', \"',\n",
       " ' A hundred years! I can\\'t believe it.\", \\'Katara\\', \" ',\n",
       " ' I\\'m sorry, Aang. Maybe somehow there\\'s a bright side to all this.\", \\'Aang\\', \\'',\n",
       " ' I did get to meet you.\\', \\'Katara\\', \" ',\n",
       " ' Come on. Let\\'s get out of here.\", \\'Katara\\', \"',\n",
       " ' Aang? Let\\'s head back. This place is creepy.\", \\'Aang\\', \\'',\n",
       " ' Huh?\\', \\'Aang\\', \"',\n",
       " ' What\\'s that you said about booby traps?\", \\'Aang\\', \\'',\n",
       " \" Uh oh.', 'Aang', '\",\n",
       " \" Hold on tight!', 'Zuko', ' \",\n",
       " \" The last airbender. ', ' Quite agile for his old age. Wake my uncle! Tell him I found the Avatar...', 'Zuko', '\",\n",
       " \" ...as well as his hiding place.', '[End Credits]', 'Back to overview', 'Back to top']\"]"
      ]
     },
     "execution_count": 35,
     "metadata": {},
     "output_type": "execute_result"
    }
   ],
   "source": [
    "final"
   ]
  },
  {
   "cell_type": "code",
   "execution_count": null,
   "metadata": {},
   "outputs": [],
   "source": [
    "new"
   ]
  },
  {
   "cell_type": "code",
   "execution_count": null,
   "metadata": {},
   "outputs": [],
   "source": [
    "for x in range(0,11):\n",
    "    print(x)\n",
    "    print(new[x])"
   ]
  },
  {
   "cell_type": "code",
   "execution_count": null,
   "metadata": {},
   "outputs": [],
   "source": [
    "for x in range(0,11):\n",
    "    if x%2 == 0:\n",
    "        print(new_test[x])"
   ]
  },
  {
   "cell_type": "code",
   "execution_count": null,
   "metadata": {},
   "outputs": [],
   "source": [
    "1%"
   ]
  },
  {
   "cell_type": "code",
   "execution_count": null,
   "metadata": {},
   "outputs": [],
   "source": [
    "type(new_test)"
   ]
  },
  {
   "cell_type": "code",
   "execution_count": null,
   "metadata": {
    "collapsed": true
   },
   "outputs": [],
   "source": []
  },
  {
   "cell_type": "code",
   "execution_count": null,
   "metadata": {},
   "outputs": [],
   "source": [
    "test"
   ]
  },
  {
   "cell_type": "code",
   "execution_count": null,
   "metadata": {},
   "outputs": [],
   "source": [
    "test = ActIII.split(\":\")"
   ]
  },
  {
   "cell_type": "code",
   "execution_count": null,
   "metadata": {},
   "outputs": [],
   "source": [
    "test1 = str(test)"
   ]
  },
  {
   "cell_type": "code",
   "execution_count": null,
   "metadata": {},
   "outputs": [],
   "source": [
    "type(test1)"
   ]
  },
  {
   "cell_type": "code",
   "execution_count": null,
   "metadata": {},
   "outputs": [],
   "source": [
    "print(test1)"
   ]
  },
  {
   "cell_type": "code",
   "execution_count": null,
   "metadata": {},
   "outputs": [],
   "source": [
    "test1 = str(test1.split('\\n'))"
   ]
  },
  {
   "cell_type": "code",
   "execution_count": null,
   "metadata": {
    "collapsed": true
   },
   "outputs": [],
   "source": []
  },
  {
   "cell_type": "code",
   "execution_count": null,
   "metadata": {},
   "outputs": [],
   "source": [
    "for x in range(0,10):\n",
    "    print(test1[x])"
   ]
  },
  {
   "cell_type": "code",
   "execution_count": null,
   "metadata": {},
   "outputs": [],
   "source": [
    "test1[1]"
   ]
  },
  {
   "cell_type": "code",
   "execution_count": null,
   "metadata": {},
   "outputs": [],
   "source": [
    "type(test)"
   ]
  },
  {
   "cell_type": "code",
   "execution_count": null,
   "metadata": {},
   "outputs": [],
   "source": [
    "test[0]"
   ]
  },
  {
   "cell_type": "code",
   "execution_count": null,
   "metadata": {},
   "outputs": [],
   "source": [
    "test[1]"
   ]
  },
  {
   "cell_type": "code",
   "execution_count": null,
   "metadata": {},
   "outputs": [],
   "source": [
    "test[2]"
   ]
  },
  {
   "cell_type": "code",
   "execution_count": null,
   "metadata": {},
   "outputs": [],
   "source": [
    "print(test)"
   ]
  },
  {
   "cell_type": "code",
   "execution_count": null,
   "metadata": {
    "collapsed": true
   },
   "outputs": [],
   "source": [
    "ActII_Split = ActIII_Split[0].split(\"Act II\")"
   ]
  },
  {
   "cell_type": "code",
   "execution_count": null,
   "metadata": {
    "collapsed": true
   },
   "outputs": [],
   "source": [
    "ActII = ActII_Split[1]"
   ]
  },
  {
   "cell_type": "code",
   "execution_count": null,
   "metadata": {
    "collapsed": true
   },
   "outputs": [],
   "source": [
    "ActI_Split = ActII_Split[0].split(\"Act I\")"
   ]
  },
  {
   "cell_type": "code",
   "execution_count": null,
   "metadata": {
    "collapsed": true
   },
   "outputs": [],
   "source": [
    "ActI = ActI_Split[1]"
   ]
  },
  {
   "cell_type": "code",
   "execution_count": null,
   "metadata": {},
   "outputs": [],
   "source": [
    "ActI"
   ]
  },
  {
   "cell_type": "code",
   "execution_count": null,
   "metadata": {},
   "outputs": [],
   "source": [
    "print(type(ActI))\n",
    "print(type(ActII))\n",
    "print(type(ActIII))"
   ]
  },
  {
   "cell_type": "code",
   "execution_count": null,
   "metadata": {
    "collapsed": true
   },
   "outputs": [],
   "source": [
    "ep = ActI + ActII + ActIII"
   ]
  },
  {
   "cell_type": "code",
   "execution_count": null,
   "metadata": {},
   "outputs": [],
   "source": [
    "ep"
   ]
  },
  {
   "cell_type": "code",
   "execution_count": null,
   "metadata": {
    "collapsed": true
   },
   "outputs": [],
   "source": [
    "#how to split on the names?\n",
    "#this pushes the name to the other set... If I know what I need to split on, how could I do it?\n",
    "\n",
    "#can I look to the left of :? And then use that word to split stuff?\n",
    "\n",
    "test_split = ep.split(\":\")"
   ]
  },
  {
   "cell_type": "code",
   "execution_count": null,
   "metadata": {},
   "outputs": [],
   "source": [
    "test_split"
   ]
  },
  {
   "cell_type": "code",
   "execution_count": null,
   "metadata": {},
   "outputs": [],
   "source": [
    "len(test_split)"
   ]
  },
  {
   "cell_type": "code",
   "execution_count": null,
   "metadata": {},
   "outputs": [],
   "source": [
    "test_split[0]"
   ]
  },
  {
   "cell_type": "code",
   "execution_count": null,
   "metadata": {},
   "outputs": [],
   "source": [
    "test_split[1]"
   ]
  },
  {
   "cell_type": "code",
   "execution_count": null,
   "metadata": {},
   "outputs": [],
   "source": [
    "test_split[2]"
   ]
  }
 ],
 "metadata": {
  "kernelspec": {
   "display_name": "Python 3",
   "language": "python",
   "name": "python3"
  },
  "language_info": {
   "codemirror_mode": {
    "name": "ipython",
    "version": 3
   },
   "file_extension": ".py",
   "mimetype": "text/x-python",
   "name": "python",
   "nbconvert_exporter": "python",
   "pygments_lexer": "ipython3",
   "version": "3.6.3"
  }
 },
 "nbformat": 4,
 "nbformat_minor": 2
}
