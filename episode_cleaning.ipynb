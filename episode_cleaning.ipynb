{
 "cells": [
  {
   "cell_type": "code",
   "execution_count": 1,
   "metadata": {
    "collapsed": true
   },
   "outputs": [],
   "source": [
    "file = open(\"se1_ep01_bold.txt\",\"r\")"
   ]
  },
  {
   "cell_type": "code",
   "execution_count": 2,
   "metadata": {
    "collapsed": true
   },
   "outputs": [],
   "source": [
    "file = file.read()"
   ]
  },
  {
   "cell_type": "code",
   "execution_count": 3,
   "metadata": {},
   "outputs": [
    {
     "name": "stdout",
     "output_type": "stream",
     "text": [
      "<div class=\"content\"><blockquote><b>The Boy in the Iceberg</b><b>Written By:</b> , <b>Directed By:</b> <b>Storyboard By:</b> , , <b>Animation By:</b> JM Animation Co, Ltd<b>Transcribers:</b> Acastus, Pandora<b>Katara</b> (): Water... Earth... Fire... Air...My grandmother used to tell me stories about the old days, a time of peace when the Avatar kept balance between the Water Tribes, Earth Kingdom, Fire Nation, and Air Nomads. But that all changed when the Fire Nation attacked.Only the Avatar mastered all four elements. Only he could stop the ruthless firebenders. But when the world needed him most, he vanished.A hundred years have passed and the Fire Nation is nearing victory in the war. Two years ago, my father and the men of my tribe journeyed to the Earth Kingdom to help fight against the Fire Nation, leaving me and my brother to look after our tribe.Some people believe that the Avatar was never reborn into the Air Nomads and that the cycle is broken, but I haven't lost hope. I still believe that somehow the Avatar will return to save the world.<u><b>Act I</b></u><b>Sokka</b>: It's not getting away from me this time. Watch and learn, Katara. This is how you catch a fish.<b>Katara</b>: Sokka, look!<b>Sokka</b>: () Shhh. Katara, you're gonna scare it away. Mmmm... I can already smell it cookin'!<b>Katara</b> (): But Sokka! I caught one!<b>Katara</b>: Hey!<b>Sokka</b> (): Ugh! Why is it that every time you play with magic water I get soaked?<b>Katara</b>: It's not magic. It's waterbending, and it's-<b>Sokka</b>: Yeah, yeah, an ancient art unique to our culture, blah blah blah. Look, I'm just saying that if I had weird powers, I'd keep my weirdness to myself.<b>Katara</b>: You're calling me weird? I'm not the one who makes muscles at myself every time I see my reflection in the water.<b>Katara</b> and <b>Sokka</b>: Ahhh!<b>Katara</b>: Watch out! Go left! Go left!<b>Katara</b>: You call that left?<b>Sokka</b>: You don't like my steering. Well, maybe you should have waterbended us out of the ice.<b>Katara</b>: So it's my fault?<b>Sokka</b>: I knew I should have left you home. Leave it to a girl to screw things up.<b>Katara</b>: You are the most sexist, immature, nut brained...<b>Katara</b>: Ugh, I'm embarrassed to be related to you! Ever since Mom died I've been doing all the work around camp while you've been off playing soldier!<b>Sokka</b> (): Uh... Katara?<b>Katara</b>: I even wash all the clothes! Have you ever smelled your dirty socks? Let me tell you, NOT PLEASANT!<b>Sokka</b>: Katara! Settle down!<b>Katara</b>: No, that's it. I'm done helping you. From now on, you're on your own!<b>Sokka</b>: Okay, you've gone from weird to freakish, Katara.<b>Katara</b>: You mean I did that?<b>Sokka</b>: Yup. Congratulations.<b>Katara</b>: He's alive! We have to help.<b>Sokka</b>: Katara! Get back here! We don't know what that thing is!<b>Zuko</b>: Finally.  Uncle, do you realize what this means?<b>Iroh</b>: I won't get to finish my game?<b>Zuko</b>: It means my search - it's about to come to an end.<b>Zuko</b>: That light came from an incredibly powerful source. It has to be him!<b>Iroh</b>: Or it's just the celestial lights. We've been down this road before, Prince Zuko. I don't want you to get too excited over nothing. Please, sit. Why don't you enjoy a cup of calming jasmine tea?<b>Zuko</b> (): I don't need any calming tea! I need to capture the Avatar. Helmsman, head a course for the light!<b>Sokka</b> (): Stop!<b>Katara</b>: Stop it!<b>Aang</b> (): I need to ask you something.<b>Katara</b>: What?<b>Aang</b> (): Please... come closer.<b>Katara</b>: What is it?<b>Aang</b> (): Will you go penguin sledding with me?<b>Katara</b>: Uh... sure. I guess.<b>Sokka</b>: Ahh!<b>Aang</b>: What's going on here?<b>Sokka</b>: You tell us! How'd you get in the ice? () And why aren't you frozen?<b>Aang</b> (): I'm not sure.<b>Aang</b>: Appa! Are you all right? Wake up, buddy.<b>Aang</b>: Haha! You're okay!<b>Sokka</b>: What is that thing?<b>Aang</b>: This is Appa, my flying bison.<b>Sokka</b>: Right. And this is Katara, my flying sister.<b>Sokka</b>: Ewww! Aahh!!!<b>Aang</b>: Don't worry. It'll wash out.<b>Sokka</b>: Ugh!<b>Aang</b>: So, do you guys live around here?<b>Sokka</b>: Don't answer that! Did you see that crazy bolt of light? He was probably trying to signal the Fire Navy.<b>Katara</b>: Oh, yeah, I'm sure he's a spy for the Fire Navy. You can tell by that evil look in his eye.<b>Katara</b>: The paranoid one is my brother, Sokka. You never told us your name.<b>Aang</b>: I'm A... aaaahhhh... ahhhhhh.... aaah aaah aaah AAAAAAACHOOOO!<b>Aang</b>: I'm Aang. <b>Sokka</b>: () You just sneezed... and flew ten feet in the air.<b>Aang</b>: Really? It felt higher that that.<b>Katara</b> (): You're an airbender!<b>Aang</b>: Sure am.<b>Sokka</b>: Giant light beams... flying bison... airbenders... I think I've got Midnight Sun Madness. I'm going home to where stuff makes sense.<b>Aang</b>: Well, if you guys are stuck Appa and I can give you a lift.<b>Katara</b>: We'd love a ride! Thanks! <b>Sokka</b>: Oh, no... I am not getting on that fluffy snot monster.<b>Katara</b>: Are you hoping some other kind of monster will come along and give you a ride home? You know... before you freeze to death?<b>Aang</b>: Okay. First time flyers, hold on tight! Appa, yip yip!<b>Aang</b> (): Come on, Appa. Yip yip.<b>Sokka</b>: Wow. That was truly amazing.<b>Aang</b>: Appa's just tired. A little rest and he'll be soaring through the sky. You'll see.<b>Katara</b>: Why are you smiling at me like that?<b>Aang</b>: Oh... I was smiling?<b>Sokka</b> (): Uuuuugh.<b>Iroh</b>: I'm going to bed now. Yep. A man needs his rest. Prince Zuko, you need some sleep. Even if you're right and the Avatar is alive, you won't find him. Your father, grandfather, and great-grandfather all tried and failed.<b>Zuko</b>: Because their honor didn't hinge on the Avatar's capture. Mine does. This coward's hundred years in hiding are over.<b>Katara</b>: Hey.<b>Aang</b>: Hey. Whatcha thinkin' about?<b>Katara</b>: I guess I was wondering â€“ your being an airbender and all â€“ if you had any idea what happened to the Avatar.<b>Aang</b> (): Uhh... no. I didn't know him... I mean, I knew people that knew him, but I didn't. Sorry.<b>Katara</b>: Okay. Just curious. Goodnight.<b>Aang</b>: Sleep tight.<u><b>Act II</b></u><b>Aang</b>: Aaahhh!<b>Katara</b> (): Aang! Aang, wake up!  It's okay. We're in the village now. Come on, get ready. Everyone's waiting to meet you.<b>Aang</b>: Whaaaa!<b>Katara</b>: Aang, this is the entire village. Entire village, Aang.<b>Aang</b>: Uh... why are they all looking at me like that? Did Appa sneeze on me?<b>Gran Gran</b>: Well, no one has seen an airbender in a hundred years. We thought they were extinct until my granddaughter and grandson found you.<b>Aang</b>: 'Extinct'?<b>Katara</b>: Aang, this is my grandmother.<b>Gran Gran</b>: Call me Gran Gran.<b>Sokka</b> (): What is this, a weapon? You can't stab anything with this.<b>Aang</b>: It's not for stabbing.  It's for airbending.<b>Little Girl</b>: Magic trick! Do it again!<b>Aang</b>: Not magic, airbending. It lets me control the air currents around my glider and fly.<b>Sokka</b>: You know, last time I checked, humans can't fly.<b>Aang</b>: Check again!<b>Villagers</b>: Whoa... it's flying... it's amazing!<b>Aang</b> (): Oof!<b>Sokka</b> (): My watchtower!<b>Katara</b>: That was amazing.<b>Sokka</b>: Great. You're an airbender, Katara's a waterbender, together you can just waste time all day long.<b>Aang</b>: You're a waterbender!<b>Katara</b>: Well... sort of. Not yet.<b>Gran Gran</b>: All right. No more playing. Come on, Katara, you have chores.<b>Katara</b>: I told you! He's the real thing, Gran Gran! I finally found a bender to teach me.<b>Gran Gran</b>: Katara, try not to put all your hopes in this boy.<b>Katara</b>: But he's special. I can tell. I sense he's filled with much wisdom.<b>Aang</b>: () Sthee? Now my tongue ith thuck to my sthaff.<b>Children</b> (): Tee hee!<b>Iroh</b>: Again.<b>Zuko</b>: Ha! Heeya!<b>Iroh</b>: No! Power in firebending comes from the breath. Not the muscles. The breath becomes energy in the body. The energy extends past your limbs and becomes fire.  Get it right this time.<b>Zuko</b>: Enough. I've been drilling this sequence all day. Teach me the next set. I'm more than ready.<b>Iroh</b>: No, you are impatient. You have yet to master your basics.  Drill it again!<b>Zuko</b>: Grrrr... huh!  The sages tell us that the Avatar is the last airbender. He must be over a hundred years old by now. He's had a century to master the four elements. I'll need more than basic firebending to defeat him. You WILL teach me the advanced set!<b>Iroh</b>: Very well. But first I must finish my roast duck.  Num num... num...<b>Sokka</b>: Now men, it's important that you show no fear when you face a firebender. In the Water Tribe, we fight to the last man standing. For without courage, how can we call ourselves men?<b>Little Boy</b> (): I gotta pee!<b>Sokka</b>: Listen! Until your fathers return from the war, they're counting on you to be the men of this tribe. And that means no potty breaks.<b>Little Boy</b>: But I really gotta go.<b>Sokka</b> (): Okay... who else has to go?<b>Katara</b>: Have you seen Aang? Gran Gran said he disappeared over an hour ago.<b>Aang</b> (): Wow! Everything freezes in there!<b>Children</b>: Hahaha!<b>Sokka</b>: Ugh! Katara, get him out of here. This lesson is for warriors only.<b>Kid</b> (): Wheeee!<b>Sokka</b>: Stop! Stop it right now! What's wrong with you? We don't have time for fun and games with a war going on.<b>Aang</b>: What war? What are you talking about?<b>Sokka</b>: You're kidding, right?<b>Aang</b>: PENGUIN!<b>Sokka</b>: He's kidding, right?<u><b>Act III</b></u><b>Katara</b>: Aang?<b>Aang</b>: Haha! Hey, come on little guy. Wanna go sledding?<b>Aang</b>: Oof! Heh heh, I have a way with animals.  Yarp! Yarp yarp! Yarp! Yarp yarp! Yarp!<b>Katara</b>: () Hahaha... Aang, I'll help you catch a penguin if you teach me waterbending.<b>Aang</b>: You got a deal! Just one little problem. I'm an airbender, not a waterbender. Isn't there someone in your tribe who can teach you?<b>Katara</b> (): No. You're looking at the only waterbender on the whole South Pole.<b>Aang</b>: This isn't right. A waterbender needs to master water. What about the North Pole? There's another Water Tribe up there, right? Maybe they have waterbenders who could teach you.<b>Katara</b>: Maybe. But we haven't had contact with our sister tribe in a long time. It's not exactly 'turn right at the second glacier.' It's on the other side of the world.<b>Aang</b>: But you forget: I have a flying bison. Appa and I can personally fly you to the North Pole. Katara, we're gonna find you a master!<b>Katara</b> (): That's... ( I mean, I don't know. I've never left home before.<b>Aang</b>: Well, you think about it. But in the meantime, can you teach me to catch one of these penguins?<b>Katara</b> (): Okay, listen closely my young pupil. Catching penguins is an ancient and sacred art. Observe.<b>Katara</b>: I haven't done this since I was a kid!<b>Aang</b>: You still are a kid!<b>Aang</b>: Whoa... what is that?<b>Katara</b> (): A Fire Navy ship, and a very bad memory for my people.<b>Katara</b>: Aang, stop! We're not allowed to go near it. The ship could be booby trapped.<b>Aang</b>: If you wanna be a bender, you have to let go of fear.<b>Katara</b>: This ship has haunted my tribe since Gran Gran was a little girl. It was part of the Fire Nation's first attacks.<b>Aang</b>: Okay, back up. I have friends all over the world, even in the Fire Nation. I've never seen any war.<b>Katara</b>: Aang, how long were you in that iceberg?<b>Aang</b>: I don't know... a few days, maybe?<b>Katara</b>: I think it was more like a hundred years!<b>Aang</b>: What? That's impossible. Do I look like a hundred-twelve year old man to you?<b>Katara</b>: Think about it. The war is a century old. You don't know about it because, somehow, you were in there that whole time. It's the only explanation.<b>Aang</b>: A hundred years! I can't believe it.<b>Katara</b> (): I'm sorry, Aang. Maybe somehow there's a bright side to all this.<b>Aang</b>: I did get to meet you.<b>Katara</b> (): Come on. Let's get out of here.<b>Katara</b>: Aang? Let's head back. This place is creepy.<b>Aang</b>: Huh?<b>Aang</b>: What's that you said about booby traps?<b>Aang</b>: Uh oh.<b>Aang</b>: Hold on tight!<b>Zuko</b> (): The last airbender.  Quite agile for his old age. Wake my uncle! Tell him I found the Avatar...<b>Zuko</b>: ...as well as his hiding place.[End Credits]</blockquote><hr/><div align=\"right\" style=\"padding:3px\"></div></div>\n"
     ]
    }
   ],
   "source": [
    "print(file)"
   ]
  },
  {
   "cell_type": "code",
   "execution_count": 4,
   "metadata": {},
   "outputs": [
    {
     "data": {
      "text/plain": [
       "str"
      ]
     },
     "execution_count": 4,
     "metadata": {},
     "output_type": "execute_result"
    }
   ],
   "source": [
    "type(file)"
   ]
  },
  {
   "cell_type": "code",
   "execution_count": 5,
   "metadata": {
    "collapsed": true
   },
   "outputs": [],
   "source": [
    "import re"
   ]
  },
  {
   "cell_type": "code",
   "execution_count": 6,
   "metadata": {},
   "outputs": [
    {
     "data": {
      "text/plain": [
       "12729"
      ]
     },
     "execution_count": 6,
     "metadata": {},
     "output_type": "execute_result"
    }
   ],
   "source": [
    "len(file)"
   ]
  },
  {
   "cell_type": "code",
   "execution_count": 7,
   "metadata": {
    "collapsed": true
   },
   "outputs": [],
   "source": [
    "#Seems to work, but gets rid of stuff I want to keep like question marks \n",
    "#re.sub(\"[\\(\\[].*[\\)\\]]\", \"\",file)\n",
    "\n",
    "#https://stackoverflow.com/questions/640001/how-can-i-remove-text-within-parentheses-with-a-regex\n",
    "#stack overflow explanatio\n",
    "\n",
    "file_clean = re.sub(r'\\([^()]*\\)', '', file)\n",
    "#re.sub(r'\\(\\w*\\)', '', file)"
   ]
  },
  {
   "cell_type": "code",
   "execution_count": 8,
   "metadata": {},
   "outputs": [
    {
     "name": "stdout",
     "output_type": "stream",
     "text": [
      "<div class=\"content\"><blockquote><b>The Boy in the Iceberg</b><b>Written By:</b> , <b>Directed By:</b> <b>Storyboard By:</b> , , <b>Animation By:</b> JM Animation Co, Ltd<b>Transcribers:</b> Acastus, Pandora<b>Katara</b> : Water... Earth... Fire... Air...My grandmother used to tell me stories about the old days, a time of peace when the Avatar kept balance between the Water Tribes, Earth Kingdom, Fire Nation, and Air Nomads. But that all changed when the Fire Nation attacked.Only the Avatar mastered all four elements. Only he could stop the ruthless firebenders. But when the world needed him most, he vanished.A hundred years have passed and the Fire Nation is nearing victory in the war. Two years ago, my father and the men of my tribe journeyed to the Earth Kingdom to help fight against the Fire Nation, leaving me and my brother to look after our tribe.Some people believe that the Avatar was never reborn into the Air Nomads and that the cycle is broken, but I haven't lost hope. I still believe that somehow the Avatar will return to save the world.<u><b>Act I</b></u><b>Sokka</b>: It's not getting away from me this time. Watch and learn, Katara. This is how you catch a fish.<b>Katara</b>: Sokka, look!<b>Sokka</b>:  Shhh. Katara, you're gonna scare it away. Mmmm... I can already smell it cookin'!<b>Katara</b> : But Sokka! I caught one!<b>Katara</b>: Hey!<b>Sokka</b> : Ugh! Why is it that every time you play with magic water I get soaked?<b>Katara</b>: It's not magic. It's waterbending, and it's-<b>Sokka</b>: Yeah, yeah, an ancient art unique to our culture, blah blah blah. Look, I'm just saying that if I had weird powers, I'd keep my weirdness to myself.<b>Katara</b>: You're calling me weird? I'm not the one who makes muscles at myself every time I see my reflection in the water.<b>Katara</b> and <b>Sokka</b>: Ahhh!<b>Katara</b>: Watch out! Go left! Go left!<b>Katara</b>: You call that left?<b>Sokka</b>: You don't like my steering. Well, maybe you should have waterbended us out of the ice.<b>Katara</b>: So it's my fault?<b>Sokka</b>: I knew I should have left you home. Leave it to a girl to screw things up.<b>Katara</b>: You are the most sexist, immature, nut brained...<b>Katara</b>: Ugh, I'm embarrassed to be related to you! Ever since Mom died I've been doing all the work around camp while you've been off playing soldier!<b>Sokka</b> : Uh... Katara?<b>Katara</b>: I even wash all the clothes! Have you ever smelled your dirty socks? Let me tell you, NOT PLEASANT!<b>Sokka</b>: Katara! Settle down!<b>Katara</b>: No, that's it. I'm done helping you. From now on, you're on your own!<b>Sokka</b>: Okay, you've gone from weird to freakish, Katara.<b>Katara</b>: You mean I did that?<b>Sokka</b>: Yup. Congratulations.<b>Katara</b>: He's alive! We have to help.<b>Sokka</b>: Katara! Get back here! We don't know what that thing is!<b>Zuko</b>: Finally.  Uncle, do you realize what this means?<b>Iroh</b>: I won't get to finish my game?<b>Zuko</b>: It means my search - it's about to come to an end.<b>Zuko</b>: That light came from an incredibly powerful source. It has to be him!<b>Iroh</b>: Or it's just the celestial lights. We've been down this road before, Prince Zuko. I don't want you to get too excited over nothing. Please, sit. Why don't you enjoy a cup of calming jasmine tea?<b>Zuko</b> : I don't need any calming tea! I need to capture the Avatar. Helmsman, head a course for the light!<b>Sokka</b> : Stop!<b>Katara</b>: Stop it!<b>Aang</b> : I need to ask you something.<b>Katara</b>: What?<b>Aang</b> : Please... come closer.<b>Katara</b>: What is it?<b>Aang</b> : Will you go penguin sledding with me?<b>Katara</b>: Uh... sure. I guess.<b>Sokka</b>: Ahh!<b>Aang</b>: What's going on here?<b>Sokka</b>: You tell us! How'd you get in the ice?  And why aren't you frozen?<b>Aang</b> : I'm not sure.<b>Aang</b>: Appa! Are you all right? Wake up, buddy.<b>Aang</b>: Haha! You're okay!<b>Sokka</b>: What is that thing?<b>Aang</b>: This is Appa, my flying bison.<b>Sokka</b>: Right. And this is Katara, my flying sister.<b>Sokka</b>: Ewww! Aahh!!!<b>Aang</b>: Don't worry. It'll wash out.<b>Sokka</b>: Ugh!<b>Aang</b>: So, do you guys live around here?<b>Sokka</b>: Don't answer that! Did you see that crazy bolt of light? He was probably trying to signal the Fire Navy.<b>Katara</b>: Oh, yeah, I'm sure he's a spy for the Fire Navy. You can tell by that evil look in his eye.<b>Katara</b>: The paranoid one is my brother, Sokka. You never told us your name.<b>Aang</b>: I'm A... aaaahhhh... ahhhhhh.... aaah aaah aaah AAAAAAACHOOOO!<b>Aang</b>: I'm Aang. <b>Sokka</b>:  You just sneezed... and flew ten feet in the air.<b>Aang</b>: Really? It felt higher that that.<b>Katara</b> : You're an airbender!<b>Aang</b>: Sure am.<b>Sokka</b>: Giant light beams... flying bison... airbenders... I think I've got Midnight Sun Madness. I'm going home to where stuff makes sense.<b>Aang</b>: Well, if you guys are stuck Appa and I can give you a lift.<b>Katara</b>: We'd love a ride! Thanks! <b>Sokka</b>: Oh, no... I am not getting on that fluffy snot monster.<b>Katara</b>: Are you hoping some other kind of monster will come along and give you a ride home? You know... before you freeze to death?<b>Aang</b>: Okay. First time flyers, hold on tight! Appa, yip yip!<b>Aang</b> : Come on, Appa. Yip yip.<b>Sokka</b>: Wow. That was truly amazing.<b>Aang</b>: Appa's just tired. A little rest and he'll be soaring through the sky. You'll see.<b>Katara</b>: Why are you smiling at me like that?<b>Aang</b>: Oh... I was smiling?<b>Sokka</b> : Uuuuugh.<b>Iroh</b>: I'm going to bed now. Yep. A man needs his rest. Prince Zuko, you need some sleep. Even if you're right and the Avatar is alive, you won't find him. Your father, grandfather, and great-grandfather all tried and failed.<b>Zuko</b>: Because their honor didn't hinge on the Avatar's capture. Mine does. This coward's hundred years in hiding are over.<b>Katara</b>: Hey.<b>Aang</b>: Hey. Whatcha thinkin' about?<b>Katara</b>: I guess I was wondering â€“ your being an airbender and all â€“ if you had any idea what happened to the Avatar.<b>Aang</b> : Uhh... no. I didn't know him... I mean, I knew people that knew him, but I didn't. Sorry.<b>Katara</b>: Okay. Just curious. Goodnight.<b>Aang</b>: Sleep tight.<u><b>Act II</b></u><b>Aang</b>: Aaahhh!<b>Katara</b> : Aang! Aang, wake up!  It's okay. We're in the village now. Come on, get ready. Everyone's waiting to meet you.<b>Aang</b>: Whaaaa!<b>Katara</b>: Aang, this is the entire village. Entire village, Aang.<b>Aang</b>: Uh... why are they all looking at me like that? Did Appa sneeze on me?<b>Gran Gran</b>: Well, no one has seen an airbender in a hundred years. We thought they were extinct until my granddaughter and grandson found you.<b>Aang</b>: 'Extinct'?<b>Katara</b>: Aang, this is my grandmother.<b>Gran Gran</b>: Call me Gran Gran.<b>Sokka</b> : What is this, a weapon? You can't stab anything with this.<b>Aang</b>: It's not for stabbing.  It's for airbending.<b>Little Girl</b>: Magic trick! Do it again!<b>Aang</b>: Not magic, airbending. It lets me control the air currents around my glider and fly.<b>Sokka</b>: You know, last time I checked, humans can't fly.<b>Aang</b>: Check again!<b>Villagers</b>: Whoa... it's flying... it's amazing!<b>Aang</b> : Oof!<b>Sokka</b> : My watchtower!<b>Katara</b>: That was amazing.<b>Sokka</b>: Great. You're an airbender, Katara's a waterbender, together you can just waste time all day long.<b>Aang</b>: You're a waterbender!<b>Katara</b>: Well... sort of. Not yet.<b>Gran Gran</b>: All right. No more playing. Come on, Katara, you have chores.<b>Katara</b>: I told you! He's the real thing, Gran Gran! I finally found a bender to teach me.<b>Gran Gran</b>: Katara, try not to put all your hopes in this boy.<b>Katara</b>: But he's special. I can tell. I sense he's filled with much wisdom.<b>Aang</b>:  Sthee? Now my tongue ith thuck to my sthaff.<b>Children</b> : Tee hee!<b>Iroh</b>: Again.<b>Zuko</b>: Ha! Heeya!<b>Iroh</b>: No! Power in firebending comes from the breath. Not the muscles. The breath becomes energy in the body. The energy extends past your limbs and becomes fire.  Get it right this time.<b>Zuko</b>: Enough. I've been drilling this sequence all day. Teach me the next set. I'm more than ready.<b>Iroh</b>: No, you are impatient. You have yet to master your basics.  Drill it again!<b>Zuko</b>: Grrrr... huh!  The sages tell us that the Avatar is the last airbender. He must be over a hundred years old by now. He's had a century to master the four elements. I'll need more than basic firebending to defeat him. You WILL teach me the advanced set!<b>Iroh</b>: Very well. But first I must finish my roast duck.  Num num... num...<b>Sokka</b>: Now men, it's important that you show no fear when you face a firebender. In the Water Tribe, we fight to the last man standing. For without courage, how can we call ourselves men?<b>Little Boy</b> : I gotta pee!<b>Sokka</b>: Listen! Until your fathers return from the war, they're counting on you to be the men of this tribe. And that means no potty breaks.<b>Little Boy</b>: But I really gotta go.<b>Sokka</b> : Okay... who else has to go?<b>Katara</b>: Have you seen Aang? Gran Gran said he disappeared over an hour ago.<b>Aang</b> : Wow! Everything freezes in there!<b>Children</b>: Hahaha!<b>Sokka</b>: Ugh! Katara, get him out of here. This lesson is for warriors only.<b>Kid</b> : Wheeee!<b>Sokka</b>: Stop! Stop it right now! What's wrong with you? We don't have time for fun and games with a war going on.<b>Aang</b>: What war? What are you talking about?<b>Sokka</b>: You're kidding, right?<b>Aang</b>: PENGUIN!<b>Sokka</b>: He's kidding, right?<u><b>Act III</b></u><b>Katara</b>: Aang?<b>Aang</b>: Haha! Hey, come on little guy. Wanna go sledding?<b>Aang</b>: Oof! Heh heh, I have a way with animals.  Yarp! Yarp yarp! Yarp! Yarp yarp! Yarp!<b>Katara</b>:  Hahaha... Aang, I'll help you catch a penguin if you teach me waterbending.<b>Aang</b>: You got a deal! Just one little problem. I'm an airbender, not a waterbender. Isn't there someone in your tribe who can teach you?<b>Katara</b> : No. You're looking at the only waterbender on the whole South Pole.<b>Aang</b>: This isn't right. A waterbender needs to master water. What about the North Pole? There's another Water Tribe up there, right? Maybe they have waterbenders who could teach you.<b>Katara</b>: Maybe. But we haven't had contact with our sister tribe in a long time. It's not exactly 'turn right at the second glacier.' It's on the other side of the world.<b>Aang</b>: But you forget: I have a flying bison. Appa and I can personally fly you to the North Pole. Katara, we're gonna find you a master!<b>Katara</b> : That's... ( I mean, I don't know. I've never left home before.<b>Aang</b>: Well, you think about it. But in the meantime, can you teach me to catch one of these penguins?<b>Katara</b> : Okay, listen closely my young pupil. Catching penguins is an ancient and sacred art. Observe.<b>Katara</b>: I haven't done this since I was a kid!<b>Aang</b>: You still are a kid!<b>Aang</b>: Whoa... what is that?<b>Katara</b> : A Fire Navy ship, and a very bad memory for my people.<b>Katara</b>: Aang, stop! We're not allowed to go near it. The ship could be booby trapped.<b>Aang</b>: If you wanna be a bender, you have to let go of fear.<b>Katara</b>: This ship has haunted my tribe since Gran Gran was a little girl. It was part of the Fire Nation's first attacks.<b>Aang</b>: Okay, back up. I have friends all over the world, even in the Fire Nation. I've never seen any war.<b>Katara</b>: Aang, how long were you in that iceberg?<b>Aang</b>: I don't know... a few days, maybe?<b>Katara</b>: I think it was more like a hundred years!<b>Aang</b>: What? That's impossible. Do I look like a hundred-twelve year old man to you?<b>Katara</b>: Think about it. The war is a century old. You don't know about it because, somehow, you were in there that whole time. It's the only explanation.<b>Aang</b>: A hundred years! I can't believe it.<b>Katara</b> : I'm sorry, Aang. Maybe somehow there's a bright side to all this.<b>Aang</b>: I did get to meet you.<b>Katara</b> : Come on. Let's get out of here.<b>Katara</b>: Aang? Let's head back. This place is creepy.<b>Aang</b>: Huh?<b>Aang</b>: What's that you said about booby traps?<b>Aang</b>: Uh oh.<b>Aang</b>: Hold on tight!<b>Zuko</b> : The last airbender.  Quite agile for his old age. Wake my uncle! Tell him I found the Avatar...<b>Zuko</b>: ...as well as his hiding place.[End Credits]</blockquote><hr/><div align=\"right\" style=\"padding:3px\"></div></div>\n"
     ]
    }
   ],
   "source": [
    "print(file_clean)"
   ]
  },
  {
   "cell_type": "code",
   "execution_count": 9,
   "metadata": {
    "collapsed": true
   },
   "outputs": [],
   "source": [
    "#works but splits intwo a few more than I want\n",
    "#challenge is you have Act I, Act II, and Act III\n",
    "\n",
    "#split = file_clean.split(\"Act I\")\n",
    "#how do I find exactly act I?\n",
    "\n",
    "#potentially, could start with act III, then act II, then Act 1? By starting backwards, I do this in a bit of a poor goofy way..."
   ]
  },
  {
   "cell_type": "code",
   "execution_count": 10,
   "metadata": {
    "collapsed": true
   },
   "outputs": [],
   "source": [
    "script = file_clean.split('[End Credits]')[0]"
   ]
  },
  {
   "cell_type": "code",
   "execution_count": 11,
   "metadata": {
    "collapsed": true
   },
   "outputs": [],
   "source": [
    "script_clean = script.split(\"Act I</b></u>\")[1]"
   ]
  },
  {
   "cell_type": "code",
   "execution_count": 12,
   "metadata": {},
   "outputs": [
    {
     "data": {
      "text/plain": [
       "\"<b>Sokka</b>: It's not getting away from me this time. Watch and learn, Katara. This is how you catch a fish.<b>Katara</b>: Sokka, look!<b>Sokka</b>:  Shhh. Katara, you're gonna scare it away. Mmmm... I can already smell it cookin'!<b>Katara</b> : But Sokka! I caught one!<b>Katara</b>: Hey!<b>Sokka</b> : Ugh! Why is it that every time you play with magic water I get soaked?<b>Katara</b>: It's not magic. It's waterbending, and it's-<b>Sokka</b>: Yeah, yeah, an ancient art unique to our culture, blah blah blah. Look, I'm just saying that if I had weird powers, I'd keep my weirdness to myself.<b>Katara</b>: You're calling me weird? I'm not the one who makes muscles at myself every time I see my reflection in the water.<b>Katara</b> and <b>Sokka</b>: Ahhh!<b>Katara</b>: Watch out! Go left! Go left!<b>Katara</b>: You call that left?<b>Sokka</b>: You don't like my steering. Well, maybe you should have waterbended us out of the ice.<b>Katara</b>: So it's my fault?<b>Sokka</b>: I knew I should have left you home. Leave it to a girl to screw things up.<b>Katara</b>: You are the most sexist, immature, nut brained...<b>Katara</b>: Ugh, I'm embarrassed to be related to you! Ever since Mom died I've been doing all the work around camp while you've been off playing soldier!<b>Sokka</b> : Uh... Katara?<b>Katara</b>: I even wash all the clothes! Have you ever smelled your dirty socks? Let me tell you, NOT PLEASANT!<b>Sokka</b>: Katara! Settle down!<b>Katara</b>: No, that's it. I'm done helping you. From now on, you're on your own!<b>Sokka</b>: Okay, you've gone from weird to freakish, Katara.<b>Katara</b>: You mean I did that?<b>Sokka</b>: Yup. Congratulations.<b>Katara</b>: He's alive! We have to help.<b>Sokka</b>: Katara! Get back here! We don't know what that thing is!<b>Zuko</b>: Finally.  Uncle, do you realize what this means?<b>Iroh</b>: I won't get to finish my game?<b>Zuko</b>: It means my search - it's about to come to an end.<b>Zuko</b>: That light came from an incredibly powerful source. It has to be him!<b>Iroh</b>: Or it's just the celestial lights. We've been down this road before, Prince Zuko. I don't want you to get too excited over nothing. Please, sit. Why don't you enjoy a cup of calming jasmine tea?<b>Zuko</b> : I don't need any calming tea! I need to capture the Avatar. Helmsman, head a course for the light!<b>Sokka</b> : Stop!<b>Katara</b>: Stop it!<b>Aang</b> : I need to ask you something.<b>Katara</b>: What?<b>Aang</b> : Please... come closer.<b>Katara</b>: What is it?<b>Aang</b> : Will you go penguin sledding with me?<b>Katara</b>: Uh... sure. I guess.<b>Sokka</b>: Ahh!<b>Aang</b>: What's going on here?<b>Sokka</b>: You tell us! How'd you get in the ice?  And why aren't you frozen?<b>Aang</b> : I'm not sure.<b>Aang</b>: Appa! Are you all right? Wake up, buddy.<b>Aang</b>: Haha! You're okay!<b>Sokka</b>: What is that thing?<b>Aang</b>: This is Appa, my flying bison.<b>Sokka</b>: Right. And this is Katara, my flying sister.<b>Sokka</b>: Ewww! Aahh!!!<b>Aang</b>: Don't worry. It'll wash out.<b>Sokka</b>: Ugh!<b>Aang</b>: So, do you guys live around here?<b>Sokka</b>: Don't answer that! Did you see that crazy bolt of light? He was probably trying to signal the Fire Navy.<b>Katara</b>: Oh, yeah, I'm sure he's a spy for the Fire Navy. You can tell by that evil look in his eye.<b>Katara</b>: The paranoid one is my brother, Sokka. You never told us your name.<b>Aang</b>: I'm A... aaaahhhh... ahhhhhh.... aaah aaah aaah AAAAAAACHOOOO!<b>Aang</b>: I'm Aang. <b>Sokka</b>:  You just sneezed... and flew ten feet in the air.<b>Aang</b>: Really? It felt higher that that.<b>Katara</b> : You're an airbender!<b>Aang</b>: Sure am.<b>Sokka</b>: Giant light beams... flying bison... airbenders... I think I've got Midnight Sun Madness. I'm going home to where stuff makes sense.<b>Aang</b>: Well, if you guys are stuck Appa and I can give you a lift.<b>Katara</b>: We'd love a ride! Thanks! <b>Sokka</b>: Oh, no... I am not getting on that fluffy snot monster.<b>Katara</b>: Are you hoping some other kind of monster will come along and give you a ride home? You know... before you freeze to death?<b>Aang</b>: Okay. First time flyers, hold on tight! Appa, yip yip!<b>Aang</b> : Come on, Appa. Yip yip.<b>Sokka</b>: Wow. That was truly amazing.<b>Aang</b>: Appa's just tired. A little rest and he'll be soaring through the sky. You'll see.<b>Katara</b>: Why are you smiling at me like that?<b>Aang</b>: Oh... I was smiling?<b>Sokka</b> : Uuuuugh.<b>Iroh</b>: I'm going to bed now. Yep. A man needs his rest. Prince Zuko, you need some sleep. Even if you're right and the Avatar is alive, you won't find him. Your father, grandfather, and great-grandfather all tried and failed.<b>Zuko</b>: Because their honor didn't hinge on the Avatar's capture. Mine does. This coward's hundred years in hiding are over.<b>Katara</b>: Hey.<b>Aang</b>: Hey. Whatcha thinkin' about?<b>Katara</b>: I guess I was wondering â€“ your being an airbender and all â€“ if you had any idea what happened to the Avatar.<b>Aang</b> : Uhh... no. I didn't know him... I mean, I knew people that knew him, but I didn't. Sorry.<b>Katara</b>: Okay. Just curious. Goodnight.<b>Aang</b>: Sleep tight.<u><b>Act II</b></u><b>Aang</b>: Aaahhh!<b>Katara</b> : Aang! Aang, wake up!  It's okay. We're in the village now. Come on, get ready. Everyone's waiting to meet you.<b>Aang</b>: Whaaaa!<b>Katara</b>: Aang, this is the entire village. Entire village, Aang.<b>Aang</b>: Uh... why are they all looking at me like that? Did Appa sneeze on me?<b>Gran Gran</b>: Well, no one has seen an airbender in a hundred years. We thought they were extinct until my granddaughter and grandson found you.<b>Aang</b>: 'Extinct'?<b>Katara</b>: Aang, this is my grandmother.<b>Gran Gran</b>: Call me Gran Gran.<b>Sokka</b> : What is this, a weapon? You can't stab anything with this.<b>Aang</b>: It's not for stabbing.  It's for airbending.<b>Little Girl</b>: Magic trick! Do it again!<b>Aang</b>: Not magic, airbending. It lets me control the air currents around my glider and fly.<b>Sokka</b>: You know, last time I checked, humans can't fly.<b>Aang</b>: Check again!<b>Villagers</b>: Whoa... it's flying... it's amazing!<b>Aang</b> : Oof!<b>Sokka</b> : My watchtower!<b>Katara</b>: That was amazing.<b>Sokka</b>: Great. You're an airbender, Katara's a waterbender, together you can just waste time all day long.<b>Aang</b>: You're a waterbender!<b>Katara</b>: Well... sort of. Not yet.<b>Gran Gran</b>: All right. No more playing. Come on, Katara, you have chores.<b>Katara</b>: I told you! He's the real thing, Gran Gran! I finally found a bender to teach me.<b>Gran Gran</b>: Katara, try not to put all your hopes in this boy.<b>Katara</b>: But he's special. I can tell. I sense he's filled with much wisdom.<b>Aang</b>:  Sthee? Now my tongue ith thuck to my sthaff.<b>Children</b> : Tee hee!<b>Iroh</b>: Again.<b>Zuko</b>: Ha! Heeya!<b>Iroh</b>: No! Power in firebending comes from the breath. Not the muscles. The breath becomes energy in the body. The energy extends past your limbs and becomes fire.  Get it right this time.<b>Zuko</b>: Enough. I've been drilling this sequence all day. Teach me the next set. I'm more than ready.<b>Iroh</b>: No, you are impatient. You have yet to master your basics.  Drill it again!<b>Zuko</b>: Grrrr... huh!  The sages tell us that the Avatar is the last airbender. He must be over a hundred years old by now. He's had a century to master the four elements. I'll need more than basic firebending to defeat him. You WILL teach me the advanced set!<b>Iroh</b>: Very well. But first I must finish my roast duck.  Num num... num...<b>Sokka</b>: Now men, it's important that you show no fear when you face a firebender. In the Water Tribe, we fight to the last man standing. For without courage, how can we call ourselves men?<b>Little Boy</b> : I gotta pee!<b>Sokka</b>: Listen! Until your fathers return from the war, they're counting on you to be the men of this tribe. And that means no potty breaks.<b>Little Boy</b>: But I really gotta go.<b>Sokka</b> : Okay... who else has to go?<b>Katara</b>: Have you seen Aang? Gran Gran said he disappeared over an hour ago.<b>Aang</b> : Wow! Everything freezes in there!<b>Children</b>: Hahaha!<b>Sokka</b>: Ugh! Katara, get him out of here. This lesson is for warriors only.<b>Kid</b> : Wheeee!<b>Sokka</b>: Stop! Stop it right now! What's wrong with you? We don't have time for fun and games with a war going on.<b>Aang</b>: What war? What are you talking about?<b>Sokka</b>: You're kidding, right?<b>Aang</b>: PENGUIN!<b>Sokka</b>: He's kidding, right?<u><b>Act III</b></u><b>Katara</b>: Aang?<b>Aang</b>: Haha! Hey, come on little guy. Wanna go sledding?<b>Aang</b>: Oof! Heh heh, I have a way with animals.  Yarp! Yarp yarp! Yarp! Yarp yarp! Yarp!<b>Katara</b>:  Hahaha... Aang, I'll help you catch a penguin if you teach me waterbending.<b>Aang</b>: You got a deal! Just one little problem. I'm an airbender, not a waterbender. Isn't there someone in your tribe who can teach you?<b>Katara</b> : No. You're looking at the only waterbender on the whole South Pole.<b>Aang</b>: This isn't right. A waterbender needs to master water. What about the North Pole? There's another Water Tribe up there, right? Maybe they have waterbenders who could teach you.<b>Katara</b>: Maybe. But we haven't had contact with our sister tribe in a long time. It's not exactly 'turn right at the second glacier.' It's on the other side of the world.<b>Aang</b>: But you forget: I have a flying bison. Appa and I can personally fly you to the North Pole. Katara, we're gonna find you a master!<b>Katara</b> : That's... ( I mean, I don't know. I've never left home before.<b>Aang</b>: Well, you think about it. But in the meantime, can you teach me to catch one of these penguins?<b>Katara</b> : Okay, listen closely my young pupil. Catching penguins is an ancient and sacred art. Observe.<b>Katara</b>: I haven't done this since I was a kid!<b>Aang</b>: You still are a kid!<b>Aang</b>: Whoa... what is that?<b>Katara</b> : A Fire Navy ship, and a very bad memory for my people.<b>Katara</b>: Aang, stop! We're not allowed to go near it. The ship could be booby trapped.<b>Aang</b>: If you wanna be a bender, you have to let go of fear.<b>Katara</b>: This ship has haunted my tribe since Gran Gran was a little girl. It was part of the Fire Nation's first attacks.<b>Aang</b>: Okay, back up. I have friends all over the world, even in the Fire Nation. I've never seen any war.<b>Katara</b>: Aang, how long were you in that iceberg?<b>Aang</b>: I don't know... a few days, maybe?<b>Katara</b>: I think it was more like a hundred years!<b>Aang</b>: What? That's impossible. Do I look like a hundred-twelve year old man to you?<b>Katara</b>: Think about it. The war is a century old. You don't know about it because, somehow, you were in there that whole time. It's the only explanation.<b>Aang</b>: A hundred years! I can't believe it.<b>Katara</b> : I'm sorry, Aang. Maybe somehow there's a bright side to all this.<b>Aang</b>: I did get to meet you.<b>Katara</b> : Come on. Let's get out of here.<b>Katara</b>: Aang? Let's head back. This place is creepy.<b>Aang</b>: Huh?<b>Aang</b>: What's that you said about booby traps?<b>Aang</b>: Uh oh.<b>Aang</b>: Hold on tight!<b>Zuko</b> : The last airbender.  Quite agile for his old age. Wake my uncle! Tell him I found the Avatar...<b>Zuko</b>: ...as well as his hiding place.\""
      ]
     },
     "execution_count": 12,
     "metadata": {},
     "output_type": "execute_result"
    }
   ],
   "source": [
    "script_clean"
   ]
  },
  {
   "cell_type": "code",
   "execution_count": 13,
   "metadata": {
    "collapsed": true
   },
   "outputs": [],
   "source": [
    "bold_split = script_clean.split('<b>')"
   ]
  },
  {
   "cell_type": "code",
   "execution_count": 14,
   "metadata": {},
   "outputs": [
    {
     "data": {
      "text/plain": [
       "['',\n",
       " \"Sokka</b>: It's not getting away from me this time. Watch and learn, Katara. This is how you catch a fish.\",\n",
       " 'Katara</b>: Sokka, look!',\n",
       " \"Sokka</b>:  Shhh. Katara, you're gonna scare it away. Mmmm... I can already smell it cookin'!\",\n",
       " 'Katara</b> : But Sokka! I caught one!',\n",
       " 'Katara</b>: Hey!',\n",
       " 'Sokka</b> : Ugh! Why is it that every time you play with magic water I get soaked?',\n",
       " \"Katara</b>: It's not magic. It's waterbending, and it's-\",\n",
       " \"Sokka</b>: Yeah, yeah, an ancient art unique to our culture, blah blah blah. Look, I'm just saying that if I had weird powers, I'd keep my weirdness to myself.\",\n",
       " \"Katara</b>: You're calling me weird? I'm not the one who makes muscles at myself every time I see my reflection in the water.\",\n",
       " 'Katara</b> and ',\n",
       " 'Sokka</b>: Ahhh!',\n",
       " 'Katara</b>: Watch out! Go left! Go left!',\n",
       " 'Katara</b>: You call that left?',\n",
       " \"Sokka</b>: You don't like my steering. Well, maybe you should have waterbended us out of the ice.\",\n",
       " \"Katara</b>: So it's my fault?\",\n",
       " 'Sokka</b>: I knew I should have left you home. Leave it to a girl to screw things up.',\n",
       " 'Katara</b>: You are the most sexist, immature, nut brained...',\n",
       " \"Katara</b>: Ugh, I'm embarrassed to be related to you! Ever since Mom died I've been doing all the work around camp while you've been off playing soldier!\",\n",
       " 'Sokka</b> : Uh... Katara?',\n",
       " 'Katara</b>: I even wash all the clothes! Have you ever smelled your dirty socks? Let me tell you, NOT PLEASANT!',\n",
       " 'Sokka</b>: Katara! Settle down!',\n",
       " \"Katara</b>: No, that's it. I'm done helping you. From now on, you're on your own!\",\n",
       " \"Sokka</b>: Okay, you've gone from weird to freakish, Katara.\",\n",
       " 'Katara</b>: You mean I did that?',\n",
       " 'Sokka</b>: Yup. Congratulations.',\n",
       " \"Katara</b>: He's alive! We have to help.\",\n",
       " \"Sokka</b>: Katara! Get back here! We don't know what that thing is!\",\n",
       " 'Zuko</b>: Finally.  Uncle, do you realize what this means?',\n",
       " \"Iroh</b>: I won't get to finish my game?\",\n",
       " \"Zuko</b>: It means my search - it's about to come to an end.\",\n",
       " 'Zuko</b>: That light came from an incredibly powerful source. It has to be him!',\n",
       " \"Iroh</b>: Or it's just the celestial lights. We've been down this road before, Prince Zuko. I don't want you to get too excited over nothing. Please, sit. Why don't you enjoy a cup of calming jasmine tea?\",\n",
       " \"Zuko</b> : I don't need any calming tea! I need to capture the Avatar. Helmsman, head a course for the light!\",\n",
       " 'Sokka</b> : Stop!',\n",
       " 'Katara</b>: Stop it!',\n",
       " 'Aang</b> : I need to ask you something.',\n",
       " 'Katara</b>: What?',\n",
       " 'Aang</b> : Please... come closer.',\n",
       " 'Katara</b>: What is it?',\n",
       " 'Aang</b> : Will you go penguin sledding with me?',\n",
       " 'Katara</b>: Uh... sure. I guess.',\n",
       " 'Sokka</b>: Ahh!',\n",
       " \"Aang</b>: What's going on here?\",\n",
       " \"Sokka</b>: You tell us! How'd you get in the ice?  And why aren't you frozen?\",\n",
       " \"Aang</b> : I'm not sure.\",\n",
       " 'Aang</b>: Appa! Are you all right? Wake up, buddy.',\n",
       " \"Aang</b>: Haha! You're okay!\",\n",
       " 'Sokka</b>: What is that thing?',\n",
       " 'Aang</b>: This is Appa, my flying bison.',\n",
       " 'Sokka</b>: Right. And this is Katara, my flying sister.',\n",
       " 'Sokka</b>: Ewww! Aahh!!!',\n",
       " \"Aang</b>: Don't worry. It'll wash out.\",\n",
       " 'Sokka</b>: Ugh!',\n",
       " 'Aang</b>: So, do you guys live around here?',\n",
       " \"Sokka</b>: Don't answer that! Did you see that crazy bolt of light? He was probably trying to signal the Fire Navy.\",\n",
       " \"Katara</b>: Oh, yeah, I'm sure he's a spy for the Fire Navy. You can tell by that evil look in his eye.\",\n",
       " 'Katara</b>: The paranoid one is my brother, Sokka. You never told us your name.',\n",
       " \"Aang</b>: I'm A... aaaahhhh... ahhhhhh.... aaah aaah aaah AAAAAAACHOOOO!\",\n",
       " \"Aang</b>: I'm Aang. \",\n",
       " 'Sokka</b>:  You just sneezed... and flew ten feet in the air.',\n",
       " 'Aang</b>: Really? It felt higher that that.',\n",
       " \"Katara</b> : You're an airbender!\",\n",
       " 'Aang</b>: Sure am.',\n",
       " \"Sokka</b>: Giant light beams... flying bison... airbenders... I think I've got Midnight Sun Madness. I'm going home to where stuff makes sense.\",\n",
       " 'Aang</b>: Well, if you guys are stuck Appa and I can give you a lift.',\n",
       " \"Katara</b>: We'd love a ride! Thanks! \",\n",
       " 'Sokka</b>: Oh, no... I am not getting on that fluffy snot monster.',\n",
       " 'Katara</b>: Are you hoping some other kind of monster will come along and give you a ride home? You know... before you freeze to death?',\n",
       " 'Aang</b>: Okay. First time flyers, hold on tight! Appa, yip yip!',\n",
       " 'Aang</b> : Come on, Appa. Yip yip.',\n",
       " 'Sokka</b>: Wow. That was truly amazing.',\n",
       " \"Aang</b>: Appa's just tired. A little rest and he'll be soaring through the sky. You'll see.\",\n",
       " 'Katara</b>: Why are you smiling at me like that?',\n",
       " 'Aang</b>: Oh... I was smiling?',\n",
       " 'Sokka</b> : Uuuuugh.',\n",
       " \"Iroh</b>: I'm going to bed now. Yep. A man needs his rest. Prince Zuko, you need some sleep. Even if you're right and the Avatar is alive, you won't find him. Your father, grandfather, and great-grandfather all tried and failed.\",\n",
       " \"Zuko</b>: Because their honor didn't hinge on the Avatar's capture. Mine does. This coward's hundred years in hiding are over.\",\n",
       " 'Katara</b>: Hey.',\n",
       " \"Aang</b>: Hey. Whatcha thinkin' about?\",\n",
       " 'Katara</b>: I guess I was wondering â€“ your being an airbender and all â€“ if you had any idea what happened to the Avatar.',\n",
       " \"Aang</b> : Uhh... no. I didn't know him... I mean, I knew people that knew him, but I didn't. Sorry.\",\n",
       " 'Katara</b>: Okay. Just curious. Goodnight.',\n",
       " 'Aang</b>: Sleep tight.<u>',\n",
       " 'Act II</b></u>',\n",
       " 'Aang</b>: Aaahhh!',\n",
       " \"Katara</b> : Aang! Aang, wake up!  It's okay. We're in the village now. Come on, get ready. Everyone's waiting to meet you.\",\n",
       " 'Aang</b>: Whaaaa!',\n",
       " 'Katara</b>: Aang, this is the entire village. Entire village, Aang.',\n",
       " 'Aang</b>: Uh... why are they all looking at me like that? Did Appa sneeze on me?',\n",
       " 'Gran Gran</b>: Well, no one has seen an airbender in a hundred years. We thought they were extinct until my granddaughter and grandson found you.',\n",
       " \"Aang</b>: 'Extinct'?\",\n",
       " 'Katara</b>: Aang, this is my grandmother.',\n",
       " 'Gran Gran</b>: Call me Gran Gran.',\n",
       " \"Sokka</b> : What is this, a weapon? You can't stab anything with this.\",\n",
       " \"Aang</b>: It's not for stabbing.  It's for airbending.\",\n",
       " 'Little Girl</b>: Magic trick! Do it again!',\n",
       " 'Aang</b>: Not magic, airbending. It lets me control the air currents around my glider and fly.',\n",
       " \"Sokka</b>: You know, last time I checked, humans can't fly.\",\n",
       " 'Aang</b>: Check again!',\n",
       " \"Villagers</b>: Whoa... it's flying... it's amazing!\",\n",
       " 'Aang</b> : Oof!',\n",
       " 'Sokka</b> : My watchtower!',\n",
       " 'Katara</b>: That was amazing.',\n",
       " \"Sokka</b>: Great. You're an airbender, Katara's a waterbender, together you can just waste time all day long.\",\n",
       " \"Aang</b>: You're a waterbender!\",\n",
       " 'Katara</b>: Well... sort of. Not yet.',\n",
       " 'Gran Gran</b>: All right. No more playing. Come on, Katara, you have chores.',\n",
       " \"Katara</b>: I told you! He's the real thing, Gran Gran! I finally found a bender to teach me.\",\n",
       " 'Gran Gran</b>: Katara, try not to put all your hopes in this boy.',\n",
       " \"Katara</b>: But he's special. I can tell. I sense he's filled with much wisdom.\",\n",
       " 'Aang</b>:  Sthee? Now my tongue ith thuck to my sthaff.',\n",
       " 'Children</b> : Tee hee!',\n",
       " 'Iroh</b>: Again.',\n",
       " 'Zuko</b>: Ha! Heeya!',\n",
       " 'Iroh</b>: No! Power in firebending comes from the breath. Not the muscles. The breath becomes energy in the body. The energy extends past your limbs and becomes fire.  Get it right this time.',\n",
       " \"Zuko</b>: Enough. I've been drilling this sequence all day. Teach me the next set. I'm more than ready.\",\n",
       " 'Iroh</b>: No, you are impatient. You have yet to master your basics.  Drill it again!',\n",
       " \"Zuko</b>: Grrrr... huh!  The sages tell us that the Avatar is the last airbender. He must be over a hundred years old by now. He's had a century to master the four elements. I'll need more than basic firebending to defeat him. You WILL teach me the advanced set!\",\n",
       " 'Iroh</b>: Very well. But first I must finish my roast duck.  Num num... num...',\n",
       " \"Sokka</b>: Now men, it's important that you show no fear when you face a firebender. In the Water Tribe, we fight to the last man standing. For without courage, how can we call ourselves men?\",\n",
       " 'Little Boy</b> : I gotta pee!',\n",
       " \"Sokka</b>: Listen! Until your fathers return from the war, they're counting on you to be the men of this tribe. And that means no potty breaks.\",\n",
       " 'Little Boy</b>: But I really gotta go.',\n",
       " 'Sokka</b> : Okay... who else has to go?',\n",
       " 'Katara</b>: Have you seen Aang? Gran Gran said he disappeared over an hour ago.',\n",
       " 'Aang</b> : Wow! Everything freezes in there!',\n",
       " 'Children</b>: Hahaha!',\n",
       " 'Sokka</b>: Ugh! Katara, get him out of here. This lesson is for warriors only.',\n",
       " 'Kid</b> : Wheeee!',\n",
       " \"Sokka</b>: Stop! Stop it right now! What's wrong with you? We don't have time for fun and games with a war going on.\",\n",
       " 'Aang</b>: What war? What are you talking about?',\n",
       " \"Sokka</b>: You're kidding, right?\",\n",
       " 'Aang</b>: PENGUIN!',\n",
       " \"Sokka</b>: He's kidding, right?<u>\",\n",
       " 'Act III</b></u>',\n",
       " 'Katara</b>: Aang?',\n",
       " 'Aang</b>: Haha! Hey, come on little guy. Wanna go sledding?',\n",
       " 'Aang</b>: Oof! Heh heh, I have a way with animals.  Yarp! Yarp yarp! Yarp! Yarp yarp! Yarp!',\n",
       " \"Katara</b>:  Hahaha... Aang, I'll help you catch a penguin if you teach me waterbending.\",\n",
       " \"Aang</b>: You got a deal! Just one little problem. I'm an airbender, not a waterbender. Isn't there someone in your tribe who can teach you?\",\n",
       " \"Katara</b> : No. You're looking at the only waterbender on the whole South Pole.\",\n",
       " \"Aang</b>: This isn't right. A waterbender needs to master water. What about the North Pole? There's another Water Tribe up there, right? Maybe they have waterbenders who could teach you.\",\n",
       " \"Katara</b>: Maybe. But we haven't had contact with our sister tribe in a long time. It's not exactly 'turn right at the second glacier.' It's on the other side of the world.\",\n",
       " \"Aang</b>: But you forget: I have a flying bison. Appa and I can personally fly you to the North Pole. Katara, we're gonna find you a master!\",\n",
       " \"Katara</b> : That's... ( I mean, I don't know. I've never left home before.\",\n",
       " 'Aang</b>: Well, you think about it. But in the meantime, can you teach me to catch one of these penguins?',\n",
       " 'Katara</b> : Okay, listen closely my young pupil. Catching penguins is an ancient and sacred art. Observe.',\n",
       " \"Katara</b>: I haven't done this since I was a kid!\",\n",
       " 'Aang</b>: You still are a kid!',\n",
       " 'Aang</b>: Whoa... what is that?',\n",
       " 'Katara</b> : A Fire Navy ship, and a very bad memory for my people.',\n",
       " \"Katara</b>: Aang, stop! We're not allowed to go near it. The ship could be booby trapped.\",\n",
       " 'Aang</b>: If you wanna be a bender, you have to let go of fear.',\n",
       " \"Katara</b>: This ship has haunted my tribe since Gran Gran was a little girl. It was part of the Fire Nation's first attacks.\",\n",
       " \"Aang</b>: Okay, back up. I have friends all over the world, even in the Fire Nation. I've never seen any war.\",\n",
       " 'Katara</b>: Aang, how long were you in that iceberg?',\n",
       " \"Aang</b>: I don't know... a few days, maybe?\",\n",
       " 'Katara</b>: I think it was more like a hundred years!',\n",
       " \"Aang</b>: What? That's impossible. Do I look like a hundred-twelve year old man to you?\",\n",
       " \"Katara</b>: Think about it. The war is a century old. You don't know about it because, somehow, you were in there that whole time. It's the only explanation.\",\n",
       " \"Aang</b>: A hundred years! I can't believe it.\",\n",
       " \"Katara</b> : I'm sorry, Aang. Maybe somehow there's a bright side to all this.\",\n",
       " 'Aang</b>: I did get to meet you.',\n",
       " \"Katara</b> : Come on. Let's get out of here.\",\n",
       " \"Katara</b>: Aang? Let's head back. This place is creepy.\",\n",
       " 'Aang</b>: Huh?',\n",
       " \"Aang</b>: What's that you said about booby traps?\",\n",
       " 'Aang</b>: Uh oh.',\n",
       " 'Aang</b>: Hold on tight!',\n",
       " 'Zuko</b> : The last airbender.  Quite agile for his old age. Wake my uncle! Tell him I found the Avatar...',\n",
       " 'Zuko</b>: ...as well as his hiding place.']"
      ]
     },
     "execution_count": 14,
     "metadata": {},
     "output_type": "execute_result"
    }
   ],
   "source": [
    "bold_split"
   ]
  },
  {
   "cell_type": "code",
   "execution_count": 15,
   "metadata": {
    "collapsed": true
   },
   "outputs": [],
   "source": [
    "master_list = []\n",
    "for x in range(len(bold_split)):\n",
    "    output = bold_split[x].split(':')\n",
    "    master_list.append(output)"
   ]
  },
  {
   "cell_type": "code",
   "execution_count": 16,
   "metadata": {
    "collapsed": true
   },
   "outputs": [],
   "source": [
    "character_list = []\n",
    "\n",
    "for x in range(len(master_list)):\n",
    "    holder = master_list[x]\n",
    "    if len(holder)>1:\n",
    "        test = holder[0].strip()\n",
    "        character_list.append(test.strip('</b>'))"
   ]
  },
  {
   "cell_type": "code",
   "execution_count": 17,
   "metadata": {
    "collapsed": true
   },
   "outputs": [],
   "source": [
    "dialogue_list = []\n",
    "\n",
    "for x in range(len(master_list)):\n",
    "    holder = master_list[x]\n",
    "    if len(holder)>1:\n",
    "        dialogue_list.append(holder[1].strip()) "
   ]
  },
  {
   "cell_type": "code",
   "execution_count": 18,
   "metadata": {},
   "outputs": [
    {
     "name": "stdout",
     "output_type": "stream",
     "text": [
      "168\n",
      "168\n"
     ]
    }
   ],
   "source": [
    "print(len(character_list))\n",
    "print(len(dialogue_list))"
   ]
  },
  {
   "cell_type": "code",
   "execution_count": 19,
   "metadata": {},
   "outputs": [
    {
     "name": "stdout",
     "output_type": "stream",
     "text": [
      "['Sokka', 'Katara', 'Sokka', 'Katara', 'Katara', 'Sokka', 'Katara', 'Sokka', 'Katara', 'Sokka', 'Katara', 'Katara', 'Sokka', 'Katara', 'Sokka', 'Katara', 'Katara', 'Sokka', 'Katara', 'Sokka', 'Katara', 'Sokka', 'Katara', 'Sokka', 'Katara', 'Sokka', 'Zuko', 'Iroh', 'Zuko', 'Zuko', 'Iroh', 'Zuko', 'Sokka', 'Katara', 'Aang', 'Katara', 'Aang', 'Katara', 'Aang', 'Katara', 'Sokka', 'Aang', 'Sokka', 'Aang', 'Aang', 'Aang', 'Sokka', 'Aang', 'Sokka', 'Sokka', 'Aang', 'Sokka', 'Aang', 'Sokka', 'Katara', 'Katara', 'Aang', 'Aang', 'Sokka', 'Aang', 'Katara', 'Aang', 'Sokka', 'Aang', 'Katara', 'Sokka', 'Katara', 'Aang', 'Aang', 'Sokka', 'Aang', 'Katara', 'Aang', 'Sokka', 'Iroh', 'Zuko', 'Katara', 'Aang', 'Katara', 'Aang', 'Katara', 'Aang', 'Aang', 'Katara', 'Aang', 'Katara', 'Aang', 'Gran Gran', 'Aang', 'Katara', 'Gran Gran', 'Sokka', 'Aang', 'Little Girl', 'Aang', 'Sokka', 'Aang', 'Villagers', 'Aang', 'Sokka', 'Katara', 'Sokka', 'Aang', 'Katara', 'Gran Gran', 'Katara', 'Gran Gran', 'Katara', 'Aang', 'Children', 'Iroh', 'Zuko', 'Iroh', 'Zuko', 'Iroh', 'Zuko', 'Iroh', 'Sokka', 'Little Boy', 'Sokka', 'Little Boy', 'Sokka', 'Katara', 'Aang', 'Children', 'Sokka', 'Kid', 'Sokka', 'Aang', 'Sokka', 'Aang', 'Sokka', 'Katara', 'Aang', 'Aang', 'Katara', 'Aang', 'Katara', 'Aang', 'Katara', 'Aang', 'Katara', 'Aang', 'Katara', 'Katara', 'Aang', 'Aang', 'Katara', 'Katara', 'Aang', 'Katara', 'Aang', 'Katara', 'Aang', 'Katara', 'Aang', 'Katara', 'Aang', 'Katara', 'Aang', 'Katara', 'Katara', 'Aang', 'Aang', 'Aang', 'Aang', 'Zuko', 'Zuko']\n"
     ]
    }
   ],
   "source": [
    "print(character_list)"
   ]
  },
  {
   "cell_type": "code",
   "execution_count": 20,
   "metadata": {},
   "outputs": [
    {
     "name": "stdout",
     "output_type": "stream",
     "text": [
      "[\"It's not getting away from me this time. Watch and learn, Katara. This is how you catch a fish.\", 'Sokka, look!', \"Shhh. Katara, you're gonna scare it away. Mmmm... I can already smell it cookin'!\", 'But Sokka! I caught one!', 'Hey!', 'Ugh! Why is it that every time you play with magic water I get soaked?', \"It's not magic. It's waterbending, and it's-\", \"Yeah, yeah, an ancient art unique to our culture, blah blah blah. Look, I'm just saying that if I had weird powers, I'd keep my weirdness to myself.\", \"You're calling me weird? I'm not the one who makes muscles at myself every time I see my reflection in the water.\", 'Ahhh!', 'Watch out! Go left! Go left!', 'You call that left?', \"You don't like my steering. Well, maybe you should have waterbended us out of the ice.\", \"So it's my fault?\", 'I knew I should have left you home. Leave it to a girl to screw things up.', 'You are the most sexist, immature, nut brained...', \"Ugh, I'm embarrassed to be related to you! Ever since Mom died I've been doing all the work around camp while you've been off playing soldier!\", 'Uh... Katara?', 'I even wash all the clothes! Have you ever smelled your dirty socks? Let me tell you, NOT PLEASANT!', 'Katara! Settle down!', \"No, that's it. I'm done helping you. From now on, you're on your own!\", \"Okay, you've gone from weird to freakish, Katara.\", 'You mean I did that?', 'Yup. Congratulations.', \"He's alive! We have to help.\", \"Katara! Get back here! We don't know what that thing is!\", 'Finally.  Uncle, do you realize what this means?', \"I won't get to finish my game?\", \"It means my search - it's about to come to an end.\", 'That light came from an incredibly powerful source. It has to be him!', \"Or it's just the celestial lights. We've been down this road before, Prince Zuko. I don't want you to get too excited over nothing. Please, sit. Why don't you enjoy a cup of calming jasmine tea?\", \"I don't need any calming tea! I need to capture the Avatar. Helmsman, head a course for the light!\", 'Stop!', 'Stop it!', 'I need to ask you something.', 'What?', 'Please... come closer.', 'What is it?', 'Will you go penguin sledding with me?', 'Uh... sure. I guess.', 'Ahh!', \"What's going on here?\", \"You tell us! How'd you get in the ice?  And why aren't you frozen?\", \"I'm not sure.\", 'Appa! Are you all right? Wake up, buddy.', \"Haha! You're okay!\", 'What is that thing?', 'This is Appa, my flying bison.', 'Right. And this is Katara, my flying sister.', 'Ewww! Aahh!!!', \"Don't worry. It'll wash out.\", 'Ugh!', 'So, do you guys live around here?', \"Don't answer that! Did you see that crazy bolt of light? He was probably trying to signal the Fire Navy.\", \"Oh, yeah, I'm sure he's a spy for the Fire Navy. You can tell by that evil look in his eye.\", 'The paranoid one is my brother, Sokka. You never told us your name.', \"I'm A... aaaahhhh... ahhhhhh.... aaah aaah aaah AAAAAAACHOOOO!\", \"I'm Aang.\", 'You just sneezed... and flew ten feet in the air.', 'Really? It felt higher that that.', \"You're an airbender!\", 'Sure am.', \"Giant light beams... flying bison... airbenders... I think I've got Midnight Sun Madness. I'm going home to where stuff makes sense.\", 'Well, if you guys are stuck Appa and I can give you a lift.', \"We'd love a ride! Thanks!\", 'Oh, no... I am not getting on that fluffy snot monster.', 'Are you hoping some other kind of monster will come along and give you a ride home? You know... before you freeze to death?', 'Okay. First time flyers, hold on tight! Appa, yip yip!', 'Come on, Appa. Yip yip.', 'Wow. That was truly amazing.', \"Appa's just tired. A little rest and he'll be soaring through the sky. You'll see.\", 'Why are you smiling at me like that?', 'Oh... I was smiling?', 'Uuuuugh.', \"I'm going to bed now. Yep. A man needs his rest. Prince Zuko, you need some sleep. Even if you're right and the Avatar is alive, you won't find him. Your father, grandfather, and great-grandfather all tried and failed.\", \"Because their honor didn't hinge on the Avatar's capture. Mine does. This coward's hundred years in hiding are over.\", 'Hey.', \"Hey. Whatcha thinkin' about?\", 'I guess I was wondering â€“ your being an airbender and all â€“ if you had any idea what happened to the Avatar.', \"Uhh... no. I didn't know him... I mean, I knew people that knew him, but I didn't. Sorry.\", 'Okay. Just curious. Goodnight.', 'Sleep tight.<u>', 'Aaahhh!', \"Aang! Aang, wake up!  It's okay. We're in the village now. Come on, get ready. Everyone's waiting to meet you.\", 'Whaaaa!', 'Aang, this is the entire village. Entire village, Aang.', 'Uh... why are they all looking at me like that? Did Appa sneeze on me?', 'Well, no one has seen an airbender in a hundred years. We thought they were extinct until my granddaughter and grandson found you.', \"'Extinct'?\", 'Aang, this is my grandmother.', 'Call me Gran Gran.', \"What is this, a weapon? You can't stab anything with this.\", \"It's not for stabbing.  It's for airbending.\", 'Magic trick! Do it again!', 'Not magic, airbending. It lets me control the air currents around my glider and fly.', \"You know, last time I checked, humans can't fly.\", 'Check again!', \"Whoa... it's flying... it's amazing!\", 'Oof!', 'My watchtower!', 'That was amazing.', \"Great. You're an airbender, Katara's a waterbender, together you can just waste time all day long.\", \"You're a waterbender!\", 'Well... sort of. Not yet.', 'All right. No more playing. Come on, Katara, you have chores.', \"I told you! He's the real thing, Gran Gran! I finally found a bender to teach me.\", 'Katara, try not to put all your hopes in this boy.', \"But he's special. I can tell. I sense he's filled with much wisdom.\", 'Sthee? Now my tongue ith thuck to my sthaff.', 'Tee hee!', 'Again.', 'Ha! Heeya!', 'No! Power in firebending comes from the breath. Not the muscles. The breath becomes energy in the body. The energy extends past your limbs and becomes fire.  Get it right this time.', \"Enough. I've been drilling this sequence all day. Teach me the next set. I'm more than ready.\", 'No, you are impatient. You have yet to master your basics.  Drill it again!', \"Grrrr... huh!  The sages tell us that the Avatar is the last airbender. He must be over a hundred years old by now. He's had a century to master the four elements. I'll need more than basic firebending to defeat him. You WILL teach me the advanced set!\", 'Very well. But first I must finish my roast duck.  Num num... num...', \"Now men, it's important that you show no fear when you face a firebender. In the Water Tribe, we fight to the last man standing. For without courage, how can we call ourselves men?\", 'I gotta pee!', \"Listen! Until your fathers return from the war, they're counting on you to be the men of this tribe. And that means no potty breaks.\", 'But I really gotta go.', 'Okay... who else has to go?', 'Have you seen Aang? Gran Gran said he disappeared over an hour ago.', 'Wow! Everything freezes in there!', 'Hahaha!', 'Ugh! Katara, get him out of here. This lesson is for warriors only.', 'Wheeee!', \"Stop! Stop it right now! What's wrong with you? We don't have time for fun and games with a war going on.\", 'What war? What are you talking about?', \"You're kidding, right?\", 'PENGUIN!', \"He's kidding, right?<u>\", 'Aang?', 'Haha! Hey, come on little guy. Wanna go sledding?', 'Oof! Heh heh, I have a way with animals.  Yarp! Yarp yarp! Yarp! Yarp yarp! Yarp!', \"Hahaha... Aang, I'll help you catch a penguin if you teach me waterbending.\", \"You got a deal! Just one little problem. I'm an airbender, not a waterbender. Isn't there someone in your tribe who can teach you?\", \"No. You're looking at the only waterbender on the whole South Pole.\", \"This isn't right. A waterbender needs to master water. What about the North Pole? There's another Water Tribe up there, right? Maybe they have waterbenders who could teach you.\", \"Maybe. But we haven't had contact with our sister tribe in a long time. It's not exactly 'turn right at the second glacier.' It's on the other side of the world.\", 'But you forget', \"That's... ( I mean, I don't know. I've never left home before.\", 'Well, you think about it. But in the meantime, can you teach me to catch one of these penguins?', 'Okay, listen closely my young pupil. Catching penguins is an ancient and sacred art. Observe.', \"I haven't done this since I was a kid!\", 'You still are a kid!', 'Whoa... what is that?', 'A Fire Navy ship, and a very bad memory for my people.', \"Aang, stop! We're not allowed to go near it. The ship could be booby trapped.\", 'If you wanna be a bender, you have to let go of fear.', \"This ship has haunted my tribe since Gran Gran was a little girl. It was part of the Fire Nation's first attacks.\", \"Okay, back up. I have friends all over the world, even in the Fire Nation. I've never seen any war.\", 'Aang, how long were you in that iceberg?', \"I don't know... a few days, maybe?\", 'I think it was more like a hundred years!', \"What? That's impossible. Do I look like a hundred-twelve year old man to you?\", \"Think about it. The war is a century old. You don't know about it because, somehow, you were in there that whole time. It's the only explanation.\", \"A hundred years! I can't believe it.\", \"I'm sorry, Aang. Maybe somehow there's a bright side to all this.\", 'I did get to meet you.', \"Come on. Let's get out of here.\", \"Aang? Let's head back. This place is creepy.\", 'Huh?', \"What's that you said about booby traps?\", 'Uh oh.', 'Hold on tight!', 'The last airbender.  Quite agile for his old age. Wake my uncle! Tell him I found the Avatar...', '...as well as his hiding place.']\n"
     ]
    }
   ],
   "source": [
    "print(dialogue_list)"
   ]
  },
  {
   "cell_type": "code",
   "execution_count": 21,
   "metadata": {
    "collapsed": true
   },
   "outputs": [],
   "source": [
    "import pandas as pd"
   ]
  },
  {
   "cell_type": "code",
   "execution_count": 22,
   "metadata": {
    "collapsed": true
   },
   "outputs": [],
   "source": [
    "se1ep01 = pd.DataFrame()"
   ]
  },
  {
   "cell_type": "code",
   "execution_count": 23,
   "metadata": {
    "collapsed": true
   },
   "outputs": [],
   "source": [
    "se1ep01['character_list'] = character_list"
   ]
  },
  {
   "cell_type": "code",
   "execution_count": 24,
   "metadata": {
    "collapsed": true
   },
   "outputs": [],
   "source": [
    "se1ep01['dialogue_list'] = dialogue_list"
   ]
  },
  {
   "cell_type": "code",
   "execution_count": 25,
   "metadata": {},
   "outputs": [
    {
     "data": {
      "text/html": [
       "<div>\n",
       "<style scoped>\n",
       "    .dataframe tbody tr th:only-of-type {\n",
       "        vertical-align: middle;\n",
       "    }\n",
       "\n",
       "    .dataframe tbody tr th {\n",
       "        vertical-align: top;\n",
       "    }\n",
       "\n",
       "    .dataframe thead th {\n",
       "        text-align: right;\n",
       "    }\n",
       "</style>\n",
       "<table border=\"1\" class=\"dataframe\">\n",
       "  <thead>\n",
       "    <tr style=\"text-align: right;\">\n",
       "      <th></th>\n",
       "      <th>character_list</th>\n",
       "      <th>dialogue_list</th>\n",
       "    </tr>\n",
       "  </thead>\n",
       "  <tbody>\n",
       "    <tr>\n",
       "      <th>0</th>\n",
       "      <td>Sokka</td>\n",
       "      <td>It's not getting away from me this time. Watch...</td>\n",
       "    </tr>\n",
       "    <tr>\n",
       "      <th>1</th>\n",
       "      <td>Katara</td>\n",
       "      <td>Sokka, look!</td>\n",
       "    </tr>\n",
       "    <tr>\n",
       "      <th>2</th>\n",
       "      <td>Sokka</td>\n",
       "      <td>Shhh. Katara, you're gonna scare it away. Mmmm...</td>\n",
       "    </tr>\n",
       "    <tr>\n",
       "      <th>3</th>\n",
       "      <td>Katara</td>\n",
       "      <td>But Sokka! I caught one!</td>\n",
       "    </tr>\n",
       "    <tr>\n",
       "      <th>4</th>\n",
       "      <td>Katara</td>\n",
       "      <td>Hey!</td>\n",
       "    </tr>\n",
       "    <tr>\n",
       "      <th>5</th>\n",
       "      <td>Sokka</td>\n",
       "      <td>Ugh! Why is it that every time you play with m...</td>\n",
       "    </tr>\n",
       "    <tr>\n",
       "      <th>6</th>\n",
       "      <td>Katara</td>\n",
       "      <td>It's not magic. It's waterbending, and it's-</td>\n",
       "    </tr>\n",
       "    <tr>\n",
       "      <th>7</th>\n",
       "      <td>Sokka</td>\n",
       "      <td>Yeah, yeah, an ancient art unique to our cultu...</td>\n",
       "    </tr>\n",
       "    <tr>\n",
       "      <th>8</th>\n",
       "      <td>Katara</td>\n",
       "      <td>You're calling me weird? I'm not the one who m...</td>\n",
       "    </tr>\n",
       "    <tr>\n",
       "      <th>9</th>\n",
       "      <td>Sokka</td>\n",
       "      <td>Ahhh!</td>\n",
       "    </tr>\n",
       "    <tr>\n",
       "      <th>10</th>\n",
       "      <td>Katara</td>\n",
       "      <td>Watch out! Go left! Go left!</td>\n",
       "    </tr>\n",
       "    <tr>\n",
       "      <th>11</th>\n",
       "      <td>Katara</td>\n",
       "      <td>You call that left?</td>\n",
       "    </tr>\n",
       "    <tr>\n",
       "      <th>12</th>\n",
       "      <td>Sokka</td>\n",
       "      <td>You don't like my steering. Well, maybe you sh...</td>\n",
       "    </tr>\n",
       "    <tr>\n",
       "      <th>13</th>\n",
       "      <td>Katara</td>\n",
       "      <td>So it's my fault?</td>\n",
       "    </tr>\n",
       "    <tr>\n",
       "      <th>14</th>\n",
       "      <td>Sokka</td>\n",
       "      <td>I knew I should have left you home. Leave it t...</td>\n",
       "    </tr>\n",
       "    <tr>\n",
       "      <th>15</th>\n",
       "      <td>Katara</td>\n",
       "      <td>You are the most sexist, immature, nut brained...</td>\n",
       "    </tr>\n",
       "    <tr>\n",
       "      <th>16</th>\n",
       "      <td>Katara</td>\n",
       "      <td>Ugh, I'm embarrassed to be related to you! Eve...</td>\n",
       "    </tr>\n",
       "    <tr>\n",
       "      <th>17</th>\n",
       "      <td>Sokka</td>\n",
       "      <td>Uh... Katara?</td>\n",
       "    </tr>\n",
       "    <tr>\n",
       "      <th>18</th>\n",
       "      <td>Katara</td>\n",
       "      <td>I even wash all the clothes! Have you ever sme...</td>\n",
       "    </tr>\n",
       "    <tr>\n",
       "      <th>19</th>\n",
       "      <td>Sokka</td>\n",
       "      <td>Katara! Settle down!</td>\n",
       "    </tr>\n",
       "    <tr>\n",
       "      <th>20</th>\n",
       "      <td>Katara</td>\n",
       "      <td>No, that's it. I'm done helping you. From now ...</td>\n",
       "    </tr>\n",
       "    <tr>\n",
       "      <th>21</th>\n",
       "      <td>Sokka</td>\n",
       "      <td>Okay, you've gone from weird to freakish, Katara.</td>\n",
       "    </tr>\n",
       "    <tr>\n",
       "      <th>22</th>\n",
       "      <td>Katara</td>\n",
       "      <td>You mean I did that?</td>\n",
       "    </tr>\n",
       "    <tr>\n",
       "      <th>23</th>\n",
       "      <td>Sokka</td>\n",
       "      <td>Yup. Congratulations.</td>\n",
       "    </tr>\n",
       "    <tr>\n",
       "      <th>24</th>\n",
       "      <td>Katara</td>\n",
       "      <td>He's alive! We have to help.</td>\n",
       "    </tr>\n",
       "    <tr>\n",
       "      <th>25</th>\n",
       "      <td>Sokka</td>\n",
       "      <td>Katara! Get back here! We don't know what that...</td>\n",
       "    </tr>\n",
       "    <tr>\n",
       "      <th>26</th>\n",
       "      <td>Zuko</td>\n",
       "      <td>Finally.  Uncle, do you realize what this means?</td>\n",
       "    </tr>\n",
       "    <tr>\n",
       "      <th>27</th>\n",
       "      <td>Iroh</td>\n",
       "      <td>I won't get to finish my game?</td>\n",
       "    </tr>\n",
       "    <tr>\n",
       "      <th>28</th>\n",
       "      <td>Zuko</td>\n",
       "      <td>It means my search - it's about to come to an ...</td>\n",
       "    </tr>\n",
       "    <tr>\n",
       "      <th>29</th>\n",
       "      <td>Zuko</td>\n",
       "      <td>That light came from an incredibly powerful so...</td>\n",
       "    </tr>\n",
       "    <tr>\n",
       "      <th>...</th>\n",
       "      <td>...</td>\n",
       "      <td>...</td>\n",
       "    </tr>\n",
       "    <tr>\n",
       "      <th>138</th>\n",
       "      <td>Aang</td>\n",
       "      <td>This isn't right. A waterbender needs to maste...</td>\n",
       "    </tr>\n",
       "    <tr>\n",
       "      <th>139</th>\n",
       "      <td>Katara</td>\n",
       "      <td>Maybe. But we haven't had contact with our sis...</td>\n",
       "    </tr>\n",
       "    <tr>\n",
       "      <th>140</th>\n",
       "      <td>Aang</td>\n",
       "      <td>But you forget</td>\n",
       "    </tr>\n",
       "    <tr>\n",
       "      <th>141</th>\n",
       "      <td>Katara</td>\n",
       "      <td>That's... ( I mean, I don't know. I've never l...</td>\n",
       "    </tr>\n",
       "    <tr>\n",
       "      <th>142</th>\n",
       "      <td>Aang</td>\n",
       "      <td>Well, you think about it. But in the meantime,...</td>\n",
       "    </tr>\n",
       "    <tr>\n",
       "      <th>143</th>\n",
       "      <td>Katara</td>\n",
       "      <td>Okay, listen closely my young pupil. Catching ...</td>\n",
       "    </tr>\n",
       "    <tr>\n",
       "      <th>144</th>\n",
       "      <td>Katara</td>\n",
       "      <td>I haven't done this since I was a kid!</td>\n",
       "    </tr>\n",
       "    <tr>\n",
       "      <th>145</th>\n",
       "      <td>Aang</td>\n",
       "      <td>You still are a kid!</td>\n",
       "    </tr>\n",
       "    <tr>\n",
       "      <th>146</th>\n",
       "      <td>Aang</td>\n",
       "      <td>Whoa... what is that?</td>\n",
       "    </tr>\n",
       "    <tr>\n",
       "      <th>147</th>\n",
       "      <td>Katara</td>\n",
       "      <td>A Fire Navy ship, and a very bad memory for my...</td>\n",
       "    </tr>\n",
       "    <tr>\n",
       "      <th>148</th>\n",
       "      <td>Katara</td>\n",
       "      <td>Aang, stop! We're not allowed to go near it. T...</td>\n",
       "    </tr>\n",
       "    <tr>\n",
       "      <th>149</th>\n",
       "      <td>Aang</td>\n",
       "      <td>If you wanna be a bender, you have to let go o...</td>\n",
       "    </tr>\n",
       "    <tr>\n",
       "      <th>150</th>\n",
       "      <td>Katara</td>\n",
       "      <td>This ship has haunted my tribe since Gran Gran...</td>\n",
       "    </tr>\n",
       "    <tr>\n",
       "      <th>151</th>\n",
       "      <td>Aang</td>\n",
       "      <td>Okay, back up. I have friends all over the wor...</td>\n",
       "    </tr>\n",
       "    <tr>\n",
       "      <th>152</th>\n",
       "      <td>Katara</td>\n",
       "      <td>Aang, how long were you in that iceberg?</td>\n",
       "    </tr>\n",
       "    <tr>\n",
       "      <th>153</th>\n",
       "      <td>Aang</td>\n",
       "      <td>I don't know... a few days, maybe?</td>\n",
       "    </tr>\n",
       "    <tr>\n",
       "      <th>154</th>\n",
       "      <td>Katara</td>\n",
       "      <td>I think it was more like a hundred years!</td>\n",
       "    </tr>\n",
       "    <tr>\n",
       "      <th>155</th>\n",
       "      <td>Aang</td>\n",
       "      <td>What? That's impossible. Do I look like a hund...</td>\n",
       "    </tr>\n",
       "    <tr>\n",
       "      <th>156</th>\n",
       "      <td>Katara</td>\n",
       "      <td>Think about it. The war is a century old. You ...</td>\n",
       "    </tr>\n",
       "    <tr>\n",
       "      <th>157</th>\n",
       "      <td>Aang</td>\n",
       "      <td>A hundred years! I can't believe it.</td>\n",
       "    </tr>\n",
       "    <tr>\n",
       "      <th>158</th>\n",
       "      <td>Katara</td>\n",
       "      <td>I'm sorry, Aang. Maybe somehow there's a brigh...</td>\n",
       "    </tr>\n",
       "    <tr>\n",
       "      <th>159</th>\n",
       "      <td>Aang</td>\n",
       "      <td>I did get to meet you.</td>\n",
       "    </tr>\n",
       "    <tr>\n",
       "      <th>160</th>\n",
       "      <td>Katara</td>\n",
       "      <td>Come on. Let's get out of here.</td>\n",
       "    </tr>\n",
       "    <tr>\n",
       "      <th>161</th>\n",
       "      <td>Katara</td>\n",
       "      <td>Aang? Let's head back. This place is creepy.</td>\n",
       "    </tr>\n",
       "    <tr>\n",
       "      <th>162</th>\n",
       "      <td>Aang</td>\n",
       "      <td>Huh?</td>\n",
       "    </tr>\n",
       "    <tr>\n",
       "      <th>163</th>\n",
       "      <td>Aang</td>\n",
       "      <td>What's that you said about booby traps?</td>\n",
       "    </tr>\n",
       "    <tr>\n",
       "      <th>164</th>\n",
       "      <td>Aang</td>\n",
       "      <td>Uh oh.</td>\n",
       "    </tr>\n",
       "    <tr>\n",
       "      <th>165</th>\n",
       "      <td>Aang</td>\n",
       "      <td>Hold on tight!</td>\n",
       "    </tr>\n",
       "    <tr>\n",
       "      <th>166</th>\n",
       "      <td>Zuko</td>\n",
       "      <td>The last airbender.  Quite agile for his old a...</td>\n",
       "    </tr>\n",
       "    <tr>\n",
       "      <th>167</th>\n",
       "      <td>Zuko</td>\n",
       "      <td>...as well as his hiding place.</td>\n",
       "    </tr>\n",
       "  </tbody>\n",
       "</table>\n",
       "<p>168 rows × 2 columns</p>\n",
       "</div>"
      ],
      "text/plain": [
       "    character_list                                      dialogue_list\n",
       "0            Sokka  It's not getting away from me this time. Watch...\n",
       "1           Katara                                       Sokka, look!\n",
       "2            Sokka  Shhh. Katara, you're gonna scare it away. Mmmm...\n",
       "3           Katara                           But Sokka! I caught one!\n",
       "4           Katara                                               Hey!\n",
       "..             ...                                                ...\n",
       "163           Aang            What's that you said about booby traps?\n",
       "164           Aang                                             Uh oh.\n",
       "165           Aang                                     Hold on tight!\n",
       "166           Zuko  The last airbender.  Quite agile for his old a...\n",
       "167           Zuko                    ...as well as his hiding place.\n",
       "\n",
       "[168 rows x 2 columns]"
      ]
     },
     "execution_count": 25,
     "metadata": {},
     "output_type": "execute_result"
    }
   ],
   "source": [
    "se1ep01"
   ]
  },
  {
   "cell_type": "code",
   "execution_count": 26,
   "metadata": {},
   "outputs": [
    {
     "name": "stdout",
     "output_type": "stream",
     "text": [
      "<class 'str'>\n"
     ]
    }
   ],
   "source": [
    "print(type(se1ep01['dialogue_list'][1]))"
   ]
  },
  {
   "cell_type": "code",
   "execution_count": 27,
   "metadata": {},
   "outputs": [
    {
     "name": "stdout",
     "output_type": "stream",
     "text": [
      "12\n"
     ]
    }
   ],
   "source": [
    "print(len(se1ep01['dialogue_list'][1]))"
   ]
  },
  {
   "cell_type": "code",
   "execution_count": 28,
   "metadata": {
    "collapsed": true
   },
   "outputs": [],
   "source": [
    "count = se1ep01['dialogue_list'].str.split().str.len()\n",
    "count.index = count.index.astype(str)\n",
    "#count.sort_index(inplace=True)\n",
    "count = list(count)"
   ]
  },
  {
   "cell_type": "code",
   "execution_count": 29,
   "metadata": {},
   "outputs": [
    {
     "data": {
      "text/plain": [
       "list"
      ]
     },
     "execution_count": 29,
     "metadata": {},
     "output_type": "execute_result"
    }
   ],
   "source": [
    "type(count)"
   ]
  },
  {
   "cell_type": "code",
   "execution_count": 30,
   "metadata": {},
   "outputs": [
    {
     "data": {
      "text/plain": [
       "int"
      ]
     },
     "execution_count": 30,
     "metadata": {},
     "output_type": "execute_result"
    }
   ],
   "source": [
    "type(count[2])"
   ]
  },
  {
   "cell_type": "code",
   "execution_count": 31,
   "metadata": {
    "collapsed": true
   },
   "outputs": [],
   "source": [
    "se1ep01['word_count']=count"
   ]
  },
  {
   "cell_type": "code",
   "execution_count": 32,
   "metadata": {},
   "outputs": [
    {
     "data": {
      "text/html": [
       "<div>\n",
       "<style scoped>\n",
       "    .dataframe tbody tr th:only-of-type {\n",
       "        vertical-align: middle;\n",
       "    }\n",
       "\n",
       "    .dataframe tbody tr th {\n",
       "        vertical-align: top;\n",
       "    }\n",
       "\n",
       "    .dataframe thead th {\n",
       "        text-align: right;\n",
       "    }\n",
       "</style>\n",
       "<table border=\"1\" class=\"dataframe\">\n",
       "  <thead>\n",
       "    <tr style=\"text-align: right;\">\n",
       "      <th></th>\n",
       "      <th>character_list</th>\n",
       "      <th>dialogue_list</th>\n",
       "      <th>word_count</th>\n",
       "    </tr>\n",
       "  </thead>\n",
       "  <tbody>\n",
       "    <tr>\n",
       "      <th>0</th>\n",
       "      <td>Sokka</td>\n",
       "      <td>It's not getting away from me this time. Watch...</td>\n",
       "      <td>19</td>\n",
       "    </tr>\n",
       "    <tr>\n",
       "      <th>1</th>\n",
       "      <td>Katara</td>\n",
       "      <td>Sokka, look!</td>\n",
       "      <td>2</td>\n",
       "    </tr>\n",
       "    <tr>\n",
       "      <th>2</th>\n",
       "      <td>Sokka</td>\n",
       "      <td>Shhh. Katara, you're gonna scare it away. Mmmm...</td>\n",
       "      <td>14</td>\n",
       "    </tr>\n",
       "    <tr>\n",
       "      <th>3</th>\n",
       "      <td>Katara</td>\n",
       "      <td>But Sokka! I caught one!</td>\n",
       "      <td>5</td>\n",
       "    </tr>\n",
       "    <tr>\n",
       "      <th>4</th>\n",
       "      <td>Katara</td>\n",
       "      <td>Hey!</td>\n",
       "      <td>1</td>\n",
       "    </tr>\n",
       "  </tbody>\n",
       "</table>\n",
       "</div>"
      ],
      "text/plain": [
       "  character_list                                      dialogue_list  \\\n",
       "0          Sokka  It's not getting away from me this time. Watch...   \n",
       "1         Katara                                       Sokka, look!   \n",
       "2          Sokka  Shhh. Katara, you're gonna scare it away. Mmmm...   \n",
       "3         Katara                           But Sokka! I caught one!   \n",
       "4         Katara                                               Hey!   \n",
       "\n",
       "   word_count  \n",
       "0          19  \n",
       "1           2  \n",
       "2          14  \n",
       "3           5  \n",
       "4           1  "
      ]
     },
     "execution_count": 32,
     "metadata": {},
     "output_type": "execute_result"
    }
   ],
   "source": [
    "se1ep01.head()"
   ]
  },
  {
   "cell_type": "code",
   "execution_count": 33,
   "metadata": {},
   "outputs": [
    {
     "data": {
      "text/html": [
       "<div>\n",
       "<style scoped>\n",
       "    .dataframe tbody tr th:only-of-type {\n",
       "        vertical-align: middle;\n",
       "    }\n",
       "\n",
       "    .dataframe tbody tr th {\n",
       "        vertical-align: top;\n",
       "    }\n",
       "\n",
       "    .dataframe thead th {\n",
       "        text-align: right;\n",
       "    }\n",
       "</style>\n",
       "<table border=\"1\" class=\"dataframe\">\n",
       "  <thead>\n",
       "    <tr style=\"text-align: right;\">\n",
       "      <th></th>\n",
       "      <th>word_count</th>\n",
       "    </tr>\n",
       "    <tr>\n",
       "      <th>character_list</th>\n",
       "      <th></th>\n",
       "    </tr>\n",
       "  </thead>\n",
       "  <tbody>\n",
       "    <tr>\n",
       "      <th>Katara</th>\n",
       "      <td>539</td>\n",
       "    </tr>\n",
       "    <tr>\n",
       "      <th>Aang</th>\n",
       "      <td>399</td>\n",
       "    </tr>\n",
       "    <tr>\n",
       "      <th>Sokka</th>\n",
       "      <td>379</td>\n",
       "    </tr>\n",
       "    <tr>\n",
       "      <th>Zuko</th>\n",
       "      <td>162</td>\n",
       "    </tr>\n",
       "    <tr>\n",
       "      <th>Iroh</th>\n",
       "      <td>142</td>\n",
       "    </tr>\n",
       "    <tr>\n",
       "      <th>Gran Gran</th>\n",
       "      <td>49</td>\n",
       "    </tr>\n",
       "    <tr>\n",
       "      <th>Little Boy</th>\n",
       "      <td>8</td>\n",
       "    </tr>\n",
       "    <tr>\n",
       "      <th>Little Girl</th>\n",
       "      <td>5</td>\n",
       "    </tr>\n",
       "    <tr>\n",
       "      <th>Villagers</th>\n",
       "      <td>5</td>\n",
       "    </tr>\n",
       "    <tr>\n",
       "      <th>Children</th>\n",
       "      <td>3</td>\n",
       "    </tr>\n",
       "    <tr>\n",
       "      <th>Kid</th>\n",
       "      <td>1</td>\n",
       "    </tr>\n",
       "  </tbody>\n",
       "</table>\n",
       "</div>"
      ],
      "text/plain": [
       "                word_count\n",
       "character_list            \n",
       "Katara                 539\n",
       "Aang                   399\n",
       "Sokka                  379\n",
       "Zuko                   162\n",
       "Iroh                   142\n",
       "Gran Gran               49\n",
       "Little Boy               8\n",
       "Little Girl              5\n",
       "Villagers                5\n",
       "Children                 3\n",
       "Kid                      1"
      ]
     },
     "execution_count": 33,
     "metadata": {},
     "output_type": "execute_result"
    }
   ],
   "source": [
    "se1ep01.groupby('character_list').sum().sort_values(by = 'word_count', ascending = False)"
   ]
  },
  {
   "cell_type": "code",
   "execution_count": 34,
   "metadata": {},
   "outputs": [
    {
     "data": {
      "text/plain": [
       "pandas.core.frame.DataFrame"
      ]
     },
     "execution_count": 34,
     "metadata": {},
     "output_type": "execute_result"
    }
   ],
   "source": [
    "type(se1ep01.groupby('character_list').sum().sort_values(by = 'word_count', ascending = False))"
   ]
  },
  {
   "cell_type": "code",
   "execution_count": 35,
   "metadata": {},
   "outputs": [
    {
     "data": {
      "text/html": [
       "<div>\n",
       "<style scoped>\n",
       "    .dataframe tbody tr th:only-of-type {\n",
       "        vertical-align: middle;\n",
       "    }\n",
       "\n",
       "    .dataframe tbody tr th {\n",
       "        vertical-align: top;\n",
       "    }\n",
       "\n",
       "    .dataframe thead th {\n",
       "        text-align: right;\n",
       "    }\n",
       "</style>\n",
       "<table border=\"1\" class=\"dataframe\">\n",
       "  <thead>\n",
       "    <tr style=\"text-align: right;\">\n",
       "      <th></th>\n",
       "      <th>character_list</th>\n",
       "      <th>word_count</th>\n",
       "    </tr>\n",
       "  </thead>\n",
       "  <tbody>\n",
       "    <tr>\n",
       "      <th>0</th>\n",
       "      <td>Sokka</td>\n",
       "      <td>19</td>\n",
       "    </tr>\n",
       "    <tr>\n",
       "      <th>1</th>\n",
       "      <td>Katara</td>\n",
       "      <td>2</td>\n",
       "    </tr>\n",
       "    <tr>\n",
       "      <th>2</th>\n",
       "      <td>Sokka</td>\n",
       "      <td>14</td>\n",
       "    </tr>\n",
       "    <tr>\n",
       "      <th>3</th>\n",
       "      <td>Katara</td>\n",
       "      <td>5</td>\n",
       "    </tr>\n",
       "    <tr>\n",
       "      <th>4</th>\n",
       "      <td>Katara</td>\n",
       "      <td>1</td>\n",
       "    </tr>\n",
       "  </tbody>\n",
       "</table>\n",
       "</div>"
      ],
      "text/plain": [
       "  character_list  word_count\n",
       "0          Sokka          19\n",
       "1         Katara           2\n",
       "2          Sokka          14\n",
       "3         Katara           5\n",
       "4         Katara           1"
      ]
     },
     "execution_count": 35,
     "metadata": {},
     "output_type": "execute_result"
    }
   ],
   "source": [
    "se1ep01[['character_list','word_count']].head(5)"
   ]
  },
  {
   "cell_type": "code",
   "execution_count": 36,
   "metadata": {
    "collapsed": true
   },
   "outputs": [],
   "source": [
    "#try to do turtle?\n",
    "\n",
    "#if character list is in list, change color, then move turtle forward by word count, and rotate it 90 degress\n",
    "# prob want to get the lines first, and then the groupings? \n",
    "\n",
    "#could I do some adding? while statement?\n",
    "#while the character list is the same, sum them all as one? \n",
    "\n",
    "#could also create a new function that goes through, \n",
    "#if different, keep going, if not, sum it and add it to a new row... "
   ]
  },
  {
   "cell_type": "code",
   "execution_count": 82,
   "metadata": {
    "collapsed": true
   },
   "outputs": [],
   "source": [
    "#test = se1ep01.iloc[0:20] #could try to concat line by line? \n",
    "\n",
    "#trying on the entire data set\n",
    "#test = se1ep01\n",
    "\n",
    "#problem area\n",
    "#test = se1ep01.iloc[40:50]"
   ]
  },
  {
   "cell_type": "code",
   "execution_count": null,
   "metadata": {
    "collapsed": true
   },
   "outputs": [],
   "source": [
    "#test = se1ep01[['character_list','word_count']].head(5)"
   ]
  },
  {
   "cell_type": "code",
   "execution_count": 83,
   "metadata": {},
   "outputs": [
    {
     "data": {
      "text/html": [
       "<div>\n",
       "<style scoped>\n",
       "    .dataframe tbody tr th:only-of-type {\n",
       "        vertical-align: middle;\n",
       "    }\n",
       "\n",
       "    .dataframe tbody tr th {\n",
       "        vertical-align: top;\n",
       "    }\n",
       "\n",
       "    .dataframe thead th {\n",
       "        text-align: right;\n",
       "    }\n",
       "</style>\n",
       "<table border=\"1\" class=\"dataframe\">\n",
       "  <thead>\n",
       "    <tr style=\"text-align: right;\">\n",
       "      <th></th>\n",
       "      <th>character_list</th>\n",
       "      <th>dialogue_list</th>\n",
       "      <th>word_count</th>\n",
       "    </tr>\n",
       "  </thead>\n",
       "  <tbody>\n",
       "    <tr>\n",
       "      <th>40</th>\n",
       "      <td>Sokka</td>\n",
       "      <td>Ahh!</td>\n",
       "      <td>1</td>\n",
       "    </tr>\n",
       "    <tr>\n",
       "      <th>41</th>\n",
       "      <td>Aang</td>\n",
       "      <td>What's going on here?</td>\n",
       "      <td>4</td>\n",
       "    </tr>\n",
       "    <tr>\n",
       "      <th>42</th>\n",
       "      <td>Sokka</td>\n",
       "      <td>You tell us! How'd you get in the ice?  And wh...</td>\n",
       "      <td>14</td>\n",
       "    </tr>\n",
       "    <tr>\n",
       "      <th>43</th>\n",
       "      <td>Aang</td>\n",
       "      <td>I'm not sure.</td>\n",
       "      <td>3</td>\n",
       "    </tr>\n",
       "    <tr>\n",
       "      <th>44</th>\n",
       "      <td>Aang</td>\n",
       "      <td>Appa! Are you all right? Wake up, buddy.</td>\n",
       "      <td>8</td>\n",
       "    </tr>\n",
       "    <tr>\n",
       "      <th>45</th>\n",
       "      <td>Aang</td>\n",
       "      <td>Haha! You're okay!</td>\n",
       "      <td>3</td>\n",
       "    </tr>\n",
       "    <tr>\n",
       "      <th>46</th>\n",
       "      <td>Sokka</td>\n",
       "      <td>What is that thing?</td>\n",
       "      <td>4</td>\n",
       "    </tr>\n",
       "    <tr>\n",
       "      <th>47</th>\n",
       "      <td>Aang</td>\n",
       "      <td>This is Appa, my flying bison.</td>\n",
       "      <td>6</td>\n",
       "    </tr>\n",
       "    <tr>\n",
       "      <th>48</th>\n",
       "      <td>Sokka</td>\n",
       "      <td>Right. And this is Katara, my flying sister.</td>\n",
       "      <td>8</td>\n",
       "    </tr>\n",
       "    <tr>\n",
       "      <th>49</th>\n",
       "      <td>Sokka</td>\n",
       "      <td>Ewww! Aahh!!!</td>\n",
       "      <td>2</td>\n",
       "    </tr>\n",
       "  </tbody>\n",
       "</table>\n",
       "</div>"
      ],
      "text/plain": [
       "   character_list                                      dialogue_list  \\\n",
       "40          Sokka                                               Ahh!   \n",
       "41           Aang                              What's going on here?   \n",
       "42          Sokka  You tell us! How'd you get in the ice?  And wh...   \n",
       "43           Aang                                      I'm not sure.   \n",
       "44           Aang           Appa! Are you all right? Wake up, buddy.   \n",
       "45           Aang                                 Haha! You're okay!   \n",
       "46          Sokka                                What is that thing?   \n",
       "47           Aang                     This is Appa, my flying bison.   \n",
       "48          Sokka       Right. And this is Katara, my flying sister.   \n",
       "49          Sokka                                      Ewww! Aahh!!!   \n",
       "\n",
       "    word_count  \n",
       "40           1  \n",
       "41           4  \n",
       "42          14  \n",
       "43           3  \n",
       "44           8  \n",
       "45           3  \n",
       "46           4  \n",
       "47           6  \n",
       "48           8  \n",
       "49           2  "
      ]
     },
     "execution_count": 83,
     "metadata": {},
     "output_type": "execute_result"
    }
   ],
   "source": [
    "test"
   ]
  },
  {
   "cell_type": "code",
   "execution_count": 86,
   "metadata": {},
   "outputs": [
    {
     "data": {
      "text/plain": [
       "RangeIndex(start=40, stop=50, step=1)"
      ]
     },
     "execution_count": 86,
     "metadata": {},
     "output_type": "execute_result"
    }
   ],
   "source": [
    "test.index"
   ]
  },
  {
   "cell_type": "code",
   "execution_count": 84,
   "metadata": {
    "collapsed": true
   },
   "outputs": [
    {
     "ename": "KeyError",
     "evalue": "0",
     "output_type": "error",
     "traceback": [
      "\u001b[1;31m---------------------------------------------------------------------------\u001b[0m",
      "\u001b[1;31mKeyError\u001b[0m                                  Traceback (most recent call last)",
      "\u001b[1;32m<ipython-input-84-8bce930f9e00>\u001b[0m in \u001b[0;36m<module>\u001b[1;34m()\u001b[0m\n\u001b[0;32m      3\u001b[0m \u001b[1;33m\u001b[0m\u001b[0m\n\u001b[0;32m      4\u001b[0m \u001b[1;32mwhile\u001b[0m \u001b[0mi\u001b[0m \u001b[1;33m<\u001b[0m \u001b[0mlen\u001b[0m\u001b[1;33m(\u001b[0m\u001b[0mtest\u001b[0m\u001b[1;33m.\u001b[0m\u001b[0mindex\u001b[0m\u001b[1;33m)\u001b[0m\u001b[1;33m-\u001b[0m\u001b[1;36m1\u001b[0m\u001b[1;33m:\u001b[0m\u001b[1;33m\u001b[0m\u001b[0m\n\u001b[1;32m----> 5\u001b[1;33m     \u001b[0mprint\u001b[0m\u001b[1;33m(\u001b[0m\u001b[0mtest\u001b[0m\u001b[1;33m[\u001b[0m\u001b[1;34m'word_count'\u001b[0m\u001b[1;33m]\u001b[0m\u001b[1;33m[\u001b[0m\u001b[0mi\u001b[0m\u001b[1;33m]\u001b[0m\u001b[1;33m)\u001b[0m\u001b[1;33m\u001b[0m\u001b[0m\n\u001b[0m\u001b[0;32m      6\u001b[0m     \u001b[0mi\u001b[0m \u001b[1;33m=\u001b[0m \u001b[0mi\u001b[0m \u001b[1;33m+\u001b[0m\u001b[1;36m1\u001b[0m\u001b[1;33m\u001b[0m\u001b[0m\n\u001b[0;32m      7\u001b[0m \u001b[1;33m\u001b[0m\u001b[0m\n",
      "\u001b[1;32m~\\Anaconda3\\lib\\site-packages\\pandas\\core\\series.py\u001b[0m in \u001b[0;36m__getitem__\u001b[1;34m(self, key)\u001b[0m\n\u001b[0;32m   1062\u001b[0m         \u001b[0mkey\u001b[0m \u001b[1;33m=\u001b[0m \u001b[0mcom\u001b[0m\u001b[1;33m.\u001b[0m\u001b[0mapply_if_callable\u001b[0m\u001b[1;33m(\u001b[0m\u001b[0mkey\u001b[0m\u001b[1;33m,\u001b[0m \u001b[0mself\u001b[0m\u001b[1;33m)\u001b[0m\u001b[1;33m\u001b[0m\u001b[0m\n\u001b[0;32m   1063\u001b[0m         \u001b[1;32mtry\u001b[0m\u001b[1;33m:\u001b[0m\u001b[1;33m\u001b[0m\u001b[0m\n\u001b[1;32m-> 1064\u001b[1;33m             \u001b[0mresult\u001b[0m \u001b[1;33m=\u001b[0m \u001b[0mself\u001b[0m\u001b[1;33m.\u001b[0m\u001b[0mindex\u001b[0m\u001b[1;33m.\u001b[0m\u001b[0mget_value\u001b[0m\u001b[1;33m(\u001b[0m\u001b[0mself\u001b[0m\u001b[1;33m,\u001b[0m \u001b[0mkey\u001b[0m\u001b[1;33m)\u001b[0m\u001b[1;33m\u001b[0m\u001b[0m\n\u001b[0m\u001b[0;32m   1065\u001b[0m \u001b[1;33m\u001b[0m\u001b[0m\n\u001b[0;32m   1066\u001b[0m             \u001b[1;32mif\u001b[0m \u001b[1;32mnot\u001b[0m \u001b[0mis_scalar\u001b[0m\u001b[1;33m(\u001b[0m\u001b[0mresult\u001b[0m\u001b[1;33m)\u001b[0m\u001b[1;33m:\u001b[0m\u001b[1;33m\u001b[0m\u001b[0m\n",
      "\u001b[1;32m~\\Anaconda3\\lib\\site-packages\\pandas\\core\\indexes\\base.py\u001b[0m in \u001b[0;36mget_value\u001b[1;34m(self, series, key)\u001b[0m\n\u001b[0;32m   4721\u001b[0m         \u001b[0mk\u001b[0m \u001b[1;33m=\u001b[0m \u001b[0mself\u001b[0m\u001b[1;33m.\u001b[0m\u001b[0m_convert_scalar_indexer\u001b[0m\u001b[1;33m(\u001b[0m\u001b[0mk\u001b[0m\u001b[1;33m,\u001b[0m \u001b[0mkind\u001b[0m\u001b[1;33m=\u001b[0m\u001b[1;34m\"getitem\"\u001b[0m\u001b[1;33m)\u001b[0m\u001b[1;33m\u001b[0m\u001b[0m\n\u001b[0;32m   4722\u001b[0m         \u001b[1;32mtry\u001b[0m\u001b[1;33m:\u001b[0m\u001b[1;33m\u001b[0m\u001b[0m\n\u001b[1;32m-> 4723\u001b[1;33m             \u001b[1;32mreturn\u001b[0m \u001b[0mself\u001b[0m\u001b[1;33m.\u001b[0m\u001b[0m_engine\u001b[0m\u001b[1;33m.\u001b[0m\u001b[0mget_value\u001b[0m\u001b[1;33m(\u001b[0m\u001b[0ms\u001b[0m\u001b[1;33m,\u001b[0m \u001b[0mk\u001b[0m\u001b[1;33m,\u001b[0m \u001b[0mtz\u001b[0m\u001b[1;33m=\u001b[0m\u001b[0mgetattr\u001b[0m\u001b[1;33m(\u001b[0m\u001b[0mseries\u001b[0m\u001b[1;33m.\u001b[0m\u001b[0mdtype\u001b[0m\u001b[1;33m,\u001b[0m \u001b[1;34m\"tz\"\u001b[0m\u001b[1;33m,\u001b[0m \u001b[1;32mNone\u001b[0m\u001b[1;33m)\u001b[0m\u001b[1;33m)\u001b[0m\u001b[1;33m\u001b[0m\u001b[0m\n\u001b[0m\u001b[0;32m   4724\u001b[0m         \u001b[1;32mexcept\u001b[0m \u001b[0mKeyError\u001b[0m \u001b[1;32mas\u001b[0m \u001b[0me1\u001b[0m\u001b[1;33m:\u001b[0m\u001b[1;33m\u001b[0m\u001b[0m\n\u001b[0;32m   4725\u001b[0m             \u001b[1;32mif\u001b[0m \u001b[0mlen\u001b[0m\u001b[1;33m(\u001b[0m\u001b[0mself\u001b[0m\u001b[1;33m)\u001b[0m \u001b[1;33m>\u001b[0m \u001b[1;36m0\u001b[0m \u001b[1;32mand\u001b[0m \u001b[1;33m(\u001b[0m\u001b[0mself\u001b[0m\u001b[1;33m.\u001b[0m\u001b[0mholds_integer\u001b[0m\u001b[1;33m(\u001b[0m\u001b[1;33m)\u001b[0m \u001b[1;32mor\u001b[0m \u001b[0mself\u001b[0m\u001b[1;33m.\u001b[0m\u001b[0mis_boolean\u001b[0m\u001b[1;33m(\u001b[0m\u001b[1;33m)\u001b[0m\u001b[1;33m)\u001b[0m\u001b[1;33m:\u001b[0m\u001b[1;33m\u001b[0m\u001b[0m\n",
      "\u001b[1;32mpandas\\_libs\\index.pyx\u001b[0m in \u001b[0;36mpandas._libs.index.IndexEngine.get_value\u001b[1;34m()\u001b[0m\n",
      "\u001b[1;32mpandas\\_libs\\index.pyx\u001b[0m in \u001b[0;36mpandas._libs.index.IndexEngine.get_value\u001b[1;34m()\u001b[0m\n",
      "\u001b[1;32mpandas\\_libs\\index.pyx\u001b[0m in \u001b[0;36mpandas._libs.index.IndexEngine.get_loc\u001b[1;34m()\u001b[0m\n",
      "\u001b[1;32mpandas\\_libs\\hashtable_class_helper.pxi\u001b[0m in \u001b[0;36mpandas._libs.hashtable.Int64HashTable.get_item\u001b[1;34m()\u001b[0m\n",
      "\u001b[1;32mpandas\\_libs\\hashtable_class_helper.pxi\u001b[0m in \u001b[0;36mpandas._libs.hashtable.Int64HashTable.get_item\u001b[1;34m()\u001b[0m\n",
      "\u001b[1;31mKeyError\u001b[0m: 0"
     ]
    }
   ],
   "source": [
    "#\n",
    "i = 0\n",
    "\n",
    "while i < len(test.index)-1:\n",
    "    print(test['word_count'][i])\n",
    "    i = i +1\n",
    "\n",
    "# this gives the last item of the list\n",
    "print(test['word_count'][len(test.index)-1])\n",
    "\n"
   ]
  },
  {
   "cell_type": "code",
   "execution_count": 87,
   "metadata": {},
   "outputs": [
    {
     "ename": "KeyError",
     "evalue": "9",
     "output_type": "error",
     "traceback": [
      "\u001b[1;31m---------------------------------------------------------------------------\u001b[0m",
      "\u001b[1;31mKeyError\u001b[0m                                  Traceback (most recent call last)",
      "\u001b[1;32m<ipython-input-87-af34922c2836>\u001b[0m in \u001b[0;36m<module>\u001b[1;34m()\u001b[0m\n\u001b[0;32m     34\u001b[0m         \u001b[1;31m#print(test['word_count'][i])\u001b[0m\u001b[1;33m\u001b[0m\u001b[1;33m\u001b[0m\u001b[0m\n\u001b[0;32m     35\u001b[0m         \u001b[0mi\u001b[0m \u001b[1;33m=\u001b[0m \u001b[0mi\u001b[0m \u001b[1;33m+\u001b[0m \u001b[1;36m1\u001b[0m\u001b[1;33m\u001b[0m\u001b[0m\n\u001b[1;32m---> 36\u001b[1;33m \u001b[0mprint\u001b[0m\u001b[1;33m(\u001b[0m\u001b[1;33m(\u001b[0m\u001b[0mtest\u001b[0m\u001b[1;33m[\u001b[0m\u001b[1;34m'character_list'\u001b[0m\u001b[1;33m]\u001b[0m\u001b[1;33m[\u001b[0m\u001b[0mlen\u001b[0m\u001b[1;33m(\u001b[0m\u001b[0mtest\u001b[0m\u001b[1;33m.\u001b[0m\u001b[0mindex\u001b[0m\u001b[1;33m)\u001b[0m\u001b[1;33m-\u001b[0m\u001b[1;36m1\u001b[0m\u001b[1;33m]\u001b[0m \u001b[1;33m+\u001b[0m \u001b[1;34m\": \"\u001b[0m \u001b[1;33m+\u001b[0m \u001b[0mstr\u001b[0m\u001b[1;33m(\u001b[0m\u001b[0mtest\u001b[0m\u001b[1;33m[\u001b[0m\u001b[1;34m'word_count'\u001b[0m\u001b[1;33m]\u001b[0m\u001b[1;33m[\u001b[0m\u001b[0mlen\u001b[0m\u001b[1;33m(\u001b[0m\u001b[0mtest\u001b[0m\u001b[1;33m.\u001b[0m\u001b[0mindex\u001b[0m\u001b[1;33m)\u001b[0m\u001b[1;33m-\u001b[0m\u001b[1;36m1\u001b[0m\u001b[1;33m]\u001b[0m\u001b[1;33m)\u001b[0m\u001b[1;33m)\u001b[0m\u001b[1;33m)\u001b[0m\u001b[1;33m\u001b[0m\u001b[0m\n\u001b[0m",
      "\u001b[1;32m~\\Anaconda3\\lib\\site-packages\\pandas\\core\\series.py\u001b[0m in \u001b[0;36m__getitem__\u001b[1;34m(self, key)\u001b[0m\n\u001b[0;32m   1062\u001b[0m         \u001b[0mkey\u001b[0m \u001b[1;33m=\u001b[0m \u001b[0mcom\u001b[0m\u001b[1;33m.\u001b[0m\u001b[0mapply_if_callable\u001b[0m\u001b[1;33m(\u001b[0m\u001b[0mkey\u001b[0m\u001b[1;33m,\u001b[0m \u001b[0mself\u001b[0m\u001b[1;33m)\u001b[0m\u001b[1;33m\u001b[0m\u001b[0m\n\u001b[0;32m   1063\u001b[0m         \u001b[1;32mtry\u001b[0m\u001b[1;33m:\u001b[0m\u001b[1;33m\u001b[0m\u001b[0m\n\u001b[1;32m-> 1064\u001b[1;33m             \u001b[0mresult\u001b[0m \u001b[1;33m=\u001b[0m \u001b[0mself\u001b[0m\u001b[1;33m.\u001b[0m\u001b[0mindex\u001b[0m\u001b[1;33m.\u001b[0m\u001b[0mget_value\u001b[0m\u001b[1;33m(\u001b[0m\u001b[0mself\u001b[0m\u001b[1;33m,\u001b[0m \u001b[0mkey\u001b[0m\u001b[1;33m)\u001b[0m\u001b[1;33m\u001b[0m\u001b[0m\n\u001b[0m\u001b[0;32m   1065\u001b[0m \u001b[1;33m\u001b[0m\u001b[0m\n\u001b[0;32m   1066\u001b[0m             \u001b[1;32mif\u001b[0m \u001b[1;32mnot\u001b[0m \u001b[0mis_scalar\u001b[0m\u001b[1;33m(\u001b[0m\u001b[0mresult\u001b[0m\u001b[1;33m)\u001b[0m\u001b[1;33m:\u001b[0m\u001b[1;33m\u001b[0m\u001b[0m\n",
      "\u001b[1;32m~\\Anaconda3\\lib\\site-packages\\pandas\\core\\indexes\\base.py\u001b[0m in \u001b[0;36mget_value\u001b[1;34m(self, series, key)\u001b[0m\n\u001b[0;32m   4721\u001b[0m         \u001b[0mk\u001b[0m \u001b[1;33m=\u001b[0m \u001b[0mself\u001b[0m\u001b[1;33m.\u001b[0m\u001b[0m_convert_scalar_indexer\u001b[0m\u001b[1;33m(\u001b[0m\u001b[0mk\u001b[0m\u001b[1;33m,\u001b[0m \u001b[0mkind\u001b[0m\u001b[1;33m=\u001b[0m\u001b[1;34m\"getitem\"\u001b[0m\u001b[1;33m)\u001b[0m\u001b[1;33m\u001b[0m\u001b[0m\n\u001b[0;32m   4722\u001b[0m         \u001b[1;32mtry\u001b[0m\u001b[1;33m:\u001b[0m\u001b[1;33m\u001b[0m\u001b[0m\n\u001b[1;32m-> 4723\u001b[1;33m             \u001b[1;32mreturn\u001b[0m \u001b[0mself\u001b[0m\u001b[1;33m.\u001b[0m\u001b[0m_engine\u001b[0m\u001b[1;33m.\u001b[0m\u001b[0mget_value\u001b[0m\u001b[1;33m(\u001b[0m\u001b[0ms\u001b[0m\u001b[1;33m,\u001b[0m \u001b[0mk\u001b[0m\u001b[1;33m,\u001b[0m \u001b[0mtz\u001b[0m\u001b[1;33m=\u001b[0m\u001b[0mgetattr\u001b[0m\u001b[1;33m(\u001b[0m\u001b[0mseries\u001b[0m\u001b[1;33m.\u001b[0m\u001b[0mdtype\u001b[0m\u001b[1;33m,\u001b[0m \u001b[1;34m\"tz\"\u001b[0m\u001b[1;33m,\u001b[0m \u001b[1;32mNone\u001b[0m\u001b[1;33m)\u001b[0m\u001b[1;33m)\u001b[0m\u001b[1;33m\u001b[0m\u001b[0m\n\u001b[0m\u001b[0;32m   4724\u001b[0m         \u001b[1;32mexcept\u001b[0m \u001b[0mKeyError\u001b[0m \u001b[1;32mas\u001b[0m \u001b[0me1\u001b[0m\u001b[1;33m:\u001b[0m\u001b[1;33m\u001b[0m\u001b[0m\n\u001b[0;32m   4725\u001b[0m             \u001b[1;32mif\u001b[0m \u001b[0mlen\u001b[0m\u001b[1;33m(\u001b[0m\u001b[0mself\u001b[0m\u001b[1;33m)\u001b[0m \u001b[1;33m>\u001b[0m \u001b[1;36m0\u001b[0m \u001b[1;32mand\u001b[0m \u001b[1;33m(\u001b[0m\u001b[0mself\u001b[0m\u001b[1;33m.\u001b[0m\u001b[0mholds_integer\u001b[0m\u001b[1;33m(\u001b[0m\u001b[1;33m)\u001b[0m \u001b[1;32mor\u001b[0m \u001b[0mself\u001b[0m\u001b[1;33m.\u001b[0m\u001b[0mis_boolean\u001b[0m\u001b[1;33m(\u001b[0m\u001b[1;33m)\u001b[0m\u001b[1;33m)\u001b[0m\u001b[1;33m:\u001b[0m\u001b[1;33m\u001b[0m\u001b[0m\n",
      "\u001b[1;32mpandas\\_libs\\index.pyx\u001b[0m in \u001b[0;36mpandas._libs.index.IndexEngine.get_value\u001b[1;34m()\u001b[0m\n",
      "\u001b[1;32mpandas\\_libs\\index.pyx\u001b[0m in \u001b[0;36mpandas._libs.index.IndexEngine.get_value\u001b[1;34m()\u001b[0m\n",
      "\u001b[1;32mpandas\\_libs\\index.pyx\u001b[0m in \u001b[0;36mpandas._libs.index.IndexEngine.get_loc\u001b[1;34m()\u001b[0m\n",
      "\u001b[1;32mpandas\\_libs\\hashtable_class_helper.pxi\u001b[0m in \u001b[0;36mpandas._libs.hashtable.Int64HashTable.get_item\u001b[1;34m()\u001b[0m\n",
      "\u001b[1;32mpandas\\_libs\\hashtable_class_helper.pxi\u001b[0m in \u001b[0;36mpandas._libs.hashtable.Int64HashTable.get_item\u001b[1;34m()\u001b[0m\n",
      "\u001b[1;31mKeyError\u001b[0m: 9"
     ]
    }
   ],
   "source": [
    "#this is working for when there are two in a row..., but it doesn't work if something happens 3 times in a row\n",
    "# like in the following\n",
    "\n",
    "#can test with test.iloc[40:50]\n",
    "\n",
    "'''\n",
    "1   Aang: I'm not sure.\n",
    "2   Aang: Appa! Are you all right? Wake up, buddy.\n",
    "3   Aang: Haha! You're okay!\n",
    "4   Sokka: What is that thing?\n",
    "'''\n",
    "#problem with code\n",
    "#correctly prints Aang: 11\n",
    "#goes to line 3 (i+2)\n",
    "#checks if character on line 3 = charater on line 4\n",
    "# it doesn't so it prints character & word count line 3 ... giving a double count\n",
    "\n",
    "\n",
    "#now I would just need to get it back in a data frame so I can graph it... \n",
    "# need to change start to 40, because of the shift\n",
    "#i = 0\n",
    "\n",
    "#\n",
    "i = 40\n",
    "\n",
    "while i < len(test.index)-1:\n",
    "    if test['character_list'][i] == test['character_list'][i+1]:\n",
    "        print(test['character_list'][i] + \": \" + (str(test['word_count'][i]+test['word_count'][i+1])))\n",
    "        #print(str(test['word_count'][i]+test['word_count'][i+1]))\n",
    "        #print(test['word_count'][i]+test['word_count'][i+1])\n",
    "        i = i +2\n",
    "    else:\n",
    "        print(test['character_list'][i] + \": \" + str(test['word_count'][i]))\n",
    "        #print(test['word_count'][i])\n",
    "        i = i + 1\n",
    "print((test['character_list'][len(test.index)-1] + \": \" + str(test['word_count'][len(test.index)-1])))"
   ]
  },
  {
   "cell_type": "code",
   "execution_count": 81,
   "metadata": {},
   "outputs": [
    {
     "data": {
      "text/html": [
       "<div>\n",
       "<style scoped>\n",
       "    .dataframe tbody tr th:only-of-type {\n",
       "        vertical-align: middle;\n",
       "    }\n",
       "\n",
       "    .dataframe tbody tr th {\n",
       "        vertical-align: top;\n",
       "    }\n",
       "\n",
       "    .dataframe thead th {\n",
       "        text-align: right;\n",
       "    }\n",
       "</style>\n",
       "<table border=\"1\" class=\"dataframe\">\n",
       "  <thead>\n",
       "    <tr style=\"text-align: right;\">\n",
       "      <th></th>\n",
       "      <th>character_list</th>\n",
       "      <th>dialogue_list</th>\n",
       "      <th>word_count</th>\n",
       "    </tr>\n",
       "  </thead>\n",
       "  <tbody>\n",
       "    <tr>\n",
       "      <th>40</th>\n",
       "      <td>Sokka</td>\n",
       "      <td>Ahh!</td>\n",
       "      <td>1</td>\n",
       "    </tr>\n",
       "    <tr>\n",
       "      <th>41</th>\n",
       "      <td>Aang</td>\n",
       "      <td>What's going on here?</td>\n",
       "      <td>4</td>\n",
       "    </tr>\n",
       "    <tr>\n",
       "      <th>42</th>\n",
       "      <td>Sokka</td>\n",
       "      <td>You tell us! How'd you get in the ice?  And wh...</td>\n",
       "      <td>14</td>\n",
       "    </tr>\n",
       "    <tr>\n",
       "      <th>43</th>\n",
       "      <td>Aang</td>\n",
       "      <td>I'm not sure.</td>\n",
       "      <td>3</td>\n",
       "    </tr>\n",
       "    <tr>\n",
       "      <th>44</th>\n",
       "      <td>Aang</td>\n",
       "      <td>Appa! Are you all right? Wake up, buddy.</td>\n",
       "      <td>8</td>\n",
       "    </tr>\n",
       "    <tr>\n",
       "      <th>45</th>\n",
       "      <td>Aang</td>\n",
       "      <td>Haha! You're okay!</td>\n",
       "      <td>3</td>\n",
       "    </tr>\n",
       "    <tr>\n",
       "      <th>46</th>\n",
       "      <td>Sokka</td>\n",
       "      <td>What is that thing?</td>\n",
       "      <td>4</td>\n",
       "    </tr>\n",
       "    <tr>\n",
       "      <th>47</th>\n",
       "      <td>Aang</td>\n",
       "      <td>This is Appa, my flying bison.</td>\n",
       "      <td>6</td>\n",
       "    </tr>\n",
       "    <tr>\n",
       "      <th>48</th>\n",
       "      <td>Sokka</td>\n",
       "      <td>Right. And this is Katara, my flying sister.</td>\n",
       "      <td>8</td>\n",
       "    </tr>\n",
       "    <tr>\n",
       "      <th>49</th>\n",
       "      <td>Sokka</td>\n",
       "      <td>Ewww! Aahh!!!</td>\n",
       "      <td>2</td>\n",
       "    </tr>\n",
       "  </tbody>\n",
       "</table>\n",
       "</div>"
      ],
      "text/plain": [
       "   character_list                                      dialogue_list  \\\n",
       "40          Sokka                                               Ahh!   \n",
       "41           Aang                              What's going on here?   \n",
       "42          Sokka  You tell us! How'd you get in the ice?  And wh...   \n",
       "43           Aang                                      I'm not sure.   \n",
       "44           Aang           Appa! Are you all right? Wake up, buddy.   \n",
       "45           Aang                                 Haha! You're okay!   \n",
       "46          Sokka                                What is that thing?   \n",
       "47           Aang                     This is Appa, my flying bison.   \n",
       "48          Sokka       Right. And this is Katara, my flying sister.   \n",
       "49          Sokka                                      Ewww! Aahh!!!   \n",
       "\n",
       "    word_count  \n",
       "40           1  \n",
       "41           4  \n",
       "42          14  \n",
       "43           3  \n",
       "44           8  \n",
       "45           3  \n",
       "46           4  \n",
       "47           6  \n",
       "48           8  \n",
       "49           2  "
      ]
     },
     "execution_count": 81,
     "metadata": {},
     "output_type": "execute_result"
    }
   ],
   "source": [
    "test.iloc[40:50]"
   ]
  },
  {
   "cell_type": "code",
   "execution_count": 38,
   "metadata": {},
   "outputs": [
    {
     "data": {
      "text/plain": [
       "2"
      ]
     },
     "execution_count": 38,
     "metadata": {},
     "output_type": "execute_result"
    }
   ],
   "source": [
    "test['word_count'][1]"
   ]
  },
  {
   "cell_type": "code",
   "execution_count": 40,
   "metadata": {},
   "outputs": [
    {
     "data": {
      "text/plain": [
       "RangeIndex(start=0, stop=10, step=1)"
      ]
     },
     "execution_count": 40,
     "metadata": {},
     "output_type": "execute_result"
    }
   ],
   "source": [
    "test.index"
   ]
  },
  {
   "cell_type": "code",
   "execution_count": 53,
   "metadata": {},
   "outputs": [
    {
     "ename": "KeyError",
     "evalue": "'character_list'",
     "output_type": "error",
     "traceback": [
      "\u001b[0;31m---------------------------------------------------------------------------\u001b[0m",
      "\u001b[0;31mKeyError\u001b[0m                                  Traceback (most recent call last)",
      "\u001b[0;32m<ipython-input-53-002131f36e33>\u001b[0m in \u001b[0;36m<module>\u001b[0;34m\u001b[0m\n\u001b[1;32m      1\u001b[0m \u001b[0;32mfor\u001b[0m \u001b[0mi\u001b[0m \u001b[0;32min\u001b[0m \u001b[0mtest\u001b[0m\u001b[0;34m:\u001b[0m\u001b[0;34m\u001b[0m\u001b[0;34m\u001b[0m\u001b[0m\n\u001b[0;32m----> 2\u001b[0;31m     \u001b[0mprint\u001b[0m\u001b[0;34m(\u001b[0m\u001b[0mtest\u001b[0m\u001b[0;34m[\u001b[0m\u001b[0;34m'word_count'\u001b[0m\u001b[0;34m]\u001b[0m\u001b[0;34m[\u001b[0m\u001b[0mi\u001b[0m\u001b[0;34m]\u001b[0m\u001b[0;34m)\u001b[0m\u001b[0;34m\u001b[0m\u001b[0;34m\u001b[0m\u001b[0m\n\u001b[0m",
      "\u001b[0;32m//anaconda/lib/python3.7/site-packages/pandas/core/series.py\u001b[0m in \u001b[0;36m__getitem__\u001b[0;34m(self, key)\u001b[0m\n\u001b[1;32m   1062\u001b[0m         \u001b[0mkey\u001b[0m \u001b[0;34m=\u001b[0m \u001b[0mcom\u001b[0m\u001b[0;34m.\u001b[0m\u001b[0mapply_if_callable\u001b[0m\u001b[0;34m(\u001b[0m\u001b[0mkey\u001b[0m\u001b[0;34m,\u001b[0m \u001b[0mself\u001b[0m\u001b[0;34m)\u001b[0m\u001b[0;34m\u001b[0m\u001b[0;34m\u001b[0m\u001b[0m\n\u001b[1;32m   1063\u001b[0m         \u001b[0;32mtry\u001b[0m\u001b[0;34m:\u001b[0m\u001b[0;34m\u001b[0m\u001b[0;34m\u001b[0m\u001b[0m\n\u001b[0;32m-> 1064\u001b[0;31m             \u001b[0mresult\u001b[0m \u001b[0;34m=\u001b[0m \u001b[0mself\u001b[0m\u001b[0;34m.\u001b[0m\u001b[0mindex\u001b[0m\u001b[0;34m.\u001b[0m\u001b[0mget_value\u001b[0m\u001b[0;34m(\u001b[0m\u001b[0mself\u001b[0m\u001b[0;34m,\u001b[0m \u001b[0mkey\u001b[0m\u001b[0;34m)\u001b[0m\u001b[0;34m\u001b[0m\u001b[0;34m\u001b[0m\u001b[0m\n\u001b[0m\u001b[1;32m   1065\u001b[0m \u001b[0;34m\u001b[0m\u001b[0m\n\u001b[1;32m   1066\u001b[0m             \u001b[0;32mif\u001b[0m \u001b[0;32mnot\u001b[0m \u001b[0mis_scalar\u001b[0m\u001b[0;34m(\u001b[0m\u001b[0mresult\u001b[0m\u001b[0;34m)\u001b[0m\u001b[0;34m:\u001b[0m\u001b[0;34m\u001b[0m\u001b[0;34m\u001b[0m\u001b[0m\n",
      "\u001b[0;32m//anaconda/lib/python3.7/site-packages/pandas/core/indexes/base.py\u001b[0m in \u001b[0;36mget_value\u001b[0;34m(self, series, key)\u001b[0m\n\u001b[1;32m   4721\u001b[0m         \u001b[0mk\u001b[0m \u001b[0;34m=\u001b[0m \u001b[0mself\u001b[0m\u001b[0;34m.\u001b[0m\u001b[0m_convert_scalar_indexer\u001b[0m\u001b[0;34m(\u001b[0m\u001b[0mk\u001b[0m\u001b[0;34m,\u001b[0m \u001b[0mkind\u001b[0m\u001b[0;34m=\u001b[0m\u001b[0;34m\"getitem\"\u001b[0m\u001b[0;34m)\u001b[0m\u001b[0;34m\u001b[0m\u001b[0;34m\u001b[0m\u001b[0m\n\u001b[1;32m   4722\u001b[0m         \u001b[0;32mtry\u001b[0m\u001b[0;34m:\u001b[0m\u001b[0;34m\u001b[0m\u001b[0;34m\u001b[0m\u001b[0m\n\u001b[0;32m-> 4723\u001b[0;31m             \u001b[0;32mreturn\u001b[0m \u001b[0mself\u001b[0m\u001b[0;34m.\u001b[0m\u001b[0m_engine\u001b[0m\u001b[0;34m.\u001b[0m\u001b[0mget_value\u001b[0m\u001b[0;34m(\u001b[0m\u001b[0ms\u001b[0m\u001b[0;34m,\u001b[0m \u001b[0mk\u001b[0m\u001b[0;34m,\u001b[0m \u001b[0mtz\u001b[0m\u001b[0;34m=\u001b[0m\u001b[0mgetattr\u001b[0m\u001b[0;34m(\u001b[0m\u001b[0mseries\u001b[0m\u001b[0;34m.\u001b[0m\u001b[0mdtype\u001b[0m\u001b[0;34m,\u001b[0m \u001b[0;34m\"tz\"\u001b[0m\u001b[0;34m,\u001b[0m \u001b[0;32mNone\u001b[0m\u001b[0;34m)\u001b[0m\u001b[0;34m)\u001b[0m\u001b[0;34m\u001b[0m\u001b[0;34m\u001b[0m\u001b[0m\n\u001b[0m\u001b[1;32m   4724\u001b[0m         \u001b[0;32mexcept\u001b[0m \u001b[0mKeyError\u001b[0m \u001b[0;32mas\u001b[0m \u001b[0me1\u001b[0m\u001b[0;34m:\u001b[0m\u001b[0;34m\u001b[0m\u001b[0;34m\u001b[0m\u001b[0m\n\u001b[1;32m   4725\u001b[0m             \u001b[0;32mif\u001b[0m \u001b[0mlen\u001b[0m\u001b[0;34m(\u001b[0m\u001b[0mself\u001b[0m\u001b[0;34m)\u001b[0m \u001b[0;34m>\u001b[0m \u001b[0;36m0\u001b[0m \u001b[0;32mand\u001b[0m \u001b[0;34m(\u001b[0m\u001b[0mself\u001b[0m\u001b[0;34m.\u001b[0m\u001b[0mholds_integer\u001b[0m\u001b[0;34m(\u001b[0m\u001b[0;34m)\u001b[0m \u001b[0;32mor\u001b[0m \u001b[0mself\u001b[0m\u001b[0;34m.\u001b[0m\u001b[0mis_boolean\u001b[0m\u001b[0;34m(\u001b[0m\u001b[0;34m)\u001b[0m\u001b[0;34m)\u001b[0m\u001b[0;34m:\u001b[0m\u001b[0;34m\u001b[0m\u001b[0;34m\u001b[0m\u001b[0m\n",
      "\u001b[0;32mpandas/_libs/index.pyx\u001b[0m in \u001b[0;36mpandas._libs.index.IndexEngine.get_value\u001b[0;34m()\u001b[0m\n",
      "\u001b[0;32mpandas/_libs/index.pyx\u001b[0m in \u001b[0;36mpandas._libs.index.IndexEngine.get_value\u001b[0;34m()\u001b[0m\n",
      "\u001b[0;32mpandas/_libs/index.pyx\u001b[0m in \u001b[0;36mpandas._libs.index.IndexEngine.get_loc\u001b[0;34m()\u001b[0m\n",
      "\u001b[0;32mpandas/_libs/index_class_helper.pxi\u001b[0m in \u001b[0;36mpandas._libs.index.Int64Engine._check_type\u001b[0;34m()\u001b[0m\n",
      "\u001b[0;31mKeyError\u001b[0m: 'character_list'"
     ]
    }
   ],
   "source": [
    "for i in test:\n",
    "    print(test['word_count'][i])"
   ]
  },
  {
   "cell_type": "code",
   "execution_count": 46,
   "metadata": {},
   "outputs": [
    {
     "name": "stdout",
     "output_type": "stream",
     "text": [
      "Sokka\n",
      "Katara\n",
      "Sokka\n",
      "Katara\n",
      "Katara\n",
      "Sokka\n",
      "Katara\n",
      "Sokka\n",
      "Katara\n",
      "Sokka\n"
     ]
    }
   ],
   "source": [
    "for i in test.index:\n",
    "    print(test['character_list'][i])"
   ]
  },
  {
   "cell_type": "code",
   "execution_count": null,
   "metadata": {
    "collapsed": true
   },
   "outputs": [],
   "source": [
    "#this is close... but first half isn't working...\n",
    "#reason this is throwing an error is because the last item + 1 is out of the index... (how can I handle that?)\n",
    "#maybe add a while to make sure the index is less than the whole?\n",
    "\n",
    "for i in test.index:\n",
    "    if test['character_list'][i] == test['character_list'][i+1]:\n",
    "        print(test['character_list'][i])\n",
    "        i = i +1\n",
    "    else:\n",
    "        print(test['word_count'][i])"
   ]
  },
  {
   "cell_type": "code",
   "execution_count": null,
   "metadata": {
    "collapsed": true
   },
   "outputs": [],
   "source": [
    "#this is close... but first half isn't working...\n",
    "for i in test.index:\n",
    "    if test['character_list'][i] == test['character_list'][i+1]:\n",
    "        print(num)\n",
    "        i = i + 1\n",
    "    else:\n",
    "        print(test['word_count'][i])"
   ]
  },
  {
   "cell_type": "code",
   "execution_count": null,
   "metadata": {
    "collapsed": true
   },
   "outputs": [],
   "source": [
    "print(test['character_list'][3])\n",
    "print(test['character_list'][4])"
   ]
  },
  {
   "cell_type": "code",
   "execution_count": null,
   "metadata": {
    "collapsed": true
   },
   "outputs": [],
   "source": [
    "#groups of characters\n",
    "\n",
    "characters1 = \"Aang\"\n",
    "characters2 = [\"Katara\",\"Sokka\"]\n",
    "characters3 = [\"Zuko\",\"Iroh\"]"
   ]
  },
  {
   "cell_type": "code",
   "execution_count": null,
   "metadata": {
    "collapsed": true
   },
   "outputs": [],
   "source": [
    "import turtle"
   ]
  },
  {
   "cell_type": "code",
   "execution_count": null,
   "metadata": {
    "collapsed": true
   },
   "outputs": [],
   "source": [
    "screen = turtle.Screen()"
   ]
  },
  {
   "cell_type": "code",
   "execution_count": null,
   "metadata": {
    "collapsed": true
   },
   "outputs": [],
   "source": [
    "appa = turtle.Turtle()"
   ]
  },
  {
   "cell_type": "code",
   "execution_count": null,
   "metadata": {
    "collapsed": true
   },
   "outputs": [],
   "source": [
    "#working version where each new line gets its own thing...\n",
    "for i in se1ep01['word_count']:\n",
    "    appa.forward(i)\n",
    "    appa.left(90)"
   ]
  },
  {
   "cell_type": "code",
   "execution_count": null,
   "metadata": {
    "collapsed": true
   },
   "outputs": [],
   "source": [
    "appa.reset()"
   ]
  },
  {
   "cell_type": "code",
   "execution_count": null,
   "metadata": {
    "collapsed": true
   },
   "outputs": [],
   "source": [
    "#do want to double check this logic...\n",
    "for i in se1ep01['word_count']:\n",
    "    appa.forward(i)\n",
    "    if se1ep01['character_list'][i] == se1ep01['character_list'][i+1]:\n",
    "        appa.forward(i)\n",
    "    else:\n",
    "        appa.left(90)"
   ]
  },
  {
   "cell_type": "code",
   "execution_count": null,
   "metadata": {
    "collapsed": true
   },
   "outputs": [],
   "source": []
  },
  {
   "cell_type": "code",
   "execution_count": null,
   "metadata": {
    "collapsed": true
   },
   "outputs": [],
   "source": [
    "turtle.exitonclick()"
   ]
  },
  {
   "cell_type": "code",
   "execution_count": null,
   "metadata": {
    "collapsed": true
   },
   "outputs": [],
   "source": [
    "#if only do this lines in the above loop, should get a straigt line. WOuld confirm code is working properly\n",
    "se1ep01[['character_list','word_count']].iloc[14:17] #should be able to just add the iloc to the above... \n",
    "#think it would work"
   ]
  },
  {
   "cell_type": "code",
   "execution_count": null,
   "metadata": {
    "collapsed": true
   },
   "outputs": [],
   "source": [
    "test = se1ep01[['character_list','word_count']].iloc[0:5]"
   ]
  },
  {
   "cell_type": "code",
   "execution_count": null,
   "metadata": {
    "collapsed": true
   },
   "outputs": [],
   "source": [
    "test"
   ]
  },
  {
   "cell_type": "code",
   "execution_count": null,
   "metadata": {
    "collapsed": true
   },
   "outputs": [],
   "source": [
    "#do want to double check this logic... #need to think about logic somemore.... \n",
    "\n",
    "#should only be 2 lines, 17 for Sokkta, and then 34 for Katara\n",
    "for i in test['word_count']:\n",
    "    appa.forward(i)\n",
    "    if test['character_list'][i] == test['character_list'][i+1]:\n",
    "        appa.forward(i)\n",
    "    else:\n",
    "        appa.left(90)"
   ]
  },
  {
   "cell_type": "code",
   "execution_count": null,
   "metadata": {
    "collapsed": true
   },
   "outputs": [],
   "source": [
    "se1ep01[['character_list','word_count']].head(20)"
   ]
  },
  {
   "cell_type": "code",
   "execution_count": null,
   "metadata": {
    "collapsed": true
   },
   "outputs": [],
   "source": [
    "import seaborn as sns"
   ]
  },
  {
   "cell_type": "code",
   "execution_count": null,
   "metadata": {
    "collapsed": true
   },
   "outputs": [],
   "source": [
    "# can figure this out later\n",
    "sns.barplot(se1ep01.groupby('character_list').sum().sort_values(by = 'word_count', ascending = False))"
   ]
  },
  {
   "cell_type": "code",
   "execution_count": null,
   "metadata": {
    "collapsed": true
   },
   "outputs": [],
   "source": [
    "ActIII_Split = file_clean.split(\"Act III</b></u>\")"
   ]
  },
  {
   "cell_type": "code",
   "execution_count": null,
   "metadata": {
    "collapsed": true
   },
   "outputs": [],
   "source": [
    "ActIII = ActIII_Split[1]"
   ]
  },
  {
   "cell_type": "code",
   "execution_count": null,
   "metadata": {
    "collapsed": true
   },
   "outputs": [],
   "source": [
    "type(ActIII)"
   ]
  },
  {
   "cell_type": "code",
   "execution_count": null,
   "metadata": {
    "collapsed": true
   },
   "outputs": [],
   "source": [
    "#if I put this earlier, I think I could be good could explore all the content quickly\n",
    "ActIII = ActIII.split('[End Credits]')[0]"
   ]
  },
  {
   "cell_type": "code",
   "execution_count": null,
   "metadata": {
    "collapsed": true
   },
   "outputs": [],
   "source": [
    "ActIII"
   ]
  },
  {
   "cell_type": "code",
   "execution_count": null,
   "metadata": {
    "collapsed": true
   },
   "outputs": [],
   "source": [
    "bold_split = ActIII.split('<b>')"
   ]
  },
  {
   "cell_type": "code",
   "execution_count": null,
   "metadata": {
    "collapsed": true
   },
   "outputs": [],
   "source": [
    "print(bold_split)\n",
    "print(type(bold_split))"
   ]
  },
  {
   "cell_type": "code",
   "execution_count": null,
   "metadata": {
    "collapsed": true
   },
   "outputs": [],
   "source": [
    "for x in range(len(bold_split)):\n",
    "    print(bold_split[x])"
   ]
  },
  {
   "cell_type": "code",
   "execution_count": null,
   "metadata": {
    "collapsed": true
   },
   "outputs": [],
   "source": [
    "master_list = []\n",
    "for x in range(len(bold_split)):\n",
    "    output = bold_split[x].split(':')\n",
    "    master_list.append(output)"
   ]
  },
  {
   "cell_type": "code",
   "execution_count": null,
   "metadata": {
    "collapsed": true
   },
   "outputs": [],
   "source": [
    "for x in range(len(master_list)):\n",
    "    print(master_list[x])"
   ]
  },
  {
   "cell_type": "code",
   "execution_count": null,
   "metadata": {
    "collapsed": true
   },
   "outputs": [],
   "source": [
    "for x in range(len(master_list)):\n",
    "    print(master_list[x])"
   ]
  },
  {
   "cell_type": "code",
   "execution_count": null,
   "metadata": {
    "collapsed": true
   },
   "outputs": [],
   "source": [
    "character_list = []\n",
    "\n",
    "for x in range(len(master_list)):\n",
    "    holder = master_list[x]\n",
    "    if len(holder)>1:\n",
    "        test = holder[0].strip()\n",
    "        character_list.append(test.strip('</b>'))"
   ]
  },
  {
   "cell_type": "code",
   "execution_count": null,
   "metadata": {
    "collapsed": true
   },
   "outputs": [],
   "source": [
    "dialogue_list = []\n",
    "\n",
    "for x in range(len(master_list)):\n",
    "    holder = master_list[x]\n",
    "    if len(holder)>1:\n",
    "        dialogue_list.append(holder[1].strip())  "
   ]
  },
  {
   "cell_type": "code",
   "execution_count": null,
   "metadata": {
    "collapsed": true
   },
   "outputs": [],
   "source": [
    "#could now create this put these into a data frame so I can do the nubmers.. \n",
    "print(len(character_list))\n",
    "print(len(dialogue_list))"
   ]
  },
  {
   "cell_type": "code",
   "execution_count": null,
   "metadata": {
    "collapsed": true
   },
   "outputs": [],
   "source": []
  },
  {
   "cell_type": "code",
   "execution_count": null,
   "metadata": {
    "collapsed": true
   },
   "outputs": [],
   "source": [
    "print(master_list[0])\n",
    "print(type(master_list[1]))\n",
    "print(master_list[2])"
   ]
  },
  {
   "cell_type": "code",
   "execution_count": null,
   "metadata": {
    "collapsed": true
   },
   "outputs": [],
   "source": [
    "test = bold_split[2]\n",
    "print(test)"
   ]
  },
  {
   "cell_type": "code",
   "execution_count": null,
   "metadata": {
    "collapsed": true
   },
   "outputs": [],
   "source": [
    "output = test.split(':')"
   ]
  },
  {
   "cell_type": "code",
   "execution_count": null,
   "metadata": {
    "collapsed": true
   },
   "outputs": [],
   "source": [
    "print(output[0].strip())\n",
    "print(output[1].strip())"
   ]
  },
  {
   "cell_type": "code",
   "execution_count": null,
   "metadata": {
    "collapsed": true
   },
   "outputs": [],
   "source": [
    "for x in range(len(output)):\n",
    "    print(output[x].strip())"
   ]
  },
  {
   "cell_type": "code",
   "execution_count": null,
   "metadata": {
    "collapsed": true
   },
   "outputs": [],
   "source": [
    "master_list = []\n",
    "for x in range(len(bold_split)):\n",
    "    output = bold_split[x].split(':')\n",
    "    master_list.append(output)"
   ]
  },
  {
   "cell_type": "code",
   "execution_count": null,
   "metadata": {
    "collapsed": true
   },
   "outputs": [],
   "source": [
    "for x in range(len(master_list)):\n",
    "    print(master_list[x])"
   ]
  },
  {
   "cell_type": "code",
   "execution_count": null,
   "metadata": {
    "collapsed": true
   },
   "outputs": [],
   "source": []
  },
  {
   "cell_type": "code",
   "execution_count": null,
   "metadata": {
    "collapsed": true
   },
   "outputs": [],
   "source": [
    "str_list = list(filter(None, master_list)) # fastest"
   ]
  },
  {
   "cell_type": "code",
   "execution_count": null,
   "metadata": {
    "collapsed": true
   },
   "outputs": [],
   "source": [
    "str_list[0]"
   ]
  },
  {
   "cell_type": "code",
   "execution_count": null,
   "metadata": {
    "collapsed": true
   },
   "outputs": [],
   "source": [
    "master_list2 = []\n",
    "for x in range(len(master_list)):\n",
    "    output = str(master_list[x]).split('</b>:')\n",
    "    master_list2.append(output)"
   ]
  },
  {
   "cell_type": "code",
   "execution_count": null,
   "metadata": {
    "collapsed": true
   },
   "outputs": [],
   "source": []
  },
  {
   "cell_type": "code",
   "execution_count": null,
   "metadata": {
    "collapsed": true
   },
   "outputs": [],
   "source": [
    "master_list2"
   ]
  },
  {
   "cell_type": "code",
   "execution_count": null,
   "metadata": {
    "collapsed": true
   },
   "outputs": [],
   "source": [
    "bold_split[5:6].split('</b>')"
   ]
  },
  {
   "cell_type": "code",
   "execution_count": null,
   "metadata": {
    "collapsed": true
   },
   "outputs": [],
   "source": [
    "master_list = []\n",
    "for x in bold_split:\n",
    "    new_str = x.split('</b>:')\n",
    "    master_list.append(new_str)"
   ]
  },
  {
   "cell_type": "code",
   "execution_count": null,
   "metadata": {
    "collapsed": true
   },
   "outputs": [],
   "source": [
    "for x in range(0,12):\n",
    "    print(master_list[x])"
   ]
  },
  {
   "cell_type": "code",
   "execution_count": null,
   "metadata": {
    "collapsed": true
   },
   "outputs": [],
   "source": [
    "for x in range(10,11):\n",
    "    print(master_list[x])\n",
    "    print(type(master_list[x]))\n",
    "    print(len(master_list[x]))\n",
    "    print(master_list[x])"
   ]
  },
  {
   "cell_type": "code",
   "execution_count": null,
   "metadata": {
    "collapsed": true
   },
   "outputs": [],
   "source": [
    "str(master_list[10]).split(\"</b>\")[1]"
   ]
  },
  {
   "cell_type": "code",
   "execution_count": null,
   "metadata": {
    "collapsed": true
   },
   "outputs": [],
   "source": [
    "print(master_list[10][0])\n",
    "print(master_list[10][1])"
   ]
  },
  {
   "cell_type": "code",
   "execution_count": null,
   "metadata": {
    "collapsed": true
   },
   "outputs": [],
   "source": [
    "for x in range(0,20):\n",
    "    print(test[x])"
   ]
  },
  {
   "cell_type": "code",
   "execution_count": null,
   "metadata": {
    "collapsed": true
   },
   "outputs": [],
   "source": [
    "#filters the list to remove all the balnk items (which is what I want to do)\n",
    "new_test = list(filter(None, test))"
   ]
  },
  {
   "cell_type": "code",
   "execution_count": null,
   "metadata": {
    "collapsed": true
   },
   "outputs": [],
   "source": [
    "print(new_test)"
   ]
  },
  {
   "cell_type": "code",
   "execution_count": null,
   "metadata": {
    "collapsed": true
   },
   "outputs": [],
   "source": [
    "for x in range(0,20):\n",
    "    print(new_test[x])"
   ]
  },
  {
   "cell_type": "code",
   "execution_count": null,
   "metadata": {
    "collapsed": true
   },
   "outputs": [],
   "source": [
    "type(new_test)"
   ]
  },
  {
   "cell_type": "code",
   "execution_count": null,
   "metadata": {
    "collapsed": true
   },
   "outputs": [],
   "source": [
    "new_test2 = str(new_test)"
   ]
  },
  {
   "cell_type": "code",
   "execution_count": null,
   "metadata": {
    "collapsed": true
   },
   "outputs": [],
   "source": [
    "print(new_test2)"
   ]
  },
  {
   "cell_type": "code",
   "execution_count": null,
   "metadata": {
    "collapsed": true
   },
   "outputs": [],
   "source": [
    "type(new_test2)"
   ]
  },
  {
   "cell_type": "code",
   "execution_count": null,
   "metadata": {
    "collapsed": true
   },
   "outputs": [],
   "source": [
    "#clean blank spaces"
   ]
  },
  {
   "cell_type": "code",
   "execution_count": null,
   "metadata": {
    "collapsed": true
   },
   "outputs": [],
   "source": [
    "remove_spaces = \"\".join(new_test2.strip())"
   ]
  },
  {
   "cell_type": "code",
   "execution_count": null,
   "metadata": {
    "collapsed": true
   },
   "outputs": [],
   "source": [
    "remove_spaces"
   ]
  },
  {
   "cell_type": "code",
   "execution_count": null,
   "metadata": {
    "collapsed": true
   },
   "outputs": [],
   "source": [
    "final = remove_spaces.split(\":\")"
   ]
  },
  {
   "cell_type": "code",
   "execution_count": null,
   "metadata": {
    "collapsed": true
   },
   "outputs": [],
   "source": [
    "final"
   ]
  },
  {
   "cell_type": "code",
   "execution_count": null,
   "metadata": {
    "collapsed": true
   },
   "outputs": [],
   "source": [
    "new"
   ]
  },
  {
   "cell_type": "code",
   "execution_count": null,
   "metadata": {
    "collapsed": true
   },
   "outputs": [],
   "source": [
    "for x in range(0,11):\n",
    "    print(x)\n",
    "    print(new[x])"
   ]
  },
  {
   "cell_type": "code",
   "execution_count": null,
   "metadata": {
    "collapsed": true
   },
   "outputs": [],
   "source": [
    "for x in range(0,11):\n",
    "    if x%2 == 0:\n",
    "        print(new_test[x])"
   ]
  },
  {
   "cell_type": "code",
   "execution_count": null,
   "metadata": {
    "collapsed": true
   },
   "outputs": [],
   "source": [
    "1%"
   ]
  },
  {
   "cell_type": "code",
   "execution_count": null,
   "metadata": {
    "collapsed": true
   },
   "outputs": [],
   "source": [
    "type(new_test)"
   ]
  },
  {
   "cell_type": "code",
   "execution_count": null,
   "metadata": {
    "collapsed": true
   },
   "outputs": [],
   "source": []
  },
  {
   "cell_type": "code",
   "execution_count": null,
   "metadata": {
    "collapsed": true
   },
   "outputs": [],
   "source": [
    "test"
   ]
  },
  {
   "cell_type": "code",
   "execution_count": null,
   "metadata": {
    "collapsed": true
   },
   "outputs": [],
   "source": [
    "test = ActIII.split(\":\")"
   ]
  },
  {
   "cell_type": "code",
   "execution_count": null,
   "metadata": {
    "collapsed": true
   },
   "outputs": [],
   "source": [
    "test1 = str(test)"
   ]
  },
  {
   "cell_type": "code",
   "execution_count": null,
   "metadata": {
    "collapsed": true
   },
   "outputs": [],
   "source": [
    "type(test1)"
   ]
  },
  {
   "cell_type": "code",
   "execution_count": null,
   "metadata": {
    "collapsed": true
   },
   "outputs": [],
   "source": [
    "print(test1)"
   ]
  },
  {
   "cell_type": "code",
   "execution_count": null,
   "metadata": {
    "collapsed": true
   },
   "outputs": [],
   "source": [
    "test1 = str(test1.split('\\n'))"
   ]
  },
  {
   "cell_type": "code",
   "execution_count": null,
   "metadata": {
    "collapsed": true
   },
   "outputs": [],
   "source": []
  },
  {
   "cell_type": "code",
   "execution_count": null,
   "metadata": {
    "collapsed": true
   },
   "outputs": [],
   "source": [
    "for x in range(0,10):\n",
    "    print(test1[x])"
   ]
  },
  {
   "cell_type": "code",
   "execution_count": null,
   "metadata": {
    "collapsed": true
   },
   "outputs": [],
   "source": [
    "test1[1]"
   ]
  },
  {
   "cell_type": "code",
   "execution_count": null,
   "metadata": {
    "collapsed": true
   },
   "outputs": [],
   "source": [
    "type(test)"
   ]
  },
  {
   "cell_type": "code",
   "execution_count": null,
   "metadata": {
    "collapsed": true
   },
   "outputs": [],
   "source": [
    "test[0]"
   ]
  },
  {
   "cell_type": "code",
   "execution_count": null,
   "metadata": {
    "collapsed": true
   },
   "outputs": [],
   "source": [
    "test[1]"
   ]
  },
  {
   "cell_type": "code",
   "execution_count": null,
   "metadata": {
    "collapsed": true
   },
   "outputs": [],
   "source": [
    "test[2]"
   ]
  },
  {
   "cell_type": "code",
   "execution_count": null,
   "metadata": {
    "collapsed": true
   },
   "outputs": [],
   "source": [
    "print(test)"
   ]
  },
  {
   "cell_type": "code",
   "execution_count": null,
   "metadata": {
    "collapsed": true
   },
   "outputs": [],
   "source": [
    "ActII_Split = ActIII_Split[0].split(\"Act II\")"
   ]
  },
  {
   "cell_type": "code",
   "execution_count": null,
   "metadata": {
    "collapsed": true
   },
   "outputs": [],
   "source": [
    "ActII = ActII_Split[1]"
   ]
  },
  {
   "cell_type": "code",
   "execution_count": null,
   "metadata": {
    "collapsed": true
   },
   "outputs": [],
   "source": [
    "ActI_Split = ActII_Split[0].split(\"Act I\")"
   ]
  },
  {
   "cell_type": "code",
   "execution_count": null,
   "metadata": {
    "collapsed": true
   },
   "outputs": [],
   "source": [
    "ActI = ActI_Split[1]"
   ]
  },
  {
   "cell_type": "code",
   "execution_count": null,
   "metadata": {
    "collapsed": true
   },
   "outputs": [],
   "source": [
    "ActI"
   ]
  },
  {
   "cell_type": "code",
   "execution_count": null,
   "metadata": {
    "collapsed": true
   },
   "outputs": [],
   "source": [
    "print(type(ActI))\n",
    "print(type(ActII))\n",
    "print(type(ActIII))"
   ]
  },
  {
   "cell_type": "code",
   "execution_count": null,
   "metadata": {
    "collapsed": true
   },
   "outputs": [],
   "source": [
    "ep = ActI + ActII + ActIII"
   ]
  },
  {
   "cell_type": "code",
   "execution_count": null,
   "metadata": {
    "collapsed": true
   },
   "outputs": [],
   "source": [
    "ep"
   ]
  },
  {
   "cell_type": "code",
   "execution_count": null,
   "metadata": {
    "collapsed": true
   },
   "outputs": [],
   "source": [
    "#how to split on the names?\n",
    "#this pushes the name to the other set... If I know what I need to split on, how could I do it?\n",
    "\n",
    "#can I look to the left of :? And then use that word to split stuff?\n",
    "\n",
    "test_split = ep.split(\":\")"
   ]
  },
  {
   "cell_type": "code",
   "execution_count": null,
   "metadata": {
    "collapsed": true
   },
   "outputs": [],
   "source": [
    "test_split"
   ]
  },
  {
   "cell_type": "code",
   "execution_count": null,
   "metadata": {
    "collapsed": true
   },
   "outputs": [],
   "source": [
    "len(test_split)"
   ]
  },
  {
   "cell_type": "code",
   "execution_count": null,
   "metadata": {
    "collapsed": true
   },
   "outputs": [],
   "source": [
    "test_split[0]"
   ]
  },
  {
   "cell_type": "code",
   "execution_count": null,
   "metadata": {
    "collapsed": true
   },
   "outputs": [],
   "source": [
    "test_split[1]"
   ]
  },
  {
   "cell_type": "code",
   "execution_count": null,
   "metadata": {
    "collapsed": true
   },
   "outputs": [],
   "source": [
    "test_split[2]"
   ]
  }
 ],
 "metadata": {
  "kernelspec": {
   "display_name": "Python 3",
   "language": "python",
   "name": "python3"
  },
  "language_info": {
   "codemirror_mode": {
    "name": "ipython",
    "version": 3
   },
   "file_extension": ".py",
   "mimetype": "text/x-python",
   "name": "python",
   "nbconvert_exporter": "python",
   "pygments_lexer": "ipython3",
   "version": "3.6.3"
  }
 },
 "nbformat": 4,
 "nbformat_minor": 2
}
