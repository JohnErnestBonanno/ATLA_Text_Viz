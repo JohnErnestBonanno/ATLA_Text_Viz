{
 "cells": [
  {
   "cell_type": "code",
   "execution_count": null,
   "metadata": {
    "collapsed": true
   },
   "outputs": [],
   "source": [
    "file = open(\"se1_ep01_bold.txt\",\"r\")"
   ]
  },
  {
   "cell_type": "code",
   "execution_count": null,
   "metadata": {
    "collapsed": true
   },
   "outputs": [],
   "source": [
    "file = file.read()"
   ]
  },
  {
   "cell_type": "code",
   "execution_count": null,
   "metadata": {},
   "outputs": [],
   "source": [
    "print(file)"
   ]
  },
  {
   "cell_type": "code",
   "execution_count": null,
   "metadata": {},
   "outputs": [],
   "source": [
    "type(file)"
   ]
  },
  {
   "cell_type": "code",
   "execution_count": null,
   "metadata": {
    "collapsed": true
   },
   "outputs": [],
   "source": [
    "import re"
   ]
  },
  {
   "cell_type": "code",
   "execution_count": null,
   "metadata": {},
   "outputs": [],
   "source": [
    "len(file)"
   ]
  },
  {
   "cell_type": "code",
   "execution_count": null,
   "metadata": {
    "collapsed": true
   },
   "outputs": [],
   "source": [
    "#Seems to work, but gets rid of stuff I want to keep like question marks \n",
    "#re.sub(\"[\\(\\[].*[\\)\\]]\", \"\",file)\n",
    "\n",
    "#https://stackoverflow.com/questions/640001/how-can-i-remove-text-within-parentheses-with-a-regex\n",
    "#stack overflow explanatio\n",
    "\n",
    "file_clean = re.sub(r'\\([^()]*\\)', '', file)\n",
    "#re.sub(r'\\(\\w*\\)', '', file)"
   ]
  },
  {
   "cell_type": "code",
   "execution_count": null,
   "metadata": {},
   "outputs": [],
   "source": [
    "print(file_clean)"
   ]
  },
  {
   "cell_type": "code",
   "execution_count": null,
   "metadata": {
    "collapsed": true
   },
   "outputs": [],
   "source": [
    "#works but splits intwo a few more than I want\n",
    "#challenge is you have Act I, Act II, and Act III\n",
    "\n",
    "#split = file_clean.split(\"Act I\")\n",
    "#how do I find exactly act I?\n",
    "\n",
    "#potentially, could start with act III, then act II, then Act 1? By starting backwards, I do this in a bit of a poor goofy way..."
   ]
  },
  {
   "cell_type": "code",
   "execution_count": null,
   "metadata": {
    "collapsed": true
   },
   "outputs": [],
   "source": [
    "script = file_clean.split('[End Credits]')[0]"
   ]
  },
  {
   "cell_type": "code",
   "execution_count": null,
   "metadata": {
    "collapsed": true
   },
   "outputs": [],
   "source": [
    "script_clean = script.split(\"Act I</b></u>\")[1]"
   ]
  },
  {
   "cell_type": "code",
   "execution_count": null,
   "metadata": {},
   "outputs": [],
   "source": [
    "script_clean"
   ]
  },
  {
   "cell_type": "code",
   "execution_count": null,
   "metadata": {
    "collapsed": true
   },
   "outputs": [],
   "source": [
    "bold_split = script_clean.split('<b>')"
   ]
  },
  {
   "cell_type": "code",
   "execution_count": null,
   "metadata": {},
   "outputs": [],
   "source": [
    "bold_split"
   ]
  },
  {
   "cell_type": "code",
   "execution_count": null,
   "metadata": {
    "collapsed": true
   },
   "outputs": [],
   "source": [
    "master_list = []\n",
    "for x in range(len(bold_split)):\n",
    "    output = bold_split[x].split(':')\n",
    "    master_list.append(output)"
   ]
  },
  {
   "cell_type": "code",
   "execution_count": null,
   "metadata": {
    "collapsed": true
   },
   "outputs": [],
   "source": [
    "character_list = []\n",
    "\n",
    "for x in range(len(master_list)):\n",
    "    holder = master_list[x]\n",
    "    if len(holder)>1:\n",
    "        test = holder[0].strip()\n",
    "        character_list.append(test.strip('</b>'))"
   ]
  },
  {
   "cell_type": "code",
   "execution_count": null,
   "metadata": {
    "collapsed": true
   },
   "outputs": [],
   "source": [
    "dialogue_list = []\n",
    "\n",
    "for x in range(len(master_list)):\n",
    "    holder = master_list[x]\n",
    "    if len(holder)>1:\n",
    "        dialogue_list.append(holder[1].strip()) "
   ]
  },
  {
   "cell_type": "code",
   "execution_count": null,
   "metadata": {},
   "outputs": [],
   "source": [
    "print(len(character_list))\n",
    "print(len(dialogue_list))"
   ]
  },
  {
   "cell_type": "code",
   "execution_count": null,
   "metadata": {},
   "outputs": [],
   "source": [
    "print(character_list)"
   ]
  },
  {
   "cell_type": "code",
   "execution_count": null,
   "metadata": {
    "collapsed": true
   },
   "outputs": [],
   "source": [
    "#attempt at list comprehension\n",
    "#character_list = [character_list.strip(' ') for character_list in character_list]"
   ]
  },
  {
   "cell_type": "code",
   "execution_count": null,
   "metadata": {},
   "outputs": [],
   "source": [
    "print(character_list)"
   ]
  },
  {
   "cell_type": "code",
   "execution_count": null,
   "metadata": {},
   "outputs": [],
   "source": [
    "print(dialogue_list)"
   ]
  },
  {
   "cell_type": "code",
   "execution_count": null,
   "metadata": {
    "collapsed": true
   },
   "outputs": [],
   "source": [
    "import pandas as pd"
   ]
  },
  {
   "cell_type": "code",
   "execution_count": null,
   "metadata": {
    "collapsed": true
   },
   "outputs": [],
   "source": [
    "se1ep01 = pd.DataFrame()"
   ]
  },
  {
   "cell_type": "code",
   "execution_count": null,
   "metadata": {
    "collapsed": true
   },
   "outputs": [],
   "source": [
    "se1ep01['character_list'] = character_list"
   ]
  },
  {
   "cell_type": "code",
   "execution_count": null,
   "metadata": {
    "collapsed": true
   },
   "outputs": [],
   "source": [
    "se1ep01['dialogue_list'] = dialogue_list"
   ]
  },
  {
   "cell_type": "code",
   "execution_count": null,
   "metadata": {},
   "outputs": [],
   "source": [
    "se1ep01"
   ]
  },
  {
   "cell_type": "code",
   "execution_count": null,
   "metadata": {},
   "outputs": [],
   "source": [
    "print(type(se1ep01['dialogue_list'][1]))"
   ]
  },
  {
   "cell_type": "code",
   "execution_count": null,
   "metadata": {},
   "outputs": [],
   "source": [
    "print(len(se1ep01['dialogue_list'][1]))"
   ]
  },
  {
   "cell_type": "code",
   "execution_count": null,
   "metadata": {
    "collapsed": true
   },
   "outputs": [],
   "source": [
    "count = se1ep01['dialogue_list'].str.split().str.len()\n",
    "count.index = count.index.astype(str)\n",
    "#count.sort_index(inplace=True)\n",
    "count = list(count)"
   ]
  },
  {
   "cell_type": "code",
   "execution_count": null,
   "metadata": {},
   "outputs": [],
   "source": [
    "type(count)"
   ]
  },
  {
   "cell_type": "code",
   "execution_count": null,
   "metadata": {},
   "outputs": [],
   "source": [
    "type(count[2])"
   ]
  },
  {
   "cell_type": "code",
   "execution_count": null,
   "metadata": {
    "collapsed": true
   },
   "outputs": [],
   "source": [
    "se1ep01['word_count']=count"
   ]
  },
  {
   "cell_type": "code",
   "execution_count": null,
   "metadata": {},
   "outputs": [],
   "source": [
    "se1ep01.head()"
   ]
  },
  {
   "cell_type": "code",
   "execution_count": null,
   "metadata": {},
   "outputs": [],
   "source": [
    "se1ep01.groupby('character_list').sum().sort_values(by = 'word_count', ascending = False)"
   ]
  },
  {
   "cell_type": "code",
   "execution_count": null,
   "metadata": {},
   "outputs": [],
   "source": [
    "type(se1ep01.groupby('character_list').sum().sort_values(by = 'word_count', ascending = False))"
   ]
  },
  {
   "cell_type": "code",
   "execution_count": null,
   "metadata": {},
   "outputs": [],
   "source": [
    "se1ep01[['character_list','word_count']].head(5)"
   ]
  },
  {
   "cell_type": "code",
   "execution_count": null,
   "metadata": {
    "collapsed": true
   },
   "outputs": [],
   "source": [
    "#try to do turtle?\n",
    "\n",
    "#if character list is in list, change color, then move turtle forward by word count, and rotate it 90 degress\n",
    "# prob want to get the lines first, and then the groupings? \n",
    "\n",
    "#could I do some adding? while statement?\n",
    "#while the character list is the same, sum them all as one? \n",
    "\n",
    "#could also create a new function that goes through, \n",
    "#if different, keep going, if not, sum it and add it to a new row... "
   ]
  },
  {
   "cell_type": "code",
   "execution_count": null,
   "metadata": {
    "collapsed": true
   },
   "outputs": [],
   "source": [
    "#test = se1ep01.iloc[0:20] #could try to concat line by line? \n",
    "\n",
    "#trying on the entire data set\n",
    "test = se1ep01\n",
    "\n",
    "#problem area\n",
    "#test = se1ep01.iloc[40:50]"
   ]
  },
  {
   "cell_type": "code",
   "execution_count": null,
   "metadata": {
    "collapsed": true
   },
   "outputs": [],
   "source": [
    "#test = se1ep01[['character_list','word_count']].head(5)"
   ]
  },
  {
   "cell_type": "code",
   "execution_count": null,
   "metadata": {
    "collapsed": true
   },
   "outputs": [],
   "source": [
    "test= test[['character_list','word_count']]"
   ]
  },
  {
   "cell_type": "code",
   "execution_count": null,
   "metadata": {
    "scrolled": true
   },
   "outputs": [],
   "source": [
    "test"
   ]
  },
  {
   "cell_type": "code",
   "execution_count": null,
   "metadata": {},
   "outputs": [],
   "source": [
    "test.index"
   ]
  },
  {
   "cell_type": "code",
   "execution_count": null,
   "metadata": {
    "scrolled": true
   },
   "outputs": [],
   "source": [
    "#PRETTY SURE THIS IS CORRECT. NEED TO DOUBLE CHECK AND CLEAN IT UP TOMORROW. \n",
    "#understand why this worked... specically why need to use .at to get it to set\n",
    "\n",
    "#so this is working, but getting a copy error\n",
    "\n",
    "#the copy error is happening in the first part of it\n",
    "\n",
    "#https://stackoverflow.com/questions/13842088/set-value-for-particular-cell-in-pandas-dataframe-using-index\n",
    "\n",
    "i = 1\n",
    "\n",
    "df_copy = pd.DataFrame()\n",
    "df_copy = df_copy.append(test.iloc[0])\n",
    "\n",
    "while i < len(test.index):\n",
    "    if test['character_list'][i] == test['character_list'][i-1]:\n",
    "        answer = (test['word_count'][i]+test['word_count'][i-1])\n",
    "        #print(answer)\n",
    "        #df_copy.set_value(['word_count'],[i-1],answer) #does this work\n",
    "        \n",
    "        df_copy['word_count'].at[i-1] = answer # this might be it... \n",
    "        \n",
    "        #this is close, but know the index is out of bounds\n",
    "        \n",
    "        #df_copy.at['word_count',[i-1]] = answer # does this work\n",
    "        #need to try .at or .iat \n",
    "        \n",
    "        #df_copy = df_copy.append(test.iloc[i])\n",
    "        i = i + 1\n",
    "    else:\n",
    "        #print(\"Don't Match\")\n",
    "        df_copy = df_copy.append(test.iloc[i])\n",
    "        i = i + 1"
   ]
  },
  {
   "cell_type": "code",
   "execution_count": null,
   "metadata": {},
   "outputs": [],
   "source": [
    "print(len(test))\n",
    "print(len(df_copy))"
   ]
  },
  {
   "cell_type": "code",
   "execution_count": null,
   "metadata": {
    "collapsed": true
   },
   "outputs": [],
   "source": [
    "# to check that everythign is working\n",
    "pd.set_option('display.max_rows', 150)"
   ]
  },
  {
   "cell_type": "code",
   "execution_count": null,
   "metadata": {},
   "outputs": [],
   "source": [
    "#will need to reset the index!\n",
    "df_copy"
   ]
  },
  {
   "cell_type": "code",
   "execution_count": null,
   "metadata": {},
   "outputs": [],
   "source": [
    "df_copy = df_copy.reset_index(drop = True)"
   ]
  },
  {
   "cell_type": "code",
   "execution_count": null,
   "metadata": {
    "collapsed": true
   },
   "outputs": [],
   "source": [
    "#groups of characters\n",
    "\n",
    "characters1 = \"Aang\"\n",
    "characters2 = [\"Katara\",\"Sokka\"]\n",
    "characters3 = [\"Zuko\",\"Iroh\"]"
   ]
  },
  {
   "cell_type": "code",
   "execution_count": null,
   "metadata": {
    "collapsed": true
   },
   "outputs": [],
   "source": [
    "import turtle"
   ]
  },
  {
   "cell_type": "code",
   "execution_count": null,
   "metadata": {
    "collapsed": true
   },
   "outputs": [],
   "source": [
    "screen = turtle.Screen()"
   ]
  },
  {
   "cell_type": "code",
   "execution_count": null,
   "metadata": {
    "collapsed": true
   },
   "outputs": [],
   "source": [
    "appa = turtle.Turtle()"
   ]
  },
  {
   "cell_type": "code",
   "execution_count": null,
   "metadata": {
    "collapsed": true
   },
   "outputs": [],
   "source": [
    "#formatting\n",
    "\n",
    "#returns current size\n",
    "#appa.pensize()\n",
    "appa.pencolor('black')\n",
    "#current size\n",
    "appa.pensize(1)\n",
    "appa.speed(8)"
   ]
  },
  {
   "cell_type": "code",
   "execution_count": null,
   "metadata": {
    "collapsed": true
   },
   "outputs": [],
   "source": [
    "#believe this is working!!! GO hoos!\n",
    "\n",
    "for i in df_copy.index:\n",
    "    \n",
    "    #change pen color depending on character\n",
    "    if df_copy['character_list'][i] in [\"Aang\"]:\n",
    "        appa.pencolor('orange')\n",
    "    elif df_copy['character_list'][i] in [\"Katara\",\"Sokka\"]:\n",
    "        appa.pencolor('blue')\n",
    "    elif df_copy['character_list'][i] in [\"Zuko\",\"Iroh\"]:\n",
    "        appa.pencolor('red')\n",
    "    else:\n",
    "        appa.pencolor('black')\n",
    "    \n",
    "#move the turtle forward and then rotate it 90s\n",
    "    appa.forward((df_copy['word_count'][i])*1.8)#scales everything by 3...  \n",
    "    appa.left(90)"
   ]
  },
  {
   "cell_type": "code",
   "execution_count": null,
   "metadata": {
    "collapsed": true
   },
   "outputs": [],
   "source": [
    "#save the screen\n",
    "screenshot = appa.getscreen()"
   ]
  },
  {
   "cell_type": "code",
   "execution_count": null,
   "metadata": {},
   "outputs": [],
   "source": [
    "#a little more complicated than I'd like\n",
    "\n",
    "#https://stackoverflow.com/questions/35629520/convert-images-drawn-by-turtle-to-png-in-python\n",
    "screenshot.getcanvas().postscript(file = 'screen.jpg')"
   ]
  },
  {
   "cell_type": "code",
   "execution_count": null,
   "metadata": {
    "collapsed": true
   },
   "outputs": [],
   "source": [
    "appa.reset()"
   ]
  },
  {
   "cell_type": "code",
   "execution_count": null,
   "metadata": {},
   "outputs": [],
   "source": []
  },
  {
   "cell_type": "code",
   "execution_count": null,
   "metadata": {
    "collapsed": true
   },
   "outputs": [],
   "source": [
    "#scalling by makign everything twice as long... \n",
    "#like the scalling by 2... but might want to experiment with slightly smaller values...\n",
    "\n",
    "#How much do I want to scale items by?\n",
    "for i in df_copy['word_count']:\n",
    "    appa.forward(i*1.5)#scales by 1.5  \n",
    "    appa.left(90)"
   ]
  },
  {
   "cell_type": "code",
   "execution_count": null,
   "metadata": {
    "collapsed": true
   },
   "outputs": [],
   "source": [
    "appa.reset()"
   ]
  },
  {
   "cell_type": "code",
   "execution_count": null,
   "metadata": {},
   "outputs": [],
   "source": [
    "type(df_copy['word_count'][0])"
   ]
  },
  {
   "cell_type": "code",
   "execution_count": null,
   "metadata": {},
   "outputs": [],
   "source": [
    "for i in df_copy.index:\n",
    "    \n",
    "    #change pen color depending on character\n",
    "    if df_copy['character_list'][i] in [\"Aang\"]:\n",
    "        appa.pencolor('orange')\n",
    "    elif df_copy['character_list'][i] in [\"Katara\",\"Sokka\"]:\n",
    "        appa.pencolor('blue')\n",
    "    elif df_copy['character_list'][i] in [\"Zuko\",\"Iroh\"]:\n",
    "        appa.pencolor('red')\n",
    "    else:\n",
    "        appa.pencolor('black')\n",
    "    \n",
    "#move the turtle forward and then rotate it 90s\n",
    "    appa.forward((df_copy['word_count'][i])*1.5)#scales everything by 3...  \n",
    "    appa.left(90)"
   ]
  },
  {
   "cell_type": "code",
   "execution_count": null,
   "metadata": {
    "collapsed": true
   },
   "outputs": [],
   "source": [
    "for i in df_copy.index:\n",
    "    \n",
    "    #change pen color depending on character\n",
    "    if df_copy['character_list'][i] in [\"Aang\"]:\n",
    "        appa.pencolor('orange')\n",
    "        appa.forward(i*2)#scales everything by 3...  \n",
    "        appa.left(90)\n",
    "    elif df_copy['character_list'][i] in [\"Katara\",\"Sokka\"]:\n",
    "        appa.pencolor('blue')\n",
    "        appa.forward(i*2)#scales everything by 3...  \n",
    "        appa.left(90)\n",
    "    elif df_copy['character_list'][i] in [\"Zuko\",\"Iroh\"]:\n",
    "        appa.pencolor('red')\n",
    "        appa.forward(i*2)#scales everything by 3...  \n",
    "        appa.left(90)\n",
    "    else:\n",
    "        appa.pencolor('black')\n",
    "        appa.forward(i*2)#scales everything by 3...  \n",
    "        appa.left(90)\n",
    "    \n",
    "    #move the turtle forward and then rotate it 90s\n",
    "    #appa.forward(i*2)#scales everything by 3...  \n",
    "    #appa.left(90)"
   ]
  },
  {
   "cell_type": "code",
   "execution_count": null,
   "metadata": {},
   "outputs": [],
   "source": [
    "for i in df_copy['word_count'].index:\n",
    "    print(df_copy['word_count'])"
   ]
  },
  {
   "cell_type": "code",
   "execution_count": null,
   "metadata": {},
   "outputs": [],
   "source": [
    "print(df_copy['character_list'][0])\n",
    "print(df_copy['character_list'][1])\n",
    "print(df_copy['character_list'][2])"
   ]
  },
  {
   "cell_type": "code",
   "execution_count": null,
   "metadata": {},
   "outputs": [],
   "source": [
    "#.... GOTCHA #needed to use else if...\n",
    "#because was runnign into problems. Was the first things true? No.  Go the else statement.. \n",
    "#not sure why that lead to other other printing\n",
    "\n",
    "\n",
    "for i in range(len(df_copy)):\n",
    "\n",
    "    #change pen color depending on character\n",
    "    if df_copy['character_list'][i] in [\"Aang\"]:\n",
    "        print('orange')\n",
    "    elif df_copy['character_list'][i] in [\"Katara\",\"Sokka\"]:\n",
    "        print('blue')\n",
    "    elif df_copy['character_list'][i] in [\"Zuko\",\"Iroh\"]:\n",
    "        print('red')\n",
    "    else:\n",
    "        print('black')"
   ]
  },
  {
   "cell_type": "code",
   "execution_count": null,
   "metadata": {},
   "outputs": [],
   "source": [
    "df_copy['character_list'][0]"
   ]
  },
  {
   "cell_type": "code",
   "execution_count": null,
   "metadata": {},
   "outputs": [],
   "source": [
    "print(df_copy['character_list'][0])\n",
    "print(df_copy['character_list'][0] in [\"Katara\",\"Sokka\"])"
   ]
  },
  {
   "cell_type": "code",
   "execution_count": null,
   "metadata": {},
   "outputs": [],
   "source": [
    "print(df_copy['character_list'][1])\n",
    "print(df_copy['character_list'][1] in [\"Katara\",\"Sokka\"])"
   ]
  },
  {
   "cell_type": "code",
   "execution_count": null,
   "metadata": {},
   "outputs": [],
   "source": [
    "now is doing something else... \n",
    "for i in df_copy.index:\n",
    "    \n",
    "    #change pen color depending on character\n",
    "    if df_copy['character_list'][i] in [\"Aang\"]:\n",
    "        appa.pencolor('orange')\n",
    "        appa.forward(i*2)#scales everything by 3...  \n",
    "        appa.left(90)\n",
    "    elif df_copy['character_list'][i] in [\"Katara\",\"Sokka\"]:\n",
    "        appa.pencolor('blue')\n",
    "        appa.forward(i*2)#scales everything by 3...  \n",
    "        appa.left(90)\n",
    "    elif df_copy['character_list'][i] in [\"Zuko\",\"Iroh\"]:\n",
    "        appa.pencolor('red')\n",
    "        appa.forward(i*2)#scales everything by 3...  \n",
    "        appa.left(90)\n",
    "    else:\n",
    "        appa.pencolor('black')\n",
    "        appa.forward(i*2)#scales everything by 3...  \n",
    "        appa.left(90)\n",
    "    \n",
    "    #move the turtle forward and then rotate it 90s\n",
    "    #appa.forward(i*2)#scales everything by 3...  \n",
    "    #appa.left(90)"
   ]
  },
  {
   "cell_type": "code",
   "execution_count": null,
   "metadata": {
    "collapsed": true
   },
   "outputs": [],
   "source": [
    "#this is close... \n",
    "for i in df_copy['word_count']:\n",
    "    \n",
    "    #change pen color depending on character\n",
    "    if df_copy['character_list'][i] in characters1:\n",
    "        appa.pencolor('orange')\n",
    "    if df_copy['character_list'][i] in characters2:\n",
    "        appa.pencolor('blue')\n",
    "    if df_copy['character_list'][i] in characters3:\n",
    "        appa.pencolor('red')\n",
    "    else:\n",
    "        appa.pencolor('black')\n",
    "    \n",
    "    #move the turtle forward and then rotate it 90s\n",
    "    appa.forward(i*2)#scales everything by 3...  \n",
    "    appa.left(90)"
   ]
  },
  {
   "cell_type": "code",
   "execution_count": null,
   "metadata": {},
   "outputs": [],
   "source": [
    "#do want to double check this logic...\n",
    "\"\"\"\n",
    "for i in se1ep01['word_count']:\n",
    "    appa.forward(i)\n",
    "    if se1ep01['character_list'][i] == se1ep01['character_list'][i+1]:\n",
    "        appa.forward(i)\n",
    "    else:\n",
    "        appa.left(90)\n",
    "\"\"\""
   ]
  },
  {
   "cell_type": "code",
   "execution_count": null,
   "metadata": {
    "collapsed": true
   },
   "outputs": [],
   "source": [
    "characters1 = [\"Aang\"]\n",
    "characters2 = [\"Katara\",\"Sokka\"]\n",
    "characters3 = [\"Zuko\",\"Iroh\"]"
   ]
  },
  {
   "cell_type": "code",
   "execution_count": null,
   "metadata": {
    "collapsed": true
   },
   "outputs": [],
   "source": [
    "df_copy = df_copy.reset_index(drop = True)"
   ]
  },
  {
   "cell_type": "code",
   "execution_count": null,
   "metadata": {},
   "outputs": [],
   "source": [
    "df_copy"
   ]
  },
  {
   "cell_type": "code",
   "execution_count": null,
   "metadata": {},
   "outputs": [],
   "source": [
    "df_copy.columns"
   ]
  },
  {
   "cell_type": "code",
   "execution_count": null,
   "metadata": {
    "collapsed": true
   },
   "outputs": [],
   "source": [
    "#this is close... \n",
    "for i in df_copy['word_count']:\n",
    "    \n",
    "    #change pen color depending on character\n",
    "    if df_copy['character_list'][i] in characters1:\n",
    "        appa.pencolor('orange')\n",
    "    if df_copy['character_list'][i] in characters2:\n",
    "        appa.pencolor('blue')\n",
    "    if df_copy['character_list'][i] in characters3:\n",
    "        appa.pencolor('red')\n",
    "    else:\n",
    "        appa.pencolor('black')\n",
    "    \n",
    "    #move the turtle forward and then rotate it 90s\n",
    "    appa.forward(i*2)#scales everything by 3...  \n",
    "    appa.left(90)"
   ]
  },
  {
   "cell_type": "code",
   "execution_count": null,
   "metadata": {},
   "outputs": [],
   "source": [
    "#this is close... \n",
    "for i in df_copy['character_list']:\n",
    "    \n",
    "    #change pen color depending on character\n",
    "    if i in characters1:\n",
    "        appa.pencolor('orange')\n",
    "    if i in characters2:\n",
    "        appa.pencolor('blue')\n",
    "    if i in characters3:\n",
    "        appa.pencolor('red')\n",
    "    else:\n",
    "        appa.pencolor('black')\n",
    "    \n",
    "    #move the turtle forward and then rotate it 90s\n",
    "    appa.forward(df_copy['word_count'][i])#scales everything by 3...  \n",
    "    appa.left(90)"
   ]
  },
  {
   "cell_type": "code",
   "execution_count": null,
   "metadata": {},
   "outputs": [],
   "source": [
    "#this is close... Make this more generic\n",
    "#having problems with the strings... \n",
    "for i in df_copy: #think this is wrong, need to go through one by one like i was doing before... \n",
    "    \n",
    "    #change pen color depending on character\n",
    "    if str(df_copy['character_list']) in characters1:\n",
    "        appa.pencolor('orange')\n",
    "    if str(df_copy['character_list']) in characters2:\n",
    "        appa.pencolor('blue')\n",
    "    if str(df_copy['character_list']) in characters3:\n",
    "        appa.pencolor('red')\n",
    "    else:\n",
    "        appa.pencolor('black')\n",
    "    \n",
    "    #move the turtle forward and then rotate it 90s\n",
    "    appa.forward(df_copy['word_count'].astype(float))#scales everything by 3...  \n",
    "    appa.left(90)"
   ]
  },
  {
   "cell_type": "code",
   "execution_count": null,
   "metadata": {
    "collapsed": true
   },
   "outputs": [],
   "source": [
    "#THIS is working..., \n",
    "#but color's don't seem to be working... \n",
    "for i in range(len(df_copy)):\n",
    "    \n",
    "    #change pen color depending on character\n",
    "    if df_copy['character_list'].iloc[i] in characters1:\n",
    "        appa.pencolor('dark orange')\n",
    "    if df_copy['character_list'].iloc[i] in characters2:\n",
    "        appa.pencolor('midnight blue')\n",
    "    if df_copy['character_list'].iloc[i] in characters3:\n",
    "        appa.pencolor('firebrick')\n",
    "    else:\n",
    "        appa.pencolor('black')\n",
    "    \n",
    "    #move the turtle forward and then rotate it 90s\n",
    "    appa.forward(df_copy['word_count'].iloc[i]*2)#scales everything by 3...  \n",
    "    appa.left(90)"
   ]
  },
  {
   "cell_type": "code",
   "execution_count": null,
   "metadata": {},
   "outputs": [],
   "source": [
    "for i in range(len(df_copy)):\n",
    "    if df_copy['character_list'].iloc[i] in characters1:\n",
    "        print('orange')\n",
    "    if df_copy['character_list'].iloc[i] in characters2:\n",
    "        print('blue')\n",
    "    if df_copy['character_list'].iloc[i] in characters3:\n",
    "        print('red')\n",
    "    else:\n",
    "        print('black')"
   ]
  },
  {
   "cell_type": "code",
   "execution_count": null,
   "metadata": {},
   "outputs": [],
   "source": [
    "df_copy"
   ]
  },
  {
   "cell_type": "code",
   "execution_count": null,
   "metadata": {},
   "outputs": [],
   "source": [
    "df_copy['character_list'].iloc[23] in characters3"
   ]
  },
  {
   "cell_type": "code",
   "execution_count": null,
   "metadata": {},
   "outputs": [],
   "source": [
    "df_copy['character_list'].iloc[34]"
   ]
  },
  {
   "cell_type": "code",
   "execution_count": null,
   "metadata": {},
   "outputs": [],
   "source": [
    "for i in range(len(df_copy)):\n",
    "    print(df_copy.iloc[i])"
   ]
  },
  {
   "cell_type": "code",
   "execution_count": null,
   "metadata": {
    "collapsed": true
   },
   "outputs": [],
   "source": []
  },
  {
   "cell_type": "code",
   "execution_count": null,
   "metadata": {},
   "outputs": [],
   "source": [
    "for i in range(len(df_copy)):\n",
    "    print(type(df_copy['character_list'].iloc[i]))"
   ]
  },
  {
   "cell_type": "code",
   "execution_count": null,
   "metadata": {},
   "outputs": [],
   "source": [
    "for i in range(len(df_copy)):\n",
    "    print(df_copy['word_count'].iloc[i])"
   ]
  },
  {
   "cell_type": "code",
   "execution_count": null,
   "metadata": {},
   "outputs": [],
   "source": [
    "df_copy[1]"
   ]
  },
  {
   "cell_type": "code",
   "execution_count": null,
   "metadata": {
    "collapsed": true
   },
   "outputs": [],
   "source": []
  },
  {
   "cell_type": "code",
   "execution_count": null,
   "metadata": {},
   "outputs": [],
   "source": [
    "df_copy.dtypes"
   ]
  },
  {
   "cell_type": "code",
   "execution_count": null,
   "metadata": {},
   "outputs": [],
   "source": [
    "for i in df_copy:\n",
    "    if df_copy['character_list'] in characters1:\n",
    "        print(\"True\")\n",
    "    else:\n",
    "        print(\"False\")"
   ]
  },
  {
   "cell_type": "code",
   "execution_count": null,
   "metadata": {},
   "outputs": [],
   "source": [
    "for i in df_copy:\n",
    "    print((df_copy['character_list']))"
   ]
  },
  {
   "cell_type": "code",
   "execution_count": null,
   "metadata": {},
   "outputs": [],
   "source": [
    "for i in df_copy:\n",
    "    print(type(df_copy['word_count']))\n",
    "    print()"
   ]
  },
  {
   "cell_type": "code",
   "execution_count": null,
   "metadata": {},
   "outputs": [],
   "source": [
    "for i in df_copy['character_list']:\n",
    "    print(i)"
   ]
  },
  {
   "cell_type": "code",
   "execution_count": null,
   "metadata": {},
   "outputs": [],
   "source": [
    "len(df_copy['character_list'])"
   ]
  },
  {
   "cell_type": "code",
   "execution_count": null,
   "metadata": {
    "collapsed": true
   },
   "outputs": [],
   "source": []
  },
  {
   "cell_type": "code",
   "execution_count": null,
   "metadata": {
    "collapsed": true
   },
   "outputs": [],
   "source": [
    "turtle.exitonclick()"
   ]
  },
  {
   "cell_type": "code",
   "execution_count": null,
   "metadata": {
    "collapsed": true
   },
   "outputs": [],
   "source": [
    "#if only do this lines in the above loop, should get a straigt line. WOuld confirm code is working properly\n",
    "se1ep01[['character_list','word_count']].iloc[14:17] #should be able to just add the iloc to the above... \n",
    "#think it would work"
   ]
  },
  {
   "cell_type": "code",
   "execution_count": null,
   "metadata": {
    "collapsed": true
   },
   "outputs": [],
   "source": [
    "test = se1ep01[['character_list','word_count']].iloc[0:5]"
   ]
  },
  {
   "cell_type": "code",
   "execution_count": null,
   "metadata": {
    "collapsed": true
   },
   "outputs": [],
   "source": [
    "test"
   ]
  },
  {
   "cell_type": "code",
   "execution_count": null,
   "metadata": {
    "collapsed": true
   },
   "outputs": [],
   "source": [
    "#do want to double check this logic... #need to think about logic somemore.... \n",
    "\n",
    "#should only be 2 lines, 17 for Sokkta, and then 34 for Katara\n",
    "for i in test['word_count']:\n",
    "    appa.forward(i)\n",
    "    if test['character_list'][i] == test['character_list'][i+1]:\n",
    "        appa.forward(i)\n",
    "    else:\n",
    "        appa.left(90)"
   ]
  },
  {
   "cell_type": "code",
   "execution_count": null,
   "metadata": {
    "collapsed": true
   },
   "outputs": [],
   "source": [
    "se1ep01[['character_list','word_count']].head(20)"
   ]
  },
  {
   "cell_type": "code",
   "execution_count": null,
   "metadata": {
    "collapsed": true
   },
   "outputs": [],
   "source": [
    "import seaborn as sns"
   ]
  },
  {
   "cell_type": "code",
   "execution_count": null,
   "metadata": {
    "collapsed": true
   },
   "outputs": [],
   "source": [
    "# can figure this out later\n",
    "sns.barplot(se1ep01.groupby('character_list').sum().sort_values(by = 'word_count', ascending = False))"
   ]
  }
 ],
 "metadata": {
  "kernelspec": {
   "display_name": "Python 3",
   "language": "python",
   "name": "python3"
  },
  "language_info": {
   "codemirror_mode": {
    "name": "ipython",
    "version": 3
   },
   "file_extension": ".py",
   "mimetype": "text/x-python",
   "name": "python",
   "nbconvert_exporter": "python",
   "pygments_lexer": "ipython3",
   "version": "3.6.3"
  }
 },
 "nbformat": 4,
 "nbformat_minor": 2
}
