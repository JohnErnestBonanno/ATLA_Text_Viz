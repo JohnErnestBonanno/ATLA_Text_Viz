{
 "cells": [
  {
   "cell_type": "code",
   "execution_count": 1,
   "metadata": {},
   "outputs": [],
   "source": [
    "file = open(\"se1_ep01_bold.txt\",\"r\")"
   ]
  },
  {
   "cell_type": "code",
   "execution_count": 2,
   "metadata": {},
   "outputs": [],
   "source": [
    "file = file.read()"
   ]
  },
  {
   "cell_type": "code",
   "execution_count": 3,
   "metadata": {},
   "outputs": [
    {
     "name": "stdout",
     "output_type": "stream",
     "text": [
      "<div class=\"content\"><blockquote><b>The Boy in the Iceberg</b><b>Written By:</b> , <b>Directed By:</b> <b>Storyboard By:</b> , , <b>Animation By:</b> JM Animation Co, Ltd<b>Transcribers:</b> Acastus, Pandora<b>Katara</b> (): Water... Earth... Fire... Air...My grandmother used to tell me stories about the old days, a time of peace when the Avatar kept balance between the Water Tribes, Earth Kingdom, Fire Nation, and Air Nomads. But that all changed when the Fire Nation attacked.Only the Avatar mastered all four elements. Only he could stop the ruthless firebenders. But when the world needed him most, he vanished.A hundred years have passed and the Fire Nation is nearing victory in the war. Two years ago, my father and the men of my tribe journeyed to the Earth Kingdom to help fight against the Fire Nation, leaving me and my brother to look after our tribe.Some people believe that the Avatar was never reborn into the Air Nomads and that the cycle is broken, but I haven't lost hope. I still believe that somehow the Avatar will return to save the world.<u><b>Act I</b></u><b>Sokka</b>: It's not getting away from me this time. Watch and learn, Katara. This is how you catch a fish.<b>Katara</b>: Sokka, look!<b>Sokka</b>: () Shhh. Katara, you're gonna scare it away. Mmmm... I can already smell it cookin'!<b>Katara</b> (): But Sokka! I caught one!<b>Katara</b>: Hey!<b>Sokka</b> (): Ugh! Why is it that every time you play with magic water I get soaked?<b>Katara</b>: It's not magic. It's waterbending, and it's-<b>Sokka</b>: Yeah, yeah, an ancient art unique to our culture, blah blah blah. Look, I'm just saying that if I had weird powers, I'd keep my weirdness to myself.<b>Katara</b>: You're calling me weird? I'm not the one who makes muscles at myself every time I see my reflection in the water.<b>Katara</b> and <b>Sokka</b>: Ahhh!<b>Katara</b>: Watch out! Go left! Go left!<b>Katara</b>: You call that left?<b>Sokka</b>: You don't like my steering. Well, maybe you should have waterbended us out of the ice.<b>Katara</b>: So it's my fault?<b>Sokka</b>: I knew I should have left you home. Leave it to a girl to screw things up.<b>Katara</b>: You are the most sexist, immature, nut brained...<b>Katara</b>: Ugh, I'm embarrassed to be related to you! Ever since Mom died I've been doing all the work around camp while you've been off playing soldier!<b>Sokka</b> (): Uh... Katara?<b>Katara</b>: I even wash all the clothes! Have you ever smelled your dirty socks? Let me tell you, NOT PLEASANT!<b>Sokka</b>: Katara! Settle down!<b>Katara</b>: No, that's it. I'm done helping you. From now on, you're on your own!<b>Sokka</b>: Okay, you've gone from weird to freakish, Katara.<b>Katara</b>: You mean I did that?<b>Sokka</b>: Yup. Congratulations.<b>Katara</b>: He's alive! We have to help.<b>Sokka</b>: Katara! Get back here! We don't know what that thing is!<b>Zuko</b>: Finally.  Uncle, do you realize what this means?<b>Iroh</b>: I won't get to finish my game?<b>Zuko</b>: It means my search - it's about to come to an end.<b>Zuko</b>: That light came from an incredibly powerful source. It has to be him!<b>Iroh</b>: Or it's just the celestial lights. We've been down this road before, Prince Zuko. I don't want you to get too excited over nothing. Please, sit. Why don't you enjoy a cup of calming jasmine tea?<b>Zuko</b> (): I don't need any calming tea! I need to capture the Avatar. Helmsman, head a course for the light!<b>Sokka</b> (): Stop!<b>Katara</b>: Stop it!<b>Aang</b> (): I need to ask you something.<b>Katara</b>: What?<b>Aang</b> (): Please... come closer.<b>Katara</b>: What is it?<b>Aang</b> (): Will you go penguin sledding with me?<b>Katara</b>: Uh... sure. I guess.<b>Sokka</b>: Ahh!<b>Aang</b>: What's going on here?<b>Sokka</b>: You tell us! How'd you get in the ice? () And why aren't you frozen?<b>Aang</b> (): I'm not sure.<b>Aang</b>: Appa! Are you all right? Wake up, buddy.<b>Aang</b>: Haha! You're okay!<b>Sokka</b>: What is that thing?<b>Aang</b>: This is Appa, my flying bison.<b>Sokka</b>: Right. And this is Katara, my flying sister.<b>Sokka</b>: Ewww! Aahh!!!<b>Aang</b>: Don't worry. It'll wash out.<b>Sokka</b>: Ugh!<b>Aang</b>: So, do you guys live around here?<b>Sokka</b>: Don't answer that! Did you see that crazy bolt of light? He was probably trying to signal the Fire Navy.<b>Katara</b>: Oh, yeah, I'm sure he's a spy for the Fire Navy. You can tell by that evil look in his eye.<b>Katara</b>: The paranoid one is my brother, Sokka. You never told us your name.<b>Aang</b>: I'm A... aaaahhhh... ahhhhhh.... aaah aaah aaah AAAAAAACHOOOO!<b>Aang</b>: I'm Aang. <b>Sokka</b>: () You just sneezed... and flew ten feet in the air.<b>Aang</b>: Really? It felt higher that that.<b>Katara</b> (): You're an airbender!<b>Aang</b>: Sure am.<b>Sokka</b>: Giant light beams... flying bison... airbenders... I think I've got Midnight Sun Madness. I'm going home to where stuff makes sense.<b>Aang</b>: Well, if you guys are stuck Appa and I can give you a lift.<b>Katara</b>: We'd love a ride! Thanks! <b>Sokka</b>: Oh, no... I am not getting on that fluffy snot monster.<b>Katara</b>: Are you hoping some other kind of monster will come along and give you a ride home? You know... before you freeze to death?<b>Aang</b>: Okay. First time flyers, hold on tight! Appa, yip yip!<b>Aang</b> (): Come on, Appa. Yip yip.<b>Sokka</b>: Wow. That was truly amazing.<b>Aang</b>: Appa's just tired. A little rest and he'll be soaring through the sky. You'll see.<b>Katara</b>: Why are you smiling at me like that?<b>Aang</b>: Oh... I was smiling?<b>Sokka</b> (): Uuuuugh.<b>Iroh</b>: I'm going to bed now. Yep. A man needs his rest. Prince Zuko, you need some sleep. Even if you're right and the Avatar is alive, you won't find him. Your father, grandfather, and great-grandfather all tried and failed.<b>Zuko</b>: Because their honor didn't hinge on the Avatar's capture. Mine does. This coward's hundred years in hiding are over.<b>Katara</b>: Hey.<b>Aang</b>: Hey. Whatcha thinkin' about?<b>Katara</b>: I guess I was wondering â€“ your being an airbender and all â€“ if you had any idea what happened to the Avatar.<b>Aang</b> (): Uhh... no. I didn't know him... I mean, I knew people that knew him, but I didn't. Sorry.<b>Katara</b>: Okay. Just curious. Goodnight.<b>Aang</b>: Sleep tight.<u><b>Act II</b></u><b>Aang</b>: Aaahhh!<b>Katara</b> (): Aang! Aang, wake up!  It's okay. We're in the village now. Come on, get ready. Everyone's waiting to meet you.<b>Aang</b>: Whaaaa!<b>Katara</b>: Aang, this is the entire village. Entire village, Aang.<b>Aang</b>: Uh... why are they all looking at me like that? Did Appa sneeze on me?<b>Gran Gran</b>: Well, no one has seen an airbender in a hundred years. We thought they were extinct until my granddaughter and grandson found you.<b>Aang</b>: 'Extinct'?<b>Katara</b>: Aang, this is my grandmother.<b>Gran Gran</b>: Call me Gran Gran.<b>Sokka</b> (): What is this, a weapon? You can't stab anything with this.<b>Aang</b>: It's not for stabbing.  It's for airbending.<b>Little Girl</b>: Magic trick! Do it again!<b>Aang</b>: Not magic, airbending. It lets me control the air currents around my glider and fly.<b>Sokka</b>: You know, last time I checked, humans can't fly.<b>Aang</b>: Check again!<b>Villagers</b>: Whoa... it's flying... it's amazing!<b>Aang</b> (): Oof!<b>Sokka</b> (): My watchtower!<b>Katara</b>: That was amazing.<b>Sokka</b>: Great. You're an airbender, Katara's a waterbender, together you can just waste time all day long.<b>Aang</b>: You're a waterbender!<b>Katara</b>: Well... sort of. Not yet.<b>Gran Gran</b>: All right. No more playing. Come on, Katara, you have chores.<b>Katara</b>: I told you! He's the real thing, Gran Gran! I finally found a bender to teach me.<b>Gran Gran</b>: Katara, try not to put all your hopes in this boy.<b>Katara</b>: But he's special. I can tell. I sense he's filled with much wisdom.<b>Aang</b>: () Sthee? Now my tongue ith thuck to my sthaff.<b>Children</b> (): Tee hee!<b>Iroh</b>: Again.<b>Zuko</b>: Ha! Heeya!<b>Iroh</b>: No! Power in firebending comes from the breath. Not the muscles. The breath becomes energy in the body. The energy extends past your limbs and becomes fire.  Get it right this time.<b>Zuko</b>: Enough. I've been drilling this sequence all day. Teach me the next set. I'm more than ready.<b>Iroh</b>: No, you are impatient. You have yet to master your basics.  Drill it again!<b>Zuko</b>: Grrrr... huh!  The sages tell us that the Avatar is the last airbender. He must be over a hundred years old by now. He's had a century to master the four elements. I'll need more than basic firebending to defeat him. You WILL teach me the advanced set!<b>Iroh</b>: Very well. But first I must finish my roast duck.  Num num... num...<b>Sokka</b>: Now men, it's important that you show no fear when you face a firebender. In the Water Tribe, we fight to the last man standing. For without courage, how can we call ourselves men?<b>Little Boy</b> (): I gotta pee!<b>Sokka</b>: Listen! Until your fathers return from the war, they're counting on you to be the men of this tribe. And that means no potty breaks.<b>Little Boy</b>: But I really gotta go.<b>Sokka</b> (): Okay... who else has to go?<b>Katara</b>: Have you seen Aang? Gran Gran said he disappeared over an hour ago.<b>Aang</b> (): Wow! Everything freezes in there!<b>Children</b>: Hahaha!<b>Sokka</b>: Ugh! Katara, get him out of here. This lesson is for warriors only.<b>Kid</b> (): Wheeee!<b>Sokka</b>: Stop! Stop it right now! What's wrong with you? We don't have time for fun and games with a war going on.<b>Aang</b>: What war? What are you talking about?<b>Sokka</b>: You're kidding, right?<b>Aang</b>: PENGUIN!<b>Sokka</b>: He's kidding, right?<u><b>Act III</b></u><b>Katara</b>: Aang?<b>Aang</b>: Haha! Hey, come on little guy. Wanna go sledding?<b>Aang</b>: Oof! Heh heh, I have a way with animals.  Yarp! Yarp yarp! Yarp! Yarp yarp! Yarp!<b>Katara</b>: () Hahaha... Aang, I'll help you catch a penguin if you teach me waterbending.<b>Aang</b>: You got a deal! Just one little problem. I'm an airbender, not a waterbender. Isn't there someone in your tribe who can teach you?<b>Katara</b> (): No. You're looking at the only waterbender on the whole South Pole.<b>Aang</b>: This isn't right. A waterbender needs to master water. What about the North Pole? There's another Water Tribe up there, right? Maybe they have waterbenders who could teach you.<b>Katara</b>: Maybe. But we haven't had contact with our sister tribe in a long time. It's not exactly 'turn right at the second glacier.' It's on the other side of the world.<b>Aang</b>: But you forget: I have a flying bison. Appa and I can personally fly you to the North Pole. Katara, we're gonna find you a master!<b>Katara</b> (): That's... ( I mean, I don't know. I've never left home before.<b>Aang</b>: Well, you think about it. But in the meantime, can you teach me to catch one of these penguins?<b>Katara</b> (): Okay, listen closely my young pupil. Catching penguins is an ancient and sacred art. Observe.<b>Katara</b>: I haven't done this since I was a kid!<b>Aang</b>: You still are a kid!<b>Aang</b>: Whoa... what is that?<b>Katara</b> (): A Fire Navy ship, and a very bad memory for my people.<b>Katara</b>: Aang, stop! We're not allowed to go near it. The ship could be booby trapped.<b>Aang</b>: If you wanna be a bender, you have to let go of fear.<b>Katara</b>: This ship has haunted my tribe since Gran Gran was a little girl. It was part of the Fire Nation's first attacks.<b>Aang</b>: Okay, back up. I have friends all over the world, even in the Fire Nation. I've never seen any war.<b>Katara</b>: Aang, how long were you in that iceberg?<b>Aang</b>: I don't know... a few days, maybe?<b>Katara</b>: I think it was more like a hundred years!<b>Aang</b>: What? That's impossible. Do I look like a hundred-twelve year old man to you?<b>Katara</b>: Think about it. The war is a century old. You don't know about it because, somehow, you were in there that whole time. It's the only explanation.<b>Aang</b>: A hundred years! I can't believe it.<b>Katara</b> (): I'm sorry, Aang. Maybe somehow there's a bright side to all this.<b>Aang</b>: I did get to meet you.<b>Katara</b> (): Come on. Let's get out of here.<b>Katara</b>: Aang? Let's head back. This place is creepy.<b>Aang</b>: Huh?<b>Aang</b>: What's that you said about booby traps?<b>Aang</b>: Uh oh.<b>Aang</b>: Hold on tight!<b>Zuko</b> (): The last airbender.  Quite agile for his old age. Wake my uncle! Tell him I found the Avatar...<b>Zuko</b>: ...as well as his hiding place.[End Credits]</blockquote><hr/><div align=\"right\" style=\"padding:3px\"></div></div>\n"
     ]
    }
   ],
   "source": [
    "print(file)"
   ]
  },
  {
   "cell_type": "code",
   "execution_count": 4,
   "metadata": {},
   "outputs": [
    {
     "data": {
      "text/plain": [
       "str"
      ]
     },
     "execution_count": 4,
     "metadata": {},
     "output_type": "execute_result"
    }
   ],
   "source": [
    "type(file)"
   ]
  },
  {
   "cell_type": "code",
   "execution_count": 5,
   "metadata": {},
   "outputs": [],
   "source": [
    "import re"
   ]
  },
  {
   "cell_type": "code",
   "execution_count": 6,
   "metadata": {},
   "outputs": [
    {
     "data": {
      "text/plain": [
       "12729"
      ]
     },
     "execution_count": 6,
     "metadata": {},
     "output_type": "execute_result"
    }
   ],
   "source": [
    "len(file)"
   ]
  },
  {
   "cell_type": "code",
   "execution_count": 7,
   "metadata": {},
   "outputs": [],
   "source": [
    "#Seems to work, but gets rid of stuff I want to keep like question marks \n",
    "#re.sub(\"[\\(\\[].*[\\)\\]]\", \"\",file)\n",
    "\n",
    "#https://stackoverflow.com/questions/640001/how-can-i-remove-text-within-parentheses-with-a-regex\n",
    "#stack overflow explanatio\n",
    "\n",
    "file_clean = re.sub(r'\\([^()]*\\)', '', file)\n",
    "#re.sub(r'\\(\\w*\\)', '', file)"
   ]
  },
  {
   "cell_type": "code",
   "execution_count": 8,
   "metadata": {},
   "outputs": [
    {
     "name": "stdout",
     "output_type": "stream",
     "text": [
      "<div class=\"content\"><blockquote><b>The Boy in the Iceberg</b><b>Written By:</b> , <b>Directed By:</b> <b>Storyboard By:</b> , , <b>Animation By:</b> JM Animation Co, Ltd<b>Transcribers:</b> Acastus, Pandora<b>Katara</b> : Water... Earth... Fire... Air...My grandmother used to tell me stories about the old days, a time of peace when the Avatar kept balance between the Water Tribes, Earth Kingdom, Fire Nation, and Air Nomads. But that all changed when the Fire Nation attacked.Only the Avatar mastered all four elements. Only he could stop the ruthless firebenders. But when the world needed him most, he vanished.A hundred years have passed and the Fire Nation is nearing victory in the war. Two years ago, my father and the men of my tribe journeyed to the Earth Kingdom to help fight against the Fire Nation, leaving me and my brother to look after our tribe.Some people believe that the Avatar was never reborn into the Air Nomads and that the cycle is broken, but I haven't lost hope. I still believe that somehow the Avatar will return to save the world.<u><b>Act I</b></u><b>Sokka</b>: It's not getting away from me this time. Watch and learn, Katara. This is how you catch a fish.<b>Katara</b>: Sokka, look!<b>Sokka</b>:  Shhh. Katara, you're gonna scare it away. Mmmm... I can already smell it cookin'!<b>Katara</b> : But Sokka! I caught one!<b>Katara</b>: Hey!<b>Sokka</b> : Ugh! Why is it that every time you play with magic water I get soaked?<b>Katara</b>: It's not magic. It's waterbending, and it's-<b>Sokka</b>: Yeah, yeah, an ancient art unique to our culture, blah blah blah. Look, I'm just saying that if I had weird powers, I'd keep my weirdness to myself.<b>Katara</b>: You're calling me weird? I'm not the one who makes muscles at myself every time I see my reflection in the water.<b>Katara</b> and <b>Sokka</b>: Ahhh!<b>Katara</b>: Watch out! Go left! Go left!<b>Katara</b>: You call that left?<b>Sokka</b>: You don't like my steering. Well, maybe you should have waterbended us out of the ice.<b>Katara</b>: So it's my fault?<b>Sokka</b>: I knew I should have left you home. Leave it to a girl to screw things up.<b>Katara</b>: You are the most sexist, immature, nut brained...<b>Katara</b>: Ugh, I'm embarrassed to be related to you! Ever since Mom died I've been doing all the work around camp while you've been off playing soldier!<b>Sokka</b> : Uh... Katara?<b>Katara</b>: I even wash all the clothes! Have you ever smelled your dirty socks? Let me tell you, NOT PLEASANT!<b>Sokka</b>: Katara! Settle down!<b>Katara</b>: No, that's it. I'm done helping you. From now on, you're on your own!<b>Sokka</b>: Okay, you've gone from weird to freakish, Katara.<b>Katara</b>: You mean I did that?<b>Sokka</b>: Yup. Congratulations.<b>Katara</b>: He's alive! We have to help.<b>Sokka</b>: Katara! Get back here! We don't know what that thing is!<b>Zuko</b>: Finally.  Uncle, do you realize what this means?<b>Iroh</b>: I won't get to finish my game?<b>Zuko</b>: It means my search - it's about to come to an end.<b>Zuko</b>: That light came from an incredibly powerful source. It has to be him!<b>Iroh</b>: Or it's just the celestial lights. We've been down this road before, Prince Zuko. I don't want you to get too excited over nothing. Please, sit. Why don't you enjoy a cup of calming jasmine tea?<b>Zuko</b> : I don't need any calming tea! I need to capture the Avatar. Helmsman, head a course for the light!<b>Sokka</b> : Stop!<b>Katara</b>: Stop it!<b>Aang</b> : I need to ask you something.<b>Katara</b>: What?<b>Aang</b> : Please... come closer.<b>Katara</b>: What is it?<b>Aang</b> : Will you go penguin sledding with me?<b>Katara</b>: Uh... sure. I guess.<b>Sokka</b>: Ahh!<b>Aang</b>: What's going on here?<b>Sokka</b>: You tell us! How'd you get in the ice?  And why aren't you frozen?<b>Aang</b> : I'm not sure.<b>Aang</b>: Appa! Are you all right? Wake up, buddy.<b>Aang</b>: Haha! You're okay!<b>Sokka</b>: What is that thing?<b>Aang</b>: This is Appa, my flying bison.<b>Sokka</b>: Right. And this is Katara, my flying sister.<b>Sokka</b>: Ewww! Aahh!!!<b>Aang</b>: Don't worry. It'll wash out.<b>Sokka</b>: Ugh!<b>Aang</b>: So, do you guys live around here?<b>Sokka</b>: Don't answer that! Did you see that crazy bolt of light? He was probably trying to signal the Fire Navy.<b>Katara</b>: Oh, yeah, I'm sure he's a spy for the Fire Navy. You can tell by that evil look in his eye.<b>Katara</b>: The paranoid one is my brother, Sokka. You never told us your name.<b>Aang</b>: I'm A... aaaahhhh... ahhhhhh.... aaah aaah aaah AAAAAAACHOOOO!<b>Aang</b>: I'm Aang. <b>Sokka</b>:  You just sneezed... and flew ten feet in the air.<b>Aang</b>: Really? It felt higher that that.<b>Katara</b> : You're an airbender!<b>Aang</b>: Sure am.<b>Sokka</b>: Giant light beams... flying bison... airbenders... I think I've got Midnight Sun Madness. I'm going home to where stuff makes sense.<b>Aang</b>: Well, if you guys are stuck Appa and I can give you a lift.<b>Katara</b>: We'd love a ride! Thanks! <b>Sokka</b>: Oh, no... I am not getting on that fluffy snot monster.<b>Katara</b>: Are you hoping some other kind of monster will come along and give you a ride home? You know... before you freeze to death?<b>Aang</b>: Okay. First time flyers, hold on tight! Appa, yip yip!<b>Aang</b> : Come on, Appa. Yip yip.<b>Sokka</b>: Wow. That was truly amazing.<b>Aang</b>: Appa's just tired. A little rest and he'll be soaring through the sky. You'll see.<b>Katara</b>: Why are you smiling at me like that?<b>Aang</b>: Oh... I was smiling?<b>Sokka</b> : Uuuuugh.<b>Iroh</b>: I'm going to bed now. Yep. A man needs his rest. Prince Zuko, you need some sleep. Even if you're right and the Avatar is alive, you won't find him. Your father, grandfather, and great-grandfather all tried and failed.<b>Zuko</b>: Because their honor didn't hinge on the Avatar's capture. Mine does. This coward's hundred years in hiding are over.<b>Katara</b>: Hey.<b>Aang</b>: Hey. Whatcha thinkin' about?<b>Katara</b>: I guess I was wondering â€“ your being an airbender and all â€“ if you had any idea what happened to the Avatar.<b>Aang</b> : Uhh... no. I didn't know him... I mean, I knew people that knew him, but I didn't. Sorry.<b>Katara</b>: Okay. Just curious. Goodnight.<b>Aang</b>: Sleep tight.<u><b>Act II</b></u><b>Aang</b>: Aaahhh!<b>Katara</b> : Aang! Aang, wake up!  It's okay. We're in the village now. Come on, get ready. Everyone's waiting to meet you.<b>Aang</b>: Whaaaa!<b>Katara</b>: Aang, this is the entire village. Entire village, Aang.<b>Aang</b>: Uh... why are they all looking at me like that? Did Appa sneeze on me?<b>Gran Gran</b>: Well, no one has seen an airbender in a hundred years. We thought they were extinct until my granddaughter and grandson found you.<b>Aang</b>: 'Extinct'?<b>Katara</b>: Aang, this is my grandmother.<b>Gran Gran</b>: Call me Gran Gran.<b>Sokka</b> : What is this, a weapon? You can't stab anything with this.<b>Aang</b>: It's not for stabbing.  It's for airbending.<b>Little Girl</b>: Magic trick! Do it again!<b>Aang</b>: Not magic, airbending. It lets me control the air currents around my glider and fly.<b>Sokka</b>: You know, last time I checked, humans can't fly.<b>Aang</b>: Check again!<b>Villagers</b>: Whoa... it's flying... it's amazing!<b>Aang</b> : Oof!<b>Sokka</b> : My watchtower!<b>Katara</b>: That was amazing.<b>Sokka</b>: Great. You're an airbender, Katara's a waterbender, together you can just waste time all day long.<b>Aang</b>: You're a waterbender!<b>Katara</b>: Well... sort of. Not yet.<b>Gran Gran</b>: All right. No more playing. Come on, Katara, you have chores.<b>Katara</b>: I told you! He's the real thing, Gran Gran! I finally found a bender to teach me.<b>Gran Gran</b>: Katara, try not to put all your hopes in this boy.<b>Katara</b>: But he's special. I can tell. I sense he's filled with much wisdom.<b>Aang</b>:  Sthee? Now my tongue ith thuck to my sthaff.<b>Children</b> : Tee hee!<b>Iroh</b>: Again.<b>Zuko</b>: Ha! Heeya!<b>Iroh</b>: No! Power in firebending comes from the breath. Not the muscles. The breath becomes energy in the body. The energy extends past your limbs and becomes fire.  Get it right this time.<b>Zuko</b>: Enough. I've been drilling this sequence all day. Teach me the next set. I'm more than ready.<b>Iroh</b>: No, you are impatient. You have yet to master your basics.  Drill it again!<b>Zuko</b>: Grrrr... huh!  The sages tell us that the Avatar is the last airbender. He must be over a hundred years old by now. He's had a century to master the four elements. I'll need more than basic firebending to defeat him. You WILL teach me the advanced set!<b>Iroh</b>: Very well. But first I must finish my roast duck.  Num num... num...<b>Sokka</b>: Now men, it's important that you show no fear when you face a firebender. In the Water Tribe, we fight to the last man standing. For without courage, how can we call ourselves men?<b>Little Boy</b> : I gotta pee!<b>Sokka</b>: Listen! Until your fathers return from the war, they're counting on you to be the men of this tribe. And that means no potty breaks.<b>Little Boy</b>: But I really gotta go.<b>Sokka</b> : Okay... who else has to go?<b>Katara</b>: Have you seen Aang? Gran Gran said he disappeared over an hour ago.<b>Aang</b> : Wow! Everything freezes in there!<b>Children</b>: Hahaha!<b>Sokka</b>: Ugh! Katara, get him out of here. This lesson is for warriors only.<b>Kid</b> : Wheeee!<b>Sokka</b>: Stop! Stop it right now! What's wrong with you? We don't have time for fun and games with a war going on.<b>Aang</b>: What war? What are you talking about?<b>Sokka</b>: You're kidding, right?<b>Aang</b>: PENGUIN!<b>Sokka</b>: He's kidding, right?<u><b>Act III</b></u><b>Katara</b>: Aang?<b>Aang</b>: Haha! Hey, come on little guy. Wanna go sledding?<b>Aang</b>: Oof! Heh heh, I have a way with animals.  Yarp! Yarp yarp! Yarp! Yarp yarp! Yarp!<b>Katara</b>:  Hahaha... Aang, I'll help you catch a penguin if you teach me waterbending.<b>Aang</b>: You got a deal! Just one little problem. I'm an airbender, not a waterbender. Isn't there someone in your tribe who can teach you?<b>Katara</b> : No. You're looking at the only waterbender on the whole South Pole.<b>Aang</b>: This isn't right. A waterbender needs to master water. What about the North Pole? There's another Water Tribe up there, right? Maybe they have waterbenders who could teach you.<b>Katara</b>: Maybe. But we haven't had contact with our sister tribe in a long time. It's not exactly 'turn right at the second glacier.' It's on the other side of the world.<b>Aang</b>: But you forget: I have a flying bison. Appa and I can personally fly you to the North Pole. Katara, we're gonna find you a master!<b>Katara</b> : That's... ( I mean, I don't know. I've never left home before.<b>Aang</b>: Well, you think about it. But in the meantime, can you teach me to catch one of these penguins?<b>Katara</b> : Okay, listen closely my young pupil. Catching penguins is an ancient and sacred art. Observe.<b>Katara</b>: I haven't done this since I was a kid!<b>Aang</b>: You still are a kid!<b>Aang</b>: Whoa... what is that?<b>Katara</b> : A Fire Navy ship, and a very bad memory for my people.<b>Katara</b>: Aang, stop! We're not allowed to go near it. The ship could be booby trapped.<b>Aang</b>: If you wanna be a bender, you have to let go of fear.<b>Katara</b>: This ship has haunted my tribe since Gran Gran was a little girl. It was part of the Fire Nation's first attacks.<b>Aang</b>: Okay, back up. I have friends all over the world, even in the Fire Nation. I've never seen any war.<b>Katara</b>: Aang, how long were you in that iceberg?<b>Aang</b>: I don't know... a few days, maybe?<b>Katara</b>: I think it was more like a hundred years!<b>Aang</b>: What? That's impossible. Do I look like a hundred-twelve year old man to you?<b>Katara</b>: Think about it. The war is a century old. You don't know about it because, somehow, you were in there that whole time. It's the only explanation.<b>Aang</b>: A hundred years! I can't believe it.<b>Katara</b> : I'm sorry, Aang. Maybe somehow there's a bright side to all this.<b>Aang</b>: I did get to meet you.<b>Katara</b> : Come on. Let's get out of here.<b>Katara</b>: Aang? Let's head back. This place is creepy.<b>Aang</b>: Huh?<b>Aang</b>: What's that you said about booby traps?<b>Aang</b>: Uh oh.<b>Aang</b>: Hold on tight!<b>Zuko</b> : The last airbender.  Quite agile for his old age. Wake my uncle! Tell him I found the Avatar...<b>Zuko</b>: ...as well as his hiding place.[End Credits]</blockquote><hr/><div align=\"right\" style=\"padding:3px\"></div></div>\n"
     ]
    }
   ],
   "source": [
    "print(file_clean)"
   ]
  },
  {
   "cell_type": "code",
   "execution_count": 9,
   "metadata": {},
   "outputs": [],
   "source": [
    "#works but splits intwo a few more than I want\n",
    "#challenge is you have Act I, Act II, and Act III\n",
    "\n",
    "#split = file_clean.split(\"Act I\")\n",
    "#how do I find exactly act I?\n",
    "\n",
    "#potentially, could start with act III, then act II, then Act 1? By starting backwards, I do this in a bit of a poor goofy way..."
   ]
  },
  {
   "cell_type": "code",
   "execution_count": 10,
   "metadata": {},
   "outputs": [],
   "source": [
    "script = file_clean.split('[End Credits]')[0]"
   ]
  },
  {
   "cell_type": "code",
   "execution_count": 11,
   "metadata": {},
   "outputs": [],
   "source": [
    "script_clean = script.split(\"Act I</b></u>\")[1]"
   ]
  },
  {
   "cell_type": "code",
   "execution_count": 12,
   "metadata": {},
   "outputs": [
    {
     "data": {
      "text/plain": [
       "\"<b>Sokka</b>: It's not getting away from me this time. Watch and learn, Katara. This is how you catch a fish.<b>Katara</b>: Sokka, look!<b>Sokka</b>:  Shhh. Katara, you're gonna scare it away. Mmmm... I can already smell it cookin'!<b>Katara</b> : But Sokka! I caught one!<b>Katara</b>: Hey!<b>Sokka</b> : Ugh! Why is it that every time you play with magic water I get soaked?<b>Katara</b>: It's not magic. It's waterbending, and it's-<b>Sokka</b>: Yeah, yeah, an ancient art unique to our culture, blah blah blah. Look, I'm just saying that if I had weird powers, I'd keep my weirdness to myself.<b>Katara</b>: You're calling me weird? I'm not the one who makes muscles at myself every time I see my reflection in the water.<b>Katara</b> and <b>Sokka</b>: Ahhh!<b>Katara</b>: Watch out! Go left! Go left!<b>Katara</b>: You call that left?<b>Sokka</b>: You don't like my steering. Well, maybe you should have waterbended us out of the ice.<b>Katara</b>: So it's my fault?<b>Sokka</b>: I knew I should have left you home. Leave it to a girl to screw things up.<b>Katara</b>: You are the most sexist, immature, nut brained...<b>Katara</b>: Ugh, I'm embarrassed to be related to you! Ever since Mom died I've been doing all the work around camp while you've been off playing soldier!<b>Sokka</b> : Uh... Katara?<b>Katara</b>: I even wash all the clothes! Have you ever smelled your dirty socks? Let me tell you, NOT PLEASANT!<b>Sokka</b>: Katara! Settle down!<b>Katara</b>: No, that's it. I'm done helping you. From now on, you're on your own!<b>Sokka</b>: Okay, you've gone from weird to freakish, Katara.<b>Katara</b>: You mean I did that?<b>Sokka</b>: Yup. Congratulations.<b>Katara</b>: He's alive! We have to help.<b>Sokka</b>: Katara! Get back here! We don't know what that thing is!<b>Zuko</b>: Finally.  Uncle, do you realize what this means?<b>Iroh</b>: I won't get to finish my game?<b>Zuko</b>: It means my search - it's about to come to an end.<b>Zuko</b>: That light came from an incredibly powerful source. It has to be him!<b>Iroh</b>: Or it's just the celestial lights. We've been down this road before, Prince Zuko. I don't want you to get too excited over nothing. Please, sit. Why don't you enjoy a cup of calming jasmine tea?<b>Zuko</b> : I don't need any calming tea! I need to capture the Avatar. Helmsman, head a course for the light!<b>Sokka</b> : Stop!<b>Katara</b>: Stop it!<b>Aang</b> : I need to ask you something.<b>Katara</b>: What?<b>Aang</b> : Please... come closer.<b>Katara</b>: What is it?<b>Aang</b> : Will you go penguin sledding with me?<b>Katara</b>: Uh... sure. I guess.<b>Sokka</b>: Ahh!<b>Aang</b>: What's going on here?<b>Sokka</b>: You tell us! How'd you get in the ice?  And why aren't you frozen?<b>Aang</b> : I'm not sure.<b>Aang</b>: Appa! Are you all right? Wake up, buddy.<b>Aang</b>: Haha! You're okay!<b>Sokka</b>: What is that thing?<b>Aang</b>: This is Appa, my flying bison.<b>Sokka</b>: Right. And this is Katara, my flying sister.<b>Sokka</b>: Ewww! Aahh!!!<b>Aang</b>: Don't worry. It'll wash out.<b>Sokka</b>: Ugh!<b>Aang</b>: So, do you guys live around here?<b>Sokka</b>: Don't answer that! Did you see that crazy bolt of light? He was probably trying to signal the Fire Navy.<b>Katara</b>: Oh, yeah, I'm sure he's a spy for the Fire Navy. You can tell by that evil look in his eye.<b>Katara</b>: The paranoid one is my brother, Sokka. You never told us your name.<b>Aang</b>: I'm A... aaaahhhh... ahhhhhh.... aaah aaah aaah AAAAAAACHOOOO!<b>Aang</b>: I'm Aang. <b>Sokka</b>:  You just sneezed... and flew ten feet in the air.<b>Aang</b>: Really? It felt higher that that.<b>Katara</b> : You're an airbender!<b>Aang</b>: Sure am.<b>Sokka</b>: Giant light beams... flying bison... airbenders... I think I've got Midnight Sun Madness. I'm going home to where stuff makes sense.<b>Aang</b>: Well, if you guys are stuck Appa and I can give you a lift.<b>Katara</b>: We'd love a ride! Thanks! <b>Sokka</b>: Oh, no... I am not getting on that fluffy snot monster.<b>Katara</b>: Are you hoping some other kind of monster will come along and give you a ride home? You know... before you freeze to death?<b>Aang</b>: Okay. First time flyers, hold on tight! Appa, yip yip!<b>Aang</b> : Come on, Appa. Yip yip.<b>Sokka</b>: Wow. That was truly amazing.<b>Aang</b>: Appa's just tired. A little rest and he'll be soaring through the sky. You'll see.<b>Katara</b>: Why are you smiling at me like that?<b>Aang</b>: Oh... I was smiling?<b>Sokka</b> : Uuuuugh.<b>Iroh</b>: I'm going to bed now. Yep. A man needs his rest. Prince Zuko, you need some sleep. Even if you're right and the Avatar is alive, you won't find him. Your father, grandfather, and great-grandfather all tried and failed.<b>Zuko</b>: Because their honor didn't hinge on the Avatar's capture. Mine does. This coward's hundred years in hiding are over.<b>Katara</b>: Hey.<b>Aang</b>: Hey. Whatcha thinkin' about?<b>Katara</b>: I guess I was wondering â€“ your being an airbender and all â€“ if you had any idea what happened to the Avatar.<b>Aang</b> : Uhh... no. I didn't know him... I mean, I knew people that knew him, but I didn't. Sorry.<b>Katara</b>: Okay. Just curious. Goodnight.<b>Aang</b>: Sleep tight.<u><b>Act II</b></u><b>Aang</b>: Aaahhh!<b>Katara</b> : Aang! Aang, wake up!  It's okay. We're in the village now. Come on, get ready. Everyone's waiting to meet you.<b>Aang</b>: Whaaaa!<b>Katara</b>: Aang, this is the entire village. Entire village, Aang.<b>Aang</b>: Uh... why are they all looking at me like that? Did Appa sneeze on me?<b>Gran Gran</b>: Well, no one has seen an airbender in a hundred years. We thought they were extinct until my granddaughter and grandson found you.<b>Aang</b>: 'Extinct'?<b>Katara</b>: Aang, this is my grandmother.<b>Gran Gran</b>: Call me Gran Gran.<b>Sokka</b> : What is this, a weapon? You can't stab anything with this.<b>Aang</b>: It's not for stabbing.  It's for airbending.<b>Little Girl</b>: Magic trick! Do it again!<b>Aang</b>: Not magic, airbending. It lets me control the air currents around my glider and fly.<b>Sokka</b>: You know, last time I checked, humans can't fly.<b>Aang</b>: Check again!<b>Villagers</b>: Whoa... it's flying... it's amazing!<b>Aang</b> : Oof!<b>Sokka</b> : My watchtower!<b>Katara</b>: That was amazing.<b>Sokka</b>: Great. You're an airbender, Katara's a waterbender, together you can just waste time all day long.<b>Aang</b>: You're a waterbender!<b>Katara</b>: Well... sort of. Not yet.<b>Gran Gran</b>: All right. No more playing. Come on, Katara, you have chores.<b>Katara</b>: I told you! He's the real thing, Gran Gran! I finally found a bender to teach me.<b>Gran Gran</b>: Katara, try not to put all your hopes in this boy.<b>Katara</b>: But he's special. I can tell. I sense he's filled with much wisdom.<b>Aang</b>:  Sthee? Now my tongue ith thuck to my sthaff.<b>Children</b> : Tee hee!<b>Iroh</b>: Again.<b>Zuko</b>: Ha! Heeya!<b>Iroh</b>: No! Power in firebending comes from the breath. Not the muscles. The breath becomes energy in the body. The energy extends past your limbs and becomes fire.  Get it right this time.<b>Zuko</b>: Enough. I've been drilling this sequence all day. Teach me the next set. I'm more than ready.<b>Iroh</b>: No, you are impatient. You have yet to master your basics.  Drill it again!<b>Zuko</b>: Grrrr... huh!  The sages tell us that the Avatar is the last airbender. He must be over a hundred years old by now. He's had a century to master the four elements. I'll need more than basic firebending to defeat him. You WILL teach me the advanced set!<b>Iroh</b>: Very well. But first I must finish my roast duck.  Num num... num...<b>Sokka</b>: Now men, it's important that you show no fear when you face a firebender. In the Water Tribe, we fight to the last man standing. For without courage, how can we call ourselves men?<b>Little Boy</b> : I gotta pee!<b>Sokka</b>: Listen! Until your fathers return from the war, they're counting on you to be the men of this tribe. And that means no potty breaks.<b>Little Boy</b>: But I really gotta go.<b>Sokka</b> : Okay... who else has to go?<b>Katara</b>: Have you seen Aang? Gran Gran said he disappeared over an hour ago.<b>Aang</b> : Wow! Everything freezes in there!<b>Children</b>: Hahaha!<b>Sokka</b>: Ugh! Katara, get him out of here. This lesson is for warriors only.<b>Kid</b> : Wheeee!<b>Sokka</b>: Stop! Stop it right now! What's wrong with you? We don't have time for fun and games with a war going on.<b>Aang</b>: What war? What are you talking about?<b>Sokka</b>: You're kidding, right?<b>Aang</b>: PENGUIN!<b>Sokka</b>: He's kidding, right?<u><b>Act III</b></u><b>Katara</b>: Aang?<b>Aang</b>: Haha! Hey, come on little guy. Wanna go sledding?<b>Aang</b>: Oof! Heh heh, I have a way with animals.  Yarp! Yarp yarp! Yarp! Yarp yarp! Yarp!<b>Katara</b>:  Hahaha... Aang, I'll help you catch a penguin if you teach me waterbending.<b>Aang</b>: You got a deal! Just one little problem. I'm an airbender, not a waterbender. Isn't there someone in your tribe who can teach you?<b>Katara</b> : No. You're looking at the only waterbender on the whole South Pole.<b>Aang</b>: This isn't right. A waterbender needs to master water. What about the North Pole? There's another Water Tribe up there, right? Maybe they have waterbenders who could teach you.<b>Katara</b>: Maybe. But we haven't had contact with our sister tribe in a long time. It's not exactly 'turn right at the second glacier.' It's on the other side of the world.<b>Aang</b>: But you forget: I have a flying bison. Appa and I can personally fly you to the North Pole. Katara, we're gonna find you a master!<b>Katara</b> : That's... ( I mean, I don't know. I've never left home before.<b>Aang</b>: Well, you think about it. But in the meantime, can you teach me to catch one of these penguins?<b>Katara</b> : Okay, listen closely my young pupil. Catching penguins is an ancient and sacred art. Observe.<b>Katara</b>: I haven't done this since I was a kid!<b>Aang</b>: You still are a kid!<b>Aang</b>: Whoa... what is that?<b>Katara</b> : A Fire Navy ship, and a very bad memory for my people.<b>Katara</b>: Aang, stop! We're not allowed to go near it. The ship could be booby trapped.<b>Aang</b>: If you wanna be a bender, you have to let go of fear.<b>Katara</b>: This ship has haunted my tribe since Gran Gran was a little girl. It was part of the Fire Nation's first attacks.<b>Aang</b>: Okay, back up. I have friends all over the world, even in the Fire Nation. I've never seen any war.<b>Katara</b>: Aang, how long were you in that iceberg?<b>Aang</b>: I don't know... a few days, maybe?<b>Katara</b>: I think it was more like a hundred years!<b>Aang</b>: What? That's impossible. Do I look like a hundred-twelve year old man to you?<b>Katara</b>: Think about it. The war is a century old. You don't know about it because, somehow, you were in there that whole time. It's the only explanation.<b>Aang</b>: A hundred years! I can't believe it.<b>Katara</b> : I'm sorry, Aang. Maybe somehow there's a bright side to all this.<b>Aang</b>: I did get to meet you.<b>Katara</b> : Come on. Let's get out of here.<b>Katara</b>: Aang? Let's head back. This place is creepy.<b>Aang</b>: Huh?<b>Aang</b>: What's that you said about booby traps?<b>Aang</b>: Uh oh.<b>Aang</b>: Hold on tight!<b>Zuko</b> : The last airbender.  Quite agile for his old age. Wake my uncle! Tell him I found the Avatar...<b>Zuko</b>: ...as well as his hiding place.\""
      ]
     },
     "execution_count": 12,
     "metadata": {},
     "output_type": "execute_result"
    }
   ],
   "source": [
    "script_clean"
   ]
  },
  {
   "cell_type": "code",
   "execution_count": 13,
   "metadata": {},
   "outputs": [],
   "source": [
    "bold_split = script_clean.split('<b>')"
   ]
  },
  {
   "cell_type": "code",
   "execution_count": 14,
   "metadata": {},
   "outputs": [
    {
     "data": {
      "text/plain": [
       "['',\n",
       " \"Sokka</b>: It's not getting away from me this time. Watch and learn, Katara. This is how you catch a fish.\",\n",
       " 'Katara</b>: Sokka, look!',\n",
       " \"Sokka</b>:  Shhh. Katara, you're gonna scare it away. Mmmm... I can already smell it cookin'!\",\n",
       " 'Katara</b> : But Sokka! I caught one!',\n",
       " 'Katara</b>: Hey!',\n",
       " 'Sokka</b> : Ugh! Why is it that every time you play with magic water I get soaked?',\n",
       " \"Katara</b>: It's not magic. It's waterbending, and it's-\",\n",
       " \"Sokka</b>: Yeah, yeah, an ancient art unique to our culture, blah blah blah. Look, I'm just saying that if I had weird powers, I'd keep my weirdness to myself.\",\n",
       " \"Katara</b>: You're calling me weird? I'm not the one who makes muscles at myself every time I see my reflection in the water.\",\n",
       " 'Katara</b> and ',\n",
       " 'Sokka</b>: Ahhh!',\n",
       " 'Katara</b>: Watch out! Go left! Go left!',\n",
       " 'Katara</b>: You call that left?',\n",
       " \"Sokka</b>: You don't like my steering. Well, maybe you should have waterbended us out of the ice.\",\n",
       " \"Katara</b>: So it's my fault?\",\n",
       " 'Sokka</b>: I knew I should have left you home. Leave it to a girl to screw things up.',\n",
       " 'Katara</b>: You are the most sexist, immature, nut brained...',\n",
       " \"Katara</b>: Ugh, I'm embarrassed to be related to you! Ever since Mom died I've been doing all the work around camp while you've been off playing soldier!\",\n",
       " 'Sokka</b> : Uh... Katara?',\n",
       " 'Katara</b>: I even wash all the clothes! Have you ever smelled your dirty socks? Let me tell you, NOT PLEASANT!',\n",
       " 'Sokka</b>: Katara! Settle down!',\n",
       " \"Katara</b>: No, that's it. I'm done helping you. From now on, you're on your own!\",\n",
       " \"Sokka</b>: Okay, you've gone from weird to freakish, Katara.\",\n",
       " 'Katara</b>: You mean I did that?',\n",
       " 'Sokka</b>: Yup. Congratulations.',\n",
       " \"Katara</b>: He's alive! We have to help.\",\n",
       " \"Sokka</b>: Katara! Get back here! We don't know what that thing is!\",\n",
       " 'Zuko</b>: Finally.  Uncle, do you realize what this means?',\n",
       " \"Iroh</b>: I won't get to finish my game?\",\n",
       " \"Zuko</b>: It means my search - it's about to come to an end.\",\n",
       " 'Zuko</b>: That light came from an incredibly powerful source. It has to be him!',\n",
       " \"Iroh</b>: Or it's just the celestial lights. We've been down this road before, Prince Zuko. I don't want you to get too excited over nothing. Please, sit. Why don't you enjoy a cup of calming jasmine tea?\",\n",
       " \"Zuko</b> : I don't need any calming tea! I need to capture the Avatar. Helmsman, head a course for the light!\",\n",
       " 'Sokka</b> : Stop!',\n",
       " 'Katara</b>: Stop it!',\n",
       " 'Aang</b> : I need to ask you something.',\n",
       " 'Katara</b>: What?',\n",
       " 'Aang</b> : Please... come closer.',\n",
       " 'Katara</b>: What is it?',\n",
       " 'Aang</b> : Will you go penguin sledding with me?',\n",
       " 'Katara</b>: Uh... sure. I guess.',\n",
       " 'Sokka</b>: Ahh!',\n",
       " \"Aang</b>: What's going on here?\",\n",
       " \"Sokka</b>: You tell us! How'd you get in the ice?  And why aren't you frozen?\",\n",
       " \"Aang</b> : I'm not sure.\",\n",
       " 'Aang</b>: Appa! Are you all right? Wake up, buddy.',\n",
       " \"Aang</b>: Haha! You're okay!\",\n",
       " 'Sokka</b>: What is that thing?',\n",
       " 'Aang</b>: This is Appa, my flying bison.',\n",
       " 'Sokka</b>: Right. And this is Katara, my flying sister.',\n",
       " 'Sokka</b>: Ewww! Aahh!!!',\n",
       " \"Aang</b>: Don't worry. It'll wash out.\",\n",
       " 'Sokka</b>: Ugh!',\n",
       " 'Aang</b>: So, do you guys live around here?',\n",
       " \"Sokka</b>: Don't answer that! Did you see that crazy bolt of light? He was probably trying to signal the Fire Navy.\",\n",
       " \"Katara</b>: Oh, yeah, I'm sure he's a spy for the Fire Navy. You can tell by that evil look in his eye.\",\n",
       " 'Katara</b>: The paranoid one is my brother, Sokka. You never told us your name.',\n",
       " \"Aang</b>: I'm A... aaaahhhh... ahhhhhh.... aaah aaah aaah AAAAAAACHOOOO!\",\n",
       " \"Aang</b>: I'm Aang. \",\n",
       " 'Sokka</b>:  You just sneezed... and flew ten feet in the air.',\n",
       " 'Aang</b>: Really? It felt higher that that.',\n",
       " \"Katara</b> : You're an airbender!\",\n",
       " 'Aang</b>: Sure am.',\n",
       " \"Sokka</b>: Giant light beams... flying bison... airbenders... I think I've got Midnight Sun Madness. I'm going home to where stuff makes sense.\",\n",
       " 'Aang</b>: Well, if you guys are stuck Appa and I can give you a lift.',\n",
       " \"Katara</b>: We'd love a ride! Thanks! \",\n",
       " 'Sokka</b>: Oh, no... I am not getting on that fluffy snot monster.',\n",
       " 'Katara</b>: Are you hoping some other kind of monster will come along and give you a ride home? You know... before you freeze to death?',\n",
       " 'Aang</b>: Okay. First time flyers, hold on tight! Appa, yip yip!',\n",
       " 'Aang</b> : Come on, Appa. Yip yip.',\n",
       " 'Sokka</b>: Wow. That was truly amazing.',\n",
       " \"Aang</b>: Appa's just tired. A little rest and he'll be soaring through the sky. You'll see.\",\n",
       " 'Katara</b>: Why are you smiling at me like that?',\n",
       " 'Aang</b>: Oh... I was smiling?',\n",
       " 'Sokka</b> : Uuuuugh.',\n",
       " \"Iroh</b>: I'm going to bed now. Yep. A man needs his rest. Prince Zuko, you need some sleep. Even if you're right and the Avatar is alive, you won't find him. Your father, grandfather, and great-grandfather all tried and failed.\",\n",
       " \"Zuko</b>: Because their honor didn't hinge on the Avatar's capture. Mine does. This coward's hundred years in hiding are over.\",\n",
       " 'Katara</b>: Hey.',\n",
       " \"Aang</b>: Hey. Whatcha thinkin' about?\",\n",
       " 'Katara</b>: I guess I was wondering â€“ your being an airbender and all â€“ if you had any idea what happened to the Avatar.',\n",
       " \"Aang</b> : Uhh... no. I didn't know him... I mean, I knew people that knew him, but I didn't. Sorry.\",\n",
       " 'Katara</b>: Okay. Just curious. Goodnight.',\n",
       " 'Aang</b>: Sleep tight.<u>',\n",
       " 'Act II</b></u>',\n",
       " 'Aang</b>: Aaahhh!',\n",
       " \"Katara</b> : Aang! Aang, wake up!  It's okay. We're in the village now. Come on, get ready. Everyone's waiting to meet you.\",\n",
       " 'Aang</b>: Whaaaa!',\n",
       " 'Katara</b>: Aang, this is the entire village. Entire village, Aang.',\n",
       " 'Aang</b>: Uh... why are they all looking at me like that? Did Appa sneeze on me?',\n",
       " 'Gran Gran</b>: Well, no one has seen an airbender in a hundred years. We thought they were extinct until my granddaughter and grandson found you.',\n",
       " \"Aang</b>: 'Extinct'?\",\n",
       " 'Katara</b>: Aang, this is my grandmother.',\n",
       " 'Gran Gran</b>: Call me Gran Gran.',\n",
       " \"Sokka</b> : What is this, a weapon? You can't stab anything with this.\",\n",
       " \"Aang</b>: It's not for stabbing.  It's for airbending.\",\n",
       " 'Little Girl</b>: Magic trick! Do it again!',\n",
       " 'Aang</b>: Not magic, airbending. It lets me control the air currents around my glider and fly.',\n",
       " \"Sokka</b>: You know, last time I checked, humans can't fly.\",\n",
       " 'Aang</b>: Check again!',\n",
       " \"Villagers</b>: Whoa... it's flying... it's amazing!\",\n",
       " 'Aang</b> : Oof!',\n",
       " 'Sokka</b> : My watchtower!',\n",
       " 'Katara</b>: That was amazing.',\n",
       " \"Sokka</b>: Great. You're an airbender, Katara's a waterbender, together you can just waste time all day long.\",\n",
       " \"Aang</b>: You're a waterbender!\",\n",
       " 'Katara</b>: Well... sort of. Not yet.',\n",
       " 'Gran Gran</b>: All right. No more playing. Come on, Katara, you have chores.',\n",
       " \"Katara</b>: I told you! He's the real thing, Gran Gran! I finally found a bender to teach me.\",\n",
       " 'Gran Gran</b>: Katara, try not to put all your hopes in this boy.',\n",
       " \"Katara</b>: But he's special. I can tell. I sense he's filled with much wisdom.\",\n",
       " 'Aang</b>:  Sthee? Now my tongue ith thuck to my sthaff.',\n",
       " 'Children</b> : Tee hee!',\n",
       " 'Iroh</b>: Again.',\n",
       " 'Zuko</b>: Ha! Heeya!',\n",
       " 'Iroh</b>: No! Power in firebending comes from the breath. Not the muscles. The breath becomes energy in the body. The energy extends past your limbs and becomes fire.  Get it right this time.',\n",
       " \"Zuko</b>: Enough. I've been drilling this sequence all day. Teach me the next set. I'm more than ready.\",\n",
       " 'Iroh</b>: No, you are impatient. You have yet to master your basics.  Drill it again!',\n",
       " \"Zuko</b>: Grrrr... huh!  The sages tell us that the Avatar is the last airbender. He must be over a hundred years old by now. He's had a century to master the four elements. I'll need more than basic firebending to defeat him. You WILL teach me the advanced set!\",\n",
       " 'Iroh</b>: Very well. But first I must finish my roast duck.  Num num... num...',\n",
       " \"Sokka</b>: Now men, it's important that you show no fear when you face a firebender. In the Water Tribe, we fight to the last man standing. For without courage, how can we call ourselves men?\",\n",
       " 'Little Boy</b> : I gotta pee!',\n",
       " \"Sokka</b>: Listen! Until your fathers return from the war, they're counting on you to be the men of this tribe. And that means no potty breaks.\",\n",
       " 'Little Boy</b>: But I really gotta go.',\n",
       " 'Sokka</b> : Okay... who else has to go?',\n",
       " 'Katara</b>: Have you seen Aang? Gran Gran said he disappeared over an hour ago.',\n",
       " 'Aang</b> : Wow! Everything freezes in there!',\n",
       " 'Children</b>: Hahaha!',\n",
       " 'Sokka</b>: Ugh! Katara, get him out of here. This lesson is for warriors only.',\n",
       " 'Kid</b> : Wheeee!',\n",
       " \"Sokka</b>: Stop! Stop it right now! What's wrong with you? We don't have time for fun and games with a war going on.\",\n",
       " 'Aang</b>: What war? What are you talking about?',\n",
       " \"Sokka</b>: You're kidding, right?\",\n",
       " 'Aang</b>: PENGUIN!',\n",
       " \"Sokka</b>: He's kidding, right?<u>\",\n",
       " 'Act III</b></u>',\n",
       " 'Katara</b>: Aang?',\n",
       " 'Aang</b>: Haha! Hey, come on little guy. Wanna go sledding?',\n",
       " 'Aang</b>: Oof! Heh heh, I have a way with animals.  Yarp! Yarp yarp! Yarp! Yarp yarp! Yarp!',\n",
       " \"Katara</b>:  Hahaha... Aang, I'll help you catch a penguin if you teach me waterbending.\",\n",
       " \"Aang</b>: You got a deal! Just one little problem. I'm an airbender, not a waterbender. Isn't there someone in your tribe who can teach you?\",\n",
       " \"Katara</b> : No. You're looking at the only waterbender on the whole South Pole.\",\n",
       " \"Aang</b>: This isn't right. A waterbender needs to master water. What about the North Pole? There's another Water Tribe up there, right? Maybe they have waterbenders who could teach you.\",\n",
       " \"Katara</b>: Maybe. But we haven't had contact with our sister tribe in a long time. It's not exactly 'turn right at the second glacier.' It's on the other side of the world.\",\n",
       " \"Aang</b>: But you forget: I have a flying bison. Appa and I can personally fly you to the North Pole. Katara, we're gonna find you a master!\",\n",
       " \"Katara</b> : That's... ( I mean, I don't know. I've never left home before.\",\n",
       " 'Aang</b>: Well, you think about it. But in the meantime, can you teach me to catch one of these penguins?',\n",
       " 'Katara</b> : Okay, listen closely my young pupil. Catching penguins is an ancient and sacred art. Observe.',\n",
       " \"Katara</b>: I haven't done this since I was a kid!\",\n",
       " 'Aang</b>: You still are a kid!',\n",
       " 'Aang</b>: Whoa... what is that?',\n",
       " 'Katara</b> : A Fire Navy ship, and a very bad memory for my people.',\n",
       " \"Katara</b>: Aang, stop! We're not allowed to go near it. The ship could be booby trapped.\",\n",
       " 'Aang</b>: If you wanna be a bender, you have to let go of fear.',\n",
       " \"Katara</b>: This ship has haunted my tribe since Gran Gran was a little girl. It was part of the Fire Nation's first attacks.\",\n",
       " \"Aang</b>: Okay, back up. I have friends all over the world, even in the Fire Nation. I've never seen any war.\",\n",
       " 'Katara</b>: Aang, how long were you in that iceberg?',\n",
       " \"Aang</b>: I don't know... a few days, maybe?\",\n",
       " 'Katara</b>: I think it was more like a hundred years!',\n",
       " \"Aang</b>: What? That's impossible. Do I look like a hundred-twelve year old man to you?\",\n",
       " \"Katara</b>: Think about it. The war is a century old. You don't know about it because, somehow, you were in there that whole time. It's the only explanation.\",\n",
       " \"Aang</b>: A hundred years! I can't believe it.\",\n",
       " \"Katara</b> : I'm sorry, Aang. Maybe somehow there's a bright side to all this.\",\n",
       " 'Aang</b>: I did get to meet you.',\n",
       " \"Katara</b> : Come on. Let's get out of here.\",\n",
       " \"Katara</b>: Aang? Let's head back. This place is creepy.\",\n",
       " 'Aang</b>: Huh?',\n",
       " \"Aang</b>: What's that you said about booby traps?\",\n",
       " 'Aang</b>: Uh oh.',\n",
       " 'Aang</b>: Hold on tight!',\n",
       " 'Zuko</b> : The last airbender.  Quite agile for his old age. Wake my uncle! Tell him I found the Avatar...',\n",
       " 'Zuko</b>: ...as well as his hiding place.']"
      ]
     },
     "execution_count": 14,
     "metadata": {},
     "output_type": "execute_result"
    }
   ],
   "source": [
    "bold_split"
   ]
  },
  {
   "cell_type": "code",
   "execution_count": 15,
   "metadata": {},
   "outputs": [],
   "source": [
    "master_list = []\n",
    "for x in range(len(bold_split)):\n",
    "    output = bold_split[x].split(':')\n",
    "    master_list.append(output)"
   ]
  },
  {
   "cell_type": "code",
   "execution_count": 16,
   "metadata": {},
   "outputs": [],
   "source": [
    "character_list = []\n",
    "\n",
    "for x in range(len(master_list)):\n",
    "    holder = master_list[x]\n",
    "    if len(holder)>1:\n",
    "        test = holder[0].strip()\n",
    "        character_list.append(test.strip('</b>'))"
   ]
  },
  {
   "cell_type": "code",
   "execution_count": 17,
   "metadata": {},
   "outputs": [],
   "source": [
    "dialogue_list = []\n",
    "\n",
    "for x in range(len(master_list)):\n",
    "    holder = master_list[x]\n",
    "    if len(holder)>1:\n",
    "        dialogue_list.append(holder[1].strip()) "
   ]
  },
  {
   "cell_type": "code",
   "execution_count": 18,
   "metadata": {},
   "outputs": [
    {
     "name": "stdout",
     "output_type": "stream",
     "text": [
      "168\n",
      "168\n"
     ]
    }
   ],
   "source": [
    "print(len(character_list))\n",
    "print(len(dialogue_list))"
   ]
  },
  {
   "cell_type": "code",
   "execution_count": 19,
   "metadata": {},
   "outputs": [
    {
     "name": "stdout",
     "output_type": "stream",
     "text": [
      "['Sokka', 'Katara', 'Sokka', 'Katara', 'Katara', 'Sokka', 'Katara', 'Sokka', 'Katara', 'Sokka', 'Katara', 'Katara', 'Sokka', 'Katara', 'Sokka', 'Katara', 'Katara', 'Sokka', 'Katara', 'Sokka', 'Katara', 'Sokka', 'Katara', 'Sokka', 'Katara', 'Sokka', 'Zuko', 'Iroh', 'Zuko', 'Zuko', 'Iroh', 'Zuko', 'Sokka', 'Katara', 'Aang', 'Katara', 'Aang', 'Katara', 'Aang', 'Katara', 'Sokka', 'Aang', 'Sokka', 'Aang', 'Aang', 'Aang', 'Sokka', 'Aang', 'Sokka', 'Sokka', 'Aang', 'Sokka', 'Aang', 'Sokka', 'Katara', 'Katara', 'Aang', 'Aang', 'Sokka', 'Aang', 'Katara', 'Aang', 'Sokka', 'Aang', 'Katara', 'Sokka', 'Katara', 'Aang', 'Aang', 'Sokka', 'Aang', 'Katara', 'Aang', 'Sokka', 'Iroh', 'Zuko', 'Katara', 'Aang', 'Katara', 'Aang', 'Katara', 'Aang', 'Aang', 'Katara', 'Aang', 'Katara', 'Aang', 'Gran Gran', 'Aang', 'Katara', 'Gran Gran', 'Sokka', 'Aang', 'Little Girl', 'Aang', 'Sokka', 'Aang', 'Villagers', 'Aang', 'Sokka', 'Katara', 'Sokka', 'Aang', 'Katara', 'Gran Gran', 'Katara', 'Gran Gran', 'Katara', 'Aang', 'Children', 'Iroh', 'Zuko', 'Iroh', 'Zuko', 'Iroh', 'Zuko', 'Iroh', 'Sokka', 'Little Boy', 'Sokka', 'Little Boy', 'Sokka', 'Katara', 'Aang', 'Children', 'Sokka', 'Kid', 'Sokka', 'Aang', 'Sokka', 'Aang', 'Sokka', 'Katara', 'Aang', 'Aang', 'Katara', 'Aang', 'Katara', 'Aang', 'Katara', 'Aang', 'Katara', 'Aang', 'Katara', 'Katara', 'Aang', 'Aang', 'Katara', 'Katara', 'Aang', 'Katara', 'Aang', 'Katara', 'Aang', 'Katara', 'Aang', 'Katara', 'Aang', 'Katara', 'Aang', 'Katara', 'Katara', 'Aang', 'Aang', 'Aang', 'Aang', 'Zuko', 'Zuko']\n"
     ]
    }
   ],
   "source": [
    "print(character_list)"
   ]
  },
  {
   "cell_type": "code",
   "execution_count": 20,
   "metadata": {},
   "outputs": [],
   "source": [
    "#attempt at list comprehension\n",
    "#character_list = [character_list.strip(' ') for character_list in character_list]"
   ]
  },
  {
   "cell_type": "code",
   "execution_count": 21,
   "metadata": {},
   "outputs": [
    {
     "name": "stdout",
     "output_type": "stream",
     "text": [
      "['Sokka', 'Katara', 'Sokka', 'Katara', 'Katara', 'Sokka', 'Katara', 'Sokka', 'Katara', 'Sokka', 'Katara', 'Katara', 'Sokka', 'Katara', 'Sokka', 'Katara', 'Katara', 'Sokka', 'Katara', 'Sokka', 'Katara', 'Sokka', 'Katara', 'Sokka', 'Katara', 'Sokka', 'Zuko', 'Iroh', 'Zuko', 'Zuko', 'Iroh', 'Zuko', 'Sokka', 'Katara', 'Aang', 'Katara', 'Aang', 'Katara', 'Aang', 'Katara', 'Sokka', 'Aang', 'Sokka', 'Aang', 'Aang', 'Aang', 'Sokka', 'Aang', 'Sokka', 'Sokka', 'Aang', 'Sokka', 'Aang', 'Sokka', 'Katara', 'Katara', 'Aang', 'Aang', 'Sokka', 'Aang', 'Katara', 'Aang', 'Sokka', 'Aang', 'Katara', 'Sokka', 'Katara', 'Aang', 'Aang', 'Sokka', 'Aang', 'Katara', 'Aang', 'Sokka', 'Iroh', 'Zuko', 'Katara', 'Aang', 'Katara', 'Aang', 'Katara', 'Aang', 'Aang', 'Katara', 'Aang', 'Katara', 'Aang', 'Gran Gran', 'Aang', 'Katara', 'Gran Gran', 'Sokka', 'Aang', 'Little Girl', 'Aang', 'Sokka', 'Aang', 'Villagers', 'Aang', 'Sokka', 'Katara', 'Sokka', 'Aang', 'Katara', 'Gran Gran', 'Katara', 'Gran Gran', 'Katara', 'Aang', 'Children', 'Iroh', 'Zuko', 'Iroh', 'Zuko', 'Iroh', 'Zuko', 'Iroh', 'Sokka', 'Little Boy', 'Sokka', 'Little Boy', 'Sokka', 'Katara', 'Aang', 'Children', 'Sokka', 'Kid', 'Sokka', 'Aang', 'Sokka', 'Aang', 'Sokka', 'Katara', 'Aang', 'Aang', 'Katara', 'Aang', 'Katara', 'Aang', 'Katara', 'Aang', 'Katara', 'Aang', 'Katara', 'Katara', 'Aang', 'Aang', 'Katara', 'Katara', 'Aang', 'Katara', 'Aang', 'Katara', 'Aang', 'Katara', 'Aang', 'Katara', 'Aang', 'Katara', 'Aang', 'Katara', 'Katara', 'Aang', 'Aang', 'Aang', 'Aang', 'Zuko', 'Zuko']\n"
     ]
    }
   ],
   "source": [
    "print(character_list)"
   ]
  },
  {
   "cell_type": "code",
   "execution_count": 22,
   "metadata": {},
   "outputs": [
    {
     "name": "stdout",
     "output_type": "stream",
     "text": [
      "[\"It's not getting away from me this time. Watch and learn, Katara. This is how you catch a fish.\", 'Sokka, look!', \"Shhh. Katara, you're gonna scare it away. Mmmm... I can already smell it cookin'!\", 'But Sokka! I caught one!', 'Hey!', 'Ugh! Why is it that every time you play with magic water I get soaked?', \"It's not magic. It's waterbending, and it's-\", \"Yeah, yeah, an ancient art unique to our culture, blah blah blah. Look, I'm just saying that if I had weird powers, I'd keep my weirdness to myself.\", \"You're calling me weird? I'm not the one who makes muscles at myself every time I see my reflection in the water.\", 'Ahhh!', 'Watch out! Go left! Go left!', 'You call that left?', \"You don't like my steering. Well, maybe you should have waterbended us out of the ice.\", \"So it's my fault?\", 'I knew I should have left you home. Leave it to a girl to screw things up.', 'You are the most sexist, immature, nut brained...', \"Ugh, I'm embarrassed to be related to you! Ever since Mom died I've been doing all the work around camp while you've been off playing soldier!\", 'Uh... Katara?', 'I even wash all the clothes! Have you ever smelled your dirty socks? Let me tell you, NOT PLEASANT!', 'Katara! Settle down!', \"No, that's it. I'm done helping you. From now on, you're on your own!\", \"Okay, you've gone from weird to freakish, Katara.\", 'You mean I did that?', 'Yup. Congratulations.', \"He's alive! We have to help.\", \"Katara! Get back here! We don't know what that thing is!\", 'Finally.  Uncle, do you realize what this means?', \"I won't get to finish my game?\", \"It means my search - it's about to come to an end.\", 'That light came from an incredibly powerful source. It has to be him!', \"Or it's just the celestial lights. We've been down this road before, Prince Zuko. I don't want you to get too excited over nothing. Please, sit. Why don't you enjoy a cup of calming jasmine tea?\", \"I don't need any calming tea! I need to capture the Avatar. Helmsman, head a course for the light!\", 'Stop!', 'Stop it!', 'I need to ask you something.', 'What?', 'Please... come closer.', 'What is it?', 'Will you go penguin sledding with me?', 'Uh... sure. I guess.', 'Ahh!', \"What's going on here?\", \"You tell us! How'd you get in the ice?  And why aren't you frozen?\", \"I'm not sure.\", 'Appa! Are you all right? Wake up, buddy.', \"Haha! You're okay!\", 'What is that thing?', 'This is Appa, my flying bison.', 'Right. And this is Katara, my flying sister.', 'Ewww! Aahh!!!', \"Don't worry. It'll wash out.\", 'Ugh!', 'So, do you guys live around here?', \"Don't answer that! Did you see that crazy bolt of light? He was probably trying to signal the Fire Navy.\", \"Oh, yeah, I'm sure he's a spy for the Fire Navy. You can tell by that evil look in his eye.\", 'The paranoid one is my brother, Sokka. You never told us your name.', \"I'm A... aaaahhhh... ahhhhhh.... aaah aaah aaah AAAAAAACHOOOO!\", \"I'm Aang.\", 'You just sneezed... and flew ten feet in the air.', 'Really? It felt higher that that.', \"You're an airbender!\", 'Sure am.', \"Giant light beams... flying bison... airbenders... I think I've got Midnight Sun Madness. I'm going home to where stuff makes sense.\", 'Well, if you guys are stuck Appa and I can give you a lift.', \"We'd love a ride! Thanks!\", 'Oh, no... I am not getting on that fluffy snot monster.', 'Are you hoping some other kind of monster will come along and give you a ride home? You know... before you freeze to death?', 'Okay. First time flyers, hold on tight! Appa, yip yip!', 'Come on, Appa. Yip yip.', 'Wow. That was truly amazing.', \"Appa's just tired. A little rest and he'll be soaring through the sky. You'll see.\", 'Why are you smiling at me like that?', 'Oh... I was smiling?', 'Uuuuugh.', \"I'm going to bed now. Yep. A man needs his rest. Prince Zuko, you need some sleep. Even if you're right and the Avatar is alive, you won't find him. Your father, grandfather, and great-grandfather all tried and failed.\", \"Because their honor didn't hinge on the Avatar's capture. Mine does. This coward's hundred years in hiding are over.\", 'Hey.', \"Hey. Whatcha thinkin' about?\", 'I guess I was wondering â€“ your being an airbender and all â€“ if you had any idea what happened to the Avatar.', \"Uhh... no. I didn't know him... I mean, I knew people that knew him, but I didn't. Sorry.\", 'Okay. Just curious. Goodnight.', 'Sleep tight.<u>', 'Aaahhh!', \"Aang! Aang, wake up!  It's okay. We're in the village now. Come on, get ready. Everyone's waiting to meet you.\", 'Whaaaa!', 'Aang, this is the entire village. Entire village, Aang.', 'Uh... why are they all looking at me like that? Did Appa sneeze on me?', 'Well, no one has seen an airbender in a hundred years. We thought they were extinct until my granddaughter and grandson found you.', \"'Extinct'?\", 'Aang, this is my grandmother.', 'Call me Gran Gran.', \"What is this, a weapon? You can't stab anything with this.\", \"It's not for stabbing.  It's for airbending.\", 'Magic trick! Do it again!', 'Not magic, airbending. It lets me control the air currents around my glider and fly.', \"You know, last time I checked, humans can't fly.\", 'Check again!', \"Whoa... it's flying... it's amazing!\", 'Oof!', 'My watchtower!', 'That was amazing.', \"Great. You're an airbender, Katara's a waterbender, together you can just waste time all day long.\", \"You're a waterbender!\", 'Well... sort of. Not yet.', 'All right. No more playing. Come on, Katara, you have chores.', \"I told you! He's the real thing, Gran Gran! I finally found a bender to teach me.\", 'Katara, try not to put all your hopes in this boy.', \"But he's special. I can tell. I sense he's filled with much wisdom.\", 'Sthee? Now my tongue ith thuck to my sthaff.', 'Tee hee!', 'Again.', 'Ha! Heeya!', 'No! Power in firebending comes from the breath. Not the muscles. The breath becomes energy in the body. The energy extends past your limbs and becomes fire.  Get it right this time.', \"Enough. I've been drilling this sequence all day. Teach me the next set. I'm more than ready.\", 'No, you are impatient. You have yet to master your basics.  Drill it again!', \"Grrrr... huh!  The sages tell us that the Avatar is the last airbender. He must be over a hundred years old by now. He's had a century to master the four elements. I'll need more than basic firebending to defeat him. You WILL teach me the advanced set!\", 'Very well. But first I must finish my roast duck.  Num num... num...', \"Now men, it's important that you show no fear when you face a firebender. In the Water Tribe, we fight to the last man standing. For without courage, how can we call ourselves men?\", 'I gotta pee!', \"Listen! Until your fathers return from the war, they're counting on you to be the men of this tribe. And that means no potty breaks.\", 'But I really gotta go.', 'Okay... who else has to go?', 'Have you seen Aang? Gran Gran said he disappeared over an hour ago.', 'Wow! Everything freezes in there!', 'Hahaha!', 'Ugh! Katara, get him out of here. This lesson is for warriors only.', 'Wheeee!', \"Stop! Stop it right now! What's wrong with you? We don't have time for fun and games with a war going on.\", 'What war? What are you talking about?', \"You're kidding, right?\", 'PENGUIN!', \"He's kidding, right?<u>\", 'Aang?', 'Haha! Hey, come on little guy. Wanna go sledding?', 'Oof! Heh heh, I have a way with animals.  Yarp! Yarp yarp! Yarp! Yarp yarp! Yarp!', \"Hahaha... Aang, I'll help you catch a penguin if you teach me waterbending.\", \"You got a deal! Just one little problem. I'm an airbender, not a waterbender. Isn't there someone in your tribe who can teach you?\", \"No. You're looking at the only waterbender on the whole South Pole.\", \"This isn't right. A waterbender needs to master water. What about the North Pole? There's another Water Tribe up there, right? Maybe they have waterbenders who could teach you.\", \"Maybe. But we haven't had contact with our sister tribe in a long time. It's not exactly 'turn right at the second glacier.' It's on the other side of the world.\", 'But you forget', \"That's... ( I mean, I don't know. I've never left home before.\", 'Well, you think about it. But in the meantime, can you teach me to catch one of these penguins?', 'Okay, listen closely my young pupil. Catching penguins is an ancient and sacred art. Observe.', \"I haven't done this since I was a kid!\", 'You still are a kid!', 'Whoa... what is that?', 'A Fire Navy ship, and a very bad memory for my people.', \"Aang, stop! We're not allowed to go near it. The ship could be booby trapped.\", 'If you wanna be a bender, you have to let go of fear.', \"This ship has haunted my tribe since Gran Gran was a little girl. It was part of the Fire Nation's first attacks.\", \"Okay, back up. I have friends all over the world, even in the Fire Nation. I've never seen any war.\", 'Aang, how long were you in that iceberg?', \"I don't know... a few days, maybe?\", 'I think it was more like a hundred years!', \"What? That's impossible. Do I look like a hundred-twelve year old man to you?\", \"Think about it. The war is a century old. You don't know about it because, somehow, you were in there that whole time. It's the only explanation.\", \"A hundred years! I can't believe it.\", \"I'm sorry, Aang. Maybe somehow there's a bright side to all this.\", 'I did get to meet you.', \"Come on. Let's get out of here.\", \"Aang? Let's head back. This place is creepy.\", 'Huh?', \"What's that you said about booby traps?\", 'Uh oh.', 'Hold on tight!', 'The last airbender.  Quite agile for his old age. Wake my uncle! Tell him I found the Avatar...', '...as well as his hiding place.']\n"
     ]
    }
   ],
   "source": [
    "print(dialogue_list)"
   ]
  },
  {
   "cell_type": "code",
   "execution_count": 23,
   "metadata": {},
   "outputs": [],
   "source": [
    "import pandas as pd"
   ]
  },
  {
   "cell_type": "code",
   "execution_count": 24,
   "metadata": {},
   "outputs": [],
   "source": [
    "se1ep01 = pd.DataFrame()"
   ]
  },
  {
   "cell_type": "code",
   "execution_count": 25,
   "metadata": {},
   "outputs": [],
   "source": [
    "se1ep01['character_list'] = character_list"
   ]
  },
  {
   "cell_type": "code",
   "execution_count": 26,
   "metadata": {},
   "outputs": [],
   "source": [
    "se1ep01['dialogue_list'] = dialogue_list"
   ]
  },
  {
   "cell_type": "code",
   "execution_count": 27,
   "metadata": {},
   "outputs": [
    {
     "data": {
      "text/html": [
       "<div>\n",
       "<style scoped>\n",
       "    .dataframe tbody tr th:only-of-type {\n",
       "        vertical-align: middle;\n",
       "    }\n",
       "\n",
       "    .dataframe tbody tr th {\n",
       "        vertical-align: top;\n",
       "    }\n",
       "\n",
       "    .dataframe thead th {\n",
       "        text-align: right;\n",
       "    }\n",
       "</style>\n",
       "<table border=\"1\" class=\"dataframe\">\n",
       "  <thead>\n",
       "    <tr style=\"text-align: right;\">\n",
       "      <th></th>\n",
       "      <th>character_list</th>\n",
       "      <th>dialogue_list</th>\n",
       "    </tr>\n",
       "  </thead>\n",
       "  <tbody>\n",
       "    <tr>\n",
       "      <td>0</td>\n",
       "      <td>Sokka</td>\n",
       "      <td>It's not getting away from me this time. Watch...</td>\n",
       "    </tr>\n",
       "    <tr>\n",
       "      <td>1</td>\n",
       "      <td>Katara</td>\n",
       "      <td>Sokka, look!</td>\n",
       "    </tr>\n",
       "    <tr>\n",
       "      <td>2</td>\n",
       "      <td>Sokka</td>\n",
       "      <td>Shhh. Katara, you're gonna scare it away. Mmmm...</td>\n",
       "    </tr>\n",
       "    <tr>\n",
       "      <td>3</td>\n",
       "      <td>Katara</td>\n",
       "      <td>But Sokka! I caught one!</td>\n",
       "    </tr>\n",
       "    <tr>\n",
       "      <td>4</td>\n",
       "      <td>Katara</td>\n",
       "      <td>Hey!</td>\n",
       "    </tr>\n",
       "    <tr>\n",
       "      <td>...</td>\n",
       "      <td>...</td>\n",
       "      <td>...</td>\n",
       "    </tr>\n",
       "    <tr>\n",
       "      <td>163</td>\n",
       "      <td>Aang</td>\n",
       "      <td>What's that you said about booby traps?</td>\n",
       "    </tr>\n",
       "    <tr>\n",
       "      <td>164</td>\n",
       "      <td>Aang</td>\n",
       "      <td>Uh oh.</td>\n",
       "    </tr>\n",
       "    <tr>\n",
       "      <td>165</td>\n",
       "      <td>Aang</td>\n",
       "      <td>Hold on tight!</td>\n",
       "    </tr>\n",
       "    <tr>\n",
       "      <td>166</td>\n",
       "      <td>Zuko</td>\n",
       "      <td>The last airbender.  Quite agile for his old a...</td>\n",
       "    </tr>\n",
       "    <tr>\n",
       "      <td>167</td>\n",
       "      <td>Zuko</td>\n",
       "      <td>...as well as his hiding place.</td>\n",
       "    </tr>\n",
       "  </tbody>\n",
       "</table>\n",
       "<p>168 rows × 2 columns</p>\n",
       "</div>"
      ],
      "text/plain": [
       "    character_list                                      dialogue_list\n",
       "0            Sokka  It's not getting away from me this time. Watch...\n",
       "1           Katara                                       Sokka, look!\n",
       "2            Sokka  Shhh. Katara, you're gonna scare it away. Mmmm...\n",
       "3           Katara                           But Sokka! I caught one!\n",
       "4           Katara                                               Hey!\n",
       "..             ...                                                ...\n",
       "163           Aang            What's that you said about booby traps?\n",
       "164           Aang                                             Uh oh.\n",
       "165           Aang                                     Hold on tight!\n",
       "166           Zuko  The last airbender.  Quite agile for his old a...\n",
       "167           Zuko                    ...as well as his hiding place.\n",
       "\n",
       "[168 rows x 2 columns]"
      ]
     },
     "execution_count": 27,
     "metadata": {},
     "output_type": "execute_result"
    }
   ],
   "source": [
    "se1ep01"
   ]
  },
  {
   "cell_type": "code",
   "execution_count": 28,
   "metadata": {},
   "outputs": [
    {
     "name": "stdout",
     "output_type": "stream",
     "text": [
      "<class 'str'>\n"
     ]
    }
   ],
   "source": [
    "print(type(se1ep01['dialogue_list'][1]))"
   ]
  },
  {
   "cell_type": "code",
   "execution_count": 29,
   "metadata": {},
   "outputs": [
    {
     "name": "stdout",
     "output_type": "stream",
     "text": [
      "12\n"
     ]
    }
   ],
   "source": [
    "print(len(se1ep01['dialogue_list'][1]))"
   ]
  },
  {
   "cell_type": "code",
   "execution_count": 30,
   "metadata": {},
   "outputs": [],
   "source": [
    "count = se1ep01['dialogue_list'].str.split().str.len()\n",
    "count.index = count.index.astype(str)\n",
    "#count.sort_index(inplace=True)\n",
    "count = list(count)"
   ]
  },
  {
   "cell_type": "code",
   "execution_count": 31,
   "metadata": {},
   "outputs": [
    {
     "data": {
      "text/plain": [
       "list"
      ]
     },
     "execution_count": 31,
     "metadata": {},
     "output_type": "execute_result"
    }
   ],
   "source": [
    "type(count)"
   ]
  },
  {
   "cell_type": "code",
   "execution_count": 32,
   "metadata": {},
   "outputs": [
    {
     "data": {
      "text/plain": [
       "int"
      ]
     },
     "execution_count": 32,
     "metadata": {},
     "output_type": "execute_result"
    }
   ],
   "source": [
    "type(count[2])"
   ]
  },
  {
   "cell_type": "code",
   "execution_count": 33,
   "metadata": {},
   "outputs": [],
   "source": [
    "se1ep01['word_count']=count"
   ]
  },
  {
   "cell_type": "code",
   "execution_count": 34,
   "metadata": {},
   "outputs": [
    {
     "data": {
      "text/html": [
       "<div>\n",
       "<style scoped>\n",
       "    .dataframe tbody tr th:only-of-type {\n",
       "        vertical-align: middle;\n",
       "    }\n",
       "\n",
       "    .dataframe tbody tr th {\n",
       "        vertical-align: top;\n",
       "    }\n",
       "\n",
       "    .dataframe thead th {\n",
       "        text-align: right;\n",
       "    }\n",
       "</style>\n",
       "<table border=\"1\" class=\"dataframe\">\n",
       "  <thead>\n",
       "    <tr style=\"text-align: right;\">\n",
       "      <th></th>\n",
       "      <th>character_list</th>\n",
       "      <th>dialogue_list</th>\n",
       "      <th>word_count</th>\n",
       "    </tr>\n",
       "  </thead>\n",
       "  <tbody>\n",
       "    <tr>\n",
       "      <td>0</td>\n",
       "      <td>Sokka</td>\n",
       "      <td>It's not getting away from me this time. Watch...</td>\n",
       "      <td>19</td>\n",
       "    </tr>\n",
       "    <tr>\n",
       "      <td>1</td>\n",
       "      <td>Katara</td>\n",
       "      <td>Sokka, look!</td>\n",
       "      <td>2</td>\n",
       "    </tr>\n",
       "    <tr>\n",
       "      <td>2</td>\n",
       "      <td>Sokka</td>\n",
       "      <td>Shhh. Katara, you're gonna scare it away. Mmmm...</td>\n",
       "      <td>14</td>\n",
       "    </tr>\n",
       "    <tr>\n",
       "      <td>3</td>\n",
       "      <td>Katara</td>\n",
       "      <td>But Sokka! I caught one!</td>\n",
       "      <td>5</td>\n",
       "    </tr>\n",
       "    <tr>\n",
       "      <td>4</td>\n",
       "      <td>Katara</td>\n",
       "      <td>Hey!</td>\n",
       "      <td>1</td>\n",
       "    </tr>\n",
       "  </tbody>\n",
       "</table>\n",
       "</div>"
      ],
      "text/plain": [
       "  character_list                                      dialogue_list  \\\n",
       "0          Sokka  It's not getting away from me this time. Watch...   \n",
       "1         Katara                                       Sokka, look!   \n",
       "2          Sokka  Shhh. Katara, you're gonna scare it away. Mmmm...   \n",
       "3         Katara                           But Sokka! I caught one!   \n",
       "4         Katara                                               Hey!   \n",
       "\n",
       "   word_count  \n",
       "0          19  \n",
       "1           2  \n",
       "2          14  \n",
       "3           5  \n",
       "4           1  "
      ]
     },
     "execution_count": 34,
     "metadata": {},
     "output_type": "execute_result"
    }
   ],
   "source": [
    "se1ep01.head()"
   ]
  },
  {
   "cell_type": "code",
   "execution_count": 35,
   "metadata": {},
   "outputs": [
    {
     "data": {
      "text/html": [
       "<div>\n",
       "<style scoped>\n",
       "    .dataframe tbody tr th:only-of-type {\n",
       "        vertical-align: middle;\n",
       "    }\n",
       "\n",
       "    .dataframe tbody tr th {\n",
       "        vertical-align: top;\n",
       "    }\n",
       "\n",
       "    .dataframe thead th {\n",
       "        text-align: right;\n",
       "    }\n",
       "</style>\n",
       "<table border=\"1\" class=\"dataframe\">\n",
       "  <thead>\n",
       "    <tr style=\"text-align: right;\">\n",
       "      <th></th>\n",
       "      <th>word_count</th>\n",
       "    </tr>\n",
       "    <tr>\n",
       "      <th>character_list</th>\n",
       "      <th></th>\n",
       "    </tr>\n",
       "  </thead>\n",
       "  <tbody>\n",
       "    <tr>\n",
       "      <td>Katara</td>\n",
       "      <td>539</td>\n",
       "    </tr>\n",
       "    <tr>\n",
       "      <td>Aang</td>\n",
       "      <td>399</td>\n",
       "    </tr>\n",
       "    <tr>\n",
       "      <td>Sokka</td>\n",
       "      <td>379</td>\n",
       "    </tr>\n",
       "    <tr>\n",
       "      <td>Zuko</td>\n",
       "      <td>162</td>\n",
       "    </tr>\n",
       "    <tr>\n",
       "      <td>Iroh</td>\n",
       "      <td>142</td>\n",
       "    </tr>\n",
       "    <tr>\n",
       "      <td>Gran Gran</td>\n",
       "      <td>49</td>\n",
       "    </tr>\n",
       "    <tr>\n",
       "      <td>Little Boy</td>\n",
       "      <td>8</td>\n",
       "    </tr>\n",
       "    <tr>\n",
       "      <td>Little Girl</td>\n",
       "      <td>5</td>\n",
       "    </tr>\n",
       "    <tr>\n",
       "      <td>Villagers</td>\n",
       "      <td>5</td>\n",
       "    </tr>\n",
       "    <tr>\n",
       "      <td>Children</td>\n",
       "      <td>3</td>\n",
       "    </tr>\n",
       "    <tr>\n",
       "      <td>Kid</td>\n",
       "      <td>1</td>\n",
       "    </tr>\n",
       "  </tbody>\n",
       "</table>\n",
       "</div>"
      ],
      "text/plain": [
       "                word_count\n",
       "character_list            \n",
       "Katara                 539\n",
       "Aang                   399\n",
       "Sokka                  379\n",
       "Zuko                   162\n",
       "Iroh                   142\n",
       "Gran Gran               49\n",
       "Little Boy               8\n",
       "Little Girl              5\n",
       "Villagers                5\n",
       "Children                 3\n",
       "Kid                      1"
      ]
     },
     "execution_count": 35,
     "metadata": {},
     "output_type": "execute_result"
    }
   ],
   "source": [
    "se1ep01.groupby('character_list').sum().sort_values(by = 'word_count', ascending = False)"
   ]
  },
  {
   "cell_type": "code",
   "execution_count": 36,
   "metadata": {},
   "outputs": [
    {
     "data": {
      "text/plain": [
       "pandas.core.frame.DataFrame"
      ]
     },
     "execution_count": 36,
     "metadata": {},
     "output_type": "execute_result"
    }
   ],
   "source": [
    "type(se1ep01.groupby('character_list').sum().sort_values(by = 'word_count', ascending = False))"
   ]
  },
  {
   "cell_type": "code",
   "execution_count": 37,
   "metadata": {},
   "outputs": [
    {
     "data": {
      "text/html": [
       "<div>\n",
       "<style scoped>\n",
       "    .dataframe tbody tr th:only-of-type {\n",
       "        vertical-align: middle;\n",
       "    }\n",
       "\n",
       "    .dataframe tbody tr th {\n",
       "        vertical-align: top;\n",
       "    }\n",
       "\n",
       "    .dataframe thead th {\n",
       "        text-align: right;\n",
       "    }\n",
       "</style>\n",
       "<table border=\"1\" class=\"dataframe\">\n",
       "  <thead>\n",
       "    <tr style=\"text-align: right;\">\n",
       "      <th></th>\n",
       "      <th>character_list</th>\n",
       "      <th>word_count</th>\n",
       "    </tr>\n",
       "  </thead>\n",
       "  <tbody>\n",
       "    <tr>\n",
       "      <td>0</td>\n",
       "      <td>Sokka</td>\n",
       "      <td>19</td>\n",
       "    </tr>\n",
       "    <tr>\n",
       "      <td>1</td>\n",
       "      <td>Katara</td>\n",
       "      <td>2</td>\n",
       "    </tr>\n",
       "    <tr>\n",
       "      <td>2</td>\n",
       "      <td>Sokka</td>\n",
       "      <td>14</td>\n",
       "    </tr>\n",
       "    <tr>\n",
       "      <td>3</td>\n",
       "      <td>Katara</td>\n",
       "      <td>5</td>\n",
       "    </tr>\n",
       "    <tr>\n",
       "      <td>4</td>\n",
       "      <td>Katara</td>\n",
       "      <td>1</td>\n",
       "    </tr>\n",
       "  </tbody>\n",
       "</table>\n",
       "</div>"
      ],
      "text/plain": [
       "  character_list  word_count\n",
       "0          Sokka          19\n",
       "1         Katara           2\n",
       "2          Sokka          14\n",
       "3         Katara           5\n",
       "4         Katara           1"
      ]
     },
     "execution_count": 37,
     "metadata": {},
     "output_type": "execute_result"
    }
   ],
   "source": [
    "se1ep01[['character_list','word_count']].head(5)"
   ]
  },
  {
   "cell_type": "code",
   "execution_count": 38,
   "metadata": {},
   "outputs": [],
   "source": [
    "#try to do turtle?\n",
    "\n",
    "#if character list is in list, change color, then move turtle forward by word count, and rotate it 90 degress\n",
    "# prob want to get the lines first, and then the groupings? \n",
    "\n",
    "#could I do some adding? while statement?\n",
    "#while the character list is the same, sum them all as one? \n",
    "\n",
    "#could also create a new function that goes through, \n",
    "#if different, keep going, if not, sum it and add it to a new row... "
   ]
  },
  {
   "cell_type": "code",
   "execution_count": 39,
   "metadata": {},
   "outputs": [],
   "source": [
    "#test = se1ep01.iloc[0:20] #could try to concat line by line? \n",
    "\n",
    "#trying on the entire data set\n",
    "test = se1ep01\n",
    "\n",
    "#problem area\n",
    "#test = se1ep01.iloc[40:50]"
   ]
  },
  {
   "cell_type": "code",
   "execution_count": 40,
   "metadata": {},
   "outputs": [],
   "source": [
    "#test = se1ep01[['character_list','word_count']].head(5)"
   ]
  },
  {
   "cell_type": "code",
   "execution_count": 41,
   "metadata": {},
   "outputs": [],
   "source": [
    "test= test[['character_list','word_count']]"
   ]
  },
  {
   "cell_type": "code",
   "execution_count": 42,
   "metadata": {
    "scrolled": true
   },
   "outputs": [
    {
     "data": {
      "text/html": [
       "<div>\n",
       "<style scoped>\n",
       "    .dataframe tbody tr th:only-of-type {\n",
       "        vertical-align: middle;\n",
       "    }\n",
       "\n",
       "    .dataframe tbody tr th {\n",
       "        vertical-align: top;\n",
       "    }\n",
       "\n",
       "    .dataframe thead th {\n",
       "        text-align: right;\n",
       "    }\n",
       "</style>\n",
       "<table border=\"1\" class=\"dataframe\">\n",
       "  <thead>\n",
       "    <tr style=\"text-align: right;\">\n",
       "      <th></th>\n",
       "      <th>character_list</th>\n",
       "      <th>word_count</th>\n",
       "    </tr>\n",
       "  </thead>\n",
       "  <tbody>\n",
       "    <tr>\n",
       "      <td>0</td>\n",
       "      <td>Sokka</td>\n",
       "      <td>19</td>\n",
       "    </tr>\n",
       "    <tr>\n",
       "      <td>1</td>\n",
       "      <td>Katara</td>\n",
       "      <td>2</td>\n",
       "    </tr>\n",
       "    <tr>\n",
       "      <td>2</td>\n",
       "      <td>Sokka</td>\n",
       "      <td>14</td>\n",
       "    </tr>\n",
       "    <tr>\n",
       "      <td>3</td>\n",
       "      <td>Katara</td>\n",
       "      <td>5</td>\n",
       "    </tr>\n",
       "    <tr>\n",
       "      <td>4</td>\n",
       "      <td>Katara</td>\n",
       "      <td>1</td>\n",
       "    </tr>\n",
       "    <tr>\n",
       "      <td>...</td>\n",
       "      <td>...</td>\n",
       "      <td>...</td>\n",
       "    </tr>\n",
       "    <tr>\n",
       "      <td>163</td>\n",
       "      <td>Aang</td>\n",
       "      <td>7</td>\n",
       "    </tr>\n",
       "    <tr>\n",
       "      <td>164</td>\n",
       "      <td>Aang</td>\n",
       "      <td>2</td>\n",
       "    </tr>\n",
       "    <tr>\n",
       "      <td>165</td>\n",
       "      <td>Aang</td>\n",
       "      <td>3</td>\n",
       "    </tr>\n",
       "    <tr>\n",
       "      <td>166</td>\n",
       "      <td>Zuko</td>\n",
       "      <td>18</td>\n",
       "    </tr>\n",
       "    <tr>\n",
       "      <td>167</td>\n",
       "      <td>Zuko</td>\n",
       "      <td>6</td>\n",
       "    </tr>\n",
       "  </tbody>\n",
       "</table>\n",
       "<p>168 rows × 2 columns</p>\n",
       "</div>"
      ],
      "text/plain": [
       "    character_list  word_count\n",
       "0            Sokka          19\n",
       "1           Katara           2\n",
       "2            Sokka          14\n",
       "3           Katara           5\n",
       "4           Katara           1\n",
       "..             ...         ...\n",
       "163           Aang           7\n",
       "164           Aang           2\n",
       "165           Aang           3\n",
       "166           Zuko          18\n",
       "167           Zuko           6\n",
       "\n",
       "[168 rows x 2 columns]"
      ]
     },
     "execution_count": 42,
     "metadata": {},
     "output_type": "execute_result"
    }
   ],
   "source": [
    "test"
   ]
  },
  {
   "cell_type": "code",
   "execution_count": 43,
   "metadata": {},
   "outputs": [
    {
     "data": {
      "text/plain": [
       "RangeIndex(start=0, stop=168, step=1)"
      ]
     },
     "execution_count": 43,
     "metadata": {},
     "output_type": "execute_result"
    }
   ],
   "source": [
    "test.index"
   ]
  },
  {
   "cell_type": "code",
   "execution_count": 44,
   "metadata": {
    "scrolled": true
   },
   "outputs": [],
   "source": [
    "#PRETTY SURE THIS IS CORRECT. NEED TO DOUBLE CHECK AND CLEAN IT UP TOMORROW. \n",
    "#understand why this worked... specically why need to use .at to get it to set\n",
    "\n",
    "#so this is working, but getting a copy error\n",
    "\n",
    "#the copy error is happening in the first part of it\n",
    "\n",
    "#https://stackoverflow.com/questions/13842088/set-value-for-particular-cell-in-pandas-dataframe-using-index\n",
    "\n",
    "i = 1\n",
    "\n",
    "df_copy = pd.DataFrame()\n",
    "df_copy = df_copy.append(test.iloc[0])\n",
    "\n",
    "while i < len(test.index):\n",
    "    if test['character_list'][i] == test['character_list'][i-1]:\n",
    "        answer = (test['word_count'][i]+test['word_count'][i-1])\n",
    "        #print(answer)\n",
    "        #df_copy.set_value(['word_count'],[i-1],answer) #does this work\n",
    "        \n",
    "        df_copy['word_count'].at[i-1] = answer # this might be it... \n",
    "        \n",
    "        #this is close, but know the index is out of bounds\n",
    "        \n",
    "        #df_copy.at['word_count',[i-1]] = answer # does this work\n",
    "        #need to try .at or .iat \n",
    "        \n",
    "        #df_copy = df_copy.append(test.iloc[i])\n",
    "        i = i + 1\n",
    "    else:\n",
    "        #print(\"Don't Match\")\n",
    "        df_copy = df_copy.append(test.iloc[i])\n",
    "        i = i + 1"
   ]
  },
  {
   "cell_type": "code",
   "execution_count": 45,
   "metadata": {},
   "outputs": [
    {
     "name": "stdout",
     "output_type": "stream",
     "text": [
      "168\n",
      "148\n"
     ]
    }
   ],
   "source": [
    "print(len(test))\n",
    "print(len(df_copy))"
   ]
  },
  {
   "cell_type": "code",
   "execution_count": 46,
   "metadata": {},
   "outputs": [],
   "source": [
    "# to check that everythign is working\n",
    "pd.set_option('display.max_rows', 150)"
   ]
  },
  {
   "cell_type": "code",
   "execution_count": 47,
   "metadata": {},
   "outputs": [
    {
     "data": {
      "text/html": [
       "<div>\n",
       "<style scoped>\n",
       "    .dataframe tbody tr th:only-of-type {\n",
       "        vertical-align: middle;\n",
       "    }\n",
       "\n",
       "    .dataframe tbody tr th {\n",
       "        vertical-align: top;\n",
       "    }\n",
       "\n",
       "    .dataframe thead th {\n",
       "        text-align: right;\n",
       "    }\n",
       "</style>\n",
       "<table border=\"1\" class=\"dataframe\">\n",
       "  <thead>\n",
       "    <tr style=\"text-align: right;\">\n",
       "      <th></th>\n",
       "      <th>character_list</th>\n",
       "      <th>word_count</th>\n",
       "    </tr>\n",
       "  </thead>\n",
       "  <tbody>\n",
       "    <tr>\n",
       "      <td>0</td>\n",
       "      <td>Sokka</td>\n",
       "      <td>19.0</td>\n",
       "    </tr>\n",
       "    <tr>\n",
       "      <td>1</td>\n",
       "      <td>Katara</td>\n",
       "      <td>2.0</td>\n",
       "    </tr>\n",
       "    <tr>\n",
       "      <td>2</td>\n",
       "      <td>Sokka</td>\n",
       "      <td>14.0</td>\n",
       "    </tr>\n",
       "    <tr>\n",
       "      <td>3</td>\n",
       "      <td>Katara</td>\n",
       "      <td>6.0</td>\n",
       "    </tr>\n",
       "    <tr>\n",
       "      <td>5</td>\n",
       "      <td>Sokka</td>\n",
       "      <td>15.0</td>\n",
       "    </tr>\n",
       "    <tr>\n",
       "      <td>6</td>\n",
       "      <td>Katara</td>\n",
       "      <td>7.0</td>\n",
       "    </tr>\n",
       "    <tr>\n",
       "      <td>7</td>\n",
       "      <td>Sokka</td>\n",
       "      <td>28.0</td>\n",
       "    </tr>\n",
       "    <tr>\n",
       "      <td>8</td>\n",
       "      <td>Katara</td>\n",
       "      <td>22.0</td>\n",
       "    </tr>\n",
       "    <tr>\n",
       "      <td>9</td>\n",
       "      <td>Sokka</td>\n",
       "      <td>1.0</td>\n",
       "    </tr>\n",
       "    <tr>\n",
       "      <td>10</td>\n",
       "      <td>Katara</td>\n",
       "      <td>10.0</td>\n",
       "    </tr>\n",
       "    <tr>\n",
       "      <td>12</td>\n",
       "      <td>Sokka</td>\n",
       "      <td>16.0</td>\n",
       "    </tr>\n",
       "    <tr>\n",
       "      <td>13</td>\n",
       "      <td>Katara</td>\n",
       "      <td>4.0</td>\n",
       "    </tr>\n",
       "    <tr>\n",
       "      <td>14</td>\n",
       "      <td>Sokka</td>\n",
       "      <td>17.0</td>\n",
       "    </tr>\n",
       "    <tr>\n",
       "      <td>15</td>\n",
       "      <td>Katara</td>\n",
       "      <td>34.0</td>\n",
       "    </tr>\n",
       "    <tr>\n",
       "      <td>17</td>\n",
       "      <td>Sokka</td>\n",
       "      <td>2.0</td>\n",
       "    </tr>\n",
       "    <tr>\n",
       "      <td>18</td>\n",
       "      <td>Katara</td>\n",
       "      <td>19.0</td>\n",
       "    </tr>\n",
       "    <tr>\n",
       "      <td>19</td>\n",
       "      <td>Sokka</td>\n",
       "      <td>3.0</td>\n",
       "    </tr>\n",
       "    <tr>\n",
       "      <td>20</td>\n",
       "      <td>Katara</td>\n",
       "      <td>14.0</td>\n",
       "    </tr>\n",
       "    <tr>\n",
       "      <td>21</td>\n",
       "      <td>Sokka</td>\n",
       "      <td>8.0</td>\n",
       "    </tr>\n",
       "    <tr>\n",
       "      <td>22</td>\n",
       "      <td>Katara</td>\n",
       "      <td>5.0</td>\n",
       "    </tr>\n",
       "    <tr>\n",
       "      <td>23</td>\n",
       "      <td>Sokka</td>\n",
       "      <td>2.0</td>\n",
       "    </tr>\n",
       "    <tr>\n",
       "      <td>24</td>\n",
       "      <td>Katara</td>\n",
       "      <td>6.0</td>\n",
       "    </tr>\n",
       "    <tr>\n",
       "      <td>25</td>\n",
       "      <td>Sokka</td>\n",
       "      <td>11.0</td>\n",
       "    </tr>\n",
       "    <tr>\n",
       "      <td>26</td>\n",
       "      <td>Zuko</td>\n",
       "      <td>8.0</td>\n",
       "    </tr>\n",
       "    <tr>\n",
       "      <td>27</td>\n",
       "      <td>Iroh</td>\n",
       "      <td>7.0</td>\n",
       "    </tr>\n",
       "    <tr>\n",
       "      <td>28</td>\n",
       "      <td>Zuko</td>\n",
       "      <td>25.0</td>\n",
       "    </tr>\n",
       "    <tr>\n",
       "      <td>30</td>\n",
       "      <td>Iroh</td>\n",
       "      <td>36.0</td>\n",
       "    </tr>\n",
       "    <tr>\n",
       "      <td>31</td>\n",
       "      <td>Zuko</td>\n",
       "      <td>19.0</td>\n",
       "    </tr>\n",
       "    <tr>\n",
       "      <td>32</td>\n",
       "      <td>Sokka</td>\n",
       "      <td>1.0</td>\n",
       "    </tr>\n",
       "    <tr>\n",
       "      <td>33</td>\n",
       "      <td>Katara</td>\n",
       "      <td>2.0</td>\n",
       "    </tr>\n",
       "    <tr>\n",
       "      <td>34</td>\n",
       "      <td>Aang</td>\n",
       "      <td>6.0</td>\n",
       "    </tr>\n",
       "    <tr>\n",
       "      <td>35</td>\n",
       "      <td>Katara</td>\n",
       "      <td>1.0</td>\n",
       "    </tr>\n",
       "    <tr>\n",
       "      <td>36</td>\n",
       "      <td>Aang</td>\n",
       "      <td>3.0</td>\n",
       "    </tr>\n",
       "    <tr>\n",
       "      <td>37</td>\n",
       "      <td>Katara</td>\n",
       "      <td>3.0</td>\n",
       "    </tr>\n",
       "    <tr>\n",
       "      <td>38</td>\n",
       "      <td>Aang</td>\n",
       "      <td>7.0</td>\n",
       "    </tr>\n",
       "    <tr>\n",
       "      <td>39</td>\n",
       "      <td>Katara</td>\n",
       "      <td>4.0</td>\n",
       "    </tr>\n",
       "    <tr>\n",
       "      <td>40</td>\n",
       "      <td>Sokka</td>\n",
       "      <td>1.0</td>\n",
       "    </tr>\n",
       "    <tr>\n",
       "      <td>41</td>\n",
       "      <td>Aang</td>\n",
       "      <td>4.0</td>\n",
       "    </tr>\n",
       "    <tr>\n",
       "      <td>42</td>\n",
       "      <td>Sokka</td>\n",
       "      <td>14.0</td>\n",
       "    </tr>\n",
       "    <tr>\n",
       "      <td>43</td>\n",
       "      <td>Aang</td>\n",
       "      <td>11.0</td>\n",
       "    </tr>\n",
       "    <tr>\n",
       "      <td>46</td>\n",
       "      <td>Sokka</td>\n",
       "      <td>4.0</td>\n",
       "    </tr>\n",
       "    <tr>\n",
       "      <td>47</td>\n",
       "      <td>Aang</td>\n",
       "      <td>6.0</td>\n",
       "    </tr>\n",
       "    <tr>\n",
       "      <td>48</td>\n",
       "      <td>Sokka</td>\n",
       "      <td>10.0</td>\n",
       "    </tr>\n",
       "    <tr>\n",
       "      <td>50</td>\n",
       "      <td>Aang</td>\n",
       "      <td>5.0</td>\n",
       "    </tr>\n",
       "    <tr>\n",
       "      <td>51</td>\n",
       "      <td>Sokka</td>\n",
       "      <td>1.0</td>\n",
       "    </tr>\n",
       "    <tr>\n",
       "      <td>52</td>\n",
       "      <td>Aang</td>\n",
       "      <td>7.0</td>\n",
       "    </tr>\n",
       "    <tr>\n",
       "      <td>53</td>\n",
       "      <td>Sokka</td>\n",
       "      <td>20.0</td>\n",
       "    </tr>\n",
       "    <tr>\n",
       "      <td>54</td>\n",
       "      <td>Katara</td>\n",
       "      <td>34.0</td>\n",
       "    </tr>\n",
       "    <tr>\n",
       "      <td>56</td>\n",
       "      <td>Aang</td>\n",
       "      <td>10.0</td>\n",
       "    </tr>\n",
       "    <tr>\n",
       "      <td>58</td>\n",
       "      <td>Sokka</td>\n",
       "      <td>10.0</td>\n",
       "    </tr>\n",
       "    <tr>\n",
       "      <td>59</td>\n",
       "      <td>Aang</td>\n",
       "      <td>6.0</td>\n",
       "    </tr>\n",
       "    <tr>\n",
       "      <td>60</td>\n",
       "      <td>Katara</td>\n",
       "      <td>3.0</td>\n",
       "    </tr>\n",
       "    <tr>\n",
       "      <td>61</td>\n",
       "      <td>Aang</td>\n",
       "      <td>2.0</td>\n",
       "    </tr>\n",
       "    <tr>\n",
       "      <td>62</td>\n",
       "      <td>Sokka</td>\n",
       "      <td>21.0</td>\n",
       "    </tr>\n",
       "    <tr>\n",
       "      <td>63</td>\n",
       "      <td>Aang</td>\n",
       "      <td>14.0</td>\n",
       "    </tr>\n",
       "    <tr>\n",
       "      <td>64</td>\n",
       "      <td>Katara</td>\n",
       "      <td>5.0</td>\n",
       "    </tr>\n",
       "    <tr>\n",
       "      <td>65</td>\n",
       "      <td>Sokka</td>\n",
       "      <td>11.0</td>\n",
       "    </tr>\n",
       "    <tr>\n",
       "      <td>66</td>\n",
       "      <td>Katara</td>\n",
       "      <td>24.0</td>\n",
       "    </tr>\n",
       "    <tr>\n",
       "      <td>67</td>\n",
       "      <td>Aang</td>\n",
       "      <td>15.0</td>\n",
       "    </tr>\n",
       "    <tr>\n",
       "      <td>69</td>\n",
       "      <td>Sokka</td>\n",
       "      <td>5.0</td>\n",
       "    </tr>\n",
       "    <tr>\n",
       "      <td>70</td>\n",
       "      <td>Aang</td>\n",
       "      <td>15.0</td>\n",
       "    </tr>\n",
       "    <tr>\n",
       "      <td>71</td>\n",
       "      <td>Katara</td>\n",
       "      <td>8.0</td>\n",
       "    </tr>\n",
       "    <tr>\n",
       "      <td>72</td>\n",
       "      <td>Aang</td>\n",
       "      <td>4.0</td>\n",
       "    </tr>\n",
       "    <tr>\n",
       "      <td>73</td>\n",
       "      <td>Sokka</td>\n",
       "      <td>1.0</td>\n",
       "    </tr>\n",
       "    <tr>\n",
       "      <td>74</td>\n",
       "      <td>Iroh</td>\n",
       "      <td>39.0</td>\n",
       "    </tr>\n",
       "    <tr>\n",
       "      <td>75</td>\n",
       "      <td>Zuko</td>\n",
       "      <td>19.0</td>\n",
       "    </tr>\n",
       "    <tr>\n",
       "      <td>76</td>\n",
       "      <td>Katara</td>\n",
       "      <td>1.0</td>\n",
       "    </tr>\n",
       "    <tr>\n",
       "      <td>77</td>\n",
       "      <td>Aang</td>\n",
       "      <td>4.0</td>\n",
       "    </tr>\n",
       "    <tr>\n",
       "      <td>78</td>\n",
       "      <td>Katara</td>\n",
       "      <td>23.0</td>\n",
       "    </tr>\n",
       "    <tr>\n",
       "      <td>79</td>\n",
       "      <td>Aang</td>\n",
       "      <td>18.0</td>\n",
       "    </tr>\n",
       "    <tr>\n",
       "      <td>80</td>\n",
       "      <td>Katara</td>\n",
       "      <td>4.0</td>\n",
       "    </tr>\n",
       "    <tr>\n",
       "      <td>81</td>\n",
       "      <td>Aang</td>\n",
       "      <td>3.0</td>\n",
       "    </tr>\n",
       "    <tr>\n",
       "      <td>83</td>\n",
       "      <td>Katara</td>\n",
       "      <td>20.0</td>\n",
       "    </tr>\n",
       "    <tr>\n",
       "      <td>84</td>\n",
       "      <td>Aang</td>\n",
       "      <td>1.0</td>\n",
       "    </tr>\n",
       "    <tr>\n",
       "      <td>85</td>\n",
       "      <td>Katara</td>\n",
       "      <td>9.0</td>\n",
       "    </tr>\n",
       "    <tr>\n",
       "      <td>86</td>\n",
       "      <td>Aang</td>\n",
       "      <td>15.0</td>\n",
       "    </tr>\n",
       "    <tr>\n",
       "      <td>87</td>\n",
       "      <td>Gran Gran</td>\n",
       "      <td>23.0</td>\n",
       "    </tr>\n",
       "    <tr>\n",
       "      <td>88</td>\n",
       "      <td>Aang</td>\n",
       "      <td>1.0</td>\n",
       "    </tr>\n",
       "    <tr>\n",
       "      <td>89</td>\n",
       "      <td>Katara</td>\n",
       "      <td>5.0</td>\n",
       "    </tr>\n",
       "    <tr>\n",
       "      <td>90</td>\n",
       "      <td>Gran Gran</td>\n",
       "      <td>4.0</td>\n",
       "    </tr>\n",
       "    <tr>\n",
       "      <td>91</td>\n",
       "      <td>Sokka</td>\n",
       "      <td>11.0</td>\n",
       "    </tr>\n",
       "    <tr>\n",
       "      <td>92</td>\n",
       "      <td>Aang</td>\n",
       "      <td>7.0</td>\n",
       "    </tr>\n",
       "    <tr>\n",
       "      <td>93</td>\n",
       "      <td>Little Girl</td>\n",
       "      <td>5.0</td>\n",
       "    </tr>\n",
       "    <tr>\n",
       "      <td>94</td>\n",
       "      <td>Aang</td>\n",
       "      <td>15.0</td>\n",
       "    </tr>\n",
       "    <tr>\n",
       "      <td>95</td>\n",
       "      <td>Sokka</td>\n",
       "      <td>9.0</td>\n",
       "    </tr>\n",
       "    <tr>\n",
       "      <td>96</td>\n",
       "      <td>Aang</td>\n",
       "      <td>2.0</td>\n",
       "    </tr>\n",
       "    <tr>\n",
       "      <td>97</td>\n",
       "      <td>Villagers</td>\n",
       "      <td>5.0</td>\n",
       "    </tr>\n",
       "    <tr>\n",
       "      <td>98</td>\n",
       "      <td>Aang</td>\n",
       "      <td>1.0</td>\n",
       "    </tr>\n",
       "    <tr>\n",
       "      <td>99</td>\n",
       "      <td>Sokka</td>\n",
       "      <td>2.0</td>\n",
       "    </tr>\n",
       "    <tr>\n",
       "      <td>100</td>\n",
       "      <td>Katara</td>\n",
       "      <td>3.0</td>\n",
       "    </tr>\n",
       "    <tr>\n",
       "      <td>101</td>\n",
       "      <td>Sokka</td>\n",
       "      <td>16.0</td>\n",
       "    </tr>\n",
       "    <tr>\n",
       "      <td>102</td>\n",
       "      <td>Aang</td>\n",
       "      <td>3.0</td>\n",
       "    </tr>\n",
       "    <tr>\n",
       "      <td>103</td>\n",
       "      <td>Katara</td>\n",
       "      <td>5.0</td>\n",
       "    </tr>\n",
       "    <tr>\n",
       "      <td>104</td>\n",
       "      <td>Gran Gran</td>\n",
       "      <td>11.0</td>\n",
       "    </tr>\n",
       "    <tr>\n",
       "      <td>105</td>\n",
       "      <td>Katara</td>\n",
       "      <td>17.0</td>\n",
       "    </tr>\n",
       "    <tr>\n",
       "      <td>106</td>\n",
       "      <td>Gran Gran</td>\n",
       "      <td>11.0</td>\n",
       "    </tr>\n",
       "    <tr>\n",
       "      <td>107</td>\n",
       "      <td>Katara</td>\n",
       "      <td>13.0</td>\n",
       "    </tr>\n",
       "    <tr>\n",
       "      <td>108</td>\n",
       "      <td>Aang</td>\n",
       "      <td>9.0</td>\n",
       "    </tr>\n",
       "    <tr>\n",
       "      <td>109</td>\n",
       "      <td>Children</td>\n",
       "      <td>2.0</td>\n",
       "    </tr>\n",
       "    <tr>\n",
       "      <td>110</td>\n",
       "      <td>Iroh</td>\n",
       "      <td>1.0</td>\n",
       "    </tr>\n",
       "    <tr>\n",
       "      <td>111</td>\n",
       "      <td>Zuko</td>\n",
       "      <td>2.0</td>\n",
       "    </tr>\n",
       "    <tr>\n",
       "      <td>112</td>\n",
       "      <td>Iroh</td>\n",
       "      <td>32.0</td>\n",
       "    </tr>\n",
       "    <tr>\n",
       "      <td>113</td>\n",
       "      <td>Zuko</td>\n",
       "      <td>17.0</td>\n",
       "    </tr>\n",
       "    <tr>\n",
       "      <td>114</td>\n",
       "      <td>Iroh</td>\n",
       "      <td>14.0</td>\n",
       "    </tr>\n",
       "    <tr>\n",
       "      <td>115</td>\n",
       "      <td>Zuko</td>\n",
       "      <td>48.0</td>\n",
       "    </tr>\n",
       "    <tr>\n",
       "      <td>116</td>\n",
       "      <td>Iroh</td>\n",
       "      <td>13.0</td>\n",
       "    </tr>\n",
       "    <tr>\n",
       "      <td>117</td>\n",
       "      <td>Sokka</td>\n",
       "      <td>34.0</td>\n",
       "    </tr>\n",
       "    <tr>\n",
       "      <td>118</td>\n",
       "      <td>Little Boy</td>\n",
       "      <td>3.0</td>\n",
       "    </tr>\n",
       "    <tr>\n",
       "      <td>119</td>\n",
       "      <td>Sokka</td>\n",
       "      <td>25.0</td>\n",
       "    </tr>\n",
       "    <tr>\n",
       "      <td>120</td>\n",
       "      <td>Little Boy</td>\n",
       "      <td>5.0</td>\n",
       "    </tr>\n",
       "    <tr>\n",
       "      <td>121</td>\n",
       "      <td>Sokka</td>\n",
       "      <td>6.0</td>\n",
       "    </tr>\n",
       "    <tr>\n",
       "      <td>122</td>\n",
       "      <td>Katara</td>\n",
       "      <td>13.0</td>\n",
       "    </tr>\n",
       "    <tr>\n",
       "      <td>123</td>\n",
       "      <td>Aang</td>\n",
       "      <td>5.0</td>\n",
       "    </tr>\n",
       "    <tr>\n",
       "      <td>124</td>\n",
       "      <td>Children</td>\n",
       "      <td>1.0</td>\n",
       "    </tr>\n",
       "    <tr>\n",
       "      <td>125</td>\n",
       "      <td>Sokka</td>\n",
       "      <td>13.0</td>\n",
       "    </tr>\n",
       "    <tr>\n",
       "      <td>126</td>\n",
       "      <td>Kid</td>\n",
       "      <td>1.0</td>\n",
       "    </tr>\n",
       "    <tr>\n",
       "      <td>127</td>\n",
       "      <td>Sokka</td>\n",
       "      <td>22.0</td>\n",
       "    </tr>\n",
       "    <tr>\n",
       "      <td>128</td>\n",
       "      <td>Aang</td>\n",
       "      <td>7.0</td>\n",
       "    </tr>\n",
       "    <tr>\n",
       "      <td>129</td>\n",
       "      <td>Sokka</td>\n",
       "      <td>3.0</td>\n",
       "    </tr>\n",
       "    <tr>\n",
       "      <td>130</td>\n",
       "      <td>Aang</td>\n",
       "      <td>1.0</td>\n",
       "    </tr>\n",
       "    <tr>\n",
       "      <td>131</td>\n",
       "      <td>Sokka</td>\n",
       "      <td>3.0</td>\n",
       "    </tr>\n",
       "    <tr>\n",
       "      <td>132</td>\n",
       "      <td>Katara</td>\n",
       "      <td>1.0</td>\n",
       "    </tr>\n",
       "    <tr>\n",
       "      <td>133</td>\n",
       "      <td>Aang</td>\n",
       "      <td>25.0</td>\n",
       "    </tr>\n",
       "    <tr>\n",
       "      <td>135</td>\n",
       "      <td>Katara</td>\n",
       "      <td>13.0</td>\n",
       "    </tr>\n",
       "    <tr>\n",
       "      <td>136</td>\n",
       "      <td>Aang</td>\n",
       "      <td>24.0</td>\n",
       "    </tr>\n",
       "    <tr>\n",
       "      <td>137</td>\n",
       "      <td>Katara</td>\n",
       "      <td>12.0</td>\n",
       "    </tr>\n",
       "    <tr>\n",
       "      <td>138</td>\n",
       "      <td>Aang</td>\n",
       "      <td>29.0</td>\n",
       "    </tr>\n",
       "    <tr>\n",
       "      <td>139</td>\n",
       "      <td>Katara</td>\n",
       "      <td>31.0</td>\n",
       "    </tr>\n",
       "    <tr>\n",
       "      <td>140</td>\n",
       "      <td>Aang</td>\n",
       "      <td>3.0</td>\n",
       "    </tr>\n",
       "    <tr>\n",
       "      <td>141</td>\n",
       "      <td>Katara</td>\n",
       "      <td>12.0</td>\n",
       "    </tr>\n",
       "    <tr>\n",
       "      <td>142</td>\n",
       "      <td>Aang</td>\n",
       "      <td>19.0</td>\n",
       "    </tr>\n",
       "    <tr>\n",
       "      <td>143</td>\n",
       "      <td>Katara</td>\n",
       "      <td>24.0</td>\n",
       "    </tr>\n",
       "    <tr>\n",
       "      <td>145</td>\n",
       "      <td>Aang</td>\n",
       "      <td>9.0</td>\n",
       "    </tr>\n",
       "    <tr>\n",
       "      <td>147</td>\n",
       "      <td>Katara</td>\n",
       "      <td>27.0</td>\n",
       "    </tr>\n",
       "    <tr>\n",
       "      <td>149</td>\n",
       "      <td>Aang</td>\n",
       "      <td>13.0</td>\n",
       "    </tr>\n",
       "    <tr>\n",
       "      <td>150</td>\n",
       "      <td>Katara</td>\n",
       "      <td>22.0</td>\n",
       "    </tr>\n",
       "    <tr>\n",
       "      <td>151</td>\n",
       "      <td>Aang</td>\n",
       "      <td>20.0</td>\n",
       "    </tr>\n",
       "    <tr>\n",
       "      <td>152</td>\n",
       "      <td>Katara</td>\n",
       "      <td>8.0</td>\n",
       "    </tr>\n",
       "    <tr>\n",
       "      <td>153</td>\n",
       "      <td>Aang</td>\n",
       "      <td>7.0</td>\n",
       "    </tr>\n",
       "    <tr>\n",
       "      <td>154</td>\n",
       "      <td>Katara</td>\n",
       "      <td>9.0</td>\n",
       "    </tr>\n",
       "    <tr>\n",
       "      <td>155</td>\n",
       "      <td>Aang</td>\n",
       "      <td>14.0</td>\n",
       "    </tr>\n",
       "    <tr>\n",
       "      <td>156</td>\n",
       "      <td>Katara</td>\n",
       "      <td>27.0</td>\n",
       "    </tr>\n",
       "    <tr>\n",
       "      <td>157</td>\n",
       "      <td>Aang</td>\n",
       "      <td>7.0</td>\n",
       "    </tr>\n",
       "    <tr>\n",
       "      <td>158</td>\n",
       "      <td>Katara</td>\n",
       "      <td>12.0</td>\n",
       "    </tr>\n",
       "    <tr>\n",
       "      <td>159</td>\n",
       "      <td>Aang</td>\n",
       "      <td>6.0</td>\n",
       "    </tr>\n",
       "    <tr>\n",
       "      <td>160</td>\n",
       "      <td>Katara</td>\n",
       "      <td>15.0</td>\n",
       "    </tr>\n",
       "    <tr>\n",
       "      <td>162</td>\n",
       "      <td>Aang</td>\n",
       "      <td>8.0</td>\n",
       "    </tr>\n",
       "    <tr>\n",
       "      <td>166</td>\n",
       "      <td>Zuko</td>\n",
       "      <td>24.0</td>\n",
       "    </tr>\n",
       "  </tbody>\n",
       "</table>\n",
       "</div>"
      ],
      "text/plain": [
       "    character_list  word_count\n",
       "0            Sokka        19.0\n",
       "1           Katara         2.0\n",
       "2            Sokka        14.0\n",
       "3           Katara         6.0\n",
       "5            Sokka        15.0\n",
       "6           Katara         7.0\n",
       "7            Sokka        28.0\n",
       "8           Katara        22.0\n",
       "9            Sokka         1.0\n",
       "10          Katara        10.0\n",
       "12           Sokka        16.0\n",
       "13          Katara         4.0\n",
       "14           Sokka        17.0\n",
       "15          Katara        34.0\n",
       "17           Sokka         2.0\n",
       "18          Katara        19.0\n",
       "19           Sokka         3.0\n",
       "20          Katara        14.0\n",
       "21           Sokka         8.0\n",
       "22          Katara         5.0\n",
       "23           Sokka         2.0\n",
       "24          Katara         6.0\n",
       "25           Sokka        11.0\n",
       "26            Zuko         8.0\n",
       "27            Iroh         7.0\n",
       "28            Zuko        25.0\n",
       "30            Iroh        36.0\n",
       "31            Zuko        19.0\n",
       "32           Sokka         1.0\n",
       "33          Katara         2.0\n",
       "34            Aang         6.0\n",
       "35          Katara         1.0\n",
       "36            Aang         3.0\n",
       "37          Katara         3.0\n",
       "38            Aang         7.0\n",
       "39          Katara         4.0\n",
       "40           Sokka         1.0\n",
       "41            Aang         4.0\n",
       "42           Sokka        14.0\n",
       "43            Aang        11.0\n",
       "46           Sokka         4.0\n",
       "47            Aang         6.0\n",
       "48           Sokka        10.0\n",
       "50            Aang         5.0\n",
       "51           Sokka         1.0\n",
       "52            Aang         7.0\n",
       "53           Sokka        20.0\n",
       "54          Katara        34.0\n",
       "56            Aang        10.0\n",
       "58           Sokka        10.0\n",
       "59            Aang         6.0\n",
       "60          Katara         3.0\n",
       "61            Aang         2.0\n",
       "62           Sokka        21.0\n",
       "63            Aang        14.0\n",
       "64          Katara         5.0\n",
       "65           Sokka        11.0\n",
       "66          Katara        24.0\n",
       "67            Aang        15.0\n",
       "69           Sokka         5.0\n",
       "70            Aang        15.0\n",
       "71          Katara         8.0\n",
       "72            Aang         4.0\n",
       "73           Sokka         1.0\n",
       "74            Iroh        39.0\n",
       "75            Zuko        19.0\n",
       "76          Katara         1.0\n",
       "77            Aang         4.0\n",
       "78          Katara        23.0\n",
       "79            Aang        18.0\n",
       "80          Katara         4.0\n",
       "81            Aang         3.0\n",
       "83          Katara        20.0\n",
       "84            Aang         1.0\n",
       "85          Katara         9.0\n",
       "86            Aang        15.0\n",
       "87       Gran Gran        23.0\n",
       "88            Aang         1.0\n",
       "89          Katara         5.0\n",
       "90       Gran Gran         4.0\n",
       "91           Sokka        11.0\n",
       "92            Aang         7.0\n",
       "93     Little Girl         5.0\n",
       "94            Aang        15.0\n",
       "95           Sokka         9.0\n",
       "96            Aang         2.0\n",
       "97       Villagers         5.0\n",
       "98            Aang         1.0\n",
       "99           Sokka         2.0\n",
       "100         Katara         3.0\n",
       "101          Sokka        16.0\n",
       "102           Aang         3.0\n",
       "103         Katara         5.0\n",
       "104      Gran Gran        11.0\n",
       "105         Katara        17.0\n",
       "106      Gran Gran        11.0\n",
       "107         Katara        13.0\n",
       "108           Aang         9.0\n",
       "109       Children         2.0\n",
       "110           Iroh         1.0\n",
       "111           Zuko         2.0\n",
       "112           Iroh        32.0\n",
       "113           Zuko        17.0\n",
       "114           Iroh        14.0\n",
       "115           Zuko        48.0\n",
       "116           Iroh        13.0\n",
       "117          Sokka        34.0\n",
       "118     Little Boy         3.0\n",
       "119          Sokka        25.0\n",
       "120     Little Boy         5.0\n",
       "121          Sokka         6.0\n",
       "122         Katara        13.0\n",
       "123           Aang         5.0\n",
       "124       Children         1.0\n",
       "125          Sokka        13.0\n",
       "126            Kid         1.0\n",
       "127          Sokka        22.0\n",
       "128           Aang         7.0\n",
       "129          Sokka         3.0\n",
       "130           Aang         1.0\n",
       "131          Sokka         3.0\n",
       "132         Katara         1.0\n",
       "133           Aang        25.0\n",
       "135         Katara        13.0\n",
       "136           Aang        24.0\n",
       "137         Katara        12.0\n",
       "138           Aang        29.0\n",
       "139         Katara        31.0\n",
       "140           Aang         3.0\n",
       "141         Katara        12.0\n",
       "142           Aang        19.0\n",
       "143         Katara        24.0\n",
       "145           Aang         9.0\n",
       "147         Katara        27.0\n",
       "149           Aang        13.0\n",
       "150         Katara        22.0\n",
       "151           Aang        20.0\n",
       "152         Katara         8.0\n",
       "153           Aang         7.0\n",
       "154         Katara         9.0\n",
       "155           Aang        14.0\n",
       "156         Katara        27.0\n",
       "157           Aang         7.0\n",
       "158         Katara        12.0\n",
       "159           Aang         6.0\n",
       "160         Katara        15.0\n",
       "162           Aang         8.0\n",
       "166           Zuko        24.0"
      ]
     },
     "execution_count": 47,
     "metadata": {},
     "output_type": "execute_result"
    }
   ],
   "source": [
    "#will need to reset the index!\n",
    "df_copy"
   ]
  },
  {
   "cell_type": "code",
   "execution_count": 48,
   "metadata": {},
   "outputs": [],
   "source": [
    "df_copy = df_copy.reset_index(drop = True)"
   ]
  },
  {
   "cell_type": "code",
   "execution_count": 49,
   "metadata": {},
   "outputs": [],
   "source": [
    "#groups of characters\n",
    "\n",
    "characters1 = \"Aang\"\n",
    "characters2 = [\"Katara\",\"Sokka\"]\n",
    "characters3 = [\"Zuko\",\"Iroh\"]"
   ]
  },
  {
   "cell_type": "code",
   "execution_count": 50,
   "metadata": {},
   "outputs": [],
   "source": [
    "import turtle"
   ]
  },
  {
   "cell_type": "code",
   "execution_count": 51,
   "metadata": {},
   "outputs": [],
   "source": [
    "screen = turtle.Screen()"
   ]
  },
  {
   "cell_type": "code",
   "execution_count": 52,
   "metadata": {},
   "outputs": [],
   "source": [
    "appa = turtle.Turtle()"
   ]
  },
  {
   "cell_type": "code",
   "execution_count": 53,
   "metadata": {},
   "outputs": [],
   "source": [
    "#formatting\n",
    "\n",
    "#returns current size\n",
    "#appa.pensize()\n",
    "appa.pencolor('black')\n",
    "#current size\n",
    "appa.pensize(1)\n",
    "appa.speed(8)"
   ]
  },
  {
   "cell_type": "code",
   "execution_count": 54,
   "metadata": {},
   "outputs": [],
   "source": [
    "#believe this is working!!! GO hoos!\n",
    "\n",
    "for i in df_copy.index:\n",
    "    \n",
    "    #change pen color depending on character\n",
    "    if df_copy['character_list'][i] in [\"Aang\"]:\n",
    "        appa.pencolor('orange')\n",
    "    elif df_copy['character_list'][i] in [\"Katara\",\"Sokka\"]:\n",
    "        appa.pencolor('blue')\n",
    "    elif df_copy['character_list'][i] in [\"Zuko\",\"Iroh\"]:\n",
    "        appa.pencolor('red')\n",
    "    else:\n",
    "        appa.pencolor('black')\n",
    "    \n",
    "#move the turtle forward and then rotate it 90s\n",
    "    appa.forward((df_copy['word_count'][i])*1.8)#scales everything by 3...  \n",
    "    appa.left(90)"
   ]
  },
  {
   "cell_type": "code",
   "execution_count": 55,
   "metadata": {},
   "outputs": [
    {
     "data": {
      "text/plain": [
       "'-32.3999999999999 334.4 moveto\\n-41.3999999999999 339.4 lineto\\n-39.3999999999999 334.4 lineto\\n-41.4 329.4 lineto\\n-32.3999999999999 334.4 lineto\\n0.000 0.000 0.000 setrgbcolor AdjustColor\\neofill\\n-32.3999999999999 334.4 moveto\\n-41.3999999999999 339.4 lineto\\n-39.3999999999999 334.4 lineto\\n-41.4 329.4 lineto\\n-32.3999999999999 334.4 lineto\\n1 setlinejoin 1 setlinecap\\n1 setlinewidth\\n[] 0 setdash\\n1.000 0.000 0.000 setrgbcolor AdjustColor\\nstroke\\n'"
      ]
     },
     "execution_count": 55,
     "metadata": {},
     "output_type": "execute_result"
    }
   ],
   "source": [
    "#trying to save the turtle image\n",
    "import tkinter\n",
    "screenshot = appa.getscreen()\n",
    "screenshot.getcanvas().postscript(file='screenshot_test.ps')"
   ]
  },
  {
   "cell_type": "code",
   "execution_count": 56,
   "metadata": {},
   "outputs": [],
   "source": [
    "turtle.done()"
   ]
  },
  {
   "cell_type": "code",
   "execution_count": null,
   "metadata": {},
   "outputs": [],
   "source": [
    "turtle.exitonclick()"
   ]
  },
  {
   "cell_type": "code",
   "execution_count": 58,
   "metadata": {},
   "outputs": [
    {
     "ename": "NameError",
     "evalue": "name 'Image' is not defined",
     "output_type": "error",
     "traceback": [
      "\u001b[1;31m---------------------------------------------------------------------------\u001b[0m",
      "\u001b[1;31mNameError\u001b[0m                                 Traceback (most recent call last)",
      "\u001b[1;32m<ipython-input-58-abe62ed67ccc>\u001b[0m in \u001b[0;36m<module>\u001b[1;34m\u001b[0m\n\u001b[1;32m----> 1\u001b[1;33m \u001b[0mim\u001b[0m \u001b[1;33m=\u001b[0m \u001b[0mImage\u001b[0m\u001b[1;33m.\u001b[0m\u001b[0mopen\u001b[0m\u001b[1;33m(\u001b[0m\u001b[0mio\u001b[0m\u001b[1;33m.\u001b[0m\u001b[0mBytesIO\u001b[0m\u001b[1;33m(\u001b[0m\u001b[0mscreenshot\u001b[0m\u001b[1;33m.\u001b[0m\u001b[0mencode\u001b[0m\u001b[1;33m(\u001b[0m\u001b[1;34m'utf-8'\u001b[0m\u001b[1;33m)\u001b[0m\u001b[1;33m)\u001b[0m\u001b[1;33m)\u001b[0m\u001b[1;33m\u001b[0m\u001b[1;33m\u001b[0m\u001b[0m\n\u001b[0m",
      "\u001b[1;31mNameError\u001b[0m: name 'Image' is not defined"
     ]
    }
   ],
   "source": [
    "im = Image.open(io.BytesIO(screenshot.encode('utf-8')))"
   ]
  },
  {
   "cell_type": "code",
   "execution_count": null,
   "metadata": {},
   "outputs": [],
   "source": [
    "#save the screen\n",
    "screenshot = appa.getscreen()"
   ]
  },
  {
   "cell_type": "code",
   "execution_count": null,
   "metadata": {},
   "outputs": [],
   "source": [
    "#a little more complicated than I'd like\n",
    "\n",
    "#https://stackoverflow.com/questions/35629520/convert-images-drawn-by-turtle-to-png-in-python\n",
    "screenshot.getcanvas().postscript(file = 'screen.jpg')"
   ]
  },
  {
   "cell_type": "code",
   "execution_count": null,
   "metadata": {},
   "outputs": [],
   "source": [
    "appa.reset()"
   ]
  },
  {
   "cell_type": "code",
   "execution_count": null,
   "metadata": {},
   "outputs": [],
   "source": []
  },
  {
   "cell_type": "code",
   "execution_count": null,
   "metadata": {},
   "outputs": [],
   "source": [
    "#scalling by makign everything twice as long... \n",
    "#like the scalling by 2... but might want to experiment with slightly smaller values...\n",
    "\n",
    "#How much do I want to scale items by?\n",
    "for i in df_copy['word_count']:\n",
    "    appa.forward(i*1.5)#scales by 1.5  \n",
    "    appa.left(90)"
   ]
  },
  {
   "cell_type": "code",
   "execution_count": null,
   "metadata": {},
   "outputs": [],
   "source": [
    "appa.reset()"
   ]
  },
  {
   "cell_type": "code",
   "execution_count": null,
   "metadata": {},
   "outputs": [],
   "source": [
    "type(df_copy['word_count'][0])"
   ]
  },
  {
   "cell_type": "code",
   "execution_count": null,
   "metadata": {},
   "outputs": [],
   "source": [
    "for i in df_copy.index:\n",
    "    \n",
    "    #change pen color depending on character\n",
    "    if df_copy['character_list'][i] in [\"Aang\"]:\n",
    "        appa.pencolor('orange')\n",
    "    elif df_copy['character_list'][i] in [\"Katara\",\"Sokka\"]:\n",
    "        appa.pencolor('blue')\n",
    "    elif df_copy['character_list'][i] in [\"Zuko\",\"Iroh\"]:\n",
    "        appa.pencolor('red')\n",
    "    else:\n",
    "        appa.pencolor('black')\n",
    "    \n",
    "#move the turtle forward and then rotate it 90s\n",
    "    appa.forward((df_copy['word_count'][i])*1.5)#scales everything by 3...  \n",
    "    appa.left(90)"
   ]
  },
  {
   "cell_type": "code",
   "execution_count": null,
   "metadata": {},
   "outputs": [],
   "source": [
    "for i in df_copy.index:\n",
    "    \n",
    "    #change pen color depending on character\n",
    "    if df_copy['character_list'][i] in [\"Aang\"]:\n",
    "        appa.pencolor('orange')\n",
    "        appa.forward(i*2)#scales everything by 3...  \n",
    "        appa.left(90)\n",
    "    elif df_copy['character_list'][i] in [\"Katara\",\"Sokka\"]:\n",
    "        appa.pencolor('blue')\n",
    "        appa.forward(i*2)#scales everything by 3...  \n",
    "        appa.left(90)\n",
    "    elif df_copy['character_list'][i] in [\"Zuko\",\"Iroh\"]:\n",
    "        appa.pencolor('red')\n",
    "        appa.forward(i*2)#scales everything by 3...  \n",
    "        appa.left(90)\n",
    "    else:\n",
    "        appa.pencolor('black')\n",
    "        appa.forward(i*2)#scales everything by 3...  \n",
    "        appa.left(90)\n",
    "    \n",
    "    #move the turtle forward and then rotate it 90s\n",
    "    #appa.forward(i*2)#scales everything by 3...  \n",
    "    #appa.left(90)"
   ]
  },
  {
   "cell_type": "code",
   "execution_count": null,
   "metadata": {},
   "outputs": [],
   "source": [
    "for i in df_copy['word_count'].index:\n",
    "    print(df_copy['word_count'])"
   ]
  },
  {
   "cell_type": "code",
   "execution_count": null,
   "metadata": {},
   "outputs": [],
   "source": [
    "print(df_copy['character_list'][0])\n",
    "print(df_copy['character_list'][1])\n",
    "print(df_copy['character_list'][2])"
   ]
  },
  {
   "cell_type": "code",
   "execution_count": null,
   "metadata": {},
   "outputs": [],
   "source": [
    "#.... GOTCHA #needed to use else if...\n",
    "#because was runnign into problems. Was the first things true? No.  Go the else statement.. \n",
    "#not sure why that lead to other other printing\n",
    "\n",
    "\n",
    "for i in range(len(df_copy)):\n",
    "\n",
    "    #change pen color depending on character\n",
    "    if df_copy['character_list'][i] in [\"Aang\"]:\n",
    "        print('orange')\n",
    "    elif df_copy['character_list'][i] in [\"Katara\",\"Sokka\"]:\n",
    "        print('blue')\n",
    "    elif df_copy['character_list'][i] in [\"Zuko\",\"Iroh\"]:\n",
    "        print('red')\n",
    "    else:\n",
    "        print('black')"
   ]
  },
  {
   "cell_type": "code",
   "execution_count": null,
   "metadata": {},
   "outputs": [],
   "source": [
    "#use the below to try and an alternative way to print items\n",
    "#https://stackoverflow.com/questions/21352580/matplotlib-plotting-numerous-disconnected-line-segments-with-different-colors"
   ]
  },
  {
   "cell_type": "code",
   "execution_count": null,
   "metadata": {},
   "outputs": [],
   "source": [
    "df_copy['character_list'][0]"
   ]
  },
  {
   "cell_type": "code",
   "execution_count": null,
   "metadata": {},
   "outputs": [],
   "source": [
    "print(df_copy['character_list'][0])\n",
    "print(df_copy['character_list'][0] in [\"Katara\",\"Sokka\"])"
   ]
  },
  {
   "cell_type": "code",
   "execution_count": null,
   "metadata": {},
   "outputs": [],
   "source": [
    "print(df_copy['character_list'][1])\n",
    "print(df_copy['character_list'][1] in [\"Katara\",\"Sokka\"])"
   ]
  },
  {
   "cell_type": "code",
   "execution_count": null,
   "metadata": {},
   "outputs": [],
   "source": [
    "now is doing something else... \n",
    "for i in df_copy.index:\n",
    "    \n",
    "    #change pen color depending on character\n",
    "    if df_copy['character_list'][i] in [\"Aang\"]:\n",
    "        appa.pencolor('orange')\n",
    "        appa.forward(i*2)#scales everything by 3...  \n",
    "        appa.left(90)\n",
    "    elif df_copy['character_list'][i] in [\"Katara\",\"Sokka\"]:\n",
    "        appa.pencolor('blue')\n",
    "        appa.forward(i*2)#scales everything by 3...  \n",
    "        appa.left(90)\n",
    "    elif df_copy['character_list'][i] in [\"Zuko\",\"Iroh\"]:\n",
    "        appa.pencolor('red')\n",
    "        appa.forward(i*2)#scales everything by 3...  \n",
    "        appa.left(90)\n",
    "    else:\n",
    "        appa.pencolor('black')\n",
    "        appa.forward(i*2)#scales everything by 3...  \n",
    "        appa.left(90)\n",
    "    \n",
    "    #move the turtle forward and then rotate it 90s\n",
    "    #appa.forward(i*2)#scales everything by 3...  \n",
    "    #appa.left(90)"
   ]
  },
  {
   "cell_type": "code",
   "execution_count": null,
   "metadata": {},
   "outputs": [],
   "source": [
    "#this is close... \n",
    "for i in df_copy['word_count']:\n",
    "    \n",
    "    #change pen color depending on character\n",
    "    if df_copy['character_list'][i] in characters1:\n",
    "        appa.pencolor('orange')\n",
    "    if df_copy['character_list'][i] in characters2:\n",
    "        appa.pencolor('blue')\n",
    "    if df_copy['character_list'][i] in characters3:\n",
    "        appa.pencolor('red')\n",
    "    else:\n",
    "        appa.pencolor('black')\n",
    "    \n",
    "    #move the turtle forward and then rotate it 90s\n",
    "    appa.forward(i*2)#scales everything by 3...  \n",
    "    appa.left(90)"
   ]
  },
  {
   "cell_type": "code",
   "execution_count": null,
   "metadata": {},
   "outputs": [],
   "source": [
    "#do want to double check this logic...\n",
    "\"\"\"\n",
    "for i in se1ep01['word_count']:\n",
    "    appa.forward(i)\n",
    "    if se1ep01['character_list'][i] == se1ep01['character_list'][i+1]:\n",
    "        appa.forward(i)\n",
    "    else:\n",
    "        appa.left(90)\n",
    "\"\"\""
   ]
  },
  {
   "cell_type": "code",
   "execution_count": null,
   "metadata": {},
   "outputs": [],
   "source": [
    "characters1 = [\"Aang\"]\n",
    "characters2 = [\"Katara\",\"Sokka\"]\n",
    "characters3 = [\"Zuko\",\"Iroh\"]"
   ]
  },
  {
   "cell_type": "code",
   "execution_count": null,
   "metadata": {},
   "outputs": [],
   "source": [
    "df_copy = df_copy.reset_index(drop = True)"
   ]
  },
  {
   "cell_type": "code",
   "execution_count": null,
   "metadata": {},
   "outputs": [],
   "source": [
    "df_copy"
   ]
  },
  {
   "cell_type": "code",
   "execution_count": null,
   "metadata": {},
   "outputs": [],
   "source": [
    "df_copy.columns"
   ]
  },
  {
   "cell_type": "code",
   "execution_count": null,
   "metadata": {},
   "outputs": [],
   "source": [
    "#this is close... \n",
    "for i in df_copy['word_count']:\n",
    "    \n",
    "    #change pen color depending on character\n",
    "    if df_copy['character_list'][i] in characters1:\n",
    "        appa.pencolor('orange')\n",
    "    if df_copy['character_list'][i] in characters2:\n",
    "        appa.pencolor('blue')\n",
    "    if df_copy['character_list'][i] in characters3:\n",
    "        appa.pencolor('red')\n",
    "    else:\n",
    "        appa.pencolor('black')\n",
    "    \n",
    "    #move the turtle forward and then rotate it 90s\n",
    "    appa.forward(i*2)#scales everything by 3...  \n",
    "    appa.left(90)"
   ]
  },
  {
   "cell_type": "code",
   "execution_count": null,
   "metadata": {},
   "outputs": [],
   "source": [
    "#this is close... \n",
    "for i in df_copy['character_list']:\n",
    "    \n",
    "    #change pen color depending on character\n",
    "    if i in characters1:\n",
    "        appa.pencolor('orange')\n",
    "    if i in characters2:\n",
    "        appa.pencolor('blue')\n",
    "    if i in characters3:\n",
    "        appa.pencolor('red')\n",
    "    else:\n",
    "        appa.pencolor('black')\n",
    "    \n",
    "    #move the turtle forward and then rotate it 90s\n",
    "    appa.forward(df_copy['word_count'][i])#scales everything by 3...  \n",
    "    appa.left(90)"
   ]
  },
  {
   "cell_type": "code",
   "execution_count": null,
   "metadata": {},
   "outputs": [],
   "source": [
    "#this is close... Make this more generic\n",
    "#having problems with the strings... \n",
    "for i in df_copy: #think this is wrong, need to go through one by one like i was doing before... \n",
    "    \n",
    "    #change pen color depending on character\n",
    "    if str(df_copy['character_list']) in characters1:\n",
    "        appa.pencolor('orange')\n",
    "    if str(df_copy['character_list']) in characters2:\n",
    "        appa.pencolor('blue')\n",
    "    if str(df_copy['character_list']) in characters3:\n",
    "        appa.pencolor('red')\n",
    "    else:\n",
    "        appa.pencolor('black')\n",
    "    \n",
    "    #move the turtle forward and then rotate it 90s\n",
    "    appa.forward(df_copy['word_count'].astype(float))#scales everything by 3...  \n",
    "    appa.left(90)"
   ]
  },
  {
   "cell_type": "code",
   "execution_count": null,
   "metadata": {},
   "outputs": [],
   "source": [
    "#THIS is working..., \n",
    "#but color's don't seem to be working... \n",
    "for i in range(len(df_copy)):\n",
    "    \n",
    "    #change pen color depending on character\n",
    "    if df_copy['character_list'].iloc[i] in characters1:\n",
    "        appa.pencolor('dark orange')\n",
    "    if df_copy['character_list'].iloc[i] in characters2:\n",
    "        appa.pencolor('midnight blue')\n",
    "    if df_copy['character_list'].iloc[i] in characters3:\n",
    "        appa.pencolor('firebrick')\n",
    "    else:\n",
    "        appa.pencolor('black')\n",
    "    \n",
    "    #move the turtle forward and then rotate it 90s\n",
    "    appa.forward(df_copy['word_count'].iloc[i]*2)#scales everything by 3...  \n",
    "    appa.left(90)"
   ]
  },
  {
   "cell_type": "code",
   "execution_count": null,
   "metadata": {},
   "outputs": [],
   "source": [
    "for i in range(len(df_copy)):\n",
    "    if df_copy['character_list'].iloc[i] in characters1:\n",
    "        print('orange')\n",
    "    if df_copy['character_list'].iloc[i] in characters2:\n",
    "        print('blue')\n",
    "    if df_copy['character_list'].iloc[i] in characters3:\n",
    "        print('red')\n",
    "    else:\n",
    "        print('black')"
   ]
  },
  {
   "cell_type": "code",
   "execution_count": null,
   "metadata": {},
   "outputs": [],
   "source": [
    "df_copy"
   ]
  },
  {
   "cell_type": "code",
   "execution_count": null,
   "metadata": {},
   "outputs": [],
   "source": [
    "df_copy['character_list'].iloc[23] in characters3"
   ]
  },
  {
   "cell_type": "code",
   "execution_count": null,
   "metadata": {},
   "outputs": [],
   "source": [
    "df_copy['character_list'].iloc[34]"
   ]
  },
  {
   "cell_type": "code",
   "execution_count": null,
   "metadata": {},
   "outputs": [],
   "source": [
    "for i in range(len(df_copy)):\n",
    "    print(df_copy.iloc[i])"
   ]
  },
  {
   "cell_type": "code",
   "execution_count": null,
   "metadata": {},
   "outputs": [],
   "source": []
  },
  {
   "cell_type": "code",
   "execution_count": null,
   "metadata": {},
   "outputs": [],
   "source": [
    "for i in range(len(df_copy)):\n",
    "    print(type(df_copy['character_list'].iloc[i]))"
   ]
  },
  {
   "cell_type": "code",
   "execution_count": null,
   "metadata": {},
   "outputs": [],
   "source": [
    "for i in range(len(df_copy)):\n",
    "    print(df_copy['word_count'].iloc[i])"
   ]
  },
  {
   "cell_type": "code",
   "execution_count": null,
   "metadata": {},
   "outputs": [],
   "source": [
    "df_copy[1]"
   ]
  },
  {
   "cell_type": "code",
   "execution_count": null,
   "metadata": {},
   "outputs": [],
   "source": []
  },
  {
   "cell_type": "code",
   "execution_count": null,
   "metadata": {},
   "outputs": [],
   "source": [
    "df_copy.dtypes"
   ]
  },
  {
   "cell_type": "code",
   "execution_count": null,
   "metadata": {},
   "outputs": [],
   "source": [
    "for i in df_copy:\n",
    "    if df_copy['character_list'] in characters1:\n",
    "        print(\"True\")\n",
    "    else:\n",
    "        print(\"False\")"
   ]
  },
  {
   "cell_type": "code",
   "execution_count": null,
   "metadata": {},
   "outputs": [],
   "source": [
    "for i in df_copy:\n",
    "    print((df_copy['character_list']))"
   ]
  },
  {
   "cell_type": "code",
   "execution_count": null,
   "metadata": {},
   "outputs": [],
   "source": [
    "for i in df_copy:\n",
    "    print(type(df_copy['word_count']))\n",
    "    print()"
   ]
  },
  {
   "cell_type": "code",
   "execution_count": null,
   "metadata": {},
   "outputs": [],
   "source": [
    "for i in df_copy['character_list']:\n",
    "    print(i)"
   ]
  },
  {
   "cell_type": "code",
   "execution_count": null,
   "metadata": {},
   "outputs": [],
   "source": [
    "len(df_copy['character_list'])"
   ]
  },
  {
   "cell_type": "code",
   "execution_count": null,
   "metadata": {},
   "outputs": [],
   "source": []
  },
  {
   "cell_type": "code",
   "execution_count": null,
   "metadata": {},
   "outputs": [],
   "source": [
    "turtle.exitonclick()"
   ]
  },
  {
   "cell_type": "code",
   "execution_count": null,
   "metadata": {},
   "outputs": [],
   "source": [
    "#if only do this lines in the above loop, should get a straigt line. WOuld confirm code is working properly\n",
    "se1ep01[['character_list','word_count']].iloc[14:17] #should be able to just add the iloc to the above... \n",
    "#think it would work"
   ]
  },
  {
   "cell_type": "code",
   "execution_count": null,
   "metadata": {},
   "outputs": [],
   "source": [
    "test = se1ep01[['character_list','word_count']].iloc[0:5]"
   ]
  },
  {
   "cell_type": "code",
   "execution_count": null,
   "metadata": {},
   "outputs": [],
   "source": [
    "test"
   ]
  },
  {
   "cell_type": "code",
   "execution_count": null,
   "metadata": {},
   "outputs": [],
   "source": [
    "#do want to double check this logic... #need to think about logic somemore.... \n",
    "\n",
    "#should only be 2 lines, 17 for Sokkta, and then 34 for Katara\n",
    "for i in test['word_count']:\n",
    "    appa.forward(i)\n",
    "    if test['character_list'][i] == test['character_list'][i+1]:\n",
    "        appa.forward(i)\n",
    "    else:\n",
    "        appa.left(90)"
   ]
  },
  {
   "cell_type": "code",
   "execution_count": null,
   "metadata": {},
   "outputs": [],
   "source": [
    "se1ep01[['character_list','word_count']].head(20)"
   ]
  },
  {
   "cell_type": "code",
   "execution_count": null,
   "metadata": {},
   "outputs": [],
   "source": [
    "import seaborn as sns"
   ]
  },
  {
   "cell_type": "code",
   "execution_count": null,
   "metadata": {},
   "outputs": [],
   "source": [
    "# can figure this out later\n",
    "sns.barplot(se1ep01.groupby('character_list').sum().sort_values(by = 'word_count', ascending = False))"
   ]
  }
 ],
 "metadata": {
  "kernelspec": {
   "display_name": "Python 3",
   "language": "python",
   "name": "python3"
  },
  "language_info": {
   "codemirror_mode": {
    "name": "ipython",
    "version": 3
   },
   "file_extension": ".py",
   "mimetype": "text/x-python",
   "name": "python",
   "nbconvert_exporter": "python",
   "pygments_lexer": "ipython3",
   "version": "3.7.4"
  }
 },
 "nbformat": 4,
 "nbformat_minor": 2
}
